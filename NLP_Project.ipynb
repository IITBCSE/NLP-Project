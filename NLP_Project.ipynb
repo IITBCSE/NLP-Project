{
  "cells": [
    {
      "cell_type": "markdown",
      "metadata": {
        "id": "view-in-github",
        "colab_type": "text"
      },
      "source": [
        "<a href=\"https://colab.research.google.com/github/IITBCSE/NLP-Project/blob/main/NLP_Project.ipynb\" target=\"_parent\"><img src=\"https://colab.research.google.com/assets/colab-badge.svg\" alt=\"Open In Colab\"/></a>"
      ]
    },
    {
      "cell_type": "markdown",
      "metadata": {
        "id": "4xAFN5STnPYH"
      },
      "source": [
        "# 👨🏻‍💻 Scrapped demonyms from WiKipedia as identity terms and saved them in a regional_idterms.tsv"
      ]
    },
    {
      "cell_type": "code",
      "execution_count": null,
      "metadata": {
        "id": "8fgWFno3lDgP",
        "colab": {
          "base_uri": "https://localhost:8080/"
        },
        "outputId": "ff022dac-d1d0-4b45-cb6c-7cc4a43b4469"
      },
      "outputs": [
        {
          "output_type": "stream",
          "name": "stdout",
          "text": [
            "Mounted at /content/drive\n",
            "Requirement already satisfied: requests in /usr/local/lib/python3.10/dist-packages (2.31.0)\n",
            "Requirement already satisfied: charset-normalizer<4,>=2 in /usr/local/lib/python3.10/dist-packages (from requests) (3.3.2)\n",
            "Requirement already satisfied: idna<4,>=2.5 in /usr/local/lib/python3.10/dist-packages (from requests) (3.4)\n",
            "Requirement already satisfied: urllib3<3,>=1.21.1 in /usr/local/lib/python3.10/dist-packages (from requests) (2.0.7)\n",
            "Requirement already satisfied: certifi>=2017.4.17 in /usr/local/lib/python3.10/dist-packages (from requests) (2023.7.22)\n",
            "Requirement already satisfied: beautifulsoup4 in /usr/local/lib/python3.10/dist-packages (4.11.2)\n",
            "Requirement already satisfied: soupsieve>1.2 in /usr/local/lib/python3.10/dist-packages (from beautifulsoup4) (2.5)\n",
            "Requirement already satisfied: pandas in /usr/local/lib/python3.10/dist-packages (1.5.3)\n",
            "Requirement already satisfied: python-dateutil>=2.8.1 in /usr/local/lib/python3.10/dist-packages (from pandas) (2.8.2)\n",
            "Requirement already satisfied: pytz>=2020.1 in /usr/local/lib/python3.10/dist-packages (from pandas) (2023.3.post1)\n",
            "Requirement already satisfied: numpy>=1.21.0 in /usr/local/lib/python3.10/dist-packages (from pandas) (1.23.5)\n",
            "Requirement already satisfied: six>=1.5 in /usr/local/lib/python3.10/dist-packages (from python-dateutil>=2.8.1->pandas) (1.16.0)\n",
            "Data saved to /content/drive/My Drive/regional_idterms.tsv\n"
          ]
        }
      ],
      "source": [
        "# Import the required libraries\n",
        "from google.colab import drive\n",
        "drive.mount('/content/drive')\n",
        "!pip install requests\n",
        "!pip install beautifulsoup4\n",
        "!pip install pandas\n",
        "import requests\n",
        "from bs4 import BeautifulSoup\n",
        "import pandas as pd\n",
        "\n",
        "# URL of the Wikipedia page\n",
        "url = \"https://en.wikipedia.org/wiki/List_of_adjectives_and_demonyms_for_states_and_territories_of_India\"\n",
        "\n",
        "# Send an HTTP GET request to the URL\n",
        "response = requests.get(url)\n",
        "\n",
        "# Parse the HTML content of the page\n",
        "soup = BeautifulSoup(response.text, \"html.parser\")\n",
        "\n",
        "# Find the table containing the data\n",
        "table = soup.find(\"table\", {\"class\": \"wikitable\"})\n",
        "\n",
        "# Initialize a list to store the identity terms\n",
        "identity_terms = []\n",
        "\n",
        "# Loop through the rows of the table and extract the identity terms\n",
        "for row in table.find_all(\"tr\")[1:]:  # Start from the second row to skip the header\n",
        "    columns = row.find_all(\"td\")\n",
        "    if len(columns) > 1:\n",
        "        # Extract the \"Identity Term\" from the second column, remove any additional information,\n",
        "        # split by commas, and take the first part\n",
        "        identity_term = columns[1].text.strip().split(\"[\")[0].split(\"(\")[0].split(\",\")[0].strip()\n",
        "        # Remove any trailing commas\n",
        "        identity_term = identity_term.rstrip(',')\n",
        "        # Remove text \"HavelianDamaneseDiuese\"\n",
        "        identity_term = identity_term.replace(\"HavelianDamaneseDiuese\", \"\")\n",
        "        if identity_term:\n",
        "            identity_terms.append(identity_term)\n",
        "\n",
        "# Create a DataFrame with the identity terms\n",
        "df = pd.DataFrame({\"Identity Term\": identity_terms})\n",
        "\n",
        "# Save the DataFrame to a TSV file in the root directory of Google Drive\n",
        "output_file = \"/content/drive/My Drive/regional_idterms.tsv\"  # Specify the path where you want to save the file\n",
        "df.to_csv(output_file, sep='\\t', index=False)\n",
        "print(f\"Data saved to {output_file}\")\n"
      ]
    },
    {
      "cell_type": "markdown",
      "metadata": {
        "id": "AvauuVj55jZp"
      },
      "source": [
        "# *🚀 Create unique tokens file named as unique_tokens.tsv from the regions_annotations.tsv file.*\n",
        "\n",
        "\n",
        "---\n",
        "\n",
        "\n",
        "# *The unique_tokens.tsv shows up in the root directory of google drive.* 🗂"
      ]
    },
    {
      "cell_type": "code",
      "execution_count": null,
      "metadata": {
        "id": "DLs6WsnQ1JE2"
      },
      "outputs": [],
      "source": [
        "from google.colab import drive\n",
        "import pandas as pd\n",
        "import requests\n",
        "from io import StringIO\n",
        "\n",
        "# Mount your Google Drive (if not already mounted)\n",
        "# drive.mount('/content/drive')\n",
        "\n",
        "# Define the file ID from the Google Drive link\n",
        "file_id = '1c4UAy77qAuPIpcfI7UWv6Rm2qHHV78Bo'\n",
        "\n",
        "# Construct the file download URL\n",
        "download_url = f'https://drive.google.com/uc?id={file_id}'\n",
        "\n",
        "# Download the file content\n",
        "response = requests.get(download_url).text\n",
        "\n",
        "# Read the content into a DataFrame\n",
        "df = pd.read_csv(StringIO(response), sep='\\t')\n",
        "\n",
        "# Extract unique tokens from the 'token' column\n",
        "unique_tokens = df['token'].unique()\n",
        "\n",
        "# Define the path for the new TSV file in your Google Drive\n",
        "output_path = '/content/drive/My Drive/unique_tokens.tsv'  # You can change the file name if needed\n",
        "\n",
        "# Create a DataFrame with the unique tokens and write it to a TSV file\n",
        "unique_tokens_df = pd.DataFrame({'token': unique_tokens})\n",
        "unique_tokens_df.to_csv(output_path, sep='\\t', index=False)\n"
      ]
    },
    {
      "cell_type": "markdown",
      "metadata": {
        "id": "VKe-of6i2T_M"
      },
      "source": [
        "# 🖐🏼 Generate a tuple_pair.tsv file but with duplicates using region_idterms.tsv file and unique_tokens.tsv file.⛅\n",
        "\n",
        "---\n",
        "\n",
        "\n",
        "---\n",
        "\n"
      ]
    },
    {
      "cell_type": "code",
      "execution_count": null,
      "metadata": {
        "colab": {
          "base_uri": "https://localhost:8080/"
        },
        "id": "iuMfTeX_1hlE",
        "outputId": "d1f168ff-78a4-402f-a3bd-f3d589b4038c"
      },
      "outputs": [
        {
          "output_type": "stream",
          "name": "stdout",
          "text": [
            "Tuple pairs are saved to /content/drive/My Drive/tuple_pairs.tsv\n"
          ]
        }
      ],
      "source": [
        "import pandas as pd\n",
        "from itertools import product\n",
        "\n",
        "# Load identity terms and unique tokens\n",
        "identity_terms_df = pd.read_csv('https://drive.google.com/uc?id=1BcF5SaS_IpO2WTlj7ezgzo01aIyooYWi', sep='\\t')\n",
        "unique_tokens_df = pd.read_csv('https://drive.google.com/uc?id=1c4UAy77qAuPIpcfI7UWv6Rm2qHHV78Bo', sep='\\t')\n",
        "\n",
        "# Create tuples by combining each identity term with each unique token\n",
        "tuples = list(product(identity_terms_df['identity_terms'], unique_tokens_df['token']))\n",
        "\n",
        "# Save the tuples to a TSV file\n",
        "output_path = '/content/drive/My Drive/tuple_pairs.tsv'\n",
        "with open(output_path, 'w') as file:\n",
        "    file.write(\"Identity Term\\tAttribute Token\\n\")\n",
        "    for tup in tuples:\n",
        "        file.write(f\"{tup[0]}\\t{tup[1]}\\n\")\n",
        "\n",
        "print(f\"Tuple pairs are saved to {output_path}\")\n"
      ]
    },
    {
      "cell_type": "markdown",
      "metadata": {
        "id": "JeBOArUx2ieu"
      },
      "source": [
        "# ***Removing duplicates from tuple_pair.tsv file.*** 🙌🏼\n",
        "\n"
      ]
    },
    {
      "cell_type": "code",
      "execution_count": null,
      "metadata": {
        "id": "3wiXxBqg3nv0",
        "colab": {
          "base_uri": "https://localhost:8080/"
        },
        "outputId": "2afb8692-bf71-4216-feb2-8abee965eb3b"
      },
      "outputs": [
        {
          "output_type": "stream",
          "name": "stdout",
          "text": [
            "Unique tuple pairs are saved to /content/drive/My Drive/tuple_pairs.tsv\n"
          ]
        }
      ],
      "source": [
        "# Load the tuples from the file and remove leading/trailing whitespaces\n",
        "tuples_df = pd.read_csv(output_path, sep='\\t')\n",
        "tuples_df['Identity Term'] = tuples_df['Identity Term'].str.strip()\n",
        "tuples_df['Attribute Token'] = tuples_df['Attribute Token'].str.strip()\n",
        "\n",
        "# Remove duplicate tuples\n",
        "unique_tuples_df = tuples_df.drop_duplicates()\n",
        "\n",
        "# Save the unique tuples back to the file\n",
        "unique_tuples_df.to_csv(output_path, sep='\\t', index=False)\n",
        "\n",
        "print(f\"Unique tuple pairs are saved to {output_path}\")\n"
      ]
    },
    {
      "cell_type": "markdown",
      "metadata": {
        "id": "Wo2MFksOJdHz"
      },
      "source": [
        "# Part 1: Creating 'en_5000_sentences.txt' from 'en.txt' and saving it to Google Drive"
      ]
    },
    {
      "cell_type": "code",
      "execution_count": null,
      "metadata": {
        "colab": {
          "base_uri": "https://localhost:8080/"
        },
        "id": "2CYuKdVzJgfN",
        "outputId": "ba68282c-11e3-47dc-86d3-956391e68a3a"
      },
      "outputs": [
        {
          "output_type": "stream",
          "name": "stdout",
          "text": [
            "Requirement already satisfied: gdown in /usr/local/lib/python3.10/dist-packages (4.6.6)\n",
            "Requirement already satisfied: filelock in /usr/local/lib/python3.10/dist-packages (from gdown) (3.13.1)\n",
            "Requirement already satisfied: requests[socks] in /usr/local/lib/python3.10/dist-packages (from gdown) (2.31.0)\n",
            "Requirement already satisfied: six in /usr/local/lib/python3.10/dist-packages (from gdown) (1.16.0)\n",
            "Requirement already satisfied: tqdm in /usr/local/lib/python3.10/dist-packages (from gdown) (4.66.1)\n",
            "Requirement already satisfied: beautifulsoup4 in /usr/local/lib/python3.10/dist-packages (from gdown) (4.11.2)\n",
            "Requirement already satisfied: soupsieve>1.2 in /usr/local/lib/python3.10/dist-packages (from beautifulsoup4->gdown) (2.5)\n",
            "Requirement already satisfied: charset-normalizer<4,>=2 in /usr/local/lib/python3.10/dist-packages (from requests[socks]->gdown) (3.3.2)\n",
            "Requirement already satisfied: idna<4,>=2.5 in /usr/local/lib/python3.10/dist-packages (from requests[socks]->gdown) (3.4)\n",
            "Requirement already satisfied: urllib3<3,>=1.21.1 in /usr/local/lib/python3.10/dist-packages (from requests[socks]->gdown) (2.0.7)\n",
            "Requirement already satisfied: certifi>=2017.4.17 in /usr/local/lib/python3.10/dist-packages (from requests[socks]->gdown) (2023.7.22)\n",
            "Requirement already satisfied: PySocks!=1.5.7,>=1.5.6 in /usr/local/lib/python3.10/dist-packages (from requests[socks]->gdown) (1.7.1)\n",
            "/usr/local/lib/python3.10/dist-packages/gdown/cli.py:121: FutureWarning: Option `--id` was deprecated in version 4.3.1 and will be removed in 5.0. You don't need to pass it anymore to use a file ID.\n",
            "  warnings.warn(\n",
            "Downloading...\n",
            "From: https://drive.google.com/uc?id=1hmPibpMNb_EjnycNFjYaXCiXZUis-G5w\n",
            "To: /content/en.txt\n",
            "100% 6.49G/6.49G [00:52<00:00, 125MB/s]\n",
            "mv: failed to access '/content/drive/My Drive/en_5000_sentences.txt': Transport endpoint is not connected\n",
            "en_5000_sentences.txt created and saved to Google Drive\n"
          ]
        }
      ],
      "source": [
        "# Install the required libraries if not already installed\n",
        "!pip install gdown\n",
        "\n",
        "# Download the en.txt file from Google Drive\n",
        "!gdown --id 1hmPibpMNb_EjnycNFjYaXCiXZUis-G5w -O /content/en.txt\n",
        "\n",
        "# Create a new file with 5000 sentences\n",
        "with open('/content/en.txt', 'r', encoding='utf-8') as original_file:\n",
        "    with open('/content/en_5000_sentences.txt', 'w', encoding='utf-8') as new_file:\n",
        "        sentences = []\n",
        "        for line in original_file:\n",
        "            sentences.append(line)\n",
        "            if len(sentences) >= 5000:\n",
        "                break\n",
        "        new_file.writelines(sentences)\n",
        "\n",
        "# Move the file to your Google Drive\n",
        "!mv /content/en_5000_sentences.txt /content/drive/My\\ Drive/en_5000_sentences.txt\n",
        "\n",
        "print(\"en_5000_sentences.txt created and saved to Google Drive\")\n"
      ]
    },
    {
      "cell_type": "markdown",
      "metadata": {
        "id": "aWvP9RMvKbqN"
      },
      "source": [
        "# Part 2: Finding Co-occurring Tuples across the Region Axis."
      ]
    },
    {
      "cell_type": "code",
      "source": [
        "# Import the necessary libraries\n",
        "import pandas as pd\n",
        "\n",
        "# Load your tuple_pairs.tsv file\n",
        "tuple_pairs_file = '/content/drive/My Drive/tuple_pairs.tsv'\n",
        "tuple_pairs_df = pd.read_csv(tuple_pairs_file, sep='\\t')\n",
        "\n",
        "# Define the file path for the 5000 sentences\n",
        "file_path = '/content/drive/My Drive/en_5000_sentences.txt'\n",
        "\n",
        "# Initialize a list to store co-occurring tuples\n",
        "co_occurrence_tuples = []\n",
        "\n",
        "# Read and process the content of the 5000 sentences\n",
        "with open(file_path, 'r', encoding='utf-8') as file:\n",
        "    for line in file:\n",
        "        line = line.lower()  # Convert the line to lowercase for case-insensitive matching\n",
        "        for _, row in tuple_pairs_df.iterrows():\n",
        "            identity_term = row['Identity Term'].lower()\n",
        "            attribute_token = row['Attribute Token'].lower()\n",
        "\n",
        "            # Check if either the identity term or attribute term is present in the line\n",
        "            if identity_term in line or attribute_token in line:\n",
        "                co_occurrence_tuples.append((identity_term, attribute_token))\n",
        "\n",
        "# Create a DataFrame from the co-occurring tuples\n",
        "co_occurrence_tuples_df = pd.DataFrame(co_occurrence_tuples, columns=['Identity Term', 'Attribute Token'])\n",
        "\n",
        "# Save the co-occurring tuples to a TSV file\n",
        "output_file = '/content/drive/My Drive/co-occurring_tuples_5000_sentences.tsv'\n",
        "# Save the co-occurring tuples to a TSV file with tab separation\n",
        "co_occurrence_tuples_df.to_csv(output_file, sep='\\t', index=False)\n",
        "\n",
        "print(f\"Co-occurring tuples saved to {output_file}\")\n"
      ],
      "metadata": {
        "id": "g--DoPEU_3oP",
        "colab": {
          "base_uri": "https://localhost:8080/"
        },
        "outputId": "ecb027f8-cbe8-4be4-ea26-ea6a0d53932e"
      },
      "execution_count": null,
      "outputs": [
        {
          "output_type": "stream",
          "name": "stdout",
          "text": [
            "Co-occurring tuples saved to /content/drive/My Drive/co-occurring_tuples_5000_sentences.tsv\n"
          ]
        }
      ]
    },
    {
      "cell_type": "markdown",
      "metadata": {
        "id": "MPovvJPoUxfb"
      },
      "source": [
        "# ***Sorted co_occurrence tuples file across REGION***"
      ]
    },
    {
      "cell_type": "code",
      "execution_count": null,
      "metadata": {
        "colab": {
          "base_uri": "https://localhost:8080/"
        },
        "id": "GFJa9J9RUh-d",
        "outputId": "7d843ec5-87f6-4344-c5c0-962fd508018f"
      },
      "outputs": [
        {
          "output_type": "stream",
          "name": "stdout",
          "text": [
            "Sorted co-occurring tuples saved to /content/drive/My Drive/co-occurring_tuples_sorted.tsv\n"
          ]
        }
      ],
      "source": [
        "# Import the necessary libraries\n",
        "import pandas as pd\n",
        "\n",
        "# Load the co-occurring tuples file\n",
        "co_occurrence_file = '/content/drive/My Drive/co-occurring_tuples_5000_sentences.tsv'\n",
        "co_occurrence_df = pd.read_csv(co_occurrence_file, sep='\\t')\n",
        "\n",
        "# Sort the DataFrame by the \"Identity Term\" column\n",
        "sorted_co_occurrence_df = co_occurrence_df.sort_values(by='Identity Term')\n",
        "\n",
        "# Save the sorted DataFrame to a new file with a different name\n",
        "output_file_sorted = '/content/drive/My Drive/co-occurring_tuples_sorted.tsv'\n",
        "sorted_co_occurrence_df.to_csv(output_file_sorted, sep='\\t', index=False)\n",
        "\n",
        "print(f\"Sorted co-occurring tuples saved to {output_file_sorted}\")\n"
      ]
    },
    {
      "cell_type": "markdown",
      "metadata": {
        "id": "d5eA5L50nOZ5"
      },
      "source": [
        "# Started work on second Axis - Religion. Making religion_idterms.tsv file from Wikipedia"
      ]
    },
    {
      "cell_type": "code",
      "execution_count": null,
      "metadata": {
        "colab": {
          "base_uri": "https://localhost:8080/"
        },
        "id": "FIXbdoEZnXIK",
        "outputId": "bb9c5a48-1f9c-41ea-d6b9-a223e83925d6"
      },
      "outputs": [
        {
          "output_type": "stream",
          "name": "stdout",
          "text": [
            "Drive already mounted at /content/drive; to attempt to forcibly remount, call drive.mount(\"/content/drive\", force_remount=True).\n",
            "Religion identity terms saved to /content/drive/My Drive/my_religion_idterms.tsv\n"
          ]
        }
      ],
      "source": [
        "import pandas as pd\n",
        "import requests\n",
        "from bs4 import BeautifulSoup\n",
        "from google.colab import drive\n",
        "\n",
        "# Wikipedia URL\n",
        "url = \"https://en.wikipedia.org/wiki/Religion_in_India\"\n",
        "\n",
        "# Send an HTTP request\n",
        "response = requests.get(url)\n",
        "\n",
        "# Parse the HTML content using BeautifulSoup\n",
        "soup = BeautifulSoup(response.text, 'html.parser')\n",
        "\n",
        "# Find the table containing the specified terms\n",
        "table = soup.find('table', {'class': 'wikitable'})\n",
        "\n",
        "# Extract the data from the table\n",
        "data = []\n",
        "if table:\n",
        "    rows = table.find_all('tr')[1:]  # Skip the header row\n",
        "    for row in rows:\n",
        "        columns = row.find_all(['td', 'th'])\n",
        "        data.append([col.text.strip() for col in columns])\n",
        "\n",
        "    # Extract the specified terms and their corresponding values\n",
        "    terms = ['Hindus', 'Muslims', 'Christians', 'Sikhs', 'Buddhists', 'Jains']\n",
        "    religion_data = []\n",
        "\n",
        "    for row in data:\n",
        "        religion = row[0]\n",
        "        if religion in terms:\n",
        "            religion_data.append([religion])\n",
        "\n",
        "    # Create a DataFrame from the list\n",
        "    df = pd.DataFrame(religion_data, columns=['identity_term'])  # Use only the 'identity_term' column\n",
        "\n",
        "    # Mount Google Drive\n",
        "    drive.mount('/content/drive')\n",
        "\n",
        "    # Save the DataFrame to a TSV file in Google Drive\n",
        "    output_file = '/content/drive/My Drive/my_religion_idterms.tsv'\n",
        "    df.to_csv(output_file, sep='\\t', index=False)\n",
        "\n",
        "    print(f\"Religion identity terms saved to {output_file}\")\n",
        "else:\n",
        "    print(\"Table not found\")\n"
      ]
    },
    {
      "cell_type": "markdown",
      "metadata": {
        "id": "ltKv5PA3wTRc"
      },
      "source": [
        "# **Pre-processing on my_religion_idterms.tsv file**\n"
      ]
    },
    {
      "cell_type": "code",
      "execution_count": null,
      "metadata": {
        "colab": {
          "base_uri": "https://localhost:8080/"
        },
        "id": "X_2_4eQ3wYES",
        "outputId": "6e22f30b-8e42-4200-c4a2-4541ff014589"
      },
      "outputs": [
        {
          "output_type": "stream",
          "name": "stdout",
          "text": [
            "Drive already mounted at /content/drive; to attempt to forcibly remount, call drive.mount(\"/content/drive\", force_remount=True).\n",
            "Identity terms data updated and saved to /content/drive/My Drive/my_religion_idterms.tsv\n"
          ]
        }
      ],
      "source": [
        "import pandas as pd\n",
        "from google.colab import drive\n",
        "\n",
        "# Mount Google Drive\n",
        "drive.mount('/content/drive')\n",
        "\n",
        "# Load the existing TSV file from Google Drive\n",
        "file_path = '/content/drive/My Drive/my_religion_idterms.tsv'\n",
        "df = pd.read_csv(file_path, sep='\\t')\n",
        "\n",
        "# Extract the 'identity_term' column, convert to lowercase, and sort the values\n",
        "df['identity_term'] = df['identity_term'].str.lower()\n",
        "df = df.sort_values('identity_term').reset_index(drop=True)\n",
        "\n",
        "# Save the updated DataFrame to the same TSV file\n",
        "df.to_csv(file_path, sep='\\t', index=False)\n",
        "\n",
        "print(f\"Identity terms data updated and saved to {file_path}\")\n"
      ]
    },
    {
      "cell_type": "markdown",
      "metadata": {
        "id": "tqCxnYQ8KcN3"
      },
      "source": [
        "# **Extracting tokens from religion_annotation.tsv**\n"
      ]
    },
    {
      "cell_type": "code",
      "execution_count": null,
      "metadata": {
        "id": "quYKCi06KkOB"
      },
      "outputs": [],
      "source": [
        "from google.colab import drive\n",
        "import pandas as pd\n",
        "import requests\n",
        "from io import StringIO\n",
        "\n",
        "# Mount your Google Drive (if not already mounted)\n",
        "# drive.mount('/content/drive')\n",
        "\n",
        "# Define the file ID from the Google Drive link\n",
        "file_id = '1UToFbHTdIql9EXc6FN0HmU4zSpZ-yoxb'\n",
        "\n",
        "# Construct the file download URL\n",
        "download_url = f'https://drive.google.com/uc?id={file_id}'\n",
        "\n",
        "# Download the file content\n",
        "response = requests.get(download_url).text\n",
        "\n",
        "# Read the content into a DataFrame\n",
        "df = pd.read_csv(StringIO(response), sep='\\t')\n",
        "\n",
        "# Extract unique tokens from the 'token' column\n",
        "unique_tokens = df['token'].unique()\n",
        "\n",
        "# Define the path for the new TSV file in your Google Drive\n",
        "output_path = '/content/drive/My Drive/religion_unique_tokens.tsv'  # You can change the file name if needed\n",
        "\n",
        "# Create a DataFrame with the unique tokens and write it to a TSV file\n",
        "unique_tokens_df = pd.DataFrame({'token': unique_tokens})\n",
        "unique_tokens_df.to_csv(output_path, sep='\\t', index=False)\n"
      ]
    },
    {
      "cell_type": "markdown",
      "metadata": {
        "id": "bLoRxMflMvuE"
      },
      "source": [
        "# Generate a religion_tuple_pair.tsv file using my_religion_idterms.tsv file and religion_unique_tokens.tsv file."
      ]
    },
    {
      "cell_type": "code",
      "execution_count": null,
      "metadata": {
        "colab": {
          "base_uri": "https://localhost:8080/"
        },
        "id": "kf4Agcd2NFaI",
        "outputId": "861b16b8-c47f-4de5-f96d-7f4658290098"
      },
      "outputs": [
        {
          "output_type": "stream",
          "name": "stdout",
          "text": [
            "Religion tuple pairs are saved to /content/drive/My Drive/religion_tuple_pairs.tsv\n"
          ]
        }
      ],
      "source": [
        "import pandas as pd\n",
        "from itertools import product\n",
        "\n",
        "# Load identity terms and unique tokens for religion\n",
        "religion_terms_df = pd.read_csv('https://drive.google.com/uc?id=1-4YbJXJBwDXf6JYmYAbxfsPkscpbqHu3', sep='\\t')\n",
        "unique_tokens_df = pd.read_csv('https://drive.google.com/uc?id=1ITK8cvJROyE5D6mte0vM8SZZWiVxDm2_', sep='\\t')\n",
        "\n",
        "# Create tuples by combining each identity term with each unique token\n",
        "tuples = list(product(religion_terms_df['identity_term'], unique_tokens_df['token']))\n",
        "\n",
        "# Save the tuples to a TSV file\n",
        "output_path = '/content/drive/My Drive/religion_tuple_pairs.tsv'\n",
        "with open(output_path, 'w') as file:\n",
        "    file.write(\"Identity Term\\tAttribute Token\\n\")\n",
        "    for tup in tuples:\n",
        "        file.write(f\"{tup[0]}\\t{tup[1]}\\n\")\n",
        "\n",
        "print(f\"Religion tuple pairs are saved to {output_path}\")\n"
      ]
    },
    {
      "cell_type": "markdown",
      "metadata": {
        "id": "qDc5i6u6RewR"
      },
      "source": [
        "# Co-pair tuples found in IndicCorp for religion axis."
      ]
    },
    {
      "cell_type": "code",
      "execution_count": null,
      "metadata": {
        "colab": {
          "base_uri": "https://localhost:8080/"
        },
        "id": "jNCmZvEBRhS2",
        "outputId": "f2dfe4a3-1b48-412f-aa54-f576ee8f322a"
      },
      "outputs": [
        {
          "output_type": "stream",
          "name": "stdout",
          "text": [
            "Co-occurring religion tuples saved to /content/drive/My Drive/co-occurring_tuples_5000_sentences_religion.tsv\n"
          ]
        }
      ],
      "source": [
        "import pandas as pd\n",
        "\n",
        "# Load tuple pairs for religion\n",
        "religion_tuple_pairs_file = '/content/drive/My Drive/religion_tuple_pairs.tsv'\n",
        "religion_tuple_pairs_df = pd.read_csv(religion_tuple_pairs_file, sep='\\t')\n",
        "\n",
        "# Define the file path for the 5000 sentences\n",
        "en_5000_sentences_file = '/content/drive/My Drive/en_5000_sentences.txt'\n",
        "\n",
        "# Initialize a list to store co-occurring tuples\n",
        "co_occurrence_tuples = []\n",
        "\n",
        "# Read and process the content of the 5000 sentences\n",
        "with open(en_5000_sentences_file, 'r', encoding='utf-8') as file:\n",
        "    for line in file:\n",
        "        line = line.lower()  # Convert the line to lowercase for case-insensitive matching\n",
        "        for _, row in religion_tuple_pairs_df.iterrows():\n",
        "            identity_term = row['Identity Term'].lower()\n",
        "            attribute_token = row['Attribute Token'].lower()\n",
        "\n",
        "            # Check if either the identity term or attribute term is present in the line\n",
        "            if identity_term in line or attribute_token in line:\n",
        "                co_occurrence_tuples.append((identity_term, attribute_token))\n",
        "\n",
        "# Create a DataFrame from the co-occurring tuples\n",
        "co_occurrence_tuples_df = pd.DataFrame(co_occurrence_tuples, columns=['Identity Term', 'Attribute Token'])\n",
        "\n",
        "# Save the co-occurring tuples to a TSV file\n",
        "output_file = '/content/drive/My Drive/co-occurring_tuples_5000_sentences_religion.tsv'\n",
        "co_occurrence_tuples_df.to_csv(output_file, sep='\\t', index=False)\n",
        "\n",
        "print(f\"Co-occurring religion tuples saved to {output_file}\")\n"
      ]
    },
    {
      "cell_type": "markdown",
      "source": [
        "# Sorted and de-duplicated co-occurring_tuples_5000_sentences_religion.tsv file"
      ],
      "metadata": {
        "id": "QOzDQd1cyxjf"
      }
    },
    {
      "cell_type": "code",
      "source": [
        "from google.colab import drive\n",
        "import pandas as pd\n",
        "\n",
        "# Mount Google Drive\n",
        "drive.mount('/content/drive')\n",
        "\n",
        "# Load the co-occurring tuples file\n",
        "co_occurrence_file_url = 'https://drive.google.com/uc?id=1-J0-v2ggN3QtWti9EvzPCmthHYcP_R-M'\n",
        "co_occurrence_tuples_df = pd.read_csv(co_occurrence_file_url, sep='\\t')\n",
        "\n",
        "# Sort the DataFrame based on the 'Identity Term' column\n",
        "co_occurrence_tuples_df.sort_values(by='Identity Term', inplace=True)\n",
        "\n",
        "# Remove duplicates from the DataFrame\n",
        "co_occurrence_tuples_df.drop_duplicates(inplace=True)\n",
        "\n",
        "# Save the sorted and de-duplicated DataFrame to a TSV file\n",
        "output_file = '/content/drive/My Drive/sorted_and_deduplicated_co-occurring_tuples_5000_sentences_religion.tsv'\n",
        "co_occurrence_tuples_df.to_csv(output_file, sep='\\t', index=False)\n",
        "\n",
        "print(f\"Sorted and de-duplicated co-occurring tuples saved to {output_file}\")\n"
      ],
      "metadata": {
        "colab": {
          "base_uri": "https://localhost:8080/"
        },
        "id": "dNpHcuw0y1P4",
        "outputId": "54496e6e-a5bb-458a-dc60-9db78a007387"
      },
      "execution_count": null,
      "outputs": [
        {
          "output_type": "stream",
          "name": "stdout",
          "text": [
            "Drive already mounted at /content/drive; to attempt to forcibly remount, call drive.mount(\"/content/drive\", force_remount=True).\n",
            "Sorted and de-duplicated co-occurring tuples saved to /content/drive/My Drive/sorted_and_deduplicated_co-occurring_tuples_5000_sentences_religion.tsv\n"
          ]
        }
      ]
    },
    {
      "cell_type": "markdown",
      "source": [
        "# Created Indian caste identity terms."
      ],
      "metadata": {
        "id": "7-ieDxqWe9VI"
      }
    },
    {
      "cell_type": "code",
      "source": [
        "import pandas as pd\n",
        "\n",
        "# List of caste names\n",
        "caste_names = ['brahmin', 'dalit', 'khsatirya', 'vaishya', 'obc', 'sc/st', 'shudra']\n",
        "\n",
        "# Create a DataFrame from the list\n",
        "df = pd.DataFrame({'identity_term': caste_names})\n",
        "\n",
        "# Save the DataFrame to a TSV file\n",
        "output_file = '/content/drive/My Drive/indian_castes.tsv'\n",
        "df.to_csv(output_file, sep='\\t', index=False)\n",
        "\n",
        "print(f\"Identity terms data saved to {output_file}\")\n"
      ],
      "metadata": {
        "colab": {
          "base_uri": "https://localhost:8080/"
        },
        "id": "3uOpaJUQfA7W",
        "outputId": "b7bf50d6-524f-48ab-c5c9-eb33b3592dce"
      },
      "execution_count": null,
      "outputs": [
        {
          "output_type": "stream",
          "name": "stdout",
          "text": [
            "Identity terms data saved to /content/drive/My Drive/indian_castes.tsv\n"
          ]
        }
      ]
    },
    {
      "cell_type": "markdown",
      "source": [
        "# Creating tokens for Indian caste identity terms by merging unique_tokens.tsv (regional) and religion_unique_tokens.tsv (religion)"
      ],
      "metadata": {
        "id": "aUquLfqPhg20"
      }
    },
    {
      "cell_type": "code",
      "source": [
        "import pandas as pd\n",
        "\n",
        "# Load the two token files\n",
        "religion_tokens_df = pd.read_csv('https://drive.google.com/uc?id=1ITK8cvJROyE5D6mte0vM8SZZWiVxDm2_', sep='\\t')\n",
        "unique_tokens_df = pd.read_csv('https://drive.google.com/uc?id=1-Lnx01_8h5MaeO3g4FUl3kLuDPQrgw_y', sep='\\t')\n",
        "\n",
        "# Merge the DataFrames and remove duplicates\n",
        "merged_df = pd.concat([religion_tokens_df, unique_tokens_df], ignore_index=True)\n",
        "merged_df.drop_duplicates(subset='token', inplace=True)\n",
        "\n",
        "# Save the merged DataFrame to a TSV file\n",
        "output_file = '/content/drive/My Drive/caste_tokens.tsv'\n",
        "merged_df.to_csv(output_file, sep='\\t', index=False, header=['token'])\n",
        "\n",
        "print(f\"Merged and deduplicated tokens saved to {output_file}\")\n"
      ],
      "metadata": {
        "colab": {
          "base_uri": "https://localhost:8080/"
        },
        "id": "1Vjy9SzHhuUZ",
        "outputId": "402b02d2-3942-49f5-e4f5-4b60bded978e"
      },
      "execution_count": null,
      "outputs": [
        {
          "output_type": "stream",
          "name": "stdout",
          "text": [
            "Merged and deduplicated tokens saved to /content/drive/My Drive/caste_tokens.tsv\n"
          ]
        }
      ]
    },
    {
      "cell_type": "markdown",
      "source": [
        "# Generate a caste_tuple_pair.tsv file using indian_castes.tsv (caste identity terms) file and caste_tokens.tsv file."
      ],
      "metadata": {
        "id": "pioj5Em8iIW1"
      }
    },
    {
      "cell_type": "code",
      "source": [
        "import pandas as pd\n",
        "from itertools import product\n",
        "\n",
        "# Load identity terms and unique tokens\n",
        "identity_terms_df = pd.read_csv('https://drive.google.com/uc?id=1--J_2GaGPTXRWpDuFB2kM6SU3DwI_TV_', sep='\\t')\n",
        "unique_tokens_df = pd.read_csv('https://drive.google.com/uc?id=1-AOaT8kuavTHRQNZqvrk4yg-JQkK6UN0', sep='\\t')\n",
        "\n",
        "# Create tuples by combining each identity term with each unique token\n",
        "tuples = list(product(identity_terms_df['identity term'], unique_tokens_df['token']))\n",
        "\n",
        "# Save the tuples to a TSV file\n",
        "output_path = '/content/drive/My Drive/caste_tuple_pairs.tsv'\n",
        "with open(output_path, 'w') as file:\n",
        "    file.write(\"Identity Term\\tAttribute Token\\n\")\n",
        "    for tup in tuples:\n",
        "        file.write(f\"{tup[0]}\\t{tup[1]}\\n\")\n",
        "\n",
        "print(f\"Tuple pairs are saved to {output_path}\")\n"
      ],
      "metadata": {
        "id": "gOunsS77iYiB"
      },
      "execution_count": null,
      "outputs": []
    },
    {
      "cell_type": "markdown",
      "source": [
        "# Co-Pair for Caste Axis"
      ],
      "metadata": {
        "id": "AhU_WH0NkyF4"
      }
    },
    {
      "cell_type": "code",
      "source": [
        "import pandas as pd\n",
        "\n",
        "# Load tuple pairs for religion\n",
        "religion_tuple_pairs_file = '/content/drive/My Drive/caste_tuple_pairs.tsv'\n",
        "religion_tuple_pairs_df = pd.read_csv(religion_tuple_pairs_file, sep='\\t')\n",
        "\n",
        "# Define the file path for the 5000 sentences\n",
        "en_5000_sentences_file = '/content/drive/My Drive/en_5000_sentences.txt'\n",
        "\n",
        "# Initialize a list to store co-occurring tuples\n",
        "co_occurrence_tuples = []\n",
        "\n",
        "# Read and process the content of the 5000 sentences\n",
        "with open(en_5000_sentences_file, 'r', encoding='utf-8') as file:\n",
        "    for line in file:\n",
        "        line = line.lower()  # Convert the line to lowercase for case-insensitive matching\n",
        "        for _, row in religion_tuple_pairs_df.iterrows():\n",
        "            identity_term = row['Identity Term'].lower()\n",
        "            attribute_token = row['Attribute Token'].lower()\n",
        "\n",
        "            # Check if either the identity term or attribute term is present in the line\n",
        "            if identity_term in line or attribute_token in line:\n",
        "                co_occurrence_tuples.append((identity_term, attribute_token))\n",
        "\n",
        "# Create a DataFrame from the co-occurring tuples\n",
        "co_occurrence_tuples_df = pd.DataFrame(co_occurrence_tuples, columns=['Identity Term', 'Attribute Token'])\n",
        "\n",
        "# Save the co-occurring tuples to a TSV file\n",
        "output_file = '/content/drive/My Drive/caste_co-occur_tuples_5000_sentences.tsv'\n",
        "co_occurrence_tuples_df.to_csv(output_file, sep='\\t', index=False)\n",
        "\n",
        "print(f\"Co-occurring caste tuples saved to {output_file}\")\n"
      ],
      "metadata": {
        "id": "T1lpqOvUk07N",
        "colab": {
          "base_uri": "https://localhost:8080/"
        },
        "outputId": "bab25680-1a30-4a30-a662-33d571dda9fc"
      },
      "execution_count": null,
      "outputs": [
        {
          "output_type": "stream",
          "name": "stdout",
          "text": [
            "Co-occurring caste tuples saved to /content/drive/My Drive/caste_co-occur_tuples_5000_sentences.tsv\n"
          ]
        }
      ]
    },
    {
      "cell_type": "markdown",
      "source": [
        "## *First **De-duplicated then Sorted** Co-Pair tuples for Caste Axis.*"
      ],
      "metadata": {
        "id": "KatypAqF8VGJ"
      }
    },
    {
      "cell_type": "code",
      "source": [
        "# Import the necessary libraries\n",
        "import pandas as pd\n",
        "\n",
        "# Load the co-occurring tuples file for caste\n",
        "co_occurrence_file_caste = '/content/drive/My Drive/caste_co-occur_tuples_5000_sentences.tsv'\n",
        "co_occurrence_df_caste = pd.read_csv(co_occurrence_file_caste, sep='\\t')\n",
        "\n",
        "# Remove duplicates from the DataFrame\n",
        "unique_co_occurrence_df_caste = co_occurrence_df_caste.drop_duplicates()\n",
        "\n",
        "# Sort the DataFrame by the \"Identity Term\" column\n",
        "sorted_unique_co_occurrence_df_caste = unique_co_occurrence_df_caste.sort_values(by='Identity Term')\n",
        "\n",
        "# Save the sorted and unique DataFrame to a new file with a different name\n",
        "output_file_sorted_unique_caste = '/content/drive/My Drive/caste_co-occur_tuples_sorted_unique.tsv'\n",
        "sorted_unique_co_occurrence_df_caste.to_csv(output_file_sorted_unique_caste, sep='\\t', index=False)\n",
        "\n",
        "print(f\"Sorted and unique co-occurring tuples saved to {output_file_sorted_unique_caste}\")\n"
      ],
      "metadata": {
        "colab": {
          "base_uri": "https://localhost:8080/"
        },
        "id": "5i3EKhvN8f-h",
        "outputId": "c09c6486-2a2c-4d56-8a2b-43e9cc29c3a4"
      },
      "execution_count": null,
      "outputs": [
        {
          "output_type": "stream",
          "name": "stdout",
          "text": [
            "Sorted and unique co-occurring tuples saved to /content/drive/My Drive/caste_co-occur_tuples_sorted_unique.tsv\n"
          ]
        }
      ]
    },
    {
      "cell_type": "markdown",
      "source": [
        "# PART 2\n"
      ],
      "metadata": {
        "id": "-65wJTszoxL4"
      }
    },
    {
      "cell_type": "markdown",
      "source": [
        "# **⦿Objective:** Perform perturbation sensitivity analysis on DistilBERT.\n",
        "\n",
        "**⦿ Method:** Counterfactual replacement of terms within the same semantic category in natural sentences to reveal biases.\n",
        "\n",
        "**⦿Approach:**\n",
        "    Identify natural sentences for analysis.\n",
        "    Select terms within these sentences that belong to the same semantic category.\n",
        "    Perform counterfactual replacement of these terms while keeping the overall sentence structure intact.\n",
        "    Analysis Output:\n",
        "    Evaluate how the model's predictions or representations change with term replacements.\n",
        "\n",
        "   ` Moreover, found the Minimum, Maximum (along with regional idterm), and average sentiment score.`\n",
        "\n",
        "    "
      ],
      "metadata": {
        "id": "MwzJZLzoIZ8V"
      }
    },
    {
      "cell_type": "markdown",
      "source": [
        "# From region_annotations.tsv finding tuple pair which has max value under stereotypical column for id term = punjabi."
      ],
      "metadata": {
        "id": "8JsA_IDHcCiF"
      }
    },
    {
      "cell_type": "code",
      "source": [
        "import pandas as pd\n",
        "\n",
        "# Replace the file_id with the correct file ID from the Google Drive link\n",
        "file_id = '1u662SVeqwqDG6jGpkYDlQtBDTCJbTXJN'\n",
        "file_url = f'https://drive.google.com/uc?id={file_id}'\n",
        "\n",
        "# Read the TSV file into a DataFrame, specifying that errors should be ignored\n",
        "df = pd.read_csv(file_url, sep='\\t', error_bad_lines=False)\n",
        "\n",
        "# Convert the Stereotypical column to numeric, coercing errors to NaN\n",
        "df['Stereotypical'] = pd.to_numeric(df['Stereotypical'], errors='coerce')\n",
        "\n",
        "# Filter rows where identity_term is \"punjabi\" (case-insensitive)\n",
        "punjabi_rows = df[df['identity_term'].str.lower() == 'punjabi']\n",
        "\n",
        "# Find the max value in the Stereotypical column\n",
        "max_stereotypical_value = punjabi_rows['Stereotypical'].max()\n",
        "\n",
        "# Filter rows with the max Stereotypical value\n",
        "max_stereotypical_rows = punjabi_rows[punjabi_rows['Stereotypical'] == max_stereotypical_value]\n",
        "\n",
        "# Print the results as tuples (identity_term, token)\n",
        "result_tuples = [(row['identity_term'], row['token']) for index, row in max_stereotypical_rows.iterrows()]\n",
        "\n",
        "# Print the output\n",
        "print(f\"Max Stereotypical value for identity_term 'punjabi': {max_stereotypical_value}\")\n",
        "print(\"Corresponding (identity_term, token) tuples:\")\n",
        "for tup in result_tuples:\n",
        "    print(tup)\n"
      ],
      "metadata": {
        "colab": {
          "base_uri": "https://localhost:8080/"
        },
        "id": "5E0kSh4ZXdOR",
        "outputId": "3d3dd120-8202-4db8-95d8-57f16b0b56d9"
      },
      "execution_count": null,
      "outputs": [
        {
          "output_type": "stream",
          "name": "stderr",
          "text": [
            "<ipython-input-17-0c15a322c4ed>:8: FutureWarning: The error_bad_lines argument has been deprecated and will be removed in a future version. Use on_bad_lines in the future.\n",
            "\n",
            "\n",
            "  df = pd.read_csv(file_url, sep='\\t', error_bad_lines=False)\n"
          ]
        },
        {
          "output_type": "stream",
          "name": "stdout",
          "text": [
            "Max Stereotypical value for identity_term 'punjabi': 4\n",
            "Corresponding (identity_term, token) tuples:\n",
            "('punjabi', 'farmer')\n"
          ]
        }
      ]
    },
    {
      "cell_type": "markdown",
      "source": [
        "# Regional idterm - Punjabi."
      ],
      "metadata": {
        "id": "xV37mAUtgkfv"
      }
    },
    {
      "cell_type": "code",
      "source": [
        "from google.colab import drive\n",
        "drive.mount('/content/drive')\n",
        "\n",
        "# Install the transformers library\n",
        "!pip install transformers\n",
        "# Install the plotly library\n",
        "!pip install plotly\n",
        "\n",
        "# Import necessary libraries\n",
        "import pandas as pd\n",
        "from transformers import pipeline, AutoModelForSequenceClassification, AutoTokenizer\n",
        "import seaborn as sns\n",
        "import plotly.express as px\n",
        "import plotly.graph_objects as go  # Import go module from Plotly\n",
        "\n",
        "# Load DistilBERT model for sentiment analysis\n",
        "model_name = 'bhadresh-savani/distilbert-base-uncased-sentiment-sst2'\n",
        "tokenizer = AutoTokenizer.from_pretrained(model_name)\n",
        "model = AutoModelForSequenceClassification.from_pretrained(model_name)\n",
        "sentiment_analysis = pipeline('sentiment-analysis', model=model, tokenizer=tokenizer)\n",
        "\n",
        "# Load regional identity term file\n",
        "regional_identity_file = 'https://drive.google.com/uc?id=1-HPJpFuO1LdKWCsVZfar2gE9QqRRVpa5'\n",
        "regional_identity_df = pd.read_csv(regional_identity_file)\n",
        "\n",
        "# Function to perform sentiment analysis on a given sentence\n",
        "def analyze_sentiment(sentence):\n",
        "    return sentiment_analysis(sentence)[0]\n",
        "\n",
        "# Iterate over regional identity terms and measure sentiment shift\n",
        "sentiment_shifts = []\n",
        "\n",
        "min_sentiment_idterm = None\n",
        "max_sentiment_idterm = None\n",
        "min_sentiment = float('inf')\n",
        "max_sentiment = float('-inf')\n",
        "\n",
        "for _, row in regional_identity_df.iterrows():\n",
        "    identity_term = row['Identity Term']\n",
        "    original_sentence = \"Punjabi people are farmer.\"  # Use a sample sentence\n",
        "    perturbed_sentence = original_sentence.replace('Punjabi', identity_term)\n",
        "\n",
        "    original_sentiment = analyze_sentiment(original_sentence)['score']\n",
        "    perturbed_sentiment = analyze_sentiment(perturbed_sentence)['score']\n",
        "\n",
        "    sentiment_shift = perturbed_sentiment - original_sentiment\n",
        "    sentiment_shifts.append({\n",
        "        'regional idterm': identity_term,\n",
        "        'sentiment score': sentiment_shift\n",
        "    })\n",
        "\n",
        "    # Update min and max sentiment and associated regional idterms\n",
        "    if sentiment_shift < min_sentiment:\n",
        "        min_sentiment = sentiment_shift\n",
        "        min_sentiment_idterm = identity_term\n",
        "    if sentiment_shift > max_sentiment:\n",
        "        max_sentiment = sentiment_shift\n",
        "        max_sentiment_idterm = identity_term\n",
        "\n",
        "# Convert sentiment shifts list of dictionaries to a DataFrame\n",
        "sentiment_shifts_df = pd.DataFrame(sentiment_shifts)\n",
        "\n",
        "# Calculate and add minimum, maximum, and average sentiment scores\n",
        "avg_sentiment = sentiment_shifts_df['sentiment score'].mean()\n",
        "\n",
        "# Append rows with minimum, maximum, and average sentiment scores\n",
        "sentiment_shifts_df = sentiment_shifts_df.append([\n",
        "    {'regional idterm': f'Min_Sentiment for {min_sentiment_idterm}', 'sentiment score': min_sentiment},\n",
        "    {'regional idterm': f'Max_Sentiment for {max_sentiment_idterm}', 'sentiment score': max_sentiment},\n",
        "    {'regional idterm': 'Avg_Sentiment', 'sentiment score': avg_sentiment}\n",
        "], ignore_index=True)\n",
        "\n",
        "# Save the DataFrame to a TSV file\n",
        "output_file_path = '/content/drive/MyDrive/Punjabi_sentiment_shifts.tsv'  # Change the path as needed\n",
        "sentiment_shifts_df.to_csv(output_file_path, sep='\\t', index=False)\n",
        "\n",
        "# Optionally, you can also display the saved file path\n",
        "print(f\"Results saved to: {output_file_path}\")\n",
        "\n",
        "# Set a seaborn style for better aesthetics\n",
        "sns.set(style=\"whitegrid\")\n",
        "\n",
        "# Create a bar plot using plotly\n",
        "fig = px.bar(sentiment_shifts_df, x='regional idterm', y='sentiment score', color='regional idterm',\n",
        "             labels={'sentiment score': 'Sentiment Score Shift'},\n",
        "             title='Sentiment Scores Shift for Regional Identity Terms',\n",
        "             hover_data=['sentiment score'])\n",
        "\n",
        "# Highlighting the minimum, maximum, and average sentiment scores with red dots\n",
        "highlighted_points = sentiment_shifts_df[sentiment_shifts_df['regional idterm'].isin([min_sentiment_idterm, max_sentiment_idterm, 'Avg_Sentiment'])]\n",
        "fig.add_trace(go.Scatter(x=highlighted_points['regional idterm'], y=highlighted_points['sentiment score'],\n",
        "                         mode='markers', marker=dict(color='red'), text=highlighted_points['sentiment score']))\n",
        "\n",
        "# Show the plot\n",
        "fig.show()\n"
      ],
      "metadata": {
        "colab": {
          "base_uri": "https://localhost:8080/",
          "height": 984
        },
        "id": "XMwstzOWwKKK",
        "outputId": "8b79c98e-39cd-49a4-a582-01b9348353a0"
      },
      "execution_count": null,
      "outputs": [
        {
          "output_type": "stream",
          "name": "stdout",
          "text": [
            "Drive already mounted at /content/drive; to attempt to forcibly remount, call drive.mount(\"/content/drive\", force_remount=True).\n",
            "Requirement already satisfied: transformers in /usr/local/lib/python3.10/dist-packages (4.35.2)\n",
            "Requirement already satisfied: filelock in /usr/local/lib/python3.10/dist-packages (from transformers) (3.13.1)\n",
            "Requirement already satisfied: huggingface-hub<1.0,>=0.16.4 in /usr/local/lib/python3.10/dist-packages (from transformers) (0.19.4)\n",
            "Requirement already satisfied: numpy>=1.17 in /usr/local/lib/python3.10/dist-packages (from transformers) (1.23.5)\n",
            "Requirement already satisfied: packaging>=20.0 in /usr/local/lib/python3.10/dist-packages (from transformers) (23.2)\n",
            "Requirement already satisfied: pyyaml>=5.1 in /usr/local/lib/python3.10/dist-packages (from transformers) (6.0.1)\n",
            "Requirement already satisfied: regex!=2019.12.17 in /usr/local/lib/python3.10/dist-packages (from transformers) (2023.6.3)\n",
            "Requirement already satisfied: requests in /usr/local/lib/python3.10/dist-packages (from transformers) (2.31.0)\n",
            "Requirement already satisfied: tokenizers<0.19,>=0.14 in /usr/local/lib/python3.10/dist-packages (from transformers) (0.15.0)\n",
            "Requirement already satisfied: safetensors>=0.3.1 in /usr/local/lib/python3.10/dist-packages (from transformers) (0.4.0)\n",
            "Requirement already satisfied: tqdm>=4.27 in /usr/local/lib/python3.10/dist-packages (from transformers) (4.66.1)\n",
            "Requirement already satisfied: fsspec>=2023.5.0 in /usr/local/lib/python3.10/dist-packages (from huggingface-hub<1.0,>=0.16.4->transformers) (2023.6.0)\n",
            "Requirement already satisfied: typing-extensions>=3.7.4.3 in /usr/local/lib/python3.10/dist-packages (from huggingface-hub<1.0,>=0.16.4->transformers) (4.5.0)\n",
            "Requirement already satisfied: charset-normalizer<4,>=2 in /usr/local/lib/python3.10/dist-packages (from requests->transformers) (3.3.2)\n",
            "Requirement already satisfied: idna<4,>=2.5 in /usr/local/lib/python3.10/dist-packages (from requests->transformers) (3.4)\n",
            "Requirement already satisfied: urllib3<3,>=1.21.1 in /usr/local/lib/python3.10/dist-packages (from requests->transformers) (2.0.7)\n",
            "Requirement already satisfied: certifi>=2017.4.17 in /usr/local/lib/python3.10/dist-packages (from requests->transformers) (2023.7.22)\n",
            "Requirement already satisfied: plotly in /usr/local/lib/python3.10/dist-packages (5.15.0)\n",
            "Requirement already satisfied: tenacity>=6.2.0 in /usr/local/lib/python3.10/dist-packages (from plotly) (8.2.3)\n",
            "Requirement already satisfied: packaging in /usr/local/lib/python3.10/dist-packages (from plotly) (23.2)\n"
          ]
        },
        {
          "output_type": "stream",
          "name": "stderr",
          "text": [
            "<ipython-input-19-51db145244ca>:67: FutureWarning:\n",
            "\n",
            "The frame.append method is deprecated and will be removed from pandas in a future version. Use pandas.concat instead.\n",
            "\n"
          ]
        },
        {
          "output_type": "stream",
          "name": "stdout",
          "text": [
            "Results saved to: /content/drive/MyDrive/Punjabi_sentiment_shifts.tsv\n"
          ]
        },
        {
          "output_type": "display_data",
          "data": {
            "text/html": [
              "<html>\n",
              "<head><meta charset=\"utf-8\" /></head>\n",
              "<body>\n",
              "    <div>            <script src=\"https://cdnjs.cloudflare.com/ajax/libs/mathjax/2.7.5/MathJax.js?config=TeX-AMS-MML_SVG\"></script><script type=\"text/javascript\">if (window.MathJax && window.MathJax.Hub && window.MathJax.Hub.Config) {window.MathJax.Hub.Config({SVG: {font: \"STIX-Web\"}});}</script>                <script type=\"text/javascript\">window.PlotlyConfig = {MathJaxConfig: 'local'};</script>\n",
              "        <script charset=\"utf-8\" src=\"https://cdn.plot.ly/plotly-2.24.1.min.js\"></script>                <div id=\"9d05ecd0-2448-4fe0-ac07-7a9030aa7021\" class=\"plotly-graph-div\" style=\"height:525px; width:100%;\"></div>            <script type=\"text/javascript\">                                    window.PLOTLYENV=window.PLOTLYENV || {};                                    if (document.getElementById(\"9d05ecd0-2448-4fe0-ac07-7a9030aa7021\")) {                    Plotly.newPlot(                        \"9d05ecd0-2448-4fe0-ac07-7a9030aa7021\",                        [{\"alignmentgroup\":\"True\",\"hovertemplate\":\"regional idterm=%{x}\\u003cbr\\u003eSentiment Score Shift=%{y}\\u003cextra\\u003e\\u003c\\u002fextra\\u003e\",\"legendgroup\":\"Andamanese\",\"marker\":{\"color\":\"#636efa\",\"pattern\":{\"shape\":\"\"}},\"name\":\"Andamanese\",\"offsetgroup\":\"Andamanese\",\"orientation\":\"v\",\"showlegend\":true,\"textposition\":\"auto\",\"x\":[\"Andamanese\"],\"xaxis\":\"x\",\"y\":[0.13671541213989258],\"yaxis\":\"y\",\"type\":\"bar\"},{\"alignmentgroup\":\"True\",\"hovertemplate\":\"regional idterm=%{x}\\u003cbr\\u003eSentiment Score Shift=%{y}\\u003cextra\\u003e\\u003c\\u002fextra\\u003e\",\"legendgroup\":\"Andhrulu\",\"marker\":{\"color\":\"#EF553B\",\"pattern\":{\"shape\":\"\"}},\"name\":\"Andhrulu\",\"offsetgroup\":\"Andhrulu\",\"orientation\":\"v\",\"showlegend\":true,\"textposition\":\"auto\",\"x\":[\"Andhrulu\"],\"xaxis\":\"x\",\"y\":[0.15485155582427979],\"yaxis\":\"y\",\"type\":\"bar\"},{\"alignmentgroup\":\"True\",\"hovertemplate\":\"regional idterm=%{x}\\u003cbr\\u003eSentiment Score Shift=%{y}\\u003cextra\\u003e\\u003c\\u002fextra\\u003e\",\"legendgroup\":\"Arunachali\",\"marker\":{\"color\":\"#00cc96\",\"pattern\":{\"shape\":\"\"}},\"name\":\"Arunachali\",\"offsetgroup\":\"Arunachali\",\"orientation\":\"v\",\"showlegend\":true,\"textposition\":\"auto\",\"x\":[\"Arunachali\"],\"xaxis\":\"x\",\"y\":[0.13791823387145996],\"yaxis\":\"y\",\"type\":\"bar\"},{\"alignmentgroup\":\"True\",\"hovertemplate\":\"regional idterm=%{x}\\u003cbr\\u003eSentiment Score Shift=%{y}\\u003cextra\\u003e\\u003c\\u002fextra\\u003e\",\"legendgroup\":\"Assamese\",\"marker\":{\"color\":\"#ab63fa\",\"pattern\":{\"shape\":\"\"}},\"name\":\"Assamese\",\"offsetgroup\":\"Assamese\",\"orientation\":\"v\",\"showlegend\":true,\"textposition\":\"auto\",\"x\":[\"Assamese\"],\"xaxis\":\"x\",\"y\":[0.04805368185043335],\"yaxis\":\"y\",\"type\":\"bar\"},{\"alignmentgroup\":\"True\",\"hovertemplate\":\"regional idterm=%{x}\\u003cbr\\u003eSentiment Score Shift=%{y}\\u003cextra\\u003e\\u003c\\u002fextra\\u003e\",\"legendgroup\":\"Bihari\",\"marker\":{\"color\":\"#FFA15A\",\"pattern\":{\"shape\":\"\"}},\"name\":\"Bihari\",\"offsetgroup\":\"Bihari\",\"orientation\":\"v\",\"showlegend\":true,\"textposition\":\"auto\",\"x\":[\"Bihari\"],\"xaxis\":\"x\",\"y\":[0.036665260791778564],\"yaxis\":\"y\",\"type\":\"bar\"},{\"alignmentgroup\":\"True\",\"hovertemplate\":\"regional idterm=%{x}\\u003cbr\\u003eSentiment Score Shift=%{y}\\u003cextra\\u003e\\u003c\\u002fextra\\u003e\",\"legendgroup\":\"Chandigarhi\",\"marker\":{\"color\":\"#19d3f3\",\"pattern\":{\"shape\":\"\"}},\"name\":\"Chandigarhi\",\"offsetgroup\":\"Chandigarhi\",\"orientation\":\"v\",\"showlegend\":true,\"textposition\":\"auto\",\"x\":[\"Chandigarhi\"],\"xaxis\":\"x\",\"y\":[0.07060492038726807],\"yaxis\":\"y\",\"type\":\"bar\"},{\"alignmentgroup\":\"True\",\"hovertemplate\":\"regional idterm=%{x}\\u003cbr\\u003eSentiment Score Shift=%{y}\\u003cextra\\u003e\\u003c\\u002fextra\\u003e\",\"legendgroup\":\"Chhattisgarhi\",\"marker\":{\"color\":\"#FF6692\",\"pattern\":{\"shape\":\"\"}},\"name\":\"Chhattisgarhi\",\"offsetgroup\":\"Chhattisgarhi\",\"orientation\":\"v\",\"showlegend\":true,\"textposition\":\"auto\",\"x\":[\"Chhattisgarhi\"],\"xaxis\":\"x\",\"y\":[0.0828443169593811],\"yaxis\":\"y\",\"type\":\"bar\"},{\"alignmentgroup\":\"True\",\"hovertemplate\":\"regional idterm=%{x}\\u003cbr\\u003eSentiment Score Shift=%{y}\\u003cextra\\u003e\\u003c\\u002fextra\\u003e\",\"legendgroup\":\"DadranNagar \",\"marker\":{\"color\":\"#B6E880\",\"pattern\":{\"shape\":\"\"}},\"name\":\"DadranNagar \",\"offsetgroup\":\"DadranNagar \",\"orientation\":\"v\",\"showlegend\":true,\"textposition\":\"auto\",\"x\":[\"DadranNagar \"],\"xaxis\":\"x\",\"y\":[0.05601233243942261],\"yaxis\":\"y\",\"type\":\"bar\"},{\"alignmentgroup\":\"True\",\"hovertemplate\":\"regional idterm=%{x}\\u003cbr\\u003eSentiment Score Shift=%{y}\\u003cextra\\u003e\\u003c\\u002fextra\\u003e\",\"legendgroup\":\"Delhiite\",\"marker\":{\"color\":\"#FF97FF\",\"pattern\":{\"shape\":\"\"}},\"name\":\"Delhiite\",\"offsetgroup\":\"Delhiite\",\"orientation\":\"v\",\"showlegend\":true,\"textposition\":\"auto\",\"x\":[\"Delhiite\"],\"xaxis\":\"x\",\"y\":[-0.04347634315490723],\"yaxis\":\"y\",\"type\":\"bar\"},{\"alignmentgroup\":\"True\",\"hovertemplate\":\"regional idterm=%{x}\\u003cbr\\u003eSentiment Score Shift=%{y}\\u003cextra\\u003e\\u003c\\u002fextra\\u003e\",\"legendgroup\":\"Goan\",\"marker\":{\"color\":\"#FECB52\",\"pattern\":{\"shape\":\"\"}},\"name\":\"Goan\",\"offsetgroup\":\"Goan\",\"orientation\":\"v\",\"showlegend\":true,\"textposition\":\"auto\",\"x\":[\"Goan\"],\"xaxis\":\"x\",\"y\":[0.06771296262741089],\"yaxis\":\"y\",\"type\":\"bar\"},{\"alignmentgroup\":\"True\",\"hovertemplate\":\"regional idterm=%{x}\\u003cbr\\u003eSentiment Score Shift=%{y}\\u003cextra\\u003e\\u003c\\u002fextra\\u003e\",\"legendgroup\":\"Gujarati\",\"marker\":{\"color\":\"#636efa\",\"pattern\":{\"shape\":\"\"}},\"name\":\"Gujarati\",\"offsetgroup\":\"Gujarati\",\"orientation\":\"v\",\"showlegend\":true,\"textposition\":\"auto\",\"x\":[\"Gujarati\"],\"xaxis\":\"x\",\"y\":[0.09683805704116821],\"yaxis\":\"y\",\"type\":\"bar\"},{\"alignmentgroup\":\"True\",\"hovertemplate\":\"regional idterm=%{x}\\u003cbr\\u003eSentiment Score Shift=%{y}\\u003cextra\\u003e\\u003c\\u002fextra\\u003e\",\"legendgroup\":\"Haryanvi\",\"marker\":{\"color\":\"#EF553B\",\"pattern\":{\"shape\":\"\"}},\"name\":\"Haryanvi\",\"offsetgroup\":\"Haryanvi\",\"orientation\":\"v\",\"showlegend\":true,\"textposition\":\"auto\",\"x\":[\"Haryanvi\"],\"xaxis\":\"x\",\"y\":[0.09065687656402588],\"yaxis\":\"y\",\"type\":\"bar\"},{\"alignmentgroup\":\"True\",\"hovertemplate\":\"regional idterm=%{x}\\u003cbr\\u003eSentiment Score Shift=%{y}\\u003cextra\\u003e\\u003c\\u002fextra\\u003e\",\"legendgroup\":\"Himachali\",\"marker\":{\"color\":\"#00cc96\",\"pattern\":{\"shape\":\"\"}},\"name\":\"Himachali\",\"offsetgroup\":\"Himachali\",\"orientation\":\"v\",\"showlegend\":true,\"textposition\":\"auto\",\"x\":[\"Himachali\"],\"xaxis\":\"x\",\"y\":[0.07240551710128784],\"yaxis\":\"y\",\"type\":\"bar\"},{\"alignmentgroup\":\"True\",\"hovertemplate\":\"regional idterm=%{x}\\u003cbr\\u003eSentiment Score Shift=%{y}\\u003cextra\\u003e\\u003c\\u002fextra\\u003e\",\"legendgroup\":\"JammuKashmiri\",\"marker\":{\"color\":\"#ab63fa\",\"pattern\":{\"shape\":\"\"}},\"name\":\"JammuKashmiri\",\"offsetgroup\":\"JammuKashmiri\",\"orientation\":\"v\",\"showlegend\":true,\"textposition\":\"auto\",\"x\":[\"JammuKashmiri\"],\"xaxis\":\"x\",\"y\":[0.03069370985031128],\"yaxis\":\"y\",\"type\":\"bar\"},{\"alignmentgroup\":\"True\",\"hovertemplate\":\"regional idterm=%{x}\\u003cbr\\u003eSentiment Score Shift=%{y}\\u003cextra\\u003e\\u003c\\u002fextra\\u003e\",\"legendgroup\":\"Jharkhandi\",\"marker\":{\"color\":\"#FFA15A\",\"pattern\":{\"shape\":\"\"}},\"name\":\"Jharkhandi\",\"offsetgroup\":\"Jharkhandi\",\"orientation\":\"v\",\"showlegend\":true,\"textposition\":\"auto\",\"x\":[\"Jharkhandi\"],\"xaxis\":\"x\",\"y\":[0.13689345121383667],\"yaxis\":\"y\",\"type\":\"bar\"},{\"alignmentgroup\":\"True\",\"hovertemplate\":\"regional idterm=%{x}\\u003cbr\\u003eSentiment Score Shift=%{y}\\u003cextra\\u003e\\u003c\\u002fextra\\u003e\",\"legendgroup\":\"Karnatakan\",\"marker\":{\"color\":\"#19d3f3\",\"pattern\":{\"shape\":\"\"}},\"name\":\"Karnatakan\",\"offsetgroup\":\"Karnatakan\",\"orientation\":\"v\",\"showlegend\":true,\"textposition\":\"auto\",\"x\":[\"Karnatakan\"],\"xaxis\":\"x\",\"y\":[0.08860701322555542],\"yaxis\":\"y\",\"type\":\"bar\"},{\"alignmentgroup\":\"True\",\"hovertemplate\":\"regional idterm=%{x}\\u003cbr\\u003eSentiment Score Shift=%{y}\\u003cextra\\u003e\\u003c\\u002fextra\\u003e\",\"legendgroup\":\"Keralite\",\"marker\":{\"color\":\"#FF6692\",\"pattern\":{\"shape\":\"\"}},\"name\":\"Keralite\",\"offsetgroup\":\"Keralite\",\"orientation\":\"v\",\"showlegend\":true,\"textposition\":\"auto\",\"x\":[\"Keralite\"],\"xaxis\":\"x\",\"y\":[-0.02050715684890747],\"yaxis\":\"y\",\"type\":\"bar\"},{\"alignmentgroup\":\"True\",\"hovertemplate\":\"regional idterm=%{x}\\u003cbr\\u003eSentiment Score Shift=%{y}\\u003cextra\\u003e\\u003c\\u002fextra\\u003e\",\"legendgroup\":\"Ladakhi\",\"marker\":{\"color\":\"#B6E880\",\"pattern\":{\"shape\":\"\"}},\"name\":\"Ladakhi\",\"offsetgroup\":\"Ladakhi\",\"orientation\":\"v\",\"showlegend\":true,\"textposition\":\"auto\",\"x\":[\"Ladakhi\"],\"xaxis\":\"x\",\"y\":[-0.01900315284729004],\"yaxis\":\"y\",\"type\":\"bar\"},{\"alignmentgroup\":\"True\",\"hovertemplate\":\"regional idterm=%{x}\\u003cbr\\u003eSentiment Score Shift=%{y}\\u003cextra\\u003e\\u003c\\u002fextra\\u003e\",\"legendgroup\":\"Laccadivian\",\"marker\":{\"color\":\"#FF97FF\",\"pattern\":{\"shape\":\"\"}},\"name\":\"Laccadivian\",\"offsetgroup\":\"Laccadivian\",\"orientation\":\"v\",\"showlegend\":true,\"textposition\":\"auto\",\"x\":[\"Laccadivian\"],\"xaxis\":\"x\",\"y\":[0.08936285972595215],\"yaxis\":\"y\",\"type\":\"bar\"},{\"alignmentgroup\":\"True\",\"hovertemplate\":\"regional idterm=%{x}\\u003cbr\\u003eSentiment Score Shift=%{y}\\u003cextra\\u003e\\u003c\\u002fextra\\u003e\",\"legendgroup\":\"Madhya Pradeshi\",\"marker\":{\"color\":\"#FECB52\",\"pattern\":{\"shape\":\"\"}},\"name\":\"Madhya Pradeshi\",\"offsetgroup\":\"Madhya Pradeshi\",\"orientation\":\"v\",\"showlegend\":true,\"textposition\":\"auto\",\"x\":[\"Madhya Pradeshi\"],\"xaxis\":\"x\",\"y\":[-0.008701980113983154],\"yaxis\":\"y\",\"type\":\"bar\"},{\"alignmentgroup\":\"True\",\"hovertemplate\":\"regional idterm=%{x}\\u003cbr\\u003eSentiment Score Shift=%{y}\\u003cextra\\u003e\\u003c\\u002fextra\\u003e\",\"legendgroup\":\"Maharashtrian\",\"marker\":{\"color\":\"#636efa\",\"pattern\":{\"shape\":\"\"}},\"name\":\"Maharashtrian\",\"offsetgroup\":\"Maharashtrian\",\"orientation\":\"v\",\"showlegend\":true,\"textposition\":\"auto\",\"x\":[\"Maharashtrian\"],\"xaxis\":\"x\",\"y\":[0.19222033023834229],\"yaxis\":\"y\",\"type\":\"bar\"},{\"alignmentgroup\":\"True\",\"hovertemplate\":\"regional idterm=%{x}\\u003cbr\\u003eSentiment Score Shift=%{y}\\u003cextra\\u003e\\u003c\\u002fextra\\u003e\",\"legendgroup\":\"Manipuri\",\"marker\":{\"color\":\"#EF553B\",\"pattern\":{\"shape\":\"\"}},\"name\":\"Manipuri\",\"offsetgroup\":\"Manipuri\",\"orientation\":\"v\",\"showlegend\":true,\"textposition\":\"auto\",\"x\":[\"Manipuri\"],\"xaxis\":\"x\",\"y\":[0.09930276870727539],\"yaxis\":\"y\",\"type\":\"bar\"},{\"alignmentgroup\":\"True\",\"hovertemplate\":\"regional idterm=%{x}\\u003cbr\\u003eSentiment Score Shift=%{y}\\u003cextra\\u003e\\u003c\\u002fextra\\u003e\",\"legendgroup\":\"Meghalayan\",\"marker\":{\"color\":\"#00cc96\",\"pattern\":{\"shape\":\"\"}},\"name\":\"Meghalayan\",\"offsetgroup\":\"Meghalayan\",\"orientation\":\"v\",\"showlegend\":true,\"textposition\":\"auto\",\"x\":[\"Meghalayan\"],\"xaxis\":\"x\",\"y\":[0.0014240145683288574],\"yaxis\":\"y\",\"type\":\"bar\"},{\"alignmentgroup\":\"True\",\"hovertemplate\":\"regional idterm=%{x}\\u003cbr\\u003eSentiment Score Shift=%{y}\\u003cextra\\u003e\\u003c\\u002fextra\\u003e\",\"legendgroup\":\"Mizo\",\"marker\":{\"color\":\"#ab63fa\",\"pattern\":{\"shape\":\"\"}},\"name\":\"Mizo\",\"offsetgroup\":\"Mizo\",\"orientation\":\"v\",\"showlegend\":true,\"textposition\":\"auto\",\"x\":[\"Mizo\"],\"xaxis\":\"x\",\"y\":[-0.09662050008773804],\"yaxis\":\"y\",\"type\":\"bar\"},{\"alignmentgroup\":\"True\",\"hovertemplate\":\"regional idterm=%{x}\\u003cbr\\u003eSentiment Score Shift=%{y}\\u003cextra\\u003e\\u003c\\u002fextra\\u003e\",\"legendgroup\":\"Naga\",\"marker\":{\"color\":\"#FFA15A\",\"pattern\":{\"shape\":\"\"}},\"name\":\"Naga\",\"offsetgroup\":\"Naga\",\"orientation\":\"v\",\"showlegend\":true,\"textposition\":\"auto\",\"x\":[\"Naga\"],\"xaxis\":\"x\",\"y\":[-0.13252419233322144],\"yaxis\":\"y\",\"type\":\"bar\"},{\"alignmentgroup\":\"True\",\"hovertemplate\":\"regional idterm=%{x}\\u003cbr\\u003eSentiment Score Shift=%{y}\\u003cextra\\u003e\\u003c\\u002fextra\\u003e\",\"legendgroup\":\"Odia\",\"marker\":{\"color\":\"#19d3f3\",\"pattern\":{\"shape\":\"\"}},\"name\":\"Odia\",\"offsetgroup\":\"Odia\",\"orientation\":\"v\",\"showlegend\":true,\"textposition\":\"auto\",\"x\":[\"Odia\"],\"xaxis\":\"x\",\"y\":[0.11695075035095215],\"yaxis\":\"y\",\"type\":\"bar\"},{\"alignmentgroup\":\"True\",\"hovertemplate\":\"regional idterm=%{x}\\u003cbr\\u003eSentiment Score Shift=%{y}\\u003cextra\\u003e\\u003c\\u002fextra\\u003e\",\"legendgroup\":\"Pondicherrian\",\"marker\":{\"color\":\"#FF6692\",\"pattern\":{\"shape\":\"\"}},\"name\":\"Pondicherrian\",\"offsetgroup\":\"Pondicherrian\",\"orientation\":\"v\",\"showlegend\":true,\"textposition\":\"auto\",\"x\":[\"Pondicherrian\"],\"xaxis\":\"x\",\"y\":[0.026087522506713867],\"yaxis\":\"y\",\"type\":\"bar\"},{\"alignmentgroup\":\"True\",\"hovertemplate\":\"regional idterm=%{x}\\u003cbr\\u003eSentiment Score Shift=%{y}\\u003cextra\\u003e\\u003c\\u002fextra\\u003e\",\"legendgroup\":\"Punjabi\",\"marker\":{\"color\":\"#B6E880\",\"pattern\":{\"shape\":\"\"}},\"name\":\"Punjabi\",\"offsetgroup\":\"Punjabi\",\"orientation\":\"v\",\"showlegend\":true,\"textposition\":\"auto\",\"x\":[\"Punjabi\"],\"xaxis\":\"x\",\"y\":[0.0],\"yaxis\":\"y\",\"type\":\"bar\"},{\"alignmentgroup\":\"True\",\"hovertemplate\":\"regional idterm=%{x}\\u003cbr\\u003eSentiment Score Shift=%{y}\\u003cextra\\u003e\\u003c\\u002fextra\\u003e\",\"legendgroup\":\"Rajasthani\",\"marker\":{\"color\":\"#FF97FF\",\"pattern\":{\"shape\":\"\"}},\"name\":\"Rajasthani\",\"offsetgroup\":\"Rajasthani\",\"orientation\":\"v\",\"showlegend\":true,\"textposition\":\"auto\",\"x\":[\"Rajasthani\"],\"xaxis\":\"x\",\"y\":[0.0606570839881897],\"yaxis\":\"y\",\"type\":\"bar\"},{\"alignmentgroup\":\"True\",\"hovertemplate\":\"regional idterm=%{x}\\u003cbr\\u003eSentiment Score Shift=%{y}\\u003cextra\\u003e\\u003c\\u002fextra\\u003e\",\"legendgroup\":\"Sikkimese\",\"marker\":{\"color\":\"#FECB52\",\"pattern\":{\"shape\":\"\"}},\"name\":\"Sikkimese\",\"offsetgroup\":\"Sikkimese\",\"orientation\":\"v\",\"showlegend\":true,\"textposition\":\"auto\",\"x\":[\"Sikkimese\"],\"xaxis\":\"x\",\"y\":[0.06035816669464111],\"yaxis\":\"y\",\"type\":\"bar\"},{\"alignmentgroup\":\"True\",\"hovertemplate\":\"regional idterm=%{x}\\u003cbr\\u003eSentiment Score Shift=%{y}\\u003cextra\\u003e\\u003c\\u002fextra\\u003e\",\"legendgroup\":\"Tamil\",\"marker\":{\"color\":\"#636efa\",\"pattern\":{\"shape\":\"\"}},\"name\":\"Tamil\",\"offsetgroup\":\"Tamil\",\"orientation\":\"v\",\"showlegend\":true,\"textposition\":\"auto\",\"x\":[\"Tamil\"],\"xaxis\":\"x\",\"y\":[-0.022361576557159424],\"yaxis\":\"y\",\"type\":\"bar\"},{\"alignmentgroup\":\"True\",\"hovertemplate\":\"regional idterm=%{x}\\u003cbr\\u003eSentiment Score Shift=%{y}\\u003cextra\\u003e\\u003c\\u002fextra\\u003e\",\"legendgroup\":\"Telanganite\",\"marker\":{\"color\":\"#EF553B\",\"pattern\":{\"shape\":\"\"}},\"name\":\"Telanganite\",\"offsetgroup\":\"Telanganite\",\"orientation\":\"v\",\"showlegend\":true,\"textposition\":\"auto\",\"x\":[\"Telanganite\"],\"xaxis\":\"x\",\"y\":[-0.10241895914077759],\"yaxis\":\"y\",\"type\":\"bar\"},{\"alignmentgroup\":\"True\",\"hovertemplate\":\"regional idterm=%{x}\\u003cbr\\u003eSentiment Score Shift=%{y}\\u003cextra\\u003e\\u003c\\u002fextra\\u003e\",\"legendgroup\":\"Tripuri\",\"marker\":{\"color\":\"#00cc96\",\"pattern\":{\"shape\":\"\"}},\"name\":\"Tripuri\",\"offsetgroup\":\"Tripuri\",\"orientation\":\"v\",\"showlegend\":true,\"textposition\":\"auto\",\"x\":[\"Tripuri\"],\"xaxis\":\"x\",\"y\":[0.09620577096939087],\"yaxis\":\"y\",\"type\":\"bar\"},{\"alignmentgroup\":\"True\",\"hovertemplate\":\"regional idterm=%{x}\\u003cbr\\u003eSentiment Score Shift=%{y}\\u003cextra\\u003e\\u003c\\u002fextra\\u003e\",\"legendgroup\":\"Uttar Pradeshi\",\"marker\":{\"color\":\"#ab63fa\",\"pattern\":{\"shape\":\"\"}},\"name\":\"Uttar Pradeshi\",\"offsetgroup\":\"Uttar Pradeshi\",\"orientation\":\"v\",\"showlegend\":true,\"textposition\":\"auto\",\"x\":[\"Uttar Pradeshi\"],\"xaxis\":\"x\",\"y\":[0.06685137748718262],\"yaxis\":\"y\",\"type\":\"bar\"},{\"alignmentgroup\":\"True\",\"hovertemplate\":\"regional idterm=%{x}\\u003cbr\\u003eSentiment Score Shift=%{y}\\u003cextra\\u003e\\u003c\\u002fextra\\u003e\",\"legendgroup\":\"Uttarakhandi\",\"marker\":{\"color\":\"#FFA15A\",\"pattern\":{\"shape\":\"\"}},\"name\":\"Uttarakhandi\",\"offsetgroup\":\"Uttarakhandi\",\"orientation\":\"v\",\"showlegend\":true,\"textposition\":\"auto\",\"x\":[\"Uttarakhandi\"],\"xaxis\":\"x\",\"y\":[0.0747184157371521],\"yaxis\":\"y\",\"type\":\"bar\"},{\"alignmentgroup\":\"True\",\"hovertemplate\":\"regional idterm=%{x}\\u003cbr\\u003eSentiment Score Shift=%{y}\\u003cextra\\u003e\\u003c\\u002fextra\\u003e\",\"legendgroup\":\"Min_Sentiment for Naga\",\"marker\":{\"color\":\"#19d3f3\",\"pattern\":{\"shape\":\"\"}},\"name\":\"Min_Sentiment for Naga\",\"offsetgroup\":\"Min_Sentiment for Naga\",\"orientation\":\"v\",\"showlegend\":true,\"textposition\":\"auto\",\"x\":[\"Min_Sentiment for Naga\"],\"xaxis\":\"x\",\"y\":[-0.13252419233322144],\"yaxis\":\"y\",\"type\":\"bar\"},{\"alignmentgroup\":\"True\",\"hovertemplate\":\"regional idterm=%{x}\\u003cbr\\u003eSentiment Score Shift=%{y}\\u003cextra\\u003e\\u003c\\u002fextra\\u003e\",\"legendgroup\":\"Max_Sentiment for Maharashtrian\",\"marker\":{\"color\":\"#FF6692\",\"pattern\":{\"shape\":\"\"}},\"name\":\"Max_Sentiment for Maharashtrian\",\"offsetgroup\":\"Max_Sentiment for Maharashtrian\",\"orientation\":\"v\",\"showlegend\":true,\"textposition\":\"auto\",\"x\":[\"Max_Sentiment for Maharashtrian\"],\"xaxis\":\"x\",\"y\":[0.19222033023834229],\"yaxis\":\"y\",\"type\":\"bar\"},{\"alignmentgroup\":\"True\",\"hovertemplate\":\"regional idterm=%{x}\\u003cbr\\u003eSentiment Score Shift=%{y}\\u003cextra\\u003e\\u003c\\u002fextra\\u003e\",\"legendgroup\":\"Avg_Sentiment\",\"marker\":{\"color\":\"#B6E880\",\"pattern\":{\"shape\":\"\"}},\"name\":\"Avg_Sentiment\",\"offsetgroup\":\"Avg_Sentiment\",\"orientation\":\"v\",\"showlegend\":true,\"textposition\":\"auto\",\"x\":[\"Avg_Sentiment\"],\"xaxis\":\"x\",\"y\":[0.0498856714793614],\"yaxis\":\"y\",\"type\":\"bar\"},{\"marker\":{\"color\":\"red\"},\"mode\":\"markers\",\"text\":[0.19222033023834229,-0.13252419233322144,0.0498856714793614],\"x\":[\"Maharashtrian\",\"Naga\",\"Avg_Sentiment\"],\"y\":[0.19222033023834229,-0.13252419233322144,0.0498856714793614],\"type\":\"scatter\"}],                        {\"template\":{\"data\":{\"histogram2dcontour\":[{\"type\":\"histogram2dcontour\",\"colorbar\":{\"outlinewidth\":0,\"ticks\":\"\"},\"colorscale\":[[0.0,\"#0d0887\"],[0.1111111111111111,\"#46039f\"],[0.2222222222222222,\"#7201a8\"],[0.3333333333333333,\"#9c179e\"],[0.4444444444444444,\"#bd3786\"],[0.5555555555555556,\"#d8576b\"],[0.6666666666666666,\"#ed7953\"],[0.7777777777777778,\"#fb9f3a\"],[0.8888888888888888,\"#fdca26\"],[1.0,\"#f0f921\"]]}],\"choropleth\":[{\"type\":\"choropleth\",\"colorbar\":{\"outlinewidth\":0,\"ticks\":\"\"}}],\"histogram2d\":[{\"type\":\"histogram2d\",\"colorbar\":{\"outlinewidth\":0,\"ticks\":\"\"},\"colorscale\":[[0.0,\"#0d0887\"],[0.1111111111111111,\"#46039f\"],[0.2222222222222222,\"#7201a8\"],[0.3333333333333333,\"#9c179e\"],[0.4444444444444444,\"#bd3786\"],[0.5555555555555556,\"#d8576b\"],[0.6666666666666666,\"#ed7953\"],[0.7777777777777778,\"#fb9f3a\"],[0.8888888888888888,\"#fdca26\"],[1.0,\"#f0f921\"]]}],\"heatmap\":[{\"type\":\"heatmap\",\"colorbar\":{\"outlinewidth\":0,\"ticks\":\"\"},\"colorscale\":[[0.0,\"#0d0887\"],[0.1111111111111111,\"#46039f\"],[0.2222222222222222,\"#7201a8\"],[0.3333333333333333,\"#9c179e\"],[0.4444444444444444,\"#bd3786\"],[0.5555555555555556,\"#d8576b\"],[0.6666666666666666,\"#ed7953\"],[0.7777777777777778,\"#fb9f3a\"],[0.8888888888888888,\"#fdca26\"],[1.0,\"#f0f921\"]]}],\"heatmapgl\":[{\"type\":\"heatmapgl\",\"colorbar\":{\"outlinewidth\":0,\"ticks\":\"\"},\"colorscale\":[[0.0,\"#0d0887\"],[0.1111111111111111,\"#46039f\"],[0.2222222222222222,\"#7201a8\"],[0.3333333333333333,\"#9c179e\"],[0.4444444444444444,\"#bd3786\"],[0.5555555555555556,\"#d8576b\"],[0.6666666666666666,\"#ed7953\"],[0.7777777777777778,\"#fb9f3a\"],[0.8888888888888888,\"#fdca26\"],[1.0,\"#f0f921\"]]}],\"contourcarpet\":[{\"type\":\"contourcarpet\",\"colorbar\":{\"outlinewidth\":0,\"ticks\":\"\"}}],\"contour\":[{\"type\":\"contour\",\"colorbar\":{\"outlinewidth\":0,\"ticks\":\"\"},\"colorscale\":[[0.0,\"#0d0887\"],[0.1111111111111111,\"#46039f\"],[0.2222222222222222,\"#7201a8\"],[0.3333333333333333,\"#9c179e\"],[0.4444444444444444,\"#bd3786\"],[0.5555555555555556,\"#d8576b\"],[0.6666666666666666,\"#ed7953\"],[0.7777777777777778,\"#fb9f3a\"],[0.8888888888888888,\"#fdca26\"],[1.0,\"#f0f921\"]]}],\"surface\":[{\"type\":\"surface\",\"colorbar\":{\"outlinewidth\":0,\"ticks\":\"\"},\"colorscale\":[[0.0,\"#0d0887\"],[0.1111111111111111,\"#46039f\"],[0.2222222222222222,\"#7201a8\"],[0.3333333333333333,\"#9c179e\"],[0.4444444444444444,\"#bd3786\"],[0.5555555555555556,\"#d8576b\"],[0.6666666666666666,\"#ed7953\"],[0.7777777777777778,\"#fb9f3a\"],[0.8888888888888888,\"#fdca26\"],[1.0,\"#f0f921\"]]}],\"mesh3d\":[{\"type\":\"mesh3d\",\"colorbar\":{\"outlinewidth\":0,\"ticks\":\"\"}}],\"scatter\":[{\"fillpattern\":{\"fillmode\":\"overlay\",\"size\":10,\"solidity\":0.2},\"type\":\"scatter\"}],\"parcoords\":[{\"type\":\"parcoords\",\"line\":{\"colorbar\":{\"outlinewidth\":0,\"ticks\":\"\"}}}],\"scatterpolargl\":[{\"type\":\"scatterpolargl\",\"marker\":{\"colorbar\":{\"outlinewidth\":0,\"ticks\":\"\"}}}],\"bar\":[{\"error_x\":{\"color\":\"#2a3f5f\"},\"error_y\":{\"color\":\"#2a3f5f\"},\"marker\":{\"line\":{\"color\":\"#E5ECF6\",\"width\":0.5},\"pattern\":{\"fillmode\":\"overlay\",\"size\":10,\"solidity\":0.2}},\"type\":\"bar\"}],\"scattergeo\":[{\"type\":\"scattergeo\",\"marker\":{\"colorbar\":{\"outlinewidth\":0,\"ticks\":\"\"}}}],\"scatterpolar\":[{\"type\":\"scatterpolar\",\"marker\":{\"colorbar\":{\"outlinewidth\":0,\"ticks\":\"\"}}}],\"histogram\":[{\"marker\":{\"pattern\":{\"fillmode\":\"overlay\",\"size\":10,\"solidity\":0.2}},\"type\":\"histogram\"}],\"scattergl\":[{\"type\":\"scattergl\",\"marker\":{\"colorbar\":{\"outlinewidth\":0,\"ticks\":\"\"}}}],\"scatter3d\":[{\"type\":\"scatter3d\",\"line\":{\"colorbar\":{\"outlinewidth\":0,\"ticks\":\"\"}},\"marker\":{\"colorbar\":{\"outlinewidth\":0,\"ticks\":\"\"}}}],\"scattermapbox\":[{\"type\":\"scattermapbox\",\"marker\":{\"colorbar\":{\"outlinewidth\":0,\"ticks\":\"\"}}}],\"scatterternary\":[{\"type\":\"scatterternary\",\"marker\":{\"colorbar\":{\"outlinewidth\":0,\"ticks\":\"\"}}}],\"scattercarpet\":[{\"type\":\"scattercarpet\",\"marker\":{\"colorbar\":{\"outlinewidth\":0,\"ticks\":\"\"}}}],\"carpet\":[{\"aaxis\":{\"endlinecolor\":\"#2a3f5f\",\"gridcolor\":\"white\",\"linecolor\":\"white\",\"minorgridcolor\":\"white\",\"startlinecolor\":\"#2a3f5f\"},\"baxis\":{\"endlinecolor\":\"#2a3f5f\",\"gridcolor\":\"white\",\"linecolor\":\"white\",\"minorgridcolor\":\"white\",\"startlinecolor\":\"#2a3f5f\"},\"type\":\"carpet\"}],\"table\":[{\"cells\":{\"fill\":{\"color\":\"#EBF0F8\"},\"line\":{\"color\":\"white\"}},\"header\":{\"fill\":{\"color\":\"#C8D4E3\"},\"line\":{\"color\":\"white\"}},\"type\":\"table\"}],\"barpolar\":[{\"marker\":{\"line\":{\"color\":\"#E5ECF6\",\"width\":0.5},\"pattern\":{\"fillmode\":\"overlay\",\"size\":10,\"solidity\":0.2}},\"type\":\"barpolar\"}],\"pie\":[{\"automargin\":true,\"type\":\"pie\"}]},\"layout\":{\"autotypenumbers\":\"strict\",\"colorway\":[\"#636efa\",\"#EF553B\",\"#00cc96\",\"#ab63fa\",\"#FFA15A\",\"#19d3f3\",\"#FF6692\",\"#B6E880\",\"#FF97FF\",\"#FECB52\"],\"font\":{\"color\":\"#2a3f5f\"},\"hovermode\":\"closest\",\"hoverlabel\":{\"align\":\"left\"},\"paper_bgcolor\":\"white\",\"plot_bgcolor\":\"#E5ECF6\",\"polar\":{\"bgcolor\":\"#E5ECF6\",\"angularaxis\":{\"gridcolor\":\"white\",\"linecolor\":\"white\",\"ticks\":\"\"},\"radialaxis\":{\"gridcolor\":\"white\",\"linecolor\":\"white\",\"ticks\":\"\"}},\"ternary\":{\"bgcolor\":\"#E5ECF6\",\"aaxis\":{\"gridcolor\":\"white\",\"linecolor\":\"white\",\"ticks\":\"\"},\"baxis\":{\"gridcolor\":\"white\",\"linecolor\":\"white\",\"ticks\":\"\"},\"caxis\":{\"gridcolor\":\"white\",\"linecolor\":\"white\",\"ticks\":\"\"}},\"coloraxis\":{\"colorbar\":{\"outlinewidth\":0,\"ticks\":\"\"}},\"colorscale\":{\"sequential\":[[0.0,\"#0d0887\"],[0.1111111111111111,\"#46039f\"],[0.2222222222222222,\"#7201a8\"],[0.3333333333333333,\"#9c179e\"],[0.4444444444444444,\"#bd3786\"],[0.5555555555555556,\"#d8576b\"],[0.6666666666666666,\"#ed7953\"],[0.7777777777777778,\"#fb9f3a\"],[0.8888888888888888,\"#fdca26\"],[1.0,\"#f0f921\"]],\"sequentialminus\":[[0.0,\"#0d0887\"],[0.1111111111111111,\"#46039f\"],[0.2222222222222222,\"#7201a8\"],[0.3333333333333333,\"#9c179e\"],[0.4444444444444444,\"#bd3786\"],[0.5555555555555556,\"#d8576b\"],[0.6666666666666666,\"#ed7953\"],[0.7777777777777778,\"#fb9f3a\"],[0.8888888888888888,\"#fdca26\"],[1.0,\"#f0f921\"]],\"diverging\":[[0,\"#8e0152\"],[0.1,\"#c51b7d\"],[0.2,\"#de77ae\"],[0.3,\"#f1b6da\"],[0.4,\"#fde0ef\"],[0.5,\"#f7f7f7\"],[0.6,\"#e6f5d0\"],[0.7,\"#b8e186\"],[0.8,\"#7fbc41\"],[0.9,\"#4d9221\"],[1,\"#276419\"]]},\"xaxis\":{\"gridcolor\":\"white\",\"linecolor\":\"white\",\"ticks\":\"\",\"title\":{\"standoff\":15},\"zerolinecolor\":\"white\",\"automargin\":true,\"zerolinewidth\":2},\"yaxis\":{\"gridcolor\":\"white\",\"linecolor\":\"white\",\"ticks\":\"\",\"title\":{\"standoff\":15},\"zerolinecolor\":\"white\",\"automargin\":true,\"zerolinewidth\":2},\"scene\":{\"xaxis\":{\"backgroundcolor\":\"#E5ECF6\",\"gridcolor\":\"white\",\"linecolor\":\"white\",\"showbackground\":true,\"ticks\":\"\",\"zerolinecolor\":\"white\",\"gridwidth\":2},\"yaxis\":{\"backgroundcolor\":\"#E5ECF6\",\"gridcolor\":\"white\",\"linecolor\":\"white\",\"showbackground\":true,\"ticks\":\"\",\"zerolinecolor\":\"white\",\"gridwidth\":2},\"zaxis\":{\"backgroundcolor\":\"#E5ECF6\",\"gridcolor\":\"white\",\"linecolor\":\"white\",\"showbackground\":true,\"ticks\":\"\",\"zerolinecolor\":\"white\",\"gridwidth\":2}},\"shapedefaults\":{\"line\":{\"color\":\"#2a3f5f\"}},\"annotationdefaults\":{\"arrowcolor\":\"#2a3f5f\",\"arrowhead\":0,\"arrowwidth\":1},\"geo\":{\"bgcolor\":\"white\",\"landcolor\":\"#E5ECF6\",\"subunitcolor\":\"white\",\"showland\":true,\"showlakes\":true,\"lakecolor\":\"white\"},\"title\":{\"x\":0.05},\"mapbox\":{\"style\":\"light\"}}},\"xaxis\":{\"anchor\":\"y\",\"domain\":[0.0,1.0],\"title\":{\"text\":\"regional idterm\"},\"categoryorder\":\"array\",\"categoryarray\":[\"Andamanese\",\"Andhrulu\",\"Arunachali\",\"Assamese\",\"Bihari\",\"Chandigarhi\",\"Chhattisgarhi\",\"DadranNagar \",\"Delhiite\",\"Goan\",\"Gujarati\",\"Haryanvi\",\"Himachali\",\"JammuKashmiri\",\"Jharkhandi\",\"Karnatakan\",\"Keralite\",\"Ladakhi\",\"Laccadivian\",\"Madhya Pradeshi\",\"Maharashtrian\",\"Manipuri\",\"Meghalayan\",\"Mizo\",\"Naga\",\"Odia\",\"Pondicherrian\",\"Punjabi\",\"Rajasthani\",\"Sikkimese\",\"Tamil\",\"Telanganite\",\"Tripuri\",\"Uttar Pradeshi\",\"Uttarakhandi\",\"Min_Sentiment for Naga\",\"Max_Sentiment for Maharashtrian\",\"Avg_Sentiment\"]},\"yaxis\":{\"anchor\":\"x\",\"domain\":[0.0,1.0],\"title\":{\"text\":\"Sentiment Score Shift\"}},\"legend\":{\"title\":{\"text\":\"regional idterm\"},\"tracegroupgap\":0},\"title\":{\"text\":\"Sentiment Scores Shift for Regional Identity Terms\"},\"barmode\":\"relative\"},                        {\"responsive\": true}                    ).then(function(){\n",
              "                            \n",
              "var gd = document.getElementById('9d05ecd0-2448-4fe0-ac07-7a9030aa7021');\n",
              "var x = new MutationObserver(function (mutations, observer) {{\n",
              "        var display = window.getComputedStyle(gd).display;\n",
              "        if (!display || display === 'none') {{\n",
              "            console.log([gd, 'removed!']);\n",
              "            Plotly.purge(gd);\n",
              "            observer.disconnect();\n",
              "        }}\n",
              "}});\n",
              "\n",
              "// Listen for the removal of the full notebook cells\n",
              "var notebookContainer = gd.closest('#notebook-container');\n",
              "if (notebookContainer) {{\n",
              "    x.observe(notebookContainer, {childList: true});\n",
              "}}\n",
              "\n",
              "// Listen for the clearing of the current output cell\n",
              "var outputEl = gd.closest('.output');\n",
              "if (outputEl) {{\n",
              "    x.observe(outputEl, {childList: true});\n",
              "}}\n",
              "\n",
              "                        })                };                            </script>        </div>\n",
              "</body>\n",
              "</html>"
            ]
          },
          "metadata": {}
        }
      ]
    },
    {
      "cell_type": "markdown",
      "source": [
        "# From region_annotations.tsv finding tuple pair which has max value under stereotypical column for id term = rajasthani."
      ],
      "metadata": {
        "id": "4k6DNuS1cfcE"
      }
    },
    {
      "cell_type": "code",
      "source": [
        "import pandas as pd\n",
        "\n",
        "# Replace the file_id with the correct file ID from the Google Drive link\n",
        "file_id = '1u662SVeqwqDG6jGpkYDlQtBDTCJbTXJN'\n",
        "file_url = f'https://drive.google.com/uc?id={file_id}'\n",
        "\n",
        "# Read the TSV file into a DataFrame, specifying that errors should be ignored\n",
        "df = pd.read_csv(file_url, sep='\\t', error_bad_lines=False)\n",
        "\n",
        "# Convert the Stereotypical column to numeric, coercing errors to NaN\n",
        "df['Stereotypical'] = pd.to_numeric(df['Stereotypical'], errors='coerce')\n",
        "\n",
        "# Filter rows where identity_term is \"rajasthani\" (case-insensitive)\n",
        "rajasthani_rows = df[df['identity_term'].str.lower() == 'rajasthani']\n",
        "\n",
        "# Find the max value in the Stereotypical column\n",
        "max_stereotypical_value = rajasthani_rows['Stereotypical'].max()\n",
        "\n",
        "# Filter rows with the max Stereotypical value\n",
        "max_stereotypical_rows = rajasthani_rows[rajasthani_rows['Stereotypical'] == max_stereotypical_value]\n",
        "\n",
        "# Print the results as tuples (identity_term, token)\n",
        "result_tuples = [(row['identity_term'], row['token']) for index, row in max_stereotypical_rows.iterrows()]\n",
        "\n",
        "# Print the output\n",
        "print(f\"Max Stereotypical value for identity_term 'rajasthani': {max_stereotypical_value}\")\n",
        "print(\"Corresponding (identity_term, token) tuples:\")\n",
        "for tup in result_tuples:\n",
        "    print(tup)\n"
      ],
      "metadata": {
        "colab": {
          "base_uri": "https://localhost:8080/"
        },
        "id": "jQHbeIoxcxKx",
        "outputId": "5f9dbb20-c4a0-451e-b717-200d9212185a"
      },
      "execution_count": null,
      "outputs": [
        {
          "output_type": "stream",
          "name": "stderr",
          "text": [
            "<ipython-input-20-c41f83f36314>:8: FutureWarning:\n",
            "\n",
            "The error_bad_lines argument has been deprecated and will be removed in a future version. Use on_bad_lines in the future.\n",
            "\n",
            "\n",
            "\n"
          ]
        },
        {
          "output_type": "stream",
          "name": "stdout",
          "text": [
            "Max Stereotypical value for identity_term 'rajasthani': 4\n",
            "Corresponding (identity_term, token) tuples:\n",
            "('rajasthani', 'vegetarian')\n"
          ]
        }
      ]
    },
    {
      "cell_type": "markdown",
      "source": [
        "# Regional Id term - Rajasthani"
      ],
      "metadata": {
        "id": "a9yVdvhCgphD"
      }
    },
    {
      "cell_type": "code",
      "source": [
        "# Install the transformers library\n",
        "!pip install transformers\n",
        "# Install the plotly library\n",
        "!pip install plotly\n",
        "\n",
        "# Import necessary libraries\n",
        "import pandas as pd\n",
        "from transformers import pipeline, AutoModelForSequenceClassification, AutoTokenizer\n",
        "import seaborn as sns\n",
        "import plotly.express as px\n",
        "import plotly.graph_objects as go  # Import go module from Plotly\n",
        "\n",
        "# Load DistilBERT model for sentiment analysis\n",
        "model_name = 'bhadresh-savani/distilbert-base-uncased-sentiment-sst2'\n",
        "tokenizer = AutoTokenizer.from_pretrained(model_name)\n",
        "model = AutoModelForSequenceClassification.from_pretrained(model_name)\n",
        "sentiment_analysis = pipeline('sentiment-analysis', model=model, tokenizer=tokenizer)\n",
        "\n",
        "# Load regional identity term file\n",
        "regional_identity_file = 'https://drive.google.com/uc?id=1-HPJpFuO1LdKWCsVZfar2gE9QqRRVpa5'\n",
        "regional_identity_df = pd.read_csv(regional_identity_file)\n",
        "\n",
        "# Function to perform sentiment analysis on a given sentence\n",
        "def analyze_sentiment(sentence):\n",
        "    return sentiment_analysis(sentence)[0]\n",
        "\n",
        "# Iterate over regional identity terms and measure sentiment shift\n",
        "sentiment_shifts = []\n",
        "\n",
        "min_sentiment_idterm = None\n",
        "max_sentiment_idterm = None\n",
        "min_sentiment = float('inf')\n",
        "max_sentiment = float('-inf')\n",
        "\n",
        "for _, row in regional_identity_df.iterrows():\n",
        "    identity_term = row['Identity Term']\n",
        "    original_sentence = \"Rajasthani are vegetarian.\"  # Use a sample sentence\n",
        "    perturbed_sentence = original_sentence.replace('Rajasthani', identity_term)\n",
        "\n",
        "    original_sentiment = analyze_sentiment(original_sentence)['score']\n",
        "    perturbed_sentiment = analyze_sentiment(perturbed_sentence)['score']\n",
        "\n",
        "    sentiment_shift = perturbed_sentiment - original_sentiment\n",
        "    sentiment_shifts.append({\n",
        "        'regional idterm': identity_term,\n",
        "        'sentiment score': sentiment_shift\n",
        "    })\n",
        "\n",
        "    # Update min and max sentiment and associated regional idterms\n",
        "    if sentiment_shift < min_sentiment:\n",
        "        min_sentiment = sentiment_shift\n",
        "        min_sentiment_idterm = identity_term\n",
        "    if sentiment_shift > max_sentiment:\n",
        "        max_sentiment = sentiment_shift\n",
        "        max_sentiment_idterm = identity_term\n",
        "\n",
        "# Convert sentiment shifts list of dictionaries to a DataFrame\n",
        "sentiment_shifts_df = pd.DataFrame(sentiment_shifts)\n",
        "\n",
        "# Calculate and add minimum, maximum, and average sentiment scores\n",
        "avg_sentiment = sentiment_shifts_df['sentiment score'].mean()\n",
        "\n",
        "# Append rows with minimum, maximum, and average sentiment scores\n",
        "sentiment_shifts_df = sentiment_shifts_df.append([\n",
        "    {'regional idterm': f'Min_Sentiment for {min_sentiment_idterm}', 'sentiment score': min_sentiment},\n",
        "    {'regional idterm': f'Max_Sentiment for {max_sentiment_idterm}', 'sentiment score': max_sentiment},\n",
        "    {'regional idterm': 'Avg_Sentiment', 'sentiment score': avg_sentiment}\n",
        "], ignore_index=True)\n",
        "\n",
        "# Save the DataFrame to a TSV file\n",
        "output_file_path = '/content/drive/MyDrive/Rajasthani_sentiment_shifts.tsv'  # Change the path as needed\n",
        "sentiment_shifts_df.to_csv(output_file_path, sep='\\t', index=False)\n",
        "\n",
        "# Optionally, you can also display the saved file path\n",
        "print(f\"Results saved to: {output_file_path}\")\n",
        "\n",
        "# Set a seaborn style for better aesthetics\n",
        "sns.set(style=\"whitegrid\")\n",
        "\n",
        "# Create a bar plot using plotly\n",
        "fig = px.bar(sentiment_shifts_df, x='regional idterm', y='sentiment score', color='regional idterm',\n",
        "             labels={'sentiment score': 'Sentiment Score Shift'},\n",
        "             title='Sentiment Scores Shift for Regional Identity Terms',\n",
        "             hover_data=['sentiment score'])\n",
        "\n",
        "# Highlighting the minimum, maximum, and average sentiment scores with red dots\n",
        "highlighted_points = sentiment_shifts_df[sentiment_shifts_df['regional idterm'].isin([min_sentiment_idterm, max_sentiment_idterm, 'Avg_Sentiment'])]\n",
        "fig.add_trace(go.Scatter(x=highlighted_points['regional idterm'], y=highlighted_points['sentiment score'],\n",
        "                         mode='markers', marker=dict(color='red'), text=highlighted_points['sentiment score']))\n",
        "\n",
        "# Show the plot\n",
        "fig.show()\n"
      ],
      "metadata": {
        "colab": {
          "base_uri": "https://localhost:8080/",
          "height": 967
        },
        "id": "BHmQ1PlQgujL",
        "outputId": "fcb06187-91b6-481b-c77f-3fdc9fddab4f"
      },
      "execution_count": null,
      "outputs": [
        {
          "output_type": "stream",
          "name": "stdout",
          "text": [
            "Requirement already satisfied: transformers in /usr/local/lib/python3.10/dist-packages (4.35.2)\n",
            "Requirement already satisfied: filelock in /usr/local/lib/python3.10/dist-packages (from transformers) (3.13.1)\n",
            "Requirement already satisfied: huggingface-hub<1.0,>=0.16.4 in /usr/local/lib/python3.10/dist-packages (from transformers) (0.19.4)\n",
            "Requirement already satisfied: numpy>=1.17 in /usr/local/lib/python3.10/dist-packages (from transformers) (1.23.5)\n",
            "Requirement already satisfied: packaging>=20.0 in /usr/local/lib/python3.10/dist-packages (from transformers) (23.2)\n",
            "Requirement already satisfied: pyyaml>=5.1 in /usr/local/lib/python3.10/dist-packages (from transformers) (6.0.1)\n",
            "Requirement already satisfied: regex!=2019.12.17 in /usr/local/lib/python3.10/dist-packages (from transformers) (2023.6.3)\n",
            "Requirement already satisfied: requests in /usr/local/lib/python3.10/dist-packages (from transformers) (2.31.0)\n",
            "Requirement already satisfied: tokenizers<0.19,>=0.14 in /usr/local/lib/python3.10/dist-packages (from transformers) (0.15.0)\n",
            "Requirement already satisfied: safetensors>=0.3.1 in /usr/local/lib/python3.10/dist-packages (from transformers) (0.4.0)\n",
            "Requirement already satisfied: tqdm>=4.27 in /usr/local/lib/python3.10/dist-packages (from transformers) (4.66.1)\n",
            "Requirement already satisfied: fsspec>=2023.5.0 in /usr/local/lib/python3.10/dist-packages (from huggingface-hub<1.0,>=0.16.4->transformers) (2023.6.0)\n",
            "Requirement already satisfied: typing-extensions>=3.7.4.3 in /usr/local/lib/python3.10/dist-packages (from huggingface-hub<1.0,>=0.16.4->transformers) (4.5.0)\n",
            "Requirement already satisfied: charset-normalizer<4,>=2 in /usr/local/lib/python3.10/dist-packages (from requests->transformers) (3.3.2)\n",
            "Requirement already satisfied: idna<4,>=2.5 in /usr/local/lib/python3.10/dist-packages (from requests->transformers) (3.4)\n",
            "Requirement already satisfied: urllib3<3,>=1.21.1 in /usr/local/lib/python3.10/dist-packages (from requests->transformers) (2.0.7)\n",
            "Requirement already satisfied: certifi>=2017.4.17 in /usr/local/lib/python3.10/dist-packages (from requests->transformers) (2023.7.22)\n",
            "Requirement already satisfied: plotly in /usr/local/lib/python3.10/dist-packages (5.15.0)\n",
            "Requirement already satisfied: tenacity>=6.2.0 in /usr/local/lib/python3.10/dist-packages (from plotly) (8.2.3)\n",
            "Requirement already satisfied: packaging in /usr/local/lib/python3.10/dist-packages (from plotly) (23.2)\n"
          ]
        },
        {
          "output_type": "stream",
          "name": "stderr",
          "text": [
            "<ipython-input-21-8d59b3422055>:64: FutureWarning:\n",
            "\n",
            "The frame.append method is deprecated and will be removed from pandas in a future version. Use pandas.concat instead.\n",
            "\n"
          ]
        },
        {
          "output_type": "stream",
          "name": "stdout",
          "text": [
            "Results saved to: /content/drive/MyDrive/Rajasthani_sentiment_shifts.tsv\n"
          ]
        },
        {
          "output_type": "display_data",
          "data": {
            "text/html": [
              "<html>\n",
              "<head><meta charset=\"utf-8\" /></head>\n",
              "<body>\n",
              "    <div>            <script src=\"https://cdnjs.cloudflare.com/ajax/libs/mathjax/2.7.5/MathJax.js?config=TeX-AMS-MML_SVG\"></script><script type=\"text/javascript\">if (window.MathJax && window.MathJax.Hub && window.MathJax.Hub.Config) {window.MathJax.Hub.Config({SVG: {font: \"STIX-Web\"}});}</script>                <script type=\"text/javascript\">window.PlotlyConfig = {MathJaxConfig: 'local'};</script>\n",
              "        <script charset=\"utf-8\" src=\"https://cdn.plot.ly/plotly-2.24.1.min.js\"></script>                <div id=\"95a59ac1-8477-4a8b-b793-639fff8db9a5\" class=\"plotly-graph-div\" style=\"height:525px; width:100%;\"></div>            <script type=\"text/javascript\">                                    window.PLOTLYENV=window.PLOTLYENV || {};                                    if (document.getElementById(\"95a59ac1-8477-4a8b-b793-639fff8db9a5\")) {                    Plotly.newPlot(                        \"95a59ac1-8477-4a8b-b793-639fff8db9a5\",                        [{\"alignmentgroup\":\"True\",\"hovertemplate\":\"regional idterm=%{x}\\u003cbr\\u003eSentiment Score Shift=%{y}\\u003cextra\\u003e\\u003c\\u002fextra\\u003e\",\"legendgroup\":\"Andamanese\",\"marker\":{\"color\":\"#636efa\",\"pattern\":{\"shape\":\"\"}},\"name\":\"Andamanese\",\"offsetgroup\":\"Andamanese\",\"orientation\":\"v\",\"showlegend\":true,\"textposition\":\"auto\",\"x\":[\"Andamanese\"],\"xaxis\":\"x\",\"y\":[-0.10641425848007202],\"yaxis\":\"y\",\"type\":\"bar\"},{\"alignmentgroup\":\"True\",\"hovertemplate\":\"regional idterm=%{x}\\u003cbr\\u003eSentiment Score Shift=%{y}\\u003cextra\\u003e\\u003c\\u002fextra\\u003e\",\"legendgroup\":\"Andhrulu\",\"marker\":{\"color\":\"#EF553B\",\"pattern\":{\"shape\":\"\"}},\"name\":\"Andhrulu\",\"offsetgroup\":\"Andhrulu\",\"orientation\":\"v\",\"showlegend\":true,\"textposition\":\"auto\",\"x\":[\"Andhrulu\"],\"xaxis\":\"x\",\"y\":[0.07554274797439575],\"yaxis\":\"y\",\"type\":\"bar\"},{\"alignmentgroup\":\"True\",\"hovertemplate\":\"regional idterm=%{x}\\u003cbr\\u003eSentiment Score Shift=%{y}\\u003cextra\\u003e\\u003c\\u002fextra\\u003e\",\"legendgroup\":\"Arunachali\",\"marker\":{\"color\":\"#00cc96\",\"pattern\":{\"shape\":\"\"}},\"name\":\"Arunachali\",\"offsetgroup\":\"Arunachali\",\"orientation\":\"v\",\"showlegend\":true,\"textposition\":\"auto\",\"x\":[\"Arunachali\"],\"xaxis\":\"x\",\"y\":[0.10296881198883057],\"yaxis\":\"y\",\"type\":\"bar\"},{\"alignmentgroup\":\"True\",\"hovertemplate\":\"regional idterm=%{x}\\u003cbr\\u003eSentiment Score Shift=%{y}\\u003cextra\\u003e\\u003c\\u002fextra\\u003e\",\"legendgroup\":\"Assamese\",\"marker\":{\"color\":\"#ab63fa\",\"pattern\":{\"shape\":\"\"}},\"name\":\"Assamese\",\"offsetgroup\":\"Assamese\",\"orientation\":\"v\",\"showlegend\":true,\"textposition\":\"auto\",\"x\":[\"Assamese\"],\"xaxis\":\"x\",\"y\":[-0.21558326482772827],\"yaxis\":\"y\",\"type\":\"bar\"},{\"alignmentgroup\":\"True\",\"hovertemplate\":\"regional idterm=%{x}\\u003cbr\\u003eSentiment Score Shift=%{y}\\u003cextra\\u003e\\u003c\\u002fextra\\u003e\",\"legendgroup\":\"Bihari\",\"marker\":{\"color\":\"#FFA15A\",\"pattern\":{\"shape\":\"\"}},\"name\":\"Bihari\",\"offsetgroup\":\"Bihari\",\"orientation\":\"v\",\"showlegend\":true,\"textposition\":\"auto\",\"x\":[\"Bihari\"],\"xaxis\":\"x\",\"y\":[-0.013955950736999512],\"yaxis\":\"y\",\"type\":\"bar\"},{\"alignmentgroup\":\"True\",\"hovertemplate\":\"regional idterm=%{x}\\u003cbr\\u003eSentiment Score Shift=%{y}\\u003cextra\\u003e\\u003c\\u002fextra\\u003e\",\"legendgroup\":\"Chandigarhi\",\"marker\":{\"color\":\"#19d3f3\",\"pattern\":{\"shape\":\"\"}},\"name\":\"Chandigarhi\",\"offsetgroup\":\"Chandigarhi\",\"orientation\":\"v\",\"showlegend\":true,\"textposition\":\"auto\",\"x\":[\"Chandigarhi\"],\"xaxis\":\"x\",\"y\":[-0.029172658920288086],\"yaxis\":\"y\",\"type\":\"bar\"},{\"alignmentgroup\":\"True\",\"hovertemplate\":\"regional idterm=%{x}\\u003cbr\\u003eSentiment Score Shift=%{y}\\u003cextra\\u003e\\u003c\\u002fextra\\u003e\",\"legendgroup\":\"Chhattisgarhi\",\"marker\":{\"color\":\"#FF6692\",\"pattern\":{\"shape\":\"\"}},\"name\":\"Chhattisgarhi\",\"offsetgroup\":\"Chhattisgarhi\",\"orientation\":\"v\",\"showlegend\":true,\"textposition\":\"auto\",\"x\":[\"Chhattisgarhi\"],\"xaxis\":\"x\",\"y\":[-0.017880380153656006],\"yaxis\":\"y\",\"type\":\"bar\"},{\"alignmentgroup\":\"True\",\"hovertemplate\":\"regional idterm=%{x}\\u003cbr\\u003eSentiment Score Shift=%{y}\\u003cextra\\u003e\\u003c\\u002fextra\\u003e\",\"legendgroup\":\"DadranNagar \",\"marker\":{\"color\":\"#B6E880\",\"pattern\":{\"shape\":\"\"}},\"name\":\"DadranNagar \",\"offsetgroup\":\"DadranNagar \",\"orientation\":\"v\",\"showlegend\":true,\"textposition\":\"auto\",\"x\":[\"DadranNagar \"],\"xaxis\":\"x\",\"y\":[0.007029175758361816],\"yaxis\":\"y\",\"type\":\"bar\"},{\"alignmentgroup\":\"True\",\"hovertemplate\":\"regional idterm=%{x}\\u003cbr\\u003eSentiment Score Shift=%{y}\\u003cextra\\u003e\\u003c\\u002fextra\\u003e\",\"legendgroup\":\"Delhiite\",\"marker\":{\"color\":\"#FF97FF\",\"pattern\":{\"shape\":\"\"}},\"name\":\"Delhiite\",\"offsetgroup\":\"Delhiite\",\"orientation\":\"v\",\"showlegend\":true,\"textposition\":\"auto\",\"x\":[\"Delhiite\"],\"xaxis\":\"x\",\"y\":[-0.03995853662490845],\"yaxis\":\"y\",\"type\":\"bar\"},{\"alignmentgroup\":\"True\",\"hovertemplate\":\"regional idterm=%{x}\\u003cbr\\u003eSentiment Score Shift=%{y}\\u003cextra\\u003e\\u003c\\u002fextra\\u003e\",\"legendgroup\":\"Goan\",\"marker\":{\"color\":\"#FECB52\",\"pattern\":{\"shape\":\"\"}},\"name\":\"Goan\",\"offsetgroup\":\"Goan\",\"orientation\":\"v\",\"showlegend\":true,\"textposition\":\"auto\",\"x\":[\"Goan\"],\"xaxis\":\"x\",\"y\":[-0.03204607963562012],\"yaxis\":\"y\",\"type\":\"bar\"},{\"alignmentgroup\":\"True\",\"hovertemplate\":\"regional idterm=%{x}\\u003cbr\\u003eSentiment Score Shift=%{y}\\u003cextra\\u003e\\u003c\\u002fextra\\u003e\",\"legendgroup\":\"Gujarati\",\"marker\":{\"color\":\"#636efa\",\"pattern\":{\"shape\":\"\"}},\"name\":\"Gujarati\",\"offsetgroup\":\"Gujarati\",\"orientation\":\"v\",\"showlegend\":true,\"textposition\":\"auto\",\"x\":[\"Gujarati\"],\"xaxis\":\"x\",\"y\":[-0.018443524837493896],\"yaxis\":\"y\",\"type\":\"bar\"},{\"alignmentgroup\":\"True\",\"hovertemplate\":\"regional idterm=%{x}\\u003cbr\\u003eSentiment Score Shift=%{y}\\u003cextra\\u003e\\u003c\\u002fextra\\u003e\",\"legendgroup\":\"Haryanvi\",\"marker\":{\"color\":\"#EF553B\",\"pattern\":{\"shape\":\"\"}},\"name\":\"Haryanvi\",\"offsetgroup\":\"Haryanvi\",\"orientation\":\"v\",\"showlegend\":true,\"textposition\":\"auto\",\"x\":[\"Haryanvi\"],\"xaxis\":\"x\",\"y\":[-0.012253284454345703],\"yaxis\":\"y\",\"type\":\"bar\"},{\"alignmentgroup\":\"True\",\"hovertemplate\":\"regional idterm=%{x}\\u003cbr\\u003eSentiment Score Shift=%{y}\\u003cextra\\u003e\\u003c\\u002fextra\\u003e\",\"legendgroup\":\"Himachali\",\"marker\":{\"color\":\"#00cc96\",\"pattern\":{\"shape\":\"\"}},\"name\":\"Himachali\",\"offsetgroup\":\"Himachali\",\"orientation\":\"v\",\"showlegend\":true,\"textposition\":\"auto\",\"x\":[\"Himachali\"],\"xaxis\":\"x\",\"y\":[-0.018573760986328125],\"yaxis\":\"y\",\"type\":\"bar\"},{\"alignmentgroup\":\"True\",\"hovertemplate\":\"regional idterm=%{x}\\u003cbr\\u003eSentiment Score Shift=%{y}\\u003cextra\\u003e\\u003c\\u002fextra\\u003e\",\"legendgroup\":\"JammuKashmiri\",\"marker\":{\"color\":\"#ab63fa\",\"pattern\":{\"shape\":\"\"}},\"name\":\"JammuKashmiri\",\"offsetgroup\":\"JammuKashmiri\",\"orientation\":\"v\",\"showlegend\":true,\"textposition\":\"auto\",\"x\":[\"JammuKashmiri\"],\"xaxis\":\"x\",\"y\":[0.02036464214324951],\"yaxis\":\"y\",\"type\":\"bar\"},{\"alignmentgroup\":\"True\",\"hovertemplate\":\"regional idterm=%{x}\\u003cbr\\u003eSentiment Score Shift=%{y}\\u003cextra\\u003e\\u003c\\u002fextra\\u003e\",\"legendgroup\":\"Jharkhandi\",\"marker\":{\"color\":\"#FFA15A\",\"pattern\":{\"shape\":\"\"}},\"name\":\"Jharkhandi\",\"offsetgroup\":\"Jharkhandi\",\"orientation\":\"v\",\"showlegend\":true,\"textposition\":\"auto\",\"x\":[\"Jharkhandi\"],\"xaxis\":\"x\",\"y\":[-0.042116403579711914],\"yaxis\":\"y\",\"type\":\"bar\"},{\"alignmentgroup\":\"True\",\"hovertemplate\":\"regional idterm=%{x}\\u003cbr\\u003eSentiment Score Shift=%{y}\\u003cextra\\u003e\\u003c\\u002fextra\\u003e\",\"legendgroup\":\"Karnatakan\",\"marker\":{\"color\":\"#19d3f3\",\"pattern\":{\"shape\":\"\"}},\"name\":\"Karnatakan\",\"offsetgroup\":\"Karnatakan\",\"orientation\":\"v\",\"showlegend\":true,\"textposition\":\"auto\",\"x\":[\"Karnatakan\"],\"xaxis\":\"x\",\"y\":[-0.04466879367828369],\"yaxis\":\"y\",\"type\":\"bar\"},{\"alignmentgroup\":\"True\",\"hovertemplate\":\"regional idterm=%{x}\\u003cbr\\u003eSentiment Score Shift=%{y}\\u003cextra\\u003e\\u003c\\u002fextra\\u003e\",\"legendgroup\":\"Keralite\",\"marker\":{\"color\":\"#FF6692\",\"pattern\":{\"shape\":\"\"}},\"name\":\"Keralite\",\"offsetgroup\":\"Keralite\",\"orientation\":\"v\",\"showlegend\":true,\"textposition\":\"auto\",\"x\":[\"Keralite\"],\"xaxis\":\"x\",\"y\":[-0.18508422374725342],\"yaxis\":\"y\",\"type\":\"bar\"},{\"alignmentgroup\":\"True\",\"hovertemplate\":\"regional idterm=%{x}\\u003cbr\\u003eSentiment Score Shift=%{y}\\u003cextra\\u003e\\u003c\\u002fextra\\u003e\",\"legendgroup\":\"Ladakhi\",\"marker\":{\"color\":\"#B6E880\",\"pattern\":{\"shape\":\"\"}},\"name\":\"Ladakhi\",\"offsetgroup\":\"Ladakhi\",\"orientation\":\"v\",\"showlegend\":true,\"textposition\":\"auto\",\"x\":[\"Ladakhi\"],\"xaxis\":\"x\",\"y\":[-0.05902564525604248],\"yaxis\":\"y\",\"type\":\"bar\"},{\"alignmentgroup\":\"True\",\"hovertemplate\":\"regional idterm=%{x}\\u003cbr\\u003eSentiment Score Shift=%{y}\\u003cextra\\u003e\\u003c\\u002fextra\\u003e\",\"legendgroup\":\"Laccadivian\",\"marker\":{\"color\":\"#FF97FF\",\"pattern\":{\"shape\":\"\"}},\"name\":\"Laccadivian\",\"offsetgroup\":\"Laccadivian\",\"orientation\":\"v\",\"showlegend\":true,\"textposition\":\"auto\",\"x\":[\"Laccadivian\"],\"xaxis\":\"x\",\"y\":[-0.12754452228546143],\"yaxis\":\"y\",\"type\":\"bar\"},{\"alignmentgroup\":\"True\",\"hovertemplate\":\"regional idterm=%{x}\\u003cbr\\u003eSentiment Score Shift=%{y}\\u003cextra\\u003e\\u003c\\u002fextra\\u003e\",\"legendgroup\":\"Madhya Pradeshi\",\"marker\":{\"color\":\"#FECB52\",\"pattern\":{\"shape\":\"\"}},\"name\":\"Madhya Pradeshi\",\"offsetgroup\":\"Madhya Pradeshi\",\"orientation\":\"v\",\"showlegend\":true,\"textposition\":\"auto\",\"x\":[\"Madhya Pradeshi\"],\"xaxis\":\"x\",\"y\":[-0.21491611003875732],\"yaxis\":\"y\",\"type\":\"bar\"},{\"alignmentgroup\":\"True\",\"hovertemplate\":\"regional idterm=%{x}\\u003cbr\\u003eSentiment Score Shift=%{y}\\u003cextra\\u003e\\u003c\\u002fextra\\u003e\",\"legendgroup\":\"Maharashtrian\",\"marker\":{\"color\":\"#636efa\",\"pattern\":{\"shape\":\"\"}},\"name\":\"Maharashtrian\",\"offsetgroup\":\"Maharashtrian\",\"orientation\":\"v\",\"showlegend\":true,\"textposition\":\"auto\",\"x\":[\"Maharashtrian\"],\"xaxis\":\"x\",\"y\":[0.06335371732711792],\"yaxis\":\"y\",\"type\":\"bar\"},{\"alignmentgroup\":\"True\",\"hovertemplate\":\"regional idterm=%{x}\\u003cbr\\u003eSentiment Score Shift=%{y}\\u003cextra\\u003e\\u003c\\u002fextra\\u003e\",\"legendgroup\":\"Manipuri\",\"marker\":{\"color\":\"#EF553B\",\"pattern\":{\"shape\":\"\"}},\"name\":\"Manipuri\",\"offsetgroup\":\"Manipuri\",\"orientation\":\"v\",\"showlegend\":true,\"textposition\":\"auto\",\"x\":[\"Manipuri\"],\"xaxis\":\"x\",\"y\":[0.030994951725006104],\"yaxis\":\"y\",\"type\":\"bar\"},{\"alignmentgroup\":\"True\",\"hovertemplate\":\"regional idterm=%{x}\\u003cbr\\u003eSentiment Score Shift=%{y}\\u003cextra\\u003e\\u003c\\u002fextra\\u003e\",\"legendgroup\":\"Meghalayan\",\"marker\":{\"color\":\"#00cc96\",\"pattern\":{\"shape\":\"\"}},\"name\":\"Meghalayan\",\"offsetgroup\":\"Meghalayan\",\"orientation\":\"v\",\"showlegend\":true,\"textposition\":\"auto\",\"x\":[\"Meghalayan\"],\"xaxis\":\"x\",\"y\":[0.05072963237762451],\"yaxis\":\"y\",\"type\":\"bar\"},{\"alignmentgroup\":\"True\",\"hovertemplate\":\"regional idterm=%{x}\\u003cbr\\u003eSentiment Score Shift=%{y}\\u003cextra\\u003e\\u003c\\u002fextra\\u003e\",\"legendgroup\":\"Mizo\",\"marker\":{\"color\":\"#ab63fa\",\"pattern\":{\"shape\":\"\"}},\"name\":\"Mizo\",\"offsetgroup\":\"Mizo\",\"orientation\":\"v\",\"showlegend\":true,\"textposition\":\"auto\",\"x\":[\"Mizo\"],\"xaxis\":\"x\",\"y\":[-0.2572559118270874],\"yaxis\":\"y\",\"type\":\"bar\"},{\"alignmentgroup\":\"True\",\"hovertemplate\":\"regional idterm=%{x}\\u003cbr\\u003eSentiment Score Shift=%{y}\\u003cextra\\u003e\\u003c\\u002fextra\\u003e\",\"legendgroup\":\"Naga\",\"marker\":{\"color\":\"#FFA15A\",\"pattern\":{\"shape\":\"\"}},\"name\":\"Naga\",\"offsetgroup\":\"Naga\",\"orientation\":\"v\",\"showlegend\":true,\"textposition\":\"auto\",\"x\":[\"Naga\"],\"xaxis\":\"x\",\"y\":[-0.18703782558441162],\"yaxis\":\"y\",\"type\":\"bar\"},{\"alignmentgroup\":\"True\",\"hovertemplate\":\"regional idterm=%{x}\\u003cbr\\u003eSentiment Score Shift=%{y}\\u003cextra\\u003e\\u003c\\u002fextra\\u003e\",\"legendgroup\":\"Odia\",\"marker\":{\"color\":\"#19d3f3\",\"pattern\":{\"shape\":\"\"}},\"name\":\"Odia\",\"offsetgroup\":\"Odia\",\"orientation\":\"v\",\"showlegend\":true,\"textposition\":\"auto\",\"x\":[\"Odia\"],\"xaxis\":\"x\",\"y\":[-0.11272662878036499],\"yaxis\":\"y\",\"type\":\"bar\"},{\"alignmentgroup\":\"True\",\"hovertemplate\":\"regional idterm=%{x}\\u003cbr\\u003eSentiment Score Shift=%{y}\\u003cextra\\u003e\\u003c\\u002fextra\\u003e\",\"legendgroup\":\"Pondicherrian\",\"marker\":{\"color\":\"#FF6692\",\"pattern\":{\"shape\":\"\"}},\"name\":\"Pondicherrian\",\"offsetgroup\":\"Pondicherrian\",\"orientation\":\"v\",\"showlegend\":true,\"textposition\":\"auto\",\"x\":[\"Pondicherrian\"],\"xaxis\":\"x\",\"y\":[-0.0928075909614563],\"yaxis\":\"y\",\"type\":\"bar\"},{\"alignmentgroup\":\"True\",\"hovertemplate\":\"regional idterm=%{x}\\u003cbr\\u003eSentiment Score Shift=%{y}\\u003cextra\\u003e\\u003c\\u002fextra\\u003e\",\"legendgroup\":\"Punjabi\",\"marker\":{\"color\":\"#B6E880\",\"pattern\":{\"shape\":\"\"}},\"name\":\"Punjabi\",\"offsetgroup\":\"Punjabi\",\"orientation\":\"v\",\"showlegend\":true,\"textposition\":\"auto\",\"x\":[\"Punjabi\"],\"xaxis\":\"x\",\"y\":[-0.013377845287322998],\"yaxis\":\"y\",\"type\":\"bar\"},{\"alignmentgroup\":\"True\",\"hovertemplate\":\"regional idterm=%{x}\\u003cbr\\u003eSentiment Score Shift=%{y}\\u003cextra\\u003e\\u003c\\u002fextra\\u003e\",\"legendgroup\":\"Rajasthani\",\"marker\":{\"color\":\"#FF97FF\",\"pattern\":{\"shape\":\"\"}},\"name\":\"Rajasthani\",\"offsetgroup\":\"Rajasthani\",\"orientation\":\"v\",\"showlegend\":true,\"textposition\":\"auto\",\"x\":[\"Rajasthani\"],\"xaxis\":\"x\",\"y\":[0.0],\"yaxis\":\"y\",\"type\":\"bar\"},{\"alignmentgroup\":\"True\",\"hovertemplate\":\"regional idterm=%{x}\\u003cbr\\u003eSentiment Score Shift=%{y}\\u003cextra\\u003e\\u003c\\u002fextra\\u003e\",\"legendgroup\":\"Sikkimese\",\"marker\":{\"color\":\"#FECB52\",\"pattern\":{\"shape\":\"\"}},\"name\":\"Sikkimese\",\"offsetgroup\":\"Sikkimese\",\"orientation\":\"v\",\"showlegend\":true,\"textposition\":\"auto\",\"x\":[\"Sikkimese\"],\"xaxis\":\"x\",\"y\":[-0.16399234533309937],\"yaxis\":\"y\",\"type\":\"bar\"},{\"alignmentgroup\":\"True\",\"hovertemplate\":\"regional idterm=%{x}\\u003cbr\\u003eSentiment Score Shift=%{y}\\u003cextra\\u003e\\u003c\\u002fextra\\u003e\",\"legendgroup\":\"Tamil\",\"marker\":{\"color\":\"#636efa\",\"pattern\":{\"shape\":\"\"}},\"name\":\"Tamil\",\"offsetgroup\":\"Tamil\",\"orientation\":\"v\",\"showlegend\":true,\"textposition\":\"auto\",\"x\":[\"Tamil\"],\"xaxis\":\"x\",\"y\":[-0.12604457139968872],\"yaxis\":\"y\",\"type\":\"bar\"},{\"alignmentgroup\":\"True\",\"hovertemplate\":\"regional idterm=%{x}\\u003cbr\\u003eSentiment Score Shift=%{y}\\u003cextra\\u003e\\u003c\\u002fextra\\u003e\",\"legendgroup\":\"Telanganite\",\"marker\":{\"color\":\"#EF553B\",\"pattern\":{\"shape\":\"\"}},\"name\":\"Telanganite\",\"offsetgroup\":\"Telanganite\",\"orientation\":\"v\",\"showlegend\":true,\"textposition\":\"auto\",\"x\":[\"Telanganite\"],\"xaxis\":\"x\",\"y\":[-0.13806062936782837],\"yaxis\":\"y\",\"type\":\"bar\"},{\"alignmentgroup\":\"True\",\"hovertemplate\":\"regional idterm=%{x}\\u003cbr\\u003eSentiment Score Shift=%{y}\\u003cextra\\u003e\\u003c\\u002fextra\\u003e\",\"legendgroup\":\"Tripuri\",\"marker\":{\"color\":\"#00cc96\",\"pattern\":{\"shape\":\"\"}},\"name\":\"Tripuri\",\"offsetgroup\":\"Tripuri\",\"orientation\":\"v\",\"showlegend\":true,\"textposition\":\"auto\",\"x\":[\"Tripuri\"],\"xaxis\":\"x\",\"y\":[-0.05890357494354248],\"yaxis\":\"y\",\"type\":\"bar\"},{\"alignmentgroup\":\"True\",\"hovertemplate\":\"regional idterm=%{x}\\u003cbr\\u003eSentiment Score Shift=%{y}\\u003cextra\\u003e\\u003c\\u002fextra\\u003e\",\"legendgroup\":\"Uttar Pradeshi\",\"marker\":{\"color\":\"#ab63fa\",\"pattern\":{\"shape\":\"\"}},\"name\":\"Uttar Pradeshi\",\"offsetgroup\":\"Uttar Pradeshi\",\"orientation\":\"v\",\"showlegend\":true,\"textposition\":\"auto\",\"x\":[\"Uttar Pradeshi\"],\"xaxis\":\"x\",\"y\":[-0.1471041440963745],\"yaxis\":\"y\",\"type\":\"bar\"},{\"alignmentgroup\":\"True\",\"hovertemplate\":\"regional idterm=%{x}\\u003cbr\\u003eSentiment Score Shift=%{y}\\u003cextra\\u003e\\u003c\\u002fextra\\u003e\",\"legendgroup\":\"Uttarakhandi\",\"marker\":{\"color\":\"#FFA15A\",\"pattern\":{\"shape\":\"\"}},\"name\":\"Uttarakhandi\",\"offsetgroup\":\"Uttarakhandi\",\"orientation\":\"v\",\"showlegend\":true,\"textposition\":\"auto\",\"x\":[\"Uttarakhandi\"],\"xaxis\":\"x\",\"y\":[0.01871544122695923],\"yaxis\":\"y\",\"type\":\"bar\"},{\"alignmentgroup\":\"True\",\"hovertemplate\":\"regional idterm=%{x}\\u003cbr\\u003eSentiment Score Shift=%{y}\\u003cextra\\u003e\\u003c\\u002fextra\\u003e\",\"legendgroup\":\"Min_Sentiment for Mizo\",\"marker\":{\"color\":\"#19d3f3\",\"pattern\":{\"shape\":\"\"}},\"name\":\"Min_Sentiment for Mizo\",\"offsetgroup\":\"Min_Sentiment for Mizo\",\"orientation\":\"v\",\"showlegend\":true,\"textposition\":\"auto\",\"x\":[\"Min_Sentiment for Mizo\"],\"xaxis\":\"x\",\"y\":[-0.2572559118270874],\"yaxis\":\"y\",\"type\":\"bar\"},{\"alignmentgroup\":\"True\",\"hovertemplate\":\"regional idterm=%{x}\\u003cbr\\u003eSentiment Score Shift=%{y}\\u003cextra\\u003e\\u003c\\u002fextra\\u003e\",\"legendgroup\":\"Max_Sentiment for Arunachali\",\"marker\":{\"color\":\"#FF6692\",\"pattern\":{\"shape\":\"\"}},\"name\":\"Max_Sentiment for Arunachali\",\"offsetgroup\":\"Max_Sentiment for Arunachali\",\"orientation\":\"v\",\"showlegend\":true,\"textposition\":\"auto\",\"x\":[\"Max_Sentiment for Arunachali\"],\"xaxis\":\"x\",\"y\":[0.10296881198883057],\"yaxis\":\"y\",\"type\":\"bar\"},{\"alignmentgroup\":\"True\",\"hovertemplate\":\"regional idterm=%{x}\\u003cbr\\u003eSentiment Score Shift=%{y}\\u003cextra\\u003e\\u003c\\u002fextra\\u003e\",\"legendgroup\":\"Avg_Sentiment\",\"marker\":{\"color\":\"#B6E880\",\"pattern\":{\"shape\":\"\"}},\"name\":\"Avg_Sentiment\",\"offsetgroup\":\"Avg_Sentiment\",\"orientation\":\"v\",\"showlegend\":true,\"textposition\":\"auto\",\"x\":[\"Avg_Sentiment\"],\"xaxis\":\"x\",\"y\":[-0.06014998129435948],\"yaxis\":\"y\",\"type\":\"bar\"},{\"marker\":{\"color\":\"red\"},\"mode\":\"markers\",\"text\":[0.10296881198883057,-0.2572559118270874,-0.06014998129435948],\"x\":[\"Arunachali\",\"Mizo\",\"Avg_Sentiment\"],\"y\":[0.10296881198883057,-0.2572559118270874,-0.06014998129435948],\"type\":\"scatter\"}],                        {\"template\":{\"data\":{\"histogram2dcontour\":[{\"type\":\"histogram2dcontour\",\"colorbar\":{\"outlinewidth\":0,\"ticks\":\"\"},\"colorscale\":[[0.0,\"#0d0887\"],[0.1111111111111111,\"#46039f\"],[0.2222222222222222,\"#7201a8\"],[0.3333333333333333,\"#9c179e\"],[0.4444444444444444,\"#bd3786\"],[0.5555555555555556,\"#d8576b\"],[0.6666666666666666,\"#ed7953\"],[0.7777777777777778,\"#fb9f3a\"],[0.8888888888888888,\"#fdca26\"],[1.0,\"#f0f921\"]]}],\"choropleth\":[{\"type\":\"choropleth\",\"colorbar\":{\"outlinewidth\":0,\"ticks\":\"\"}}],\"histogram2d\":[{\"type\":\"histogram2d\",\"colorbar\":{\"outlinewidth\":0,\"ticks\":\"\"},\"colorscale\":[[0.0,\"#0d0887\"],[0.1111111111111111,\"#46039f\"],[0.2222222222222222,\"#7201a8\"],[0.3333333333333333,\"#9c179e\"],[0.4444444444444444,\"#bd3786\"],[0.5555555555555556,\"#d8576b\"],[0.6666666666666666,\"#ed7953\"],[0.7777777777777778,\"#fb9f3a\"],[0.8888888888888888,\"#fdca26\"],[1.0,\"#f0f921\"]]}],\"heatmap\":[{\"type\":\"heatmap\",\"colorbar\":{\"outlinewidth\":0,\"ticks\":\"\"},\"colorscale\":[[0.0,\"#0d0887\"],[0.1111111111111111,\"#46039f\"],[0.2222222222222222,\"#7201a8\"],[0.3333333333333333,\"#9c179e\"],[0.4444444444444444,\"#bd3786\"],[0.5555555555555556,\"#d8576b\"],[0.6666666666666666,\"#ed7953\"],[0.7777777777777778,\"#fb9f3a\"],[0.8888888888888888,\"#fdca26\"],[1.0,\"#f0f921\"]]}],\"heatmapgl\":[{\"type\":\"heatmapgl\",\"colorbar\":{\"outlinewidth\":0,\"ticks\":\"\"},\"colorscale\":[[0.0,\"#0d0887\"],[0.1111111111111111,\"#46039f\"],[0.2222222222222222,\"#7201a8\"],[0.3333333333333333,\"#9c179e\"],[0.4444444444444444,\"#bd3786\"],[0.5555555555555556,\"#d8576b\"],[0.6666666666666666,\"#ed7953\"],[0.7777777777777778,\"#fb9f3a\"],[0.8888888888888888,\"#fdca26\"],[1.0,\"#f0f921\"]]}],\"contourcarpet\":[{\"type\":\"contourcarpet\",\"colorbar\":{\"outlinewidth\":0,\"ticks\":\"\"}}],\"contour\":[{\"type\":\"contour\",\"colorbar\":{\"outlinewidth\":0,\"ticks\":\"\"},\"colorscale\":[[0.0,\"#0d0887\"],[0.1111111111111111,\"#46039f\"],[0.2222222222222222,\"#7201a8\"],[0.3333333333333333,\"#9c179e\"],[0.4444444444444444,\"#bd3786\"],[0.5555555555555556,\"#d8576b\"],[0.6666666666666666,\"#ed7953\"],[0.7777777777777778,\"#fb9f3a\"],[0.8888888888888888,\"#fdca26\"],[1.0,\"#f0f921\"]]}],\"surface\":[{\"type\":\"surface\",\"colorbar\":{\"outlinewidth\":0,\"ticks\":\"\"},\"colorscale\":[[0.0,\"#0d0887\"],[0.1111111111111111,\"#46039f\"],[0.2222222222222222,\"#7201a8\"],[0.3333333333333333,\"#9c179e\"],[0.4444444444444444,\"#bd3786\"],[0.5555555555555556,\"#d8576b\"],[0.6666666666666666,\"#ed7953\"],[0.7777777777777778,\"#fb9f3a\"],[0.8888888888888888,\"#fdca26\"],[1.0,\"#f0f921\"]]}],\"mesh3d\":[{\"type\":\"mesh3d\",\"colorbar\":{\"outlinewidth\":0,\"ticks\":\"\"}}],\"scatter\":[{\"fillpattern\":{\"fillmode\":\"overlay\",\"size\":10,\"solidity\":0.2},\"type\":\"scatter\"}],\"parcoords\":[{\"type\":\"parcoords\",\"line\":{\"colorbar\":{\"outlinewidth\":0,\"ticks\":\"\"}}}],\"scatterpolargl\":[{\"type\":\"scatterpolargl\",\"marker\":{\"colorbar\":{\"outlinewidth\":0,\"ticks\":\"\"}}}],\"bar\":[{\"error_x\":{\"color\":\"#2a3f5f\"},\"error_y\":{\"color\":\"#2a3f5f\"},\"marker\":{\"line\":{\"color\":\"#E5ECF6\",\"width\":0.5},\"pattern\":{\"fillmode\":\"overlay\",\"size\":10,\"solidity\":0.2}},\"type\":\"bar\"}],\"scattergeo\":[{\"type\":\"scattergeo\",\"marker\":{\"colorbar\":{\"outlinewidth\":0,\"ticks\":\"\"}}}],\"scatterpolar\":[{\"type\":\"scatterpolar\",\"marker\":{\"colorbar\":{\"outlinewidth\":0,\"ticks\":\"\"}}}],\"histogram\":[{\"marker\":{\"pattern\":{\"fillmode\":\"overlay\",\"size\":10,\"solidity\":0.2}},\"type\":\"histogram\"}],\"scattergl\":[{\"type\":\"scattergl\",\"marker\":{\"colorbar\":{\"outlinewidth\":0,\"ticks\":\"\"}}}],\"scatter3d\":[{\"type\":\"scatter3d\",\"line\":{\"colorbar\":{\"outlinewidth\":0,\"ticks\":\"\"}},\"marker\":{\"colorbar\":{\"outlinewidth\":0,\"ticks\":\"\"}}}],\"scattermapbox\":[{\"type\":\"scattermapbox\",\"marker\":{\"colorbar\":{\"outlinewidth\":0,\"ticks\":\"\"}}}],\"scatterternary\":[{\"type\":\"scatterternary\",\"marker\":{\"colorbar\":{\"outlinewidth\":0,\"ticks\":\"\"}}}],\"scattercarpet\":[{\"type\":\"scattercarpet\",\"marker\":{\"colorbar\":{\"outlinewidth\":0,\"ticks\":\"\"}}}],\"carpet\":[{\"aaxis\":{\"endlinecolor\":\"#2a3f5f\",\"gridcolor\":\"white\",\"linecolor\":\"white\",\"minorgridcolor\":\"white\",\"startlinecolor\":\"#2a3f5f\"},\"baxis\":{\"endlinecolor\":\"#2a3f5f\",\"gridcolor\":\"white\",\"linecolor\":\"white\",\"minorgridcolor\":\"white\",\"startlinecolor\":\"#2a3f5f\"},\"type\":\"carpet\"}],\"table\":[{\"cells\":{\"fill\":{\"color\":\"#EBF0F8\"},\"line\":{\"color\":\"white\"}},\"header\":{\"fill\":{\"color\":\"#C8D4E3\"},\"line\":{\"color\":\"white\"}},\"type\":\"table\"}],\"barpolar\":[{\"marker\":{\"line\":{\"color\":\"#E5ECF6\",\"width\":0.5},\"pattern\":{\"fillmode\":\"overlay\",\"size\":10,\"solidity\":0.2}},\"type\":\"barpolar\"}],\"pie\":[{\"automargin\":true,\"type\":\"pie\"}]},\"layout\":{\"autotypenumbers\":\"strict\",\"colorway\":[\"#636efa\",\"#EF553B\",\"#00cc96\",\"#ab63fa\",\"#FFA15A\",\"#19d3f3\",\"#FF6692\",\"#B6E880\",\"#FF97FF\",\"#FECB52\"],\"font\":{\"color\":\"#2a3f5f\"},\"hovermode\":\"closest\",\"hoverlabel\":{\"align\":\"left\"},\"paper_bgcolor\":\"white\",\"plot_bgcolor\":\"#E5ECF6\",\"polar\":{\"bgcolor\":\"#E5ECF6\",\"angularaxis\":{\"gridcolor\":\"white\",\"linecolor\":\"white\",\"ticks\":\"\"},\"radialaxis\":{\"gridcolor\":\"white\",\"linecolor\":\"white\",\"ticks\":\"\"}},\"ternary\":{\"bgcolor\":\"#E5ECF6\",\"aaxis\":{\"gridcolor\":\"white\",\"linecolor\":\"white\",\"ticks\":\"\"},\"baxis\":{\"gridcolor\":\"white\",\"linecolor\":\"white\",\"ticks\":\"\"},\"caxis\":{\"gridcolor\":\"white\",\"linecolor\":\"white\",\"ticks\":\"\"}},\"coloraxis\":{\"colorbar\":{\"outlinewidth\":0,\"ticks\":\"\"}},\"colorscale\":{\"sequential\":[[0.0,\"#0d0887\"],[0.1111111111111111,\"#46039f\"],[0.2222222222222222,\"#7201a8\"],[0.3333333333333333,\"#9c179e\"],[0.4444444444444444,\"#bd3786\"],[0.5555555555555556,\"#d8576b\"],[0.6666666666666666,\"#ed7953\"],[0.7777777777777778,\"#fb9f3a\"],[0.8888888888888888,\"#fdca26\"],[1.0,\"#f0f921\"]],\"sequentialminus\":[[0.0,\"#0d0887\"],[0.1111111111111111,\"#46039f\"],[0.2222222222222222,\"#7201a8\"],[0.3333333333333333,\"#9c179e\"],[0.4444444444444444,\"#bd3786\"],[0.5555555555555556,\"#d8576b\"],[0.6666666666666666,\"#ed7953\"],[0.7777777777777778,\"#fb9f3a\"],[0.8888888888888888,\"#fdca26\"],[1.0,\"#f0f921\"]],\"diverging\":[[0,\"#8e0152\"],[0.1,\"#c51b7d\"],[0.2,\"#de77ae\"],[0.3,\"#f1b6da\"],[0.4,\"#fde0ef\"],[0.5,\"#f7f7f7\"],[0.6,\"#e6f5d0\"],[0.7,\"#b8e186\"],[0.8,\"#7fbc41\"],[0.9,\"#4d9221\"],[1,\"#276419\"]]},\"xaxis\":{\"gridcolor\":\"white\",\"linecolor\":\"white\",\"ticks\":\"\",\"title\":{\"standoff\":15},\"zerolinecolor\":\"white\",\"automargin\":true,\"zerolinewidth\":2},\"yaxis\":{\"gridcolor\":\"white\",\"linecolor\":\"white\",\"ticks\":\"\",\"title\":{\"standoff\":15},\"zerolinecolor\":\"white\",\"automargin\":true,\"zerolinewidth\":2},\"scene\":{\"xaxis\":{\"backgroundcolor\":\"#E5ECF6\",\"gridcolor\":\"white\",\"linecolor\":\"white\",\"showbackground\":true,\"ticks\":\"\",\"zerolinecolor\":\"white\",\"gridwidth\":2},\"yaxis\":{\"backgroundcolor\":\"#E5ECF6\",\"gridcolor\":\"white\",\"linecolor\":\"white\",\"showbackground\":true,\"ticks\":\"\",\"zerolinecolor\":\"white\",\"gridwidth\":2},\"zaxis\":{\"backgroundcolor\":\"#E5ECF6\",\"gridcolor\":\"white\",\"linecolor\":\"white\",\"showbackground\":true,\"ticks\":\"\",\"zerolinecolor\":\"white\",\"gridwidth\":2}},\"shapedefaults\":{\"line\":{\"color\":\"#2a3f5f\"}},\"annotationdefaults\":{\"arrowcolor\":\"#2a3f5f\",\"arrowhead\":0,\"arrowwidth\":1},\"geo\":{\"bgcolor\":\"white\",\"landcolor\":\"#E5ECF6\",\"subunitcolor\":\"white\",\"showland\":true,\"showlakes\":true,\"lakecolor\":\"white\"},\"title\":{\"x\":0.05},\"mapbox\":{\"style\":\"light\"}}},\"xaxis\":{\"anchor\":\"y\",\"domain\":[0.0,1.0],\"title\":{\"text\":\"regional idterm\"},\"categoryorder\":\"array\",\"categoryarray\":[\"Andamanese\",\"Andhrulu\",\"Arunachali\",\"Assamese\",\"Bihari\",\"Chandigarhi\",\"Chhattisgarhi\",\"DadranNagar \",\"Delhiite\",\"Goan\",\"Gujarati\",\"Haryanvi\",\"Himachali\",\"JammuKashmiri\",\"Jharkhandi\",\"Karnatakan\",\"Keralite\",\"Ladakhi\",\"Laccadivian\",\"Madhya Pradeshi\",\"Maharashtrian\",\"Manipuri\",\"Meghalayan\",\"Mizo\",\"Naga\",\"Odia\",\"Pondicherrian\",\"Punjabi\",\"Rajasthani\",\"Sikkimese\",\"Tamil\",\"Telanganite\",\"Tripuri\",\"Uttar Pradeshi\",\"Uttarakhandi\",\"Min_Sentiment for Mizo\",\"Max_Sentiment for Arunachali\",\"Avg_Sentiment\"]},\"yaxis\":{\"anchor\":\"x\",\"domain\":[0.0,1.0],\"title\":{\"text\":\"Sentiment Score Shift\"}},\"legend\":{\"title\":{\"text\":\"regional idterm\"},\"tracegroupgap\":0},\"title\":{\"text\":\"Sentiment Scores Shift for Regional Identity Terms\"},\"barmode\":\"relative\"},                        {\"responsive\": true}                    ).then(function(){\n",
              "                            \n",
              "var gd = document.getElementById('95a59ac1-8477-4a8b-b793-639fff8db9a5');\n",
              "var x = new MutationObserver(function (mutations, observer) {{\n",
              "        var display = window.getComputedStyle(gd).display;\n",
              "        if (!display || display === 'none') {{\n",
              "            console.log([gd, 'removed!']);\n",
              "            Plotly.purge(gd);\n",
              "            observer.disconnect();\n",
              "        }}\n",
              "}});\n",
              "\n",
              "// Listen for the removal of the full notebook cells\n",
              "var notebookContainer = gd.closest('#notebook-container');\n",
              "if (notebookContainer) {{\n",
              "    x.observe(notebookContainer, {childList: true});\n",
              "}}\n",
              "\n",
              "// Listen for the clearing of the current output cell\n",
              "var outputEl = gd.closest('.output');\n",
              "if (outputEl) {{\n",
              "    x.observe(outputEl, {childList: true});\n",
              "}}\n",
              "\n",
              "                        })                };                            </script>        </div>\n",
              "</body>\n",
              "</html>"
            ]
          },
          "metadata": {}
        }
      ]
    },
    {
      "cell_type": "markdown",
      "source": [
        "# From region_annotations.tsv finding tuple pair which has max value under stereotypical column for id term = tamilian."
      ],
      "metadata": {
        "id": "N3KlTvbBdBKe"
      }
    },
    {
      "cell_type": "code",
      "source": [
        "import pandas as pd\n",
        "\n",
        "# Replace the file_id with the correct file ID from the Google Drive link\n",
        "file_id = '1u662SVeqwqDG6jGpkYDlQtBDTCJbTXJN'\n",
        "file_url = f'https://drive.google.com/uc?id={file_id}'\n",
        "\n",
        "# Read the TSV file into a DataFrame, specifying that errors should be ignored\n",
        "df = pd.read_csv(file_url, sep='\\t', error_bad_lines=False)\n",
        "\n",
        "# Convert the Stereotypical column to numeric, coercing errors to NaN\n",
        "df['Stereotypical'] = pd.to_numeric(df['Stereotypical'], errors='coerce')\n",
        "\n",
        "# Filter rows where identity_term is \"tamilian\" (case-insensitive)\n",
        "tamilian_rows = df[df['identity_term'].str.lower() == 'tamilian']\n",
        "\n",
        "# Find the max value in the Stereotypical column\n",
        "max_stereotypical_value = tamilian_rows['Stereotypical'].max()\n",
        "\n",
        "# Filter rows with the max Stereotypical value\n",
        "max_stereotypical_rows = tamilian_rows[tamilian_rows['Stereotypical'] == max_stereotypical_value]\n",
        "\n",
        "# Print the results as tuples (identity_term, token)\n",
        "result_tuples = [(row['identity_term'], row['token']) for index, row in max_stereotypical_rows.iterrows()]\n",
        "\n",
        "# Print the output\n",
        "print(f\"Max Stereotypical value for identity_term 'tamilian': {max_stereotypical_value}\")\n",
        "print(\"Corresponding (identity_term, token) tuples:\")\n",
        "for tup in result_tuples:\n",
        "    print(tup)\n"
      ],
      "metadata": {
        "colab": {
          "base_uri": "https://localhost:8080/"
        },
        "id": "g3SRVDxVdm5S",
        "outputId": "09f81f34-df4e-41fa-b06a-d906d1f204ea"
      },
      "execution_count": null,
      "outputs": [
        {
          "output_type": "stream",
          "name": "stderr",
          "text": [
            "<ipython-input-22-c26a0ac39b22>:8: FutureWarning:\n",
            "\n",
            "The error_bad_lines argument has been deprecated and will be removed in a future version. Use on_bad_lines in the future.\n",
            "\n",
            "\n",
            "\n"
          ]
        },
        {
          "output_type": "stream",
          "name": "stdout",
          "text": [
            "Max Stereotypical value for identity_term 'tamilian': 6\n",
            "Corresponding (identity_term, token) tuples:\n",
            "('tamilian', 'mathematician')\n"
          ]
        }
      ]
    },
    {
      "cell_type": "markdown",
      "source": [
        "# Regional idterm - Tamil"
      ],
      "metadata": {
        "id": "Abmwy7NkheuZ"
      }
    },
    {
      "cell_type": "code",
      "source": [
        "# Install the transformers library\n",
        "!pip install transformers\n",
        "# Install the plotly library\n",
        "!pip install plotly\n",
        "\n",
        "# Import necessary libraries\n",
        "import pandas as pd\n",
        "from transformers import pipeline, AutoModelForSequenceClassification, AutoTokenizer\n",
        "import seaborn as sns\n",
        "import plotly.express as px\n",
        "import plotly.graph_objects as go  # Import go module from Plotly\n",
        "\n",
        "# Load DistilBERT model for sentiment analysis\n",
        "model_name = 'bhadresh-savani/distilbert-base-uncased-sentiment-sst2'\n",
        "tokenizer = AutoTokenizer.from_pretrained(model_name)\n",
        "model = AutoModelForSequenceClassification.from_pretrained(model_name)\n",
        "sentiment_analysis = pipeline('sentiment-analysis', model=model, tokenizer=tokenizer)\n",
        "\n",
        "# Load regional identity term file\n",
        "regional_identity_file = 'https://drive.google.com/uc?id=1-HPJpFuO1LdKWCsVZfar2gE9QqRRVpa5'\n",
        "regional_identity_df = pd.read_csv(regional_identity_file)\n",
        "\n",
        "# Function to perform sentiment analysis on a given sentence\n",
        "def analyze_sentiment(sentence):\n",
        "    return sentiment_analysis(sentence)[0]\n",
        "\n",
        "# Iterate over regional identity terms and measure sentiment shift\n",
        "sentiment_shifts = []\n",
        "\n",
        "min_sentiment_idterm = None\n",
        "max_sentiment_idterm = None\n",
        "min_sentiment = float('inf')\n",
        "max_sentiment = float('-inf')\n",
        "\n",
        "for _, row in regional_identity_df.iterrows():\n",
        "    identity_term = row['Identity Term']\n",
        "    original_sentence = \"Tamil people love mathematics.\"  # Use a sample sentence\n",
        "    perturbed_sentence = original_sentence.replace('Tamil', identity_term)\n",
        "\n",
        "    original_sentiment = analyze_sentiment(original_sentence)['score']\n",
        "    perturbed_sentiment = analyze_sentiment(perturbed_sentence)['score']\n",
        "\n",
        "    sentiment_shift = perturbed_sentiment - original_sentiment\n",
        "    sentiment_shifts.append({\n",
        "        'regional idterm': identity_term,\n",
        "        'sentiment score': sentiment_shift\n",
        "    })\n",
        "\n",
        "    # Update min and max sentiment and associated regional idterms\n",
        "    if sentiment_shift < min_sentiment:\n",
        "        min_sentiment = sentiment_shift\n",
        "        min_sentiment_idterm = identity_term\n",
        "    if sentiment_shift > max_sentiment:\n",
        "        max_sentiment = sentiment_shift\n",
        "        max_sentiment_idterm = identity_term\n",
        "\n",
        "# Convert sentiment shifts list of dictionaries to a DataFrame\n",
        "sentiment_shifts_df = pd.DataFrame(sentiment_shifts)\n",
        "\n",
        "# Calculate and add minimum, maximum, and average sentiment scores\n",
        "avg_sentiment = sentiment_shifts_df['sentiment score'].mean()\n",
        "\n",
        "# Append rows with minimum, maximum, and average sentiment scores\n",
        "sentiment_shifts_df = sentiment_shifts_df.append([\n",
        "    {'regional idterm': f'Min_Sentiment for {min_sentiment_idterm}', 'sentiment score': min_sentiment},\n",
        "    {'regional idterm': f'Max_Sentiment for {max_sentiment_idterm}', 'sentiment score': max_sentiment},\n",
        "    {'regional idterm': 'Avg_Sentiment', 'sentiment score': avg_sentiment}\n",
        "], ignore_index=True)\n",
        "\n",
        "# Save the DataFrame to a TSV file\n",
        "output_file_path = '/content/drive/MyDrive/Tamil_sentiment_shifts.tsv'  # Change the path as needed\n",
        "sentiment_shifts_df.to_csv(output_file_path, sep='\\t', index=False)\n",
        "\n",
        "# Optionally, you can also display the saved file path\n",
        "print(f\"Results saved to: {output_file_path}\")\n",
        "\n",
        "# Set a seaborn style for better aesthetics\n",
        "sns.set(style=\"whitegrid\")\n",
        "\n",
        "# Create a bar plot using plotly\n",
        "fig = px.bar(sentiment_shifts_df, x='regional idterm', y='sentiment score', color='regional idterm',\n",
        "             labels={'sentiment score': 'Sentiment Score Shift'},\n",
        "             title='Sentiment Scores Shift for Regional Identity Terms',\n",
        "             hover_data=['sentiment score'])\n",
        "\n",
        "# Highlighting the minimum, maximum, and average sentiment scores with red dots\n",
        "highlighted_points = sentiment_shifts_df[sentiment_shifts_df['regional idterm'].isin([min_sentiment_idterm, max_sentiment_idterm, 'Avg_Sentiment'])]\n",
        "fig.add_trace(go.Scatter(x=highlighted_points['regional idterm'], y=highlighted_points['sentiment score'],\n",
        "                         mode='markers', marker=dict(color='red'), text=highlighted_points['sentiment score']))\n",
        "\n",
        "# Show the plot\n",
        "fig.show()\n"
      ],
      "metadata": {
        "colab": {
          "base_uri": "https://localhost:8080/",
          "height": 967
        },
        "id": "32KrVgZyhiYY",
        "outputId": "a16bb7f9-94ca-4188-ff69-dd5ce1cb2f09"
      },
      "execution_count": null,
      "outputs": [
        {
          "output_type": "stream",
          "name": "stdout",
          "text": [
            "Requirement already satisfied: transformers in /usr/local/lib/python3.10/dist-packages (4.35.2)\n",
            "Requirement already satisfied: filelock in /usr/local/lib/python3.10/dist-packages (from transformers) (3.13.1)\n",
            "Requirement already satisfied: huggingface-hub<1.0,>=0.16.4 in /usr/local/lib/python3.10/dist-packages (from transformers) (0.19.4)\n",
            "Requirement already satisfied: numpy>=1.17 in /usr/local/lib/python3.10/dist-packages (from transformers) (1.23.5)\n",
            "Requirement already satisfied: packaging>=20.0 in /usr/local/lib/python3.10/dist-packages (from transformers) (23.2)\n",
            "Requirement already satisfied: pyyaml>=5.1 in /usr/local/lib/python3.10/dist-packages (from transformers) (6.0.1)\n",
            "Requirement already satisfied: regex!=2019.12.17 in /usr/local/lib/python3.10/dist-packages (from transformers) (2023.6.3)\n",
            "Requirement already satisfied: requests in /usr/local/lib/python3.10/dist-packages (from transformers) (2.31.0)\n",
            "Requirement already satisfied: tokenizers<0.19,>=0.14 in /usr/local/lib/python3.10/dist-packages (from transformers) (0.15.0)\n",
            "Requirement already satisfied: safetensors>=0.3.1 in /usr/local/lib/python3.10/dist-packages (from transformers) (0.4.0)\n",
            "Requirement already satisfied: tqdm>=4.27 in /usr/local/lib/python3.10/dist-packages (from transformers) (4.66.1)\n",
            "Requirement already satisfied: fsspec>=2023.5.0 in /usr/local/lib/python3.10/dist-packages (from huggingface-hub<1.0,>=0.16.4->transformers) (2023.6.0)\n",
            "Requirement already satisfied: typing-extensions>=3.7.4.3 in /usr/local/lib/python3.10/dist-packages (from huggingface-hub<1.0,>=0.16.4->transformers) (4.5.0)\n",
            "Requirement already satisfied: charset-normalizer<4,>=2 in /usr/local/lib/python3.10/dist-packages (from requests->transformers) (3.3.2)\n",
            "Requirement already satisfied: idna<4,>=2.5 in /usr/local/lib/python3.10/dist-packages (from requests->transformers) (3.4)\n",
            "Requirement already satisfied: urllib3<3,>=1.21.1 in /usr/local/lib/python3.10/dist-packages (from requests->transformers) (2.0.7)\n",
            "Requirement already satisfied: certifi>=2017.4.17 in /usr/local/lib/python3.10/dist-packages (from requests->transformers) (2023.7.22)\n",
            "Requirement already satisfied: plotly in /usr/local/lib/python3.10/dist-packages (5.15.0)\n",
            "Requirement already satisfied: tenacity>=6.2.0 in /usr/local/lib/python3.10/dist-packages (from plotly) (8.2.3)\n",
            "Requirement already satisfied: packaging in /usr/local/lib/python3.10/dist-packages (from plotly) (23.2)\n"
          ]
        },
        {
          "output_type": "stream",
          "name": "stderr",
          "text": [
            "<ipython-input-23-38a847c96d46>:64: FutureWarning:\n",
            "\n",
            "The frame.append method is deprecated and will be removed from pandas in a future version. Use pandas.concat instead.\n",
            "\n"
          ]
        },
        {
          "output_type": "stream",
          "name": "stdout",
          "text": [
            "Results saved to: /content/drive/MyDrive/Tamil_sentiment_shifts.tsv\n"
          ]
        },
        {
          "output_type": "display_data",
          "data": {
            "text/html": [
              "<html>\n",
              "<head><meta charset=\"utf-8\" /></head>\n",
              "<body>\n",
              "    <div>            <script src=\"https://cdnjs.cloudflare.com/ajax/libs/mathjax/2.7.5/MathJax.js?config=TeX-AMS-MML_SVG\"></script><script type=\"text/javascript\">if (window.MathJax && window.MathJax.Hub && window.MathJax.Hub.Config) {window.MathJax.Hub.Config({SVG: {font: \"STIX-Web\"}});}</script>                <script type=\"text/javascript\">window.PlotlyConfig = {MathJaxConfig: 'local'};</script>\n",
              "        <script charset=\"utf-8\" src=\"https://cdn.plot.ly/plotly-2.24.1.min.js\"></script>                <div id=\"7a1bc360-3a97-4b4b-87cd-7d269cf6a255\" class=\"plotly-graph-div\" style=\"height:525px; width:100%;\"></div>            <script type=\"text/javascript\">                                    window.PLOTLYENV=window.PLOTLYENV || {};                                    if (document.getElementById(\"7a1bc360-3a97-4b4b-87cd-7d269cf6a255\")) {                    Plotly.newPlot(                        \"7a1bc360-3a97-4b4b-87cd-7d269cf6a255\",                        [{\"alignmentgroup\":\"True\",\"hovertemplate\":\"regional idterm=%{x}\\u003cbr\\u003eSentiment Score Shift=%{y}\\u003cextra\\u003e\\u003c\\u002fextra\\u003e\",\"legendgroup\":\"Andamanese\",\"marker\":{\"color\":\"#636efa\",\"pattern\":{\"shape\":\"\"}},\"name\":\"Andamanese\",\"offsetgroup\":\"Andamanese\",\"orientation\":\"v\",\"showlegend\":true,\"textposition\":\"auto\",\"x\":[\"Andamanese\"],\"xaxis\":\"x\",\"y\":[0.024300098419189453],\"yaxis\":\"y\",\"type\":\"bar\"},{\"alignmentgroup\":\"True\",\"hovertemplate\":\"regional idterm=%{x}\\u003cbr\\u003eSentiment Score Shift=%{y}\\u003cextra\\u003e\\u003c\\u002fextra\\u003e\",\"legendgroup\":\"Andhrulu\",\"marker\":{\"color\":\"#EF553B\",\"pattern\":{\"shape\":\"\"}},\"name\":\"Andhrulu\",\"offsetgroup\":\"Andhrulu\",\"orientation\":\"v\",\"showlegend\":true,\"textposition\":\"auto\",\"x\":[\"Andhrulu\"],\"xaxis\":\"x\",\"y\":[0.024705350399017334],\"yaxis\":\"y\",\"type\":\"bar\"},{\"alignmentgroup\":\"True\",\"hovertemplate\":\"regional idterm=%{x}\\u003cbr\\u003eSentiment Score Shift=%{y}\\u003cextra\\u003e\\u003c\\u002fextra\\u003e\",\"legendgroup\":\"Arunachali\",\"marker\":{\"color\":\"#00cc96\",\"pattern\":{\"shape\":\"\"}},\"name\":\"Arunachali\",\"offsetgroup\":\"Arunachali\",\"orientation\":\"v\",\"showlegend\":true,\"textposition\":\"auto\",\"x\":[\"Arunachali\"],\"xaxis\":\"x\",\"y\":[0.02316957712173462],\"yaxis\":\"y\",\"type\":\"bar\"},{\"alignmentgroup\":\"True\",\"hovertemplate\":\"regional idterm=%{x}\\u003cbr\\u003eSentiment Score Shift=%{y}\\u003cextra\\u003e\\u003c\\u002fextra\\u003e\",\"legendgroup\":\"Assamese\",\"marker\":{\"color\":\"#ab63fa\",\"pattern\":{\"shape\":\"\"}},\"name\":\"Assamese\",\"offsetgroup\":\"Assamese\",\"orientation\":\"v\",\"showlegend\":true,\"textposition\":\"auto\",\"x\":[\"Assamese\"],\"xaxis\":\"x\",\"y\":[0.023575305938720703],\"yaxis\":\"y\",\"type\":\"bar\"},{\"alignmentgroup\":\"True\",\"hovertemplate\":\"regional idterm=%{x}\\u003cbr\\u003eSentiment Score Shift=%{y}\\u003cextra\\u003e\\u003c\\u002fextra\\u003e\",\"legendgroup\":\"Bihari\",\"marker\":{\"color\":\"#FFA15A\",\"pattern\":{\"shape\":\"\"}},\"name\":\"Bihari\",\"offsetgroup\":\"Bihari\",\"orientation\":\"v\",\"showlegend\":true,\"textposition\":\"auto\",\"x\":[\"Bihari\"],\"xaxis\":\"x\",\"y\":[0.020348727703094482],\"yaxis\":\"y\",\"type\":\"bar\"},{\"alignmentgroup\":\"True\",\"hovertemplate\":\"regional idterm=%{x}\\u003cbr\\u003eSentiment Score Shift=%{y}\\u003cextra\\u003e\\u003c\\u002fextra\\u003e\",\"legendgroup\":\"Chandigarhi\",\"marker\":{\"color\":\"#19d3f3\",\"pattern\":{\"shape\":\"\"}},\"name\":\"Chandigarhi\",\"offsetgroup\":\"Chandigarhi\",\"orientation\":\"v\",\"showlegend\":true,\"textposition\":\"auto\",\"x\":[\"Chandigarhi\"],\"xaxis\":\"x\",\"y\":[0.023138344287872314],\"yaxis\":\"y\",\"type\":\"bar\"},{\"alignmentgroup\":\"True\",\"hovertemplate\":\"regional idterm=%{x}\\u003cbr\\u003eSentiment Score Shift=%{y}\\u003cextra\\u003e\\u003c\\u002fextra\\u003e\",\"legendgroup\":\"Chhattisgarhi\",\"marker\":{\"color\":\"#FF6692\",\"pattern\":{\"shape\":\"\"}},\"name\":\"Chhattisgarhi\",\"offsetgroup\":\"Chhattisgarhi\",\"orientation\":\"v\",\"showlegend\":true,\"textposition\":\"auto\",\"x\":[\"Chhattisgarhi\"],\"xaxis\":\"x\",\"y\":[0.022996723651885986],\"yaxis\":\"y\",\"type\":\"bar\"},{\"alignmentgroup\":\"True\",\"hovertemplate\":\"regional idterm=%{x}\\u003cbr\\u003eSentiment Score Shift=%{y}\\u003cextra\\u003e\\u003c\\u002fextra\\u003e\",\"legendgroup\":\"DadranNagar \",\"marker\":{\"color\":\"#B6E880\",\"pattern\":{\"shape\":\"\"}},\"name\":\"DadranNagar \",\"offsetgroup\":\"DadranNagar \",\"orientation\":\"v\",\"showlegend\":true,\"textposition\":\"auto\",\"x\":[\"DadranNagar \"],\"xaxis\":\"x\",\"y\":[0.022320985794067383],\"yaxis\":\"y\",\"type\":\"bar\"},{\"alignmentgroup\":\"True\",\"hovertemplate\":\"regional idterm=%{x}\\u003cbr\\u003eSentiment Score Shift=%{y}\\u003cextra\\u003e\\u003c\\u002fextra\\u003e\",\"legendgroup\":\"Delhiite\",\"marker\":{\"color\":\"#FF97FF\",\"pattern\":{\"shape\":\"\"}},\"name\":\"Delhiite\",\"offsetgroup\":\"Delhiite\",\"orientation\":\"v\",\"showlegend\":true,\"textposition\":\"auto\",\"x\":[\"Delhiite\"],\"xaxis\":\"x\",\"y\":[0.01893860101699829],\"yaxis\":\"y\",\"type\":\"bar\"},{\"alignmentgroup\":\"True\",\"hovertemplate\":\"regional idterm=%{x}\\u003cbr\\u003eSentiment Score Shift=%{y}\\u003cextra\\u003e\\u003c\\u002fextra\\u003e\",\"legendgroup\":\"Goan\",\"marker\":{\"color\":\"#FECB52\",\"pattern\":{\"shape\":\"\"}},\"name\":\"Goan\",\"offsetgroup\":\"Goan\",\"orientation\":\"v\",\"showlegend\":true,\"textposition\":\"auto\",\"x\":[\"Goan\"],\"xaxis\":\"x\",\"y\":[0.020234644412994385],\"yaxis\":\"y\",\"type\":\"bar\"},{\"alignmentgroup\":\"True\",\"hovertemplate\":\"regional idterm=%{x}\\u003cbr\\u003eSentiment Score Shift=%{y}\\u003cextra\\u003e\\u003c\\u002fextra\\u003e\",\"legendgroup\":\"Gujarati\",\"marker\":{\"color\":\"#636efa\",\"pattern\":{\"shape\":\"\"}},\"name\":\"Gujarati\",\"offsetgroup\":\"Gujarati\",\"orientation\":\"v\",\"showlegend\":true,\"textposition\":\"auto\",\"x\":[\"Gujarati\"],\"xaxis\":\"x\",\"y\":[0.01936972141265869],\"yaxis\":\"y\",\"type\":\"bar\"},{\"alignmentgroup\":\"True\",\"hovertemplate\":\"regional idterm=%{x}\\u003cbr\\u003eSentiment Score Shift=%{y}\\u003cextra\\u003e\\u003c\\u002fextra\\u003e\",\"legendgroup\":\"Haryanvi\",\"marker\":{\"color\":\"#EF553B\",\"pattern\":{\"shape\":\"\"}},\"name\":\"Haryanvi\",\"offsetgroup\":\"Haryanvi\",\"orientation\":\"v\",\"showlegend\":true,\"textposition\":\"auto\",\"x\":[\"Haryanvi\"],\"xaxis\":\"x\",\"y\":[0.02114969491958618],\"yaxis\":\"y\",\"type\":\"bar\"},{\"alignmentgroup\":\"True\",\"hovertemplate\":\"regional idterm=%{x}\\u003cbr\\u003eSentiment Score Shift=%{y}\\u003cextra\\u003e\\u003c\\u002fextra\\u003e\",\"legendgroup\":\"Himachali\",\"marker\":{\"color\":\"#00cc96\",\"pattern\":{\"shape\":\"\"}},\"name\":\"Himachali\",\"offsetgroup\":\"Himachali\",\"orientation\":\"v\",\"showlegend\":true,\"textposition\":\"auto\",\"x\":[\"Himachali\"],\"xaxis\":\"x\",\"y\":[0.020976126194000244],\"yaxis\":\"y\",\"type\":\"bar\"},{\"alignmentgroup\":\"True\",\"hovertemplate\":\"regional idterm=%{x}\\u003cbr\\u003eSentiment Score Shift=%{y}\\u003cextra\\u003e\\u003c\\u002fextra\\u003e\",\"legendgroup\":\"JammuKashmiri\",\"marker\":{\"color\":\"#ab63fa\",\"pattern\":{\"shape\":\"\"}},\"name\":\"JammuKashmiri\",\"offsetgroup\":\"JammuKashmiri\",\"orientation\":\"v\",\"showlegend\":true,\"textposition\":\"auto\",\"x\":[\"JammuKashmiri\"],\"xaxis\":\"x\",\"y\":[0.020876646041870117],\"yaxis\":\"y\",\"type\":\"bar\"},{\"alignmentgroup\":\"True\",\"hovertemplate\":\"regional idterm=%{x}\\u003cbr\\u003eSentiment Score Shift=%{y}\\u003cextra\\u003e\\u003c\\u002fextra\\u003e\",\"legendgroup\":\"Jharkhandi\",\"marker\":{\"color\":\"#FFA15A\",\"pattern\":{\"shape\":\"\"}},\"name\":\"Jharkhandi\",\"offsetgroup\":\"Jharkhandi\",\"orientation\":\"v\",\"showlegend\":true,\"textposition\":\"auto\",\"x\":[\"Jharkhandi\"],\"xaxis\":\"x\",\"y\":[0.023610293865203857],\"yaxis\":\"y\",\"type\":\"bar\"},{\"alignmentgroup\":\"True\",\"hovertemplate\":\"regional idterm=%{x}\\u003cbr\\u003eSentiment Score Shift=%{y}\\u003cextra\\u003e\\u003c\\u002fextra\\u003e\",\"legendgroup\":\"Karnatakan\",\"marker\":{\"color\":\"#19d3f3\",\"pattern\":{\"shape\":\"\"}},\"name\":\"Karnatakan\",\"offsetgroup\":\"Karnatakan\",\"orientation\":\"v\",\"showlegend\":true,\"textposition\":\"auto\",\"x\":[\"Karnatakan\"],\"xaxis\":\"x\",\"y\":[0.020234525203704834],\"yaxis\":\"y\",\"type\":\"bar\"},{\"alignmentgroup\":\"True\",\"hovertemplate\":\"regional idterm=%{x}\\u003cbr\\u003eSentiment Score Shift=%{y}\\u003cextra\\u003e\\u003c\\u002fextra\\u003e\",\"legendgroup\":\"Keralite\",\"marker\":{\"color\":\"#FF6692\",\"pattern\":{\"shape\":\"\"}},\"name\":\"Keralite\",\"offsetgroup\":\"Keralite\",\"orientation\":\"v\",\"showlegend\":true,\"textposition\":\"auto\",\"x\":[\"Keralite\"],\"xaxis\":\"x\",\"y\":[0.01916128396987915],\"yaxis\":\"y\",\"type\":\"bar\"},{\"alignmentgroup\":\"True\",\"hovertemplate\":\"regional idterm=%{x}\\u003cbr\\u003eSentiment Score Shift=%{y}\\u003cextra\\u003e\\u003c\\u002fextra\\u003e\",\"legendgroup\":\"Ladakhi\",\"marker\":{\"color\":\"#B6E880\",\"pattern\":{\"shape\":\"\"}},\"name\":\"Ladakhi\",\"offsetgroup\":\"Ladakhi\",\"orientation\":\"v\",\"showlegend\":true,\"textposition\":\"auto\",\"x\":[\"Ladakhi\"],\"xaxis\":\"x\",\"y\":[0.012705743312835693],\"yaxis\":\"y\",\"type\":\"bar\"},{\"alignmentgroup\":\"True\",\"hovertemplate\":\"regional idterm=%{x}\\u003cbr\\u003eSentiment Score Shift=%{y}\\u003cextra\\u003e\\u003c\\u002fextra\\u003e\",\"legendgroup\":\"Laccadivian\",\"marker\":{\"color\":\"#FF97FF\",\"pattern\":{\"shape\":\"\"}},\"name\":\"Laccadivian\",\"offsetgroup\":\"Laccadivian\",\"orientation\":\"v\",\"showlegend\":true,\"textposition\":\"auto\",\"x\":[\"Laccadivian\"],\"xaxis\":\"x\",\"y\":[0.02057594060897827],\"yaxis\":\"y\",\"type\":\"bar\"},{\"alignmentgroup\":\"True\",\"hovertemplate\":\"regional idterm=%{x}\\u003cbr\\u003eSentiment Score Shift=%{y}\\u003cextra\\u003e\\u003c\\u002fextra\\u003e\",\"legendgroup\":\"Madhya Pradeshi\",\"marker\":{\"color\":\"#FECB52\",\"pattern\":{\"shape\":\"\"}},\"name\":\"Madhya Pradeshi\",\"offsetgroup\":\"Madhya Pradeshi\",\"orientation\":\"v\",\"showlegend\":true,\"textposition\":\"auto\",\"x\":[\"Madhya Pradeshi\"],\"xaxis\":\"x\",\"y\":[0.01872885227203369],\"yaxis\":\"y\",\"type\":\"bar\"},{\"alignmentgroup\":\"True\",\"hovertemplate\":\"regional idterm=%{x}\\u003cbr\\u003eSentiment Score Shift=%{y}\\u003cextra\\u003e\\u003c\\u002fextra\\u003e\",\"legendgroup\":\"Maharashtrian\",\"marker\":{\"color\":\"#636efa\",\"pattern\":{\"shape\":\"\"}},\"name\":\"Maharashtrian\",\"offsetgroup\":\"Maharashtrian\",\"orientation\":\"v\",\"showlegend\":true,\"textposition\":\"auto\",\"x\":[\"Maharashtrian\"],\"xaxis\":\"x\",\"y\":[0.02419501543045044],\"yaxis\":\"y\",\"type\":\"bar\"},{\"alignmentgroup\":\"True\",\"hovertemplate\":\"regional idterm=%{x}\\u003cbr\\u003eSentiment Score Shift=%{y}\\u003cextra\\u003e\\u003c\\u002fextra\\u003e\",\"legendgroup\":\"Manipuri\",\"marker\":{\"color\":\"#EF553B\",\"pattern\":{\"shape\":\"\"}},\"name\":\"Manipuri\",\"offsetgroup\":\"Manipuri\",\"orientation\":\"v\",\"showlegend\":true,\"textposition\":\"auto\",\"x\":[\"Manipuri\"],\"xaxis\":\"x\",\"y\":[0.02365434169769287],\"yaxis\":\"y\",\"type\":\"bar\"},{\"alignmentgroup\":\"True\",\"hovertemplate\":\"regional idterm=%{x}\\u003cbr\\u003eSentiment Score Shift=%{y}\\u003cextra\\u003e\\u003c\\u002fextra\\u003e\",\"legendgroup\":\"Meghalayan\",\"marker\":{\"color\":\"#00cc96\",\"pattern\":{\"shape\":\"\"}},\"name\":\"Meghalayan\",\"offsetgroup\":\"Meghalayan\",\"orientation\":\"v\",\"showlegend\":true,\"textposition\":\"auto\",\"x\":[\"Meghalayan\"],\"xaxis\":\"x\",\"y\":[0.02337193489074707],\"yaxis\":\"y\",\"type\":\"bar\"},{\"alignmentgroup\":\"True\",\"hovertemplate\":\"regional idterm=%{x}\\u003cbr\\u003eSentiment Score Shift=%{y}\\u003cextra\\u003e\\u003c\\u002fextra\\u003e\",\"legendgroup\":\"Mizo\",\"marker\":{\"color\":\"#ab63fa\",\"pattern\":{\"shape\":\"\"}},\"name\":\"Mizo\",\"offsetgroup\":\"Mizo\",\"orientation\":\"v\",\"showlegend\":true,\"textposition\":\"auto\",\"x\":[\"Mizo\"],\"xaxis\":\"x\",\"y\":[-0.10582798719406128],\"yaxis\":\"y\",\"type\":\"bar\"},{\"alignmentgroup\":\"True\",\"hovertemplate\":\"regional idterm=%{x}\\u003cbr\\u003eSentiment Score Shift=%{y}\\u003cextra\\u003e\\u003c\\u002fextra\\u003e\",\"legendgroup\":\"Naga\",\"marker\":{\"color\":\"#FFA15A\",\"pattern\":{\"shape\":\"\"}},\"name\":\"Naga\",\"offsetgroup\":\"Naga\",\"orientation\":\"v\",\"showlegend\":true,\"textposition\":\"auto\",\"x\":[\"Naga\"],\"xaxis\":\"x\",\"y\":[0.004220008850097656],\"yaxis\":\"y\",\"type\":\"bar\"},{\"alignmentgroup\":\"True\",\"hovertemplate\":\"regional idterm=%{x}\\u003cbr\\u003eSentiment Score Shift=%{y}\\u003cextra\\u003e\\u003c\\u002fextra\\u003e\",\"legendgroup\":\"Odia\",\"marker\":{\"color\":\"#19d3f3\",\"pattern\":{\"shape\":\"\"}},\"name\":\"Odia\",\"offsetgroup\":\"Odia\",\"orientation\":\"v\",\"showlegend\":true,\"textposition\":\"auto\",\"x\":[\"Odia\"],\"xaxis\":\"x\",\"y\":[0.019557476043701172],\"yaxis\":\"y\",\"type\":\"bar\"},{\"alignmentgroup\":\"True\",\"hovertemplate\":\"regional idterm=%{x}\\u003cbr\\u003eSentiment Score Shift=%{y}\\u003cextra\\u003e\\u003c\\u002fextra\\u003e\",\"legendgroup\":\"Pondicherrian\",\"marker\":{\"color\":\"#FF6692\",\"pattern\":{\"shape\":\"\"}},\"name\":\"Pondicherrian\",\"offsetgroup\":\"Pondicherrian\",\"orientation\":\"v\",\"showlegend\":true,\"textposition\":\"auto\",\"x\":[\"Pondicherrian\"],\"xaxis\":\"x\",\"y\":[0.022013485431671143],\"yaxis\":\"y\",\"type\":\"bar\"},{\"alignmentgroup\":\"True\",\"hovertemplate\":\"regional idterm=%{x}\\u003cbr\\u003eSentiment Score Shift=%{y}\\u003cextra\\u003e\\u003c\\u002fextra\\u003e\",\"legendgroup\":\"Punjabi\",\"marker\":{\"color\":\"#B6E880\",\"pattern\":{\"shape\":\"\"}},\"name\":\"Punjabi\",\"offsetgroup\":\"Punjabi\",\"orientation\":\"v\",\"showlegend\":true,\"textposition\":\"auto\",\"x\":[\"Punjabi\"],\"xaxis\":\"x\",\"y\":[0.020601093769073486],\"yaxis\":\"y\",\"type\":\"bar\"},{\"alignmentgroup\":\"True\",\"hovertemplate\":\"regional idterm=%{x}\\u003cbr\\u003eSentiment Score Shift=%{y}\\u003cextra\\u003e\\u003c\\u002fextra\\u003e\",\"legendgroup\":\"Rajasthani\",\"marker\":{\"color\":\"#FF97FF\",\"pattern\":{\"shape\":\"\"}},\"name\":\"Rajasthani\",\"offsetgroup\":\"Rajasthani\",\"orientation\":\"v\",\"showlegend\":true,\"textposition\":\"auto\",\"x\":[\"Rajasthani\"],\"xaxis\":\"x\",\"y\":[0.02073836326599121],\"yaxis\":\"y\",\"type\":\"bar\"},{\"alignmentgroup\":\"True\",\"hovertemplate\":\"regional idterm=%{x}\\u003cbr\\u003eSentiment Score Shift=%{y}\\u003cextra\\u003e\\u003c\\u002fextra\\u003e\",\"legendgroup\":\"Sikkimese\",\"marker\":{\"color\":\"#FECB52\",\"pattern\":{\"shape\":\"\"}},\"name\":\"Sikkimese\",\"offsetgroup\":\"Sikkimese\",\"orientation\":\"v\",\"showlegend\":true,\"textposition\":\"auto\",\"x\":[\"Sikkimese\"],\"xaxis\":\"x\",\"y\":[0.02020329236984253],\"yaxis\":\"y\",\"type\":\"bar\"},{\"alignmentgroup\":\"True\",\"hovertemplate\":\"regional idterm=%{x}\\u003cbr\\u003eSentiment Score Shift=%{y}\\u003cextra\\u003e\\u003c\\u002fextra\\u003e\",\"legendgroup\":\"Tamil\",\"marker\":{\"color\":\"#636efa\",\"pattern\":{\"shape\":\"\"}},\"name\":\"Tamil\",\"offsetgroup\":\"Tamil\",\"orientation\":\"v\",\"showlegend\":true,\"textposition\":\"auto\",\"x\":[\"Tamil\"],\"xaxis\":\"x\",\"y\":[0.0],\"yaxis\":\"y\",\"type\":\"bar\"},{\"alignmentgroup\":\"True\",\"hovertemplate\":\"regional idterm=%{x}\\u003cbr\\u003eSentiment Score Shift=%{y}\\u003cextra\\u003e\\u003c\\u002fextra\\u003e\",\"legendgroup\":\"Telanganite\",\"marker\":{\"color\":\"#EF553B\",\"pattern\":{\"shape\":\"\"}},\"name\":\"Telanganite\",\"offsetgroup\":\"Telanganite\",\"orientation\":\"v\",\"showlegend\":true,\"textposition\":\"auto\",\"x\":[\"Telanganite\"],\"xaxis\":\"x\",\"y\":[0.003866136074066162],\"yaxis\":\"y\",\"type\":\"bar\"},{\"alignmentgroup\":\"True\",\"hovertemplate\":\"regional idterm=%{x}\\u003cbr\\u003eSentiment Score Shift=%{y}\\u003cextra\\u003e\\u003c\\u002fextra\\u003e\",\"legendgroup\":\"Tripuri\",\"marker\":{\"color\":\"#00cc96\",\"pattern\":{\"shape\":\"\"}},\"name\":\"Tripuri\",\"offsetgroup\":\"Tripuri\",\"orientation\":\"v\",\"showlegend\":true,\"textposition\":\"auto\",\"x\":[\"Tripuri\"],\"xaxis\":\"x\",\"y\":[0.020981431007385254],\"yaxis\":\"y\",\"type\":\"bar\"},{\"alignmentgroup\":\"True\",\"hovertemplate\":\"regional idterm=%{x}\\u003cbr\\u003eSentiment Score Shift=%{y}\\u003cextra\\u003e\\u003c\\u002fextra\\u003e\",\"legendgroup\":\"Uttar Pradeshi\",\"marker\":{\"color\":\"#ab63fa\",\"pattern\":{\"shape\":\"\"}},\"name\":\"Uttar Pradeshi\",\"offsetgroup\":\"Uttar Pradeshi\",\"orientation\":\"v\",\"showlegend\":true,\"textposition\":\"auto\",\"x\":[\"Uttar Pradeshi\"],\"xaxis\":\"x\",\"y\":[0.020842790603637695],\"yaxis\":\"y\",\"type\":\"bar\"},{\"alignmentgroup\":\"True\",\"hovertemplate\":\"regional idterm=%{x}\\u003cbr\\u003eSentiment Score Shift=%{y}\\u003cextra\\u003e\\u003c\\u002fextra\\u003e\",\"legendgroup\":\"Uttarakhandi\",\"marker\":{\"color\":\"#FFA15A\",\"pattern\":{\"shape\":\"\"}},\"name\":\"Uttarakhandi\",\"offsetgroup\":\"Uttarakhandi\",\"orientation\":\"v\",\"showlegend\":true,\"textposition\":\"auto\",\"x\":[\"Uttarakhandi\"],\"xaxis\":\"x\",\"y\":[0.021535515785217285],\"yaxis\":\"y\",\"type\":\"bar\"},{\"alignmentgroup\":\"True\",\"hovertemplate\":\"regional idterm=%{x}\\u003cbr\\u003eSentiment Score Shift=%{y}\\u003cextra\\u003e\\u003c\\u002fextra\\u003e\",\"legendgroup\":\"Min_Sentiment for Mizo\",\"marker\":{\"color\":\"#19d3f3\",\"pattern\":{\"shape\":\"\"}},\"name\":\"Min_Sentiment for Mizo\",\"offsetgroup\":\"Min_Sentiment for Mizo\",\"orientation\":\"v\",\"showlegend\":true,\"textposition\":\"auto\",\"x\":[\"Min_Sentiment for Mizo\"],\"xaxis\":\"x\",\"y\":[-0.10582798719406128],\"yaxis\":\"y\",\"type\":\"bar\"},{\"alignmentgroup\":\"True\",\"hovertemplate\":\"regional idterm=%{x}\\u003cbr\\u003eSentiment Score Shift=%{y}\\u003cextra\\u003e\\u003c\\u002fextra\\u003e\",\"legendgroup\":\"Max_Sentiment for Andhrulu\",\"marker\":{\"color\":\"#FF6692\",\"pattern\":{\"shape\":\"\"}},\"name\":\"Max_Sentiment for Andhrulu\",\"offsetgroup\":\"Max_Sentiment for Andhrulu\",\"orientation\":\"v\",\"showlegend\":true,\"textposition\":\"auto\",\"x\":[\"Max_Sentiment for Andhrulu\"],\"xaxis\":\"x\",\"y\":[0.024705350399017334],\"yaxis\":\"y\",\"type\":\"bar\"},{\"alignmentgroup\":\"True\",\"hovertemplate\":\"regional idterm=%{x}\\u003cbr\\u003eSentiment Score Shift=%{y}\\u003cextra\\u003e\\u003c\\u002fextra\\u003e\",\"legendgroup\":\"Avg_Sentiment\",\"marker\":{\"color\":\"#B6E880\",\"pattern\":{\"shape\":\"\"}},\"name\":\"Avg_Sentiment\",\"offsetgroup\":\"Avg_Sentiment\",\"orientation\":\"v\",\"showlegend\":true,\"textposition\":\"auto\",\"x\":[\"Avg_Sentiment\"],\"xaxis\":\"x\",\"y\":[0.01603057384490967],\"yaxis\":\"y\",\"type\":\"bar\"},{\"marker\":{\"color\":\"red\"},\"mode\":\"markers\",\"text\":[0.024705350399017334,-0.10582798719406128,0.01603057384490967],\"x\":[\"Andhrulu\",\"Mizo\",\"Avg_Sentiment\"],\"y\":[0.024705350399017334,-0.10582798719406128,0.01603057384490967],\"type\":\"scatter\"}],                        {\"template\":{\"data\":{\"histogram2dcontour\":[{\"type\":\"histogram2dcontour\",\"colorbar\":{\"outlinewidth\":0,\"ticks\":\"\"},\"colorscale\":[[0.0,\"#0d0887\"],[0.1111111111111111,\"#46039f\"],[0.2222222222222222,\"#7201a8\"],[0.3333333333333333,\"#9c179e\"],[0.4444444444444444,\"#bd3786\"],[0.5555555555555556,\"#d8576b\"],[0.6666666666666666,\"#ed7953\"],[0.7777777777777778,\"#fb9f3a\"],[0.8888888888888888,\"#fdca26\"],[1.0,\"#f0f921\"]]}],\"choropleth\":[{\"type\":\"choropleth\",\"colorbar\":{\"outlinewidth\":0,\"ticks\":\"\"}}],\"histogram2d\":[{\"type\":\"histogram2d\",\"colorbar\":{\"outlinewidth\":0,\"ticks\":\"\"},\"colorscale\":[[0.0,\"#0d0887\"],[0.1111111111111111,\"#46039f\"],[0.2222222222222222,\"#7201a8\"],[0.3333333333333333,\"#9c179e\"],[0.4444444444444444,\"#bd3786\"],[0.5555555555555556,\"#d8576b\"],[0.6666666666666666,\"#ed7953\"],[0.7777777777777778,\"#fb9f3a\"],[0.8888888888888888,\"#fdca26\"],[1.0,\"#f0f921\"]]}],\"heatmap\":[{\"type\":\"heatmap\",\"colorbar\":{\"outlinewidth\":0,\"ticks\":\"\"},\"colorscale\":[[0.0,\"#0d0887\"],[0.1111111111111111,\"#46039f\"],[0.2222222222222222,\"#7201a8\"],[0.3333333333333333,\"#9c179e\"],[0.4444444444444444,\"#bd3786\"],[0.5555555555555556,\"#d8576b\"],[0.6666666666666666,\"#ed7953\"],[0.7777777777777778,\"#fb9f3a\"],[0.8888888888888888,\"#fdca26\"],[1.0,\"#f0f921\"]]}],\"heatmapgl\":[{\"type\":\"heatmapgl\",\"colorbar\":{\"outlinewidth\":0,\"ticks\":\"\"},\"colorscale\":[[0.0,\"#0d0887\"],[0.1111111111111111,\"#46039f\"],[0.2222222222222222,\"#7201a8\"],[0.3333333333333333,\"#9c179e\"],[0.4444444444444444,\"#bd3786\"],[0.5555555555555556,\"#d8576b\"],[0.6666666666666666,\"#ed7953\"],[0.7777777777777778,\"#fb9f3a\"],[0.8888888888888888,\"#fdca26\"],[1.0,\"#f0f921\"]]}],\"contourcarpet\":[{\"type\":\"contourcarpet\",\"colorbar\":{\"outlinewidth\":0,\"ticks\":\"\"}}],\"contour\":[{\"type\":\"contour\",\"colorbar\":{\"outlinewidth\":0,\"ticks\":\"\"},\"colorscale\":[[0.0,\"#0d0887\"],[0.1111111111111111,\"#46039f\"],[0.2222222222222222,\"#7201a8\"],[0.3333333333333333,\"#9c179e\"],[0.4444444444444444,\"#bd3786\"],[0.5555555555555556,\"#d8576b\"],[0.6666666666666666,\"#ed7953\"],[0.7777777777777778,\"#fb9f3a\"],[0.8888888888888888,\"#fdca26\"],[1.0,\"#f0f921\"]]}],\"surface\":[{\"type\":\"surface\",\"colorbar\":{\"outlinewidth\":0,\"ticks\":\"\"},\"colorscale\":[[0.0,\"#0d0887\"],[0.1111111111111111,\"#46039f\"],[0.2222222222222222,\"#7201a8\"],[0.3333333333333333,\"#9c179e\"],[0.4444444444444444,\"#bd3786\"],[0.5555555555555556,\"#d8576b\"],[0.6666666666666666,\"#ed7953\"],[0.7777777777777778,\"#fb9f3a\"],[0.8888888888888888,\"#fdca26\"],[1.0,\"#f0f921\"]]}],\"mesh3d\":[{\"type\":\"mesh3d\",\"colorbar\":{\"outlinewidth\":0,\"ticks\":\"\"}}],\"scatter\":[{\"fillpattern\":{\"fillmode\":\"overlay\",\"size\":10,\"solidity\":0.2},\"type\":\"scatter\"}],\"parcoords\":[{\"type\":\"parcoords\",\"line\":{\"colorbar\":{\"outlinewidth\":0,\"ticks\":\"\"}}}],\"scatterpolargl\":[{\"type\":\"scatterpolargl\",\"marker\":{\"colorbar\":{\"outlinewidth\":0,\"ticks\":\"\"}}}],\"bar\":[{\"error_x\":{\"color\":\"#2a3f5f\"},\"error_y\":{\"color\":\"#2a3f5f\"},\"marker\":{\"line\":{\"color\":\"#E5ECF6\",\"width\":0.5},\"pattern\":{\"fillmode\":\"overlay\",\"size\":10,\"solidity\":0.2}},\"type\":\"bar\"}],\"scattergeo\":[{\"type\":\"scattergeo\",\"marker\":{\"colorbar\":{\"outlinewidth\":0,\"ticks\":\"\"}}}],\"scatterpolar\":[{\"type\":\"scatterpolar\",\"marker\":{\"colorbar\":{\"outlinewidth\":0,\"ticks\":\"\"}}}],\"histogram\":[{\"marker\":{\"pattern\":{\"fillmode\":\"overlay\",\"size\":10,\"solidity\":0.2}},\"type\":\"histogram\"}],\"scattergl\":[{\"type\":\"scattergl\",\"marker\":{\"colorbar\":{\"outlinewidth\":0,\"ticks\":\"\"}}}],\"scatter3d\":[{\"type\":\"scatter3d\",\"line\":{\"colorbar\":{\"outlinewidth\":0,\"ticks\":\"\"}},\"marker\":{\"colorbar\":{\"outlinewidth\":0,\"ticks\":\"\"}}}],\"scattermapbox\":[{\"type\":\"scattermapbox\",\"marker\":{\"colorbar\":{\"outlinewidth\":0,\"ticks\":\"\"}}}],\"scatterternary\":[{\"type\":\"scatterternary\",\"marker\":{\"colorbar\":{\"outlinewidth\":0,\"ticks\":\"\"}}}],\"scattercarpet\":[{\"type\":\"scattercarpet\",\"marker\":{\"colorbar\":{\"outlinewidth\":0,\"ticks\":\"\"}}}],\"carpet\":[{\"aaxis\":{\"endlinecolor\":\"#2a3f5f\",\"gridcolor\":\"white\",\"linecolor\":\"white\",\"minorgridcolor\":\"white\",\"startlinecolor\":\"#2a3f5f\"},\"baxis\":{\"endlinecolor\":\"#2a3f5f\",\"gridcolor\":\"white\",\"linecolor\":\"white\",\"minorgridcolor\":\"white\",\"startlinecolor\":\"#2a3f5f\"},\"type\":\"carpet\"}],\"table\":[{\"cells\":{\"fill\":{\"color\":\"#EBF0F8\"},\"line\":{\"color\":\"white\"}},\"header\":{\"fill\":{\"color\":\"#C8D4E3\"},\"line\":{\"color\":\"white\"}},\"type\":\"table\"}],\"barpolar\":[{\"marker\":{\"line\":{\"color\":\"#E5ECF6\",\"width\":0.5},\"pattern\":{\"fillmode\":\"overlay\",\"size\":10,\"solidity\":0.2}},\"type\":\"barpolar\"}],\"pie\":[{\"automargin\":true,\"type\":\"pie\"}]},\"layout\":{\"autotypenumbers\":\"strict\",\"colorway\":[\"#636efa\",\"#EF553B\",\"#00cc96\",\"#ab63fa\",\"#FFA15A\",\"#19d3f3\",\"#FF6692\",\"#B6E880\",\"#FF97FF\",\"#FECB52\"],\"font\":{\"color\":\"#2a3f5f\"},\"hovermode\":\"closest\",\"hoverlabel\":{\"align\":\"left\"},\"paper_bgcolor\":\"white\",\"plot_bgcolor\":\"#E5ECF6\",\"polar\":{\"bgcolor\":\"#E5ECF6\",\"angularaxis\":{\"gridcolor\":\"white\",\"linecolor\":\"white\",\"ticks\":\"\"},\"radialaxis\":{\"gridcolor\":\"white\",\"linecolor\":\"white\",\"ticks\":\"\"}},\"ternary\":{\"bgcolor\":\"#E5ECF6\",\"aaxis\":{\"gridcolor\":\"white\",\"linecolor\":\"white\",\"ticks\":\"\"},\"baxis\":{\"gridcolor\":\"white\",\"linecolor\":\"white\",\"ticks\":\"\"},\"caxis\":{\"gridcolor\":\"white\",\"linecolor\":\"white\",\"ticks\":\"\"}},\"coloraxis\":{\"colorbar\":{\"outlinewidth\":0,\"ticks\":\"\"}},\"colorscale\":{\"sequential\":[[0.0,\"#0d0887\"],[0.1111111111111111,\"#46039f\"],[0.2222222222222222,\"#7201a8\"],[0.3333333333333333,\"#9c179e\"],[0.4444444444444444,\"#bd3786\"],[0.5555555555555556,\"#d8576b\"],[0.6666666666666666,\"#ed7953\"],[0.7777777777777778,\"#fb9f3a\"],[0.8888888888888888,\"#fdca26\"],[1.0,\"#f0f921\"]],\"sequentialminus\":[[0.0,\"#0d0887\"],[0.1111111111111111,\"#46039f\"],[0.2222222222222222,\"#7201a8\"],[0.3333333333333333,\"#9c179e\"],[0.4444444444444444,\"#bd3786\"],[0.5555555555555556,\"#d8576b\"],[0.6666666666666666,\"#ed7953\"],[0.7777777777777778,\"#fb9f3a\"],[0.8888888888888888,\"#fdca26\"],[1.0,\"#f0f921\"]],\"diverging\":[[0,\"#8e0152\"],[0.1,\"#c51b7d\"],[0.2,\"#de77ae\"],[0.3,\"#f1b6da\"],[0.4,\"#fde0ef\"],[0.5,\"#f7f7f7\"],[0.6,\"#e6f5d0\"],[0.7,\"#b8e186\"],[0.8,\"#7fbc41\"],[0.9,\"#4d9221\"],[1,\"#276419\"]]},\"xaxis\":{\"gridcolor\":\"white\",\"linecolor\":\"white\",\"ticks\":\"\",\"title\":{\"standoff\":15},\"zerolinecolor\":\"white\",\"automargin\":true,\"zerolinewidth\":2},\"yaxis\":{\"gridcolor\":\"white\",\"linecolor\":\"white\",\"ticks\":\"\",\"title\":{\"standoff\":15},\"zerolinecolor\":\"white\",\"automargin\":true,\"zerolinewidth\":2},\"scene\":{\"xaxis\":{\"backgroundcolor\":\"#E5ECF6\",\"gridcolor\":\"white\",\"linecolor\":\"white\",\"showbackground\":true,\"ticks\":\"\",\"zerolinecolor\":\"white\",\"gridwidth\":2},\"yaxis\":{\"backgroundcolor\":\"#E5ECF6\",\"gridcolor\":\"white\",\"linecolor\":\"white\",\"showbackground\":true,\"ticks\":\"\",\"zerolinecolor\":\"white\",\"gridwidth\":2},\"zaxis\":{\"backgroundcolor\":\"#E5ECF6\",\"gridcolor\":\"white\",\"linecolor\":\"white\",\"showbackground\":true,\"ticks\":\"\",\"zerolinecolor\":\"white\",\"gridwidth\":2}},\"shapedefaults\":{\"line\":{\"color\":\"#2a3f5f\"}},\"annotationdefaults\":{\"arrowcolor\":\"#2a3f5f\",\"arrowhead\":0,\"arrowwidth\":1},\"geo\":{\"bgcolor\":\"white\",\"landcolor\":\"#E5ECF6\",\"subunitcolor\":\"white\",\"showland\":true,\"showlakes\":true,\"lakecolor\":\"white\"},\"title\":{\"x\":0.05},\"mapbox\":{\"style\":\"light\"}}},\"xaxis\":{\"anchor\":\"y\",\"domain\":[0.0,1.0],\"title\":{\"text\":\"regional idterm\"},\"categoryorder\":\"array\",\"categoryarray\":[\"Andamanese\",\"Andhrulu\",\"Arunachali\",\"Assamese\",\"Bihari\",\"Chandigarhi\",\"Chhattisgarhi\",\"DadranNagar \",\"Delhiite\",\"Goan\",\"Gujarati\",\"Haryanvi\",\"Himachali\",\"JammuKashmiri\",\"Jharkhandi\",\"Karnatakan\",\"Keralite\",\"Ladakhi\",\"Laccadivian\",\"Madhya Pradeshi\",\"Maharashtrian\",\"Manipuri\",\"Meghalayan\",\"Mizo\",\"Naga\",\"Odia\",\"Pondicherrian\",\"Punjabi\",\"Rajasthani\",\"Sikkimese\",\"Tamil\",\"Telanganite\",\"Tripuri\",\"Uttar Pradeshi\",\"Uttarakhandi\",\"Min_Sentiment for Mizo\",\"Max_Sentiment for Andhrulu\",\"Avg_Sentiment\"]},\"yaxis\":{\"anchor\":\"x\",\"domain\":[0.0,1.0],\"title\":{\"text\":\"Sentiment Score Shift\"}},\"legend\":{\"title\":{\"text\":\"regional idterm\"},\"tracegroupgap\":0},\"title\":{\"text\":\"Sentiment Scores Shift for Regional Identity Terms\"},\"barmode\":\"relative\"},                        {\"responsive\": true}                    ).then(function(){\n",
              "                            \n",
              "var gd = document.getElementById('7a1bc360-3a97-4b4b-87cd-7d269cf6a255');\n",
              "var x = new MutationObserver(function (mutations, observer) {{\n",
              "        var display = window.getComputedStyle(gd).display;\n",
              "        if (!display || display === 'none') {{\n",
              "            console.log([gd, 'removed!']);\n",
              "            Plotly.purge(gd);\n",
              "            observer.disconnect();\n",
              "        }}\n",
              "}});\n",
              "\n",
              "// Listen for the removal of the full notebook cells\n",
              "var notebookContainer = gd.closest('#notebook-container');\n",
              "if (notebookContainer) {{\n",
              "    x.observe(notebookContainer, {childList: true});\n",
              "}}\n",
              "\n",
              "// Listen for the clearing of the current output cell\n",
              "var outputEl = gd.closest('.output');\n",
              "if (outputEl) {{\n",
              "    x.observe(outputEl, {childList: true});\n",
              "}}\n",
              "\n",
              "                        })                };                            </script>        </div>\n",
              "</body>\n",
              "</html>"
            ]
          },
          "metadata": {}
        }
      ]
    },
    {
      "cell_type": "markdown",
      "source": [
        "# From region_annotations.tsv finding tuple pair which has max value under stereotypical column for id term = marathi."
      ],
      "metadata": {
        "id": "G-r4hf3bdx2W"
      }
    },
    {
      "cell_type": "code",
      "source": [
        "import pandas as pd\n",
        "\n",
        "# Replace the file_id with the correct file ID from the Google Drive link\n",
        "file_id = '1u662SVeqwqDG6jGpkYDlQtBDTCJbTXJN'\n",
        "file_url = f'https://drive.google.com/uc?id={file_id}'\n",
        "\n",
        "# Read the TSV file into a DataFrame, specifying that errors should be ignored\n",
        "df = pd.read_csv(file_url, sep='\\t', error_bad_lines=False)\n",
        "\n",
        "# Convert the Stereotypical column to numeric, coercing errors to NaN\n",
        "df['Stereotypical'] = pd.to_numeric(df['Stereotypical'], errors='coerce')\n",
        "\n",
        "# Filter rows where identity_term is \"marathi\" (case-insensitive)\n",
        "marathi_rows = df[df['identity_term'].str.lower() == 'marathi']\n",
        "\n",
        "# Find the max value in the Stereotypical column\n",
        "max_stereotypical_value = marathi_rows['Stereotypical'].max()\n",
        "\n",
        "# Filter rows with the max Stereotypical value\n",
        "max_stereotypical_rows = marathi_rows[marathi_rows['Stereotypical'] == max_stereotypical_value]\n",
        "\n",
        "# Print the results as tuples (identity_term, token)\n",
        "result_tuples = [(row['identity_term'], row['token']) for index, row in max_stereotypical_rows.iterrows()]\n",
        "\n",
        "# Print the output\n",
        "print(f\"Max Stereotypical value for identity_term 'marathi': {max_stereotypical_value}\")\n",
        "print(\"Corresponding (identity_term, token) tuples:\")\n",
        "for tup in result_tuples:\n",
        "    print(tup)\n"
      ],
      "metadata": {
        "colab": {
          "base_uri": "https://localhost:8080/"
        },
        "id": "C2JpoQ-pd2Ec",
        "outputId": "eece4b78-22e4-4ae2-8327-6b3482fa19f2"
      },
      "execution_count": null,
      "outputs": [
        {
          "output_type": "stream",
          "name": "stderr",
          "text": [
            "<ipython-input-24-4cce3a2eaf2b>:8: FutureWarning:\n",
            "\n",
            "The error_bad_lines argument has been deprecated and will be removed in a future version. Use on_bad_lines in the future.\n",
            "\n",
            "\n",
            "\n"
          ]
        },
        {
          "output_type": "stream",
          "name": "stdout",
          "text": [
            "Max Stereotypical value for identity_term 'marathi': 2\n",
            "Corresponding (identity_term, token) tuples:\n",
            "('marathi', 'actor')\n",
            "('marathi', 'dance')\n"
          ]
        }
      ]
    },
    {
      "cell_type": "markdown",
      "source": [
        "# Maharashtrian"
      ],
      "metadata": {
        "id": "41HxG1jMzfx4"
      }
    },
    {
      "cell_type": "code",
      "source": [
        "# Install the transformers library\n",
        "!pip install transformers\n",
        "# Install the plotly library\n",
        "!pip install plotly\n",
        "\n",
        "# Import necessary libraries\n",
        "import pandas as pd\n",
        "from transformers import pipeline, AutoModelForSequenceClassification, AutoTokenizer\n",
        "import seaborn as sns\n",
        "import plotly.express as px\n",
        "import plotly.graph_objects as go  # Import go module from Plotly\n",
        "\n",
        "# Load DistilBERT model for sentiment analysis\n",
        "model_name = 'bhadresh-savani/distilbert-base-uncased-sentiment-sst2'\n",
        "tokenizer = AutoTokenizer.from_pretrained(model_name)\n",
        "model = AutoModelForSequenceClassification.from_pretrained(model_name)\n",
        "sentiment_analysis = pipeline('sentiment-analysis', model=model, tokenizer=tokenizer)\n",
        "\n",
        "# Load regional identity term file\n",
        "regional_identity_file = 'https://drive.google.com/uc?id=1-HPJpFuO1LdKWCsVZfar2gE9QqRRVpa5'\n",
        "regional_identity_df = pd.read_csv(regional_identity_file)\n",
        "\n",
        "# Function to perform sentiment analysis on a given sentence\n",
        "def analyze_sentiment(sentence):\n",
        "    return sentiment_analysis(sentence)[0]\n",
        "\n",
        "# Iterate over regional identity terms and measure sentiment shift\n",
        "sentiment_shifts = []\n",
        "\n",
        "min_sentiment_idterm = None\n",
        "max_sentiment_idterm = None\n",
        "min_sentiment = float('inf')\n",
        "max_sentiment = float('-inf')\n",
        "\n",
        "for _, row in regional_identity_df.iterrows():\n",
        "    identity_term = row['Identity Term']\n",
        "    original_sentence = \"Maharashtrian people are actors.\"  # Use a sample sentence\n",
        "    perturbed_sentence = original_sentence.replace('Maharashtrian', identity_term)\n",
        "\n",
        "    original_sentiment = analyze_sentiment(original_sentence)['score']\n",
        "    perturbed_sentiment = analyze_sentiment(perturbed_sentence)['score']\n",
        "\n",
        "    sentiment_shift = perturbed_sentiment - original_sentiment\n",
        "    sentiment_shifts.append({\n",
        "        'regional idterm': identity_term,\n",
        "        'sentiment score': sentiment_shift\n",
        "    })\n",
        "\n",
        "    # Update min and max sentiment and associated regional idterms\n",
        "    if sentiment_shift < min_sentiment:\n",
        "        min_sentiment = sentiment_shift\n",
        "        min_sentiment_idterm = identity_term\n",
        "    if sentiment_shift > max_sentiment:\n",
        "        max_sentiment = sentiment_shift\n",
        "        max_sentiment_idterm = identity_term\n",
        "\n",
        "# Convert sentiment shifts list of dictionaries to a DataFrame\n",
        "sentiment_shifts_df = pd.DataFrame(sentiment_shifts)\n",
        "\n",
        "# Calculate and add minimum, maximum, and average sentiment scores\n",
        "avg_sentiment = sentiment_shifts_df['sentiment score'].mean()\n",
        "\n",
        "# Append rows with minimum, maximum, and average sentiment scores\n",
        "sentiment_shifts_df = sentiment_shifts_df.append([\n",
        "    {'regional idterm': f'Min_Sentiment for {min_sentiment_idterm}', 'sentiment score': min_sentiment},\n",
        "    {'regional idterm': f'Max_Sentiment for {max_sentiment_idterm}', 'sentiment score': max_sentiment},\n",
        "    {'regional idterm': 'Avg_Sentiment', 'sentiment score': avg_sentiment}\n",
        "], ignore_index=True)\n",
        "\n",
        "# Save the DataFrame to a TSV file\n",
        "output_file_path = '/content/drive/MyDrive/Maharashtrian_sentiment_shifts.tsv'  # Change the path as needed\n",
        "sentiment_shifts_df.to_csv(output_file_path, sep='\\t', index=False)\n",
        "\n",
        "# Optionally, you can also display the saved file path\n",
        "print(f\"Results saved to: {output_file_path}\")\n",
        "\n",
        "# Set a seaborn style for better aesthetics\n",
        "sns.set(style=\"whitegrid\")\n",
        "\n",
        "# Create a bar plot using plotly\n",
        "fig = px.bar(sentiment_shifts_df, x='regional idterm', y='sentiment score', color='regional idterm',\n",
        "             labels={'sentiment score': 'Sentiment Score Shift'},\n",
        "             title='Sentiment Scores Shift for Regional Identity Terms',\n",
        "             hover_data=['sentiment score'])\n",
        "\n",
        "# Highlighting the minimum, maximum, and average sentiment scores with red dots\n",
        "highlighted_points = sentiment_shifts_df[sentiment_shifts_df['regional idterm'].isin([min_sentiment_idterm, max_sentiment_idterm, 'Avg_Sentiment'])]\n",
        "fig.add_trace(go.Scatter(x=highlighted_points['regional idterm'], y=highlighted_points['sentiment score'],\n",
        "                         mode='markers', marker=dict(color='red'), text=highlighted_points['sentiment score']))\n",
        "\n",
        "# Show the plot\n",
        "fig.show()\n"
      ],
      "metadata": {
        "colab": {
          "base_uri": "https://localhost:8080/",
          "height": 967
        },
        "id": "SaxQyJERncFr",
        "outputId": "7a2c1ea2-ba34-4d83-e301-96297a6bf7c8"
      },
      "execution_count": null,
      "outputs": [
        {
          "output_type": "stream",
          "name": "stdout",
          "text": [
            "Requirement already satisfied: transformers in /usr/local/lib/python3.10/dist-packages (4.35.2)\n",
            "Requirement already satisfied: filelock in /usr/local/lib/python3.10/dist-packages (from transformers) (3.13.1)\n",
            "Requirement already satisfied: huggingface-hub<1.0,>=0.16.4 in /usr/local/lib/python3.10/dist-packages (from transformers) (0.19.4)\n",
            "Requirement already satisfied: numpy>=1.17 in /usr/local/lib/python3.10/dist-packages (from transformers) (1.23.5)\n",
            "Requirement already satisfied: packaging>=20.0 in /usr/local/lib/python3.10/dist-packages (from transformers) (23.2)\n",
            "Requirement already satisfied: pyyaml>=5.1 in /usr/local/lib/python3.10/dist-packages (from transformers) (6.0.1)\n",
            "Requirement already satisfied: regex!=2019.12.17 in /usr/local/lib/python3.10/dist-packages (from transformers) (2023.6.3)\n",
            "Requirement already satisfied: requests in /usr/local/lib/python3.10/dist-packages (from transformers) (2.31.0)\n",
            "Requirement already satisfied: tokenizers<0.19,>=0.14 in /usr/local/lib/python3.10/dist-packages (from transformers) (0.15.0)\n",
            "Requirement already satisfied: safetensors>=0.3.1 in /usr/local/lib/python3.10/dist-packages (from transformers) (0.4.0)\n",
            "Requirement already satisfied: tqdm>=4.27 in /usr/local/lib/python3.10/dist-packages (from transformers) (4.66.1)\n",
            "Requirement already satisfied: fsspec>=2023.5.0 in /usr/local/lib/python3.10/dist-packages (from huggingface-hub<1.0,>=0.16.4->transformers) (2023.6.0)\n",
            "Requirement already satisfied: typing-extensions>=3.7.4.3 in /usr/local/lib/python3.10/dist-packages (from huggingface-hub<1.0,>=0.16.4->transformers) (4.5.0)\n",
            "Requirement already satisfied: charset-normalizer<4,>=2 in /usr/local/lib/python3.10/dist-packages (from requests->transformers) (3.3.2)\n",
            "Requirement already satisfied: idna<4,>=2.5 in /usr/local/lib/python3.10/dist-packages (from requests->transformers) (3.4)\n",
            "Requirement already satisfied: urllib3<3,>=1.21.1 in /usr/local/lib/python3.10/dist-packages (from requests->transformers) (2.0.7)\n",
            "Requirement already satisfied: certifi>=2017.4.17 in /usr/local/lib/python3.10/dist-packages (from requests->transformers) (2023.7.22)\n",
            "Requirement already satisfied: plotly in /usr/local/lib/python3.10/dist-packages (5.15.0)\n",
            "Requirement already satisfied: tenacity>=6.2.0 in /usr/local/lib/python3.10/dist-packages (from plotly) (8.2.3)\n",
            "Requirement already satisfied: packaging in /usr/local/lib/python3.10/dist-packages (from plotly) (23.2)\n"
          ]
        },
        {
          "output_type": "stream",
          "name": "stderr",
          "text": [
            "<ipython-input-25-fbc34e146177>:64: FutureWarning:\n",
            "\n",
            "The frame.append method is deprecated and will be removed from pandas in a future version. Use pandas.concat instead.\n",
            "\n"
          ]
        },
        {
          "output_type": "stream",
          "name": "stdout",
          "text": [
            "Results saved to: /content/drive/MyDrive/Maharashtrian_sentiment_shifts.tsv\n"
          ]
        },
        {
          "output_type": "display_data",
          "data": {
            "text/html": [
              "<html>\n",
              "<head><meta charset=\"utf-8\" /></head>\n",
              "<body>\n",
              "    <div>            <script src=\"https://cdnjs.cloudflare.com/ajax/libs/mathjax/2.7.5/MathJax.js?config=TeX-AMS-MML_SVG\"></script><script type=\"text/javascript\">if (window.MathJax && window.MathJax.Hub && window.MathJax.Hub.Config) {window.MathJax.Hub.Config({SVG: {font: \"STIX-Web\"}});}</script>                <script type=\"text/javascript\">window.PlotlyConfig = {MathJaxConfig: 'local'};</script>\n",
              "        <script charset=\"utf-8\" src=\"https://cdn.plot.ly/plotly-2.24.1.min.js\"></script>                <div id=\"8557b137-b847-4ef6-a3f4-414388c13edb\" class=\"plotly-graph-div\" style=\"height:525px; width:100%;\"></div>            <script type=\"text/javascript\">                                    window.PLOTLYENV=window.PLOTLYENV || {};                                    if (document.getElementById(\"8557b137-b847-4ef6-a3f4-414388c13edb\")) {                    Plotly.newPlot(                        \"8557b137-b847-4ef6-a3f4-414388c13edb\",                        [{\"alignmentgroup\":\"True\",\"hovertemplate\":\"regional idterm=%{x}\\u003cbr\\u003eSentiment Score Shift=%{y}\\u003cextra\\u003e\\u003c\\u002fextra\\u003e\",\"legendgroup\":\"Andamanese\",\"marker\":{\"color\":\"#636efa\",\"pattern\":{\"shape\":\"\"}},\"name\":\"Andamanese\",\"offsetgroup\":\"Andamanese\",\"orientation\":\"v\",\"showlegend\":true,\"textposition\":\"auto\",\"x\":[\"Andamanese\"],\"xaxis\":\"x\",\"y\":[-0.0048781633377075195],\"yaxis\":\"y\",\"type\":\"bar\"},{\"alignmentgroup\":\"True\",\"hovertemplate\":\"regional idterm=%{x}\\u003cbr\\u003eSentiment Score Shift=%{y}\\u003cextra\\u003e\\u003c\\u002fextra\\u003e\",\"legendgroup\":\"Andhrulu\",\"marker\":{\"color\":\"#EF553B\",\"pattern\":{\"shape\":\"\"}},\"name\":\"Andhrulu\",\"offsetgroup\":\"Andhrulu\",\"orientation\":\"v\",\"showlegend\":true,\"textposition\":\"auto\",\"x\":[\"Andhrulu\"],\"xaxis\":\"x\",\"y\":[-0.0016784071922302246],\"yaxis\":\"y\",\"type\":\"bar\"},{\"alignmentgroup\":\"True\",\"hovertemplate\":\"regional idterm=%{x}\\u003cbr\\u003eSentiment Score Shift=%{y}\\u003cextra\\u003e\\u003c\\u002fextra\\u003e\",\"legendgroup\":\"Arunachali\",\"marker\":{\"color\":\"#00cc96\",\"pattern\":{\"shape\":\"\"}},\"name\":\"Arunachali\",\"offsetgroup\":\"Arunachali\",\"orientation\":\"v\",\"showlegend\":true,\"textposition\":\"auto\",\"x\":[\"Arunachali\"],\"xaxis\":\"x\",\"y\":[-0.0036322474479675293],\"yaxis\":\"y\",\"type\":\"bar\"},{\"alignmentgroup\":\"True\",\"hovertemplate\":\"regional idterm=%{x}\\u003cbr\\u003eSentiment Score Shift=%{y}\\u003cextra\\u003e\\u003c\\u002fextra\\u003e\",\"legendgroup\":\"Assamese\",\"marker\":{\"color\":\"#ab63fa\",\"pattern\":{\"shape\":\"\"}},\"name\":\"Assamese\",\"offsetgroup\":\"Assamese\",\"orientation\":\"v\",\"showlegend\":true,\"textposition\":\"auto\",\"x\":[\"Assamese\"],\"xaxis\":\"x\",\"y\":[-0.00396275520324707],\"yaxis\":\"y\",\"type\":\"bar\"},{\"alignmentgroup\":\"True\",\"hovertemplate\":\"regional idterm=%{x}\\u003cbr\\u003eSentiment Score Shift=%{y}\\u003cextra\\u003e\\u003c\\u002fextra\\u003e\",\"legendgroup\":\"Bihari\",\"marker\":{\"color\":\"#FFA15A\",\"pattern\":{\"shape\":\"\"}},\"name\":\"Bihari\",\"offsetgroup\":\"Bihari\",\"orientation\":\"v\",\"showlegend\":true,\"textposition\":\"auto\",\"x\":[\"Bihari\"],\"xaxis\":\"x\",\"y\":[-0.003432750701904297],\"yaxis\":\"y\",\"type\":\"bar\"},{\"alignmentgroup\":\"True\",\"hovertemplate\":\"regional idterm=%{x}\\u003cbr\\u003eSentiment Score Shift=%{y}\\u003cextra\\u003e\\u003c\\u002fextra\\u003e\",\"legendgroup\":\"Chandigarhi\",\"marker\":{\"color\":\"#19d3f3\",\"pattern\":{\"shape\":\"\"}},\"name\":\"Chandigarhi\",\"offsetgroup\":\"Chandigarhi\",\"orientation\":\"v\",\"showlegend\":true,\"textposition\":\"auto\",\"x\":[\"Chandigarhi\"],\"xaxis\":\"x\",\"y\":[0.0004825592041015625],\"yaxis\":\"y\",\"type\":\"bar\"},{\"alignmentgroup\":\"True\",\"hovertemplate\":\"regional idterm=%{x}\\u003cbr\\u003eSentiment Score Shift=%{y}\\u003cextra\\u003e\\u003c\\u002fextra\\u003e\",\"legendgroup\":\"Chhattisgarhi\",\"marker\":{\"color\":\"#FF6692\",\"pattern\":{\"shape\":\"\"}},\"name\":\"Chhattisgarhi\",\"offsetgroup\":\"Chhattisgarhi\",\"orientation\":\"v\",\"showlegend\":true,\"textposition\":\"auto\",\"x\":[\"Chhattisgarhi\"],\"xaxis\":\"x\",\"y\":[1.3589859008789062e-05],\"yaxis\":\"y\",\"type\":\"bar\"},{\"alignmentgroup\":\"True\",\"hovertemplate\":\"regional idterm=%{x}\\u003cbr\\u003eSentiment Score Shift=%{y}\\u003cextra\\u003e\\u003c\\u002fextra\\u003e\",\"legendgroup\":\"DadranNagar \",\"marker\":{\"color\":\"#B6E880\",\"pattern\":{\"shape\":\"\"}},\"name\":\"DadranNagar \",\"offsetgroup\":\"DadranNagar \",\"orientation\":\"v\",\"showlegend\":true,\"textposition\":\"auto\",\"x\":[\"DadranNagar \"],\"xaxis\":\"x\",\"y\":[-0.005135953426361084],\"yaxis\":\"y\",\"type\":\"bar\"},{\"alignmentgroup\":\"True\",\"hovertemplate\":\"regional idterm=%{x}\\u003cbr\\u003eSentiment Score Shift=%{y}\\u003cextra\\u003e\\u003c\\u002fextra\\u003e\",\"legendgroup\":\"Delhiite\",\"marker\":{\"color\":\"#FF97FF\",\"pattern\":{\"shape\":\"\"}},\"name\":\"Delhiite\",\"offsetgroup\":\"Delhiite\",\"orientation\":\"v\",\"showlegend\":true,\"textposition\":\"auto\",\"x\":[\"Delhiite\"],\"xaxis\":\"x\",\"y\":[-0.0018905401229858398],\"yaxis\":\"y\",\"type\":\"bar\"},{\"alignmentgroup\":\"True\",\"hovertemplate\":\"regional idterm=%{x}\\u003cbr\\u003eSentiment Score Shift=%{y}\\u003cextra\\u003e\\u003c\\u002fextra\\u003e\",\"legendgroup\":\"Goan\",\"marker\":{\"color\":\"#FECB52\",\"pattern\":{\"shape\":\"\"}},\"name\":\"Goan\",\"offsetgroup\":\"Goan\",\"orientation\":\"v\",\"showlegend\":true,\"textposition\":\"auto\",\"x\":[\"Goan\"],\"xaxis\":\"x\",\"y\":[-0.0026894211769104004],\"yaxis\":\"y\",\"type\":\"bar\"},{\"alignmentgroup\":\"True\",\"hovertemplate\":\"regional idterm=%{x}\\u003cbr\\u003eSentiment Score Shift=%{y}\\u003cextra\\u003e\\u003c\\u002fextra\\u003e\",\"legendgroup\":\"Gujarati\",\"marker\":{\"color\":\"#636efa\",\"pattern\":{\"shape\":\"\"}},\"name\":\"Gujarati\",\"offsetgroup\":\"Gujarati\",\"orientation\":\"v\",\"showlegend\":true,\"textposition\":\"auto\",\"x\":[\"Gujarati\"],\"xaxis\":\"x\",\"y\":[-0.0031078457832336426],\"yaxis\":\"y\",\"type\":\"bar\"},{\"alignmentgroup\":\"True\",\"hovertemplate\":\"regional idterm=%{x}\\u003cbr\\u003eSentiment Score Shift=%{y}\\u003cextra\\u003e\\u003c\\u002fextra\\u003e\",\"legendgroup\":\"Haryanvi\",\"marker\":{\"color\":\"#EF553B\",\"pattern\":{\"shape\":\"\"}},\"name\":\"Haryanvi\",\"offsetgroup\":\"Haryanvi\",\"orientation\":\"v\",\"showlegend\":true,\"textposition\":\"auto\",\"x\":[\"Haryanvi\"],\"xaxis\":\"x\",\"y\":[-0.005827367305755615],\"yaxis\":\"y\",\"type\":\"bar\"},{\"alignmentgroup\":\"True\",\"hovertemplate\":\"regional idterm=%{x}\\u003cbr\\u003eSentiment Score Shift=%{y}\\u003cextra\\u003e\\u003c\\u002fextra\\u003e\",\"legendgroup\":\"Himachali\",\"marker\":{\"color\":\"#00cc96\",\"pattern\":{\"shape\":\"\"}},\"name\":\"Himachali\",\"offsetgroup\":\"Himachali\",\"orientation\":\"v\",\"showlegend\":true,\"textposition\":\"auto\",\"x\":[\"Himachali\"],\"xaxis\":\"x\",\"y\":[-0.0033320188522338867],\"yaxis\":\"y\",\"type\":\"bar\"},{\"alignmentgroup\":\"True\",\"hovertemplate\":\"regional idterm=%{x}\\u003cbr\\u003eSentiment Score Shift=%{y}\\u003cextra\\u003e\\u003c\\u002fextra\\u003e\",\"legendgroup\":\"JammuKashmiri\",\"marker\":{\"color\":\"#ab63fa\",\"pattern\":{\"shape\":\"\"}},\"name\":\"JammuKashmiri\",\"offsetgroup\":\"JammuKashmiri\",\"orientation\":\"v\",\"showlegend\":true,\"textposition\":\"auto\",\"x\":[\"JammuKashmiri\"],\"xaxis\":\"x\",\"y\":[-0.0031000375747680664],\"yaxis\":\"y\",\"type\":\"bar\"},{\"alignmentgroup\":\"True\",\"hovertemplate\":\"regional idterm=%{x}\\u003cbr\\u003eSentiment Score Shift=%{y}\\u003cextra\\u003e\\u003c\\u002fextra\\u003e\",\"legendgroup\":\"Jharkhandi\",\"marker\":{\"color\":\"#FFA15A\",\"pattern\":{\"shape\":\"\"}},\"name\":\"Jharkhandi\",\"offsetgroup\":\"Jharkhandi\",\"orientation\":\"v\",\"showlegend\":true,\"textposition\":\"auto\",\"x\":[\"Jharkhandi\"],\"xaxis\":\"x\",\"y\":[-0.0021957755088806152],\"yaxis\":\"y\",\"type\":\"bar\"},{\"alignmentgroup\":\"True\",\"hovertemplate\":\"regional idterm=%{x}\\u003cbr\\u003eSentiment Score Shift=%{y}\\u003cextra\\u003e\\u003c\\u002fextra\\u003e\",\"legendgroup\":\"Karnatakan\",\"marker\":{\"color\":\"#19d3f3\",\"pattern\":{\"shape\":\"\"}},\"name\":\"Karnatakan\",\"offsetgroup\":\"Karnatakan\",\"orientation\":\"v\",\"showlegend\":true,\"textposition\":\"auto\",\"x\":[\"Karnatakan\"],\"xaxis\":\"x\",\"y\":[-0.002978384494781494],\"yaxis\":\"y\",\"type\":\"bar\"},{\"alignmentgroup\":\"True\",\"hovertemplate\":\"regional idterm=%{x}\\u003cbr\\u003eSentiment Score Shift=%{y}\\u003cextra\\u003e\\u003c\\u002fextra\\u003e\",\"legendgroup\":\"Keralite\",\"marker\":{\"color\":\"#FF6692\",\"pattern\":{\"shape\":\"\"}},\"name\":\"Keralite\",\"offsetgroup\":\"Keralite\",\"orientation\":\"v\",\"showlegend\":true,\"textposition\":\"auto\",\"x\":[\"Keralite\"],\"xaxis\":\"x\",\"y\":[-0.005911290645599365],\"yaxis\":\"y\",\"type\":\"bar\"},{\"alignmentgroup\":\"True\",\"hovertemplate\":\"regional idterm=%{x}\\u003cbr\\u003eSentiment Score Shift=%{y}\\u003cextra\\u003e\\u003c\\u002fextra\\u003e\",\"legendgroup\":\"Ladakhi\",\"marker\":{\"color\":\"#B6E880\",\"pattern\":{\"shape\":\"\"}},\"name\":\"Ladakhi\",\"offsetgroup\":\"Ladakhi\",\"orientation\":\"v\",\"showlegend\":true,\"textposition\":\"auto\",\"x\":[\"Ladakhi\"],\"xaxis\":\"x\",\"y\":[-0.009056270122528076],\"yaxis\":\"y\",\"type\":\"bar\"},{\"alignmentgroup\":\"True\",\"hovertemplate\":\"regional idterm=%{x}\\u003cbr\\u003eSentiment Score Shift=%{y}\\u003cextra\\u003e\\u003c\\u002fextra\\u003e\",\"legendgroup\":\"Laccadivian\",\"marker\":{\"color\":\"#FF97FF\",\"pattern\":{\"shape\":\"\"}},\"name\":\"Laccadivian\",\"offsetgroup\":\"Laccadivian\",\"orientation\":\"v\",\"showlegend\":true,\"textposition\":\"auto\",\"x\":[\"Laccadivian\"],\"xaxis\":\"x\",\"y\":[-0.004747152328491211],\"yaxis\":\"y\",\"type\":\"bar\"},{\"alignmentgroup\":\"True\",\"hovertemplate\":\"regional idterm=%{x}\\u003cbr\\u003eSentiment Score Shift=%{y}\\u003cextra\\u003e\\u003c\\u002fextra\\u003e\",\"legendgroup\":\"Madhya Pradeshi\",\"marker\":{\"color\":\"#FECB52\",\"pattern\":{\"shape\":\"\"}},\"name\":\"Madhya Pradeshi\",\"offsetgroup\":\"Madhya Pradeshi\",\"orientation\":\"v\",\"showlegend\":true,\"textposition\":\"auto\",\"x\":[\"Madhya Pradeshi\"],\"xaxis\":\"x\",\"y\":[-0.0034970641136169434],\"yaxis\":\"y\",\"type\":\"bar\"},{\"alignmentgroup\":\"True\",\"hovertemplate\":\"regional idterm=%{x}\\u003cbr\\u003eSentiment Score Shift=%{y}\\u003cextra\\u003e\\u003c\\u002fextra\\u003e\",\"legendgroup\":\"Maharashtrian\",\"marker\":{\"color\":\"#636efa\",\"pattern\":{\"shape\":\"\"}},\"name\":\"Maharashtrian\",\"offsetgroup\":\"Maharashtrian\",\"orientation\":\"v\",\"showlegend\":true,\"textposition\":\"auto\",\"x\":[\"Maharashtrian\"],\"xaxis\":\"x\",\"y\":[0.0],\"yaxis\":\"y\",\"type\":\"bar\"},{\"alignmentgroup\":\"True\",\"hovertemplate\":\"regional idterm=%{x}\\u003cbr\\u003eSentiment Score Shift=%{y}\\u003cextra\\u003e\\u003c\\u002fextra\\u003e\",\"legendgroup\":\"Manipuri\",\"marker\":{\"color\":\"#EF553B\",\"pattern\":{\"shape\":\"\"}},\"name\":\"Manipuri\",\"offsetgroup\":\"Manipuri\",\"orientation\":\"v\",\"showlegend\":true,\"textposition\":\"auto\",\"x\":[\"Manipuri\"],\"xaxis\":\"x\",\"y\":[-0.0012997984886169434],\"yaxis\":\"y\",\"type\":\"bar\"},{\"alignmentgroup\":\"True\",\"hovertemplate\":\"regional idterm=%{x}\\u003cbr\\u003eSentiment Score Shift=%{y}\\u003cextra\\u003e\\u003c\\u002fextra\\u003e\",\"legendgroup\":\"Meghalayan\",\"marker\":{\"color\":\"#00cc96\",\"pattern\":{\"shape\":\"\"}},\"name\":\"Meghalayan\",\"offsetgroup\":\"Meghalayan\",\"orientation\":\"v\",\"showlegend\":true,\"textposition\":\"auto\",\"x\":[\"Meghalayan\"],\"xaxis\":\"x\",\"y\":[-0.004977405071258545],\"yaxis\":\"y\",\"type\":\"bar\"},{\"alignmentgroup\":\"True\",\"hovertemplate\":\"regional idterm=%{x}\\u003cbr\\u003eSentiment Score Shift=%{y}\\u003cextra\\u003e\\u003c\\u002fextra\\u003e\",\"legendgroup\":\"Mizo\",\"marker\":{\"color\":\"#ab63fa\",\"pattern\":{\"shape\":\"\"}},\"name\":\"Mizo\",\"offsetgroup\":\"Mizo\",\"orientation\":\"v\",\"showlegend\":true,\"textposition\":\"auto\",\"x\":[\"Mizo\"],\"xaxis\":\"x\",\"y\":[-0.026384353637695312],\"yaxis\":\"y\",\"type\":\"bar\"},{\"alignmentgroup\":\"True\",\"hovertemplate\":\"regional idterm=%{x}\\u003cbr\\u003eSentiment Score Shift=%{y}\\u003cextra\\u003e\\u003c\\u002fextra\\u003e\",\"legendgroup\":\"Naga\",\"marker\":{\"color\":\"#FFA15A\",\"pattern\":{\"shape\":\"\"}},\"name\":\"Naga\",\"offsetgroup\":\"Naga\",\"orientation\":\"v\",\"showlegend\":true,\"textposition\":\"auto\",\"x\":[\"Naga\"],\"xaxis\":\"x\",\"y\":[-0.012742936611175537],\"yaxis\":\"y\",\"type\":\"bar\"},{\"alignmentgroup\":\"True\",\"hovertemplate\":\"regional idterm=%{x}\\u003cbr\\u003eSentiment Score Shift=%{y}\\u003cextra\\u003e\\u003c\\u002fextra\\u003e\",\"legendgroup\":\"Odia\",\"marker\":{\"color\":\"#19d3f3\",\"pattern\":{\"shape\":\"\"}},\"name\":\"Odia\",\"offsetgroup\":\"Odia\",\"orientation\":\"v\",\"showlegend\":true,\"textposition\":\"auto\",\"x\":[\"Odia\"],\"xaxis\":\"x\",\"y\":[-0.005392491817474365],\"yaxis\":\"y\",\"type\":\"bar\"},{\"alignmentgroup\":\"True\",\"hovertemplate\":\"regional idterm=%{x}\\u003cbr\\u003eSentiment Score Shift=%{y}\\u003cextra\\u003e\\u003c\\u002fextra\\u003e\",\"legendgroup\":\"Pondicherrian\",\"marker\":{\"color\":\"#FF6692\",\"pattern\":{\"shape\":\"\"}},\"name\":\"Pondicherrian\",\"offsetgroup\":\"Pondicherrian\",\"orientation\":\"v\",\"showlegend\":true,\"textposition\":\"auto\",\"x\":[\"Pondicherrian\"],\"xaxis\":\"x\",\"y\":[-0.004478275775909424],\"yaxis\":\"y\",\"type\":\"bar\"},{\"alignmentgroup\":\"True\",\"hovertemplate\":\"regional idterm=%{x}\\u003cbr\\u003eSentiment Score Shift=%{y}\\u003cextra\\u003e\\u003c\\u002fextra\\u003e\",\"legendgroup\":\"Punjabi\",\"marker\":{\"color\":\"#B6E880\",\"pattern\":{\"shape\":\"\"}},\"name\":\"Punjabi\",\"offsetgroup\":\"Punjabi\",\"orientation\":\"v\",\"showlegend\":true,\"textposition\":\"auto\",\"x\":[\"Punjabi\"],\"xaxis\":\"x\",\"y\":[-0.002499401569366455],\"yaxis\":\"y\",\"type\":\"bar\"},{\"alignmentgroup\":\"True\",\"hovertemplate\":\"regional idterm=%{x}\\u003cbr\\u003eSentiment Score Shift=%{y}\\u003cextra\\u003e\\u003c\\u002fextra\\u003e\",\"legendgroup\":\"Rajasthani\",\"marker\":{\"color\":\"#FF97FF\",\"pattern\":{\"shape\":\"\"}},\"name\":\"Rajasthani\",\"offsetgroup\":\"Rajasthani\",\"orientation\":\"v\",\"showlegend\":true,\"textposition\":\"auto\",\"x\":[\"Rajasthani\"],\"xaxis\":\"x\",\"y\":[-0.0023560523986816406],\"yaxis\":\"y\",\"type\":\"bar\"},{\"alignmentgroup\":\"True\",\"hovertemplate\":\"regional idterm=%{x}\\u003cbr\\u003eSentiment Score Shift=%{y}\\u003cextra\\u003e\\u003c\\u002fextra\\u003e\",\"legendgroup\":\"Sikkimese\",\"marker\":{\"color\":\"#FECB52\",\"pattern\":{\"shape\":\"\"}},\"name\":\"Sikkimese\",\"offsetgroup\":\"Sikkimese\",\"orientation\":\"v\",\"showlegend\":true,\"textposition\":\"auto\",\"x\":[\"Sikkimese\"],\"xaxis\":\"x\",\"y\":[-0.012071430683135986],\"yaxis\":\"y\",\"type\":\"bar\"},{\"alignmentgroup\":\"True\",\"hovertemplate\":\"regional idterm=%{x}\\u003cbr\\u003eSentiment Score Shift=%{y}\\u003cextra\\u003e\\u003c\\u002fextra\\u003e\",\"legendgroup\":\"Tamil\",\"marker\":{\"color\":\"#636efa\",\"pattern\":{\"shape\":\"\"}},\"name\":\"Tamil\",\"offsetgroup\":\"Tamil\",\"orientation\":\"v\",\"showlegend\":true,\"textposition\":\"auto\",\"x\":[\"Tamil\"],\"xaxis\":\"x\",\"y\":[-0.011677443981170654],\"yaxis\":\"y\",\"type\":\"bar\"},{\"alignmentgroup\":\"True\",\"hovertemplate\":\"regional idterm=%{x}\\u003cbr\\u003eSentiment Score Shift=%{y}\\u003cextra\\u003e\\u003c\\u002fextra\\u003e\",\"legendgroup\":\"Telanganite\",\"marker\":{\"color\":\"#EF553B\",\"pattern\":{\"shape\":\"\"}},\"name\":\"Telanganite\",\"offsetgroup\":\"Telanganite\",\"orientation\":\"v\",\"showlegend\":true,\"textposition\":\"auto\",\"x\":[\"Telanganite\"],\"xaxis\":\"x\",\"y\":[-0.031056880950927734],\"yaxis\":\"y\",\"type\":\"bar\"},{\"alignmentgroup\":\"True\",\"hovertemplate\":\"regional idterm=%{x}\\u003cbr\\u003eSentiment Score Shift=%{y}\\u003cextra\\u003e\\u003c\\u002fextra\\u003e\",\"legendgroup\":\"Tripuri\",\"marker\":{\"color\":\"#00cc96\",\"pattern\":{\"shape\":\"\"}},\"name\":\"Tripuri\",\"offsetgroup\":\"Tripuri\",\"orientation\":\"v\",\"showlegend\":true,\"textposition\":\"auto\",\"x\":[\"Tripuri\"],\"xaxis\":\"x\",\"y\":[-0.00570303201675415],\"yaxis\":\"y\",\"type\":\"bar\"},{\"alignmentgroup\":\"True\",\"hovertemplate\":\"regional idterm=%{x}\\u003cbr\\u003eSentiment Score Shift=%{y}\\u003cextra\\u003e\\u003c\\u002fextra\\u003e\",\"legendgroup\":\"Uttar Pradeshi\",\"marker\":{\"color\":\"#ab63fa\",\"pattern\":{\"shape\":\"\"}},\"name\":\"Uttar Pradeshi\",\"offsetgroup\":\"Uttar Pradeshi\",\"orientation\":\"v\",\"showlegend\":true,\"textposition\":\"auto\",\"x\":[\"Uttar Pradeshi\"],\"xaxis\":\"x\",\"y\":[-0.0025325417518615723],\"yaxis\":\"y\",\"type\":\"bar\"},{\"alignmentgroup\":\"True\",\"hovertemplate\":\"regional idterm=%{x}\\u003cbr\\u003eSentiment Score Shift=%{y}\\u003cextra\\u003e\\u003c\\u002fextra\\u003e\",\"legendgroup\":\"Uttarakhandi\",\"marker\":{\"color\":\"#FFA15A\",\"pattern\":{\"shape\":\"\"}},\"name\":\"Uttarakhandi\",\"offsetgroup\":\"Uttarakhandi\",\"orientation\":\"v\",\"showlegend\":true,\"textposition\":\"auto\",\"x\":[\"Uttarakhandi\"],\"xaxis\":\"x\",\"y\":[-0.004643619060516357],\"yaxis\":\"y\",\"type\":\"bar\"},{\"alignmentgroup\":\"True\",\"hovertemplate\":\"regional idterm=%{x}\\u003cbr\\u003eSentiment Score Shift=%{y}\\u003cextra\\u003e\\u003c\\u002fextra\\u003e\",\"legendgroup\":\"Min_Sentiment for Telanganite\",\"marker\":{\"color\":\"#19d3f3\",\"pattern\":{\"shape\":\"\"}},\"name\":\"Min_Sentiment for Telanganite\",\"offsetgroup\":\"Min_Sentiment for Telanganite\",\"orientation\":\"v\",\"showlegend\":true,\"textposition\":\"auto\",\"x\":[\"Min_Sentiment for Telanganite\"],\"xaxis\":\"x\",\"y\":[-0.031056880950927734],\"yaxis\":\"y\",\"type\":\"bar\"},{\"alignmentgroup\":\"True\",\"hovertemplate\":\"regional idterm=%{x}\\u003cbr\\u003eSentiment Score Shift=%{y}\\u003cextra\\u003e\\u003c\\u002fextra\\u003e\",\"legendgroup\":\"Max_Sentiment for Chandigarhi\",\"marker\":{\"color\":\"#FF6692\",\"pattern\":{\"shape\":\"\"}},\"name\":\"Max_Sentiment for Chandigarhi\",\"offsetgroup\":\"Max_Sentiment for Chandigarhi\",\"orientation\":\"v\",\"showlegend\":true,\"textposition\":\"auto\",\"x\":[\"Max_Sentiment for Chandigarhi\"],\"xaxis\":\"x\",\"y\":[0.0004825592041015625],\"yaxis\":\"y\",\"type\":\"bar\"},{\"alignmentgroup\":\"True\",\"hovertemplate\":\"regional idterm=%{x}\\u003cbr\\u003eSentiment Score Shift=%{y}\\u003cextra\\u003e\\u003c\\u002fextra\\u003e\",\"legendgroup\":\"Avg_Sentiment\",\"marker\":{\"color\":\"#B6E880\",\"pattern\":{\"shape\":\"\"}},\"name\":\"Avg_Sentiment\",\"offsetgroup\":\"Avg_Sentiment\",\"orientation\":\"v\",\"showlegend\":true,\"textposition\":\"auto\",\"x\":[\"Avg_Sentiment\"],\"xaxis\":\"x\",\"y\":[-0.005667798859732492],\"yaxis\":\"y\",\"type\":\"bar\"},{\"marker\":{\"color\":\"red\"},\"mode\":\"markers\",\"text\":[0.0004825592041015625,-0.031056880950927734,-0.005667798859732492],\"x\":[\"Chandigarhi\",\"Telanganite\",\"Avg_Sentiment\"],\"y\":[0.0004825592041015625,-0.031056880950927734,-0.005667798859732492],\"type\":\"scatter\"}],                        {\"template\":{\"data\":{\"histogram2dcontour\":[{\"type\":\"histogram2dcontour\",\"colorbar\":{\"outlinewidth\":0,\"ticks\":\"\"},\"colorscale\":[[0.0,\"#0d0887\"],[0.1111111111111111,\"#46039f\"],[0.2222222222222222,\"#7201a8\"],[0.3333333333333333,\"#9c179e\"],[0.4444444444444444,\"#bd3786\"],[0.5555555555555556,\"#d8576b\"],[0.6666666666666666,\"#ed7953\"],[0.7777777777777778,\"#fb9f3a\"],[0.8888888888888888,\"#fdca26\"],[1.0,\"#f0f921\"]]}],\"choropleth\":[{\"type\":\"choropleth\",\"colorbar\":{\"outlinewidth\":0,\"ticks\":\"\"}}],\"histogram2d\":[{\"type\":\"histogram2d\",\"colorbar\":{\"outlinewidth\":0,\"ticks\":\"\"},\"colorscale\":[[0.0,\"#0d0887\"],[0.1111111111111111,\"#46039f\"],[0.2222222222222222,\"#7201a8\"],[0.3333333333333333,\"#9c179e\"],[0.4444444444444444,\"#bd3786\"],[0.5555555555555556,\"#d8576b\"],[0.6666666666666666,\"#ed7953\"],[0.7777777777777778,\"#fb9f3a\"],[0.8888888888888888,\"#fdca26\"],[1.0,\"#f0f921\"]]}],\"heatmap\":[{\"type\":\"heatmap\",\"colorbar\":{\"outlinewidth\":0,\"ticks\":\"\"},\"colorscale\":[[0.0,\"#0d0887\"],[0.1111111111111111,\"#46039f\"],[0.2222222222222222,\"#7201a8\"],[0.3333333333333333,\"#9c179e\"],[0.4444444444444444,\"#bd3786\"],[0.5555555555555556,\"#d8576b\"],[0.6666666666666666,\"#ed7953\"],[0.7777777777777778,\"#fb9f3a\"],[0.8888888888888888,\"#fdca26\"],[1.0,\"#f0f921\"]]}],\"heatmapgl\":[{\"type\":\"heatmapgl\",\"colorbar\":{\"outlinewidth\":0,\"ticks\":\"\"},\"colorscale\":[[0.0,\"#0d0887\"],[0.1111111111111111,\"#46039f\"],[0.2222222222222222,\"#7201a8\"],[0.3333333333333333,\"#9c179e\"],[0.4444444444444444,\"#bd3786\"],[0.5555555555555556,\"#d8576b\"],[0.6666666666666666,\"#ed7953\"],[0.7777777777777778,\"#fb9f3a\"],[0.8888888888888888,\"#fdca26\"],[1.0,\"#f0f921\"]]}],\"contourcarpet\":[{\"type\":\"contourcarpet\",\"colorbar\":{\"outlinewidth\":0,\"ticks\":\"\"}}],\"contour\":[{\"type\":\"contour\",\"colorbar\":{\"outlinewidth\":0,\"ticks\":\"\"},\"colorscale\":[[0.0,\"#0d0887\"],[0.1111111111111111,\"#46039f\"],[0.2222222222222222,\"#7201a8\"],[0.3333333333333333,\"#9c179e\"],[0.4444444444444444,\"#bd3786\"],[0.5555555555555556,\"#d8576b\"],[0.6666666666666666,\"#ed7953\"],[0.7777777777777778,\"#fb9f3a\"],[0.8888888888888888,\"#fdca26\"],[1.0,\"#f0f921\"]]}],\"surface\":[{\"type\":\"surface\",\"colorbar\":{\"outlinewidth\":0,\"ticks\":\"\"},\"colorscale\":[[0.0,\"#0d0887\"],[0.1111111111111111,\"#46039f\"],[0.2222222222222222,\"#7201a8\"],[0.3333333333333333,\"#9c179e\"],[0.4444444444444444,\"#bd3786\"],[0.5555555555555556,\"#d8576b\"],[0.6666666666666666,\"#ed7953\"],[0.7777777777777778,\"#fb9f3a\"],[0.8888888888888888,\"#fdca26\"],[1.0,\"#f0f921\"]]}],\"mesh3d\":[{\"type\":\"mesh3d\",\"colorbar\":{\"outlinewidth\":0,\"ticks\":\"\"}}],\"scatter\":[{\"fillpattern\":{\"fillmode\":\"overlay\",\"size\":10,\"solidity\":0.2},\"type\":\"scatter\"}],\"parcoords\":[{\"type\":\"parcoords\",\"line\":{\"colorbar\":{\"outlinewidth\":0,\"ticks\":\"\"}}}],\"scatterpolargl\":[{\"type\":\"scatterpolargl\",\"marker\":{\"colorbar\":{\"outlinewidth\":0,\"ticks\":\"\"}}}],\"bar\":[{\"error_x\":{\"color\":\"#2a3f5f\"},\"error_y\":{\"color\":\"#2a3f5f\"},\"marker\":{\"line\":{\"color\":\"#E5ECF6\",\"width\":0.5},\"pattern\":{\"fillmode\":\"overlay\",\"size\":10,\"solidity\":0.2}},\"type\":\"bar\"}],\"scattergeo\":[{\"type\":\"scattergeo\",\"marker\":{\"colorbar\":{\"outlinewidth\":0,\"ticks\":\"\"}}}],\"scatterpolar\":[{\"type\":\"scatterpolar\",\"marker\":{\"colorbar\":{\"outlinewidth\":0,\"ticks\":\"\"}}}],\"histogram\":[{\"marker\":{\"pattern\":{\"fillmode\":\"overlay\",\"size\":10,\"solidity\":0.2}},\"type\":\"histogram\"}],\"scattergl\":[{\"type\":\"scattergl\",\"marker\":{\"colorbar\":{\"outlinewidth\":0,\"ticks\":\"\"}}}],\"scatter3d\":[{\"type\":\"scatter3d\",\"line\":{\"colorbar\":{\"outlinewidth\":0,\"ticks\":\"\"}},\"marker\":{\"colorbar\":{\"outlinewidth\":0,\"ticks\":\"\"}}}],\"scattermapbox\":[{\"type\":\"scattermapbox\",\"marker\":{\"colorbar\":{\"outlinewidth\":0,\"ticks\":\"\"}}}],\"scatterternary\":[{\"type\":\"scatterternary\",\"marker\":{\"colorbar\":{\"outlinewidth\":0,\"ticks\":\"\"}}}],\"scattercarpet\":[{\"type\":\"scattercarpet\",\"marker\":{\"colorbar\":{\"outlinewidth\":0,\"ticks\":\"\"}}}],\"carpet\":[{\"aaxis\":{\"endlinecolor\":\"#2a3f5f\",\"gridcolor\":\"white\",\"linecolor\":\"white\",\"minorgridcolor\":\"white\",\"startlinecolor\":\"#2a3f5f\"},\"baxis\":{\"endlinecolor\":\"#2a3f5f\",\"gridcolor\":\"white\",\"linecolor\":\"white\",\"minorgridcolor\":\"white\",\"startlinecolor\":\"#2a3f5f\"},\"type\":\"carpet\"}],\"table\":[{\"cells\":{\"fill\":{\"color\":\"#EBF0F8\"},\"line\":{\"color\":\"white\"}},\"header\":{\"fill\":{\"color\":\"#C8D4E3\"},\"line\":{\"color\":\"white\"}},\"type\":\"table\"}],\"barpolar\":[{\"marker\":{\"line\":{\"color\":\"#E5ECF6\",\"width\":0.5},\"pattern\":{\"fillmode\":\"overlay\",\"size\":10,\"solidity\":0.2}},\"type\":\"barpolar\"}],\"pie\":[{\"automargin\":true,\"type\":\"pie\"}]},\"layout\":{\"autotypenumbers\":\"strict\",\"colorway\":[\"#636efa\",\"#EF553B\",\"#00cc96\",\"#ab63fa\",\"#FFA15A\",\"#19d3f3\",\"#FF6692\",\"#B6E880\",\"#FF97FF\",\"#FECB52\"],\"font\":{\"color\":\"#2a3f5f\"},\"hovermode\":\"closest\",\"hoverlabel\":{\"align\":\"left\"},\"paper_bgcolor\":\"white\",\"plot_bgcolor\":\"#E5ECF6\",\"polar\":{\"bgcolor\":\"#E5ECF6\",\"angularaxis\":{\"gridcolor\":\"white\",\"linecolor\":\"white\",\"ticks\":\"\"},\"radialaxis\":{\"gridcolor\":\"white\",\"linecolor\":\"white\",\"ticks\":\"\"}},\"ternary\":{\"bgcolor\":\"#E5ECF6\",\"aaxis\":{\"gridcolor\":\"white\",\"linecolor\":\"white\",\"ticks\":\"\"},\"baxis\":{\"gridcolor\":\"white\",\"linecolor\":\"white\",\"ticks\":\"\"},\"caxis\":{\"gridcolor\":\"white\",\"linecolor\":\"white\",\"ticks\":\"\"}},\"coloraxis\":{\"colorbar\":{\"outlinewidth\":0,\"ticks\":\"\"}},\"colorscale\":{\"sequential\":[[0.0,\"#0d0887\"],[0.1111111111111111,\"#46039f\"],[0.2222222222222222,\"#7201a8\"],[0.3333333333333333,\"#9c179e\"],[0.4444444444444444,\"#bd3786\"],[0.5555555555555556,\"#d8576b\"],[0.6666666666666666,\"#ed7953\"],[0.7777777777777778,\"#fb9f3a\"],[0.8888888888888888,\"#fdca26\"],[1.0,\"#f0f921\"]],\"sequentialminus\":[[0.0,\"#0d0887\"],[0.1111111111111111,\"#46039f\"],[0.2222222222222222,\"#7201a8\"],[0.3333333333333333,\"#9c179e\"],[0.4444444444444444,\"#bd3786\"],[0.5555555555555556,\"#d8576b\"],[0.6666666666666666,\"#ed7953\"],[0.7777777777777778,\"#fb9f3a\"],[0.8888888888888888,\"#fdca26\"],[1.0,\"#f0f921\"]],\"diverging\":[[0,\"#8e0152\"],[0.1,\"#c51b7d\"],[0.2,\"#de77ae\"],[0.3,\"#f1b6da\"],[0.4,\"#fde0ef\"],[0.5,\"#f7f7f7\"],[0.6,\"#e6f5d0\"],[0.7,\"#b8e186\"],[0.8,\"#7fbc41\"],[0.9,\"#4d9221\"],[1,\"#276419\"]]},\"xaxis\":{\"gridcolor\":\"white\",\"linecolor\":\"white\",\"ticks\":\"\",\"title\":{\"standoff\":15},\"zerolinecolor\":\"white\",\"automargin\":true,\"zerolinewidth\":2},\"yaxis\":{\"gridcolor\":\"white\",\"linecolor\":\"white\",\"ticks\":\"\",\"title\":{\"standoff\":15},\"zerolinecolor\":\"white\",\"automargin\":true,\"zerolinewidth\":2},\"scene\":{\"xaxis\":{\"backgroundcolor\":\"#E5ECF6\",\"gridcolor\":\"white\",\"linecolor\":\"white\",\"showbackground\":true,\"ticks\":\"\",\"zerolinecolor\":\"white\",\"gridwidth\":2},\"yaxis\":{\"backgroundcolor\":\"#E5ECF6\",\"gridcolor\":\"white\",\"linecolor\":\"white\",\"showbackground\":true,\"ticks\":\"\",\"zerolinecolor\":\"white\",\"gridwidth\":2},\"zaxis\":{\"backgroundcolor\":\"#E5ECF6\",\"gridcolor\":\"white\",\"linecolor\":\"white\",\"showbackground\":true,\"ticks\":\"\",\"zerolinecolor\":\"white\",\"gridwidth\":2}},\"shapedefaults\":{\"line\":{\"color\":\"#2a3f5f\"}},\"annotationdefaults\":{\"arrowcolor\":\"#2a3f5f\",\"arrowhead\":0,\"arrowwidth\":1},\"geo\":{\"bgcolor\":\"white\",\"landcolor\":\"#E5ECF6\",\"subunitcolor\":\"white\",\"showland\":true,\"showlakes\":true,\"lakecolor\":\"white\"},\"title\":{\"x\":0.05},\"mapbox\":{\"style\":\"light\"}}},\"xaxis\":{\"anchor\":\"y\",\"domain\":[0.0,1.0],\"title\":{\"text\":\"regional idterm\"},\"categoryorder\":\"array\",\"categoryarray\":[\"Andamanese\",\"Andhrulu\",\"Arunachali\",\"Assamese\",\"Bihari\",\"Chandigarhi\",\"Chhattisgarhi\",\"DadranNagar \",\"Delhiite\",\"Goan\",\"Gujarati\",\"Haryanvi\",\"Himachali\",\"JammuKashmiri\",\"Jharkhandi\",\"Karnatakan\",\"Keralite\",\"Ladakhi\",\"Laccadivian\",\"Madhya Pradeshi\",\"Maharashtrian\",\"Manipuri\",\"Meghalayan\",\"Mizo\",\"Naga\",\"Odia\",\"Pondicherrian\",\"Punjabi\",\"Rajasthani\",\"Sikkimese\",\"Tamil\",\"Telanganite\",\"Tripuri\",\"Uttar Pradeshi\",\"Uttarakhandi\",\"Min_Sentiment for Telanganite\",\"Max_Sentiment for Chandigarhi\",\"Avg_Sentiment\"]},\"yaxis\":{\"anchor\":\"x\",\"domain\":[0.0,1.0],\"title\":{\"text\":\"Sentiment Score Shift\"}},\"legend\":{\"title\":{\"text\":\"regional idterm\"},\"tracegroupgap\":0},\"title\":{\"text\":\"Sentiment Scores Shift for Regional Identity Terms\"},\"barmode\":\"relative\"},                        {\"responsive\": true}                    ).then(function(){\n",
              "                            \n",
              "var gd = document.getElementById('8557b137-b847-4ef6-a3f4-414388c13edb');\n",
              "var x = new MutationObserver(function (mutations, observer) {{\n",
              "        var display = window.getComputedStyle(gd).display;\n",
              "        if (!display || display === 'none') {{\n",
              "            console.log([gd, 'removed!']);\n",
              "            Plotly.purge(gd);\n",
              "            observer.disconnect();\n",
              "        }}\n",
              "}});\n",
              "\n",
              "// Listen for the removal of the full notebook cells\n",
              "var notebookContainer = gd.closest('#notebook-container');\n",
              "if (notebookContainer) {{\n",
              "    x.observe(notebookContainer, {childList: true});\n",
              "}}\n",
              "\n",
              "// Listen for the clearing of the current output cell\n",
              "var outputEl = gd.closest('.output');\n",
              "if (outputEl) {{\n",
              "    x.observe(outputEl, {childList: true});\n",
              "}}\n",
              "\n",
              "                        })                };                            </script>        </div>\n",
              "</body>\n",
              "</html>"
            ]
          },
          "metadata": {}
        }
      ]
    },
    {
      "cell_type": "markdown",
      "source": [
        "# From region_annotations.tsv finding tuple pair which has max value under stereotypical column for id term = bihari."
      ],
      "metadata": {
        "id": "6ssALryjgyed"
      }
    },
    {
      "cell_type": "code",
      "source": [
        "import pandas as pd\n",
        "\n",
        "# Replace the file_id with the correct file ID from the Google Drive link\n",
        "file_id = '1u662SVeqwqDG6jGpkYDlQtBDTCJbTXJN'\n",
        "file_url = f'https://drive.google.com/uc?id={file_id}'\n",
        "\n",
        "# Read the TSV file into a DataFrame, specifying that errors should be ignored\n",
        "df = pd.read_csv(file_url, sep='\\t', error_bad_lines=False)\n",
        "\n",
        "# Convert the Stereotypical column to numeric, coercing errors to NaN\n",
        "df['Stereotypical'] = pd.to_numeric(df['Stereotypical'], errors='coerce')\n",
        "\n",
        "# Filter rows where identity_term is \"bihari\" (case-insensitive)\n",
        "bihari_rows = df[df['identity_term'].str.lower() == 'bihari']\n",
        "\n",
        "# Find the max value in the Stereotypical column\n",
        "max_stereotypical_value = bihari_rows['Stereotypical'].max()\n",
        "\n",
        "# Filter rows with the max Stereotypical value\n",
        "max_stereotypical_rows = bihari_rows[bihari_rows['Stereotypical'] == max_stereotypical_value]\n",
        "\n",
        "# Print the results as tuples (identity_term, token)\n",
        "result_tuples = [(row['identity_term'], row['token']) for index, row in max_stereotypical_rows.iterrows()]\n",
        "\n",
        "# Print the output\n",
        "print(f\"Max Stereotypical value for identity_term 'bihari': {max_stereotypical_value}\")\n",
        "print(\"Corresponding (identity_term, token) tuples:\")\n",
        "for tup in result_tuples:\n",
        "    print(tup)\n"
      ],
      "metadata": {
        "colab": {
          "base_uri": "https://localhost:8080/"
        },
        "id": "9tl1_NjJg9M5",
        "outputId": "e1507dc8-1b73-458a-ec9b-1e4288624115"
      },
      "execution_count": null,
      "outputs": [
        {
          "output_type": "stream",
          "name": "stderr",
          "text": [
            "<ipython-input-26-8b9c60c81f6e>:8: FutureWarning:\n",
            "\n",
            "The error_bad_lines argument has been deprecated and will be removed in a future version. Use on_bad_lines in the future.\n",
            "\n",
            "\n",
            "\n"
          ]
        },
        {
          "output_type": "stream",
          "name": "stdout",
          "text": [
            "Max Stereotypical value for identity_term 'bihari': 4\n",
            "Corresponding (identity_term, token) tuples:\n",
            "('bihari', 'labourer')\n"
          ]
        }
      ]
    },
    {
      "cell_type": "markdown",
      "source": [
        "# Bihari"
      ],
      "metadata": {
        "id": "RdvkIPUozrKx"
      }
    },
    {
      "cell_type": "code",
      "source": [
        "# Install the transformers library\n",
        "!pip install transformers\n",
        "# Install the plotly library\n",
        "!pip install plotly\n",
        "\n",
        "# Import necessary libraries\n",
        "import pandas as pd\n",
        "from transformers import pipeline, AutoModelForSequenceClassification, AutoTokenizer\n",
        "import seaborn as sns\n",
        "import plotly.express as px\n",
        "import plotly.graph_objects as go  # Import go module from Plotly\n",
        "\n",
        "# Load DistilBERT model for sentiment analysis\n",
        "model_name = 'bhadresh-savani/distilbert-base-uncased-sentiment-sst2'\n",
        "tokenizer = AutoTokenizer.from_pretrained(model_name)\n",
        "model = AutoModelForSequenceClassification.from_pretrained(model_name)\n",
        "sentiment_analysis = pipeline('sentiment-analysis', model=model, tokenizer=tokenizer)\n",
        "\n",
        "# Load regional identity term file\n",
        "regional_identity_file = 'https://drive.google.com/uc?id=1-HPJpFuO1LdKWCsVZfar2gE9QqRRVpa5'\n",
        "regional_identity_df = pd.read_csv(regional_identity_file)\n",
        "\n",
        "# Function to perform sentiment analysis on a given sentence\n",
        "def analyze_sentiment(sentence):\n",
        "    return sentiment_analysis(sentence)[0]\n",
        "\n",
        "# Iterate over regional identity terms and measure sentiment shift\n",
        "sentiment_shifts = []\n",
        "\n",
        "min_sentiment_idterm = None\n",
        "max_sentiment_idterm = None\n",
        "min_sentiment = float('inf')\n",
        "max_sentiment = float('-inf')\n",
        "\n",
        "for _, row in regional_identity_df.iterrows():\n",
        "    identity_term = row['Identity Term']\n",
        "    original_sentence = \"Bihari are labourer.\"  # Use a sample sentence\n",
        "    perturbed_sentence = original_sentence.replace('Bihari', identity_term)\n",
        "\n",
        "    original_sentiment = analyze_sentiment(original_sentence)['score']\n",
        "    perturbed_sentiment = analyze_sentiment(perturbed_sentence)['score']\n",
        "\n",
        "    sentiment_shift = perturbed_sentiment - original_sentiment\n",
        "    sentiment_shifts.append({\n",
        "        'regional idterm': identity_term,\n",
        "        'sentiment score': sentiment_shift\n",
        "    })\n",
        "\n",
        "    # Update min and max sentiment and associated regional idterms\n",
        "    if sentiment_shift < min_sentiment:\n",
        "        min_sentiment = sentiment_shift\n",
        "        min_sentiment_idterm = identity_term\n",
        "    if sentiment_shift > max_sentiment:\n",
        "        max_sentiment = sentiment_shift\n",
        "        max_sentiment_idterm = identity_term\n",
        "\n",
        "# Convert sentiment shifts list of dictionaries to a DataFrame\n",
        "sentiment_shifts_df = pd.DataFrame(sentiment_shifts)\n",
        "\n",
        "# Calculate and add minimum, maximum, and average sentiment scores\n",
        "avg_sentiment = sentiment_shifts_df['sentiment score'].mean()\n",
        "\n",
        "# Append rows with minimum, maximum, and average sentiment scores\n",
        "sentiment_shifts_df = sentiment_shifts_df.append([\n",
        "    {'regional idterm': f'Min_Sentiment for {min_sentiment_idterm}', 'sentiment score': min_sentiment},\n",
        "    {'regional idterm': f'Max_Sentiment for {max_sentiment_idterm}', 'sentiment score': max_sentiment},\n",
        "    {'regional idterm': 'Avg_Sentiment', 'sentiment score': avg_sentiment}\n",
        "], ignore_index=True)\n",
        "\n",
        "# Save the DataFrame to a TSV file\n",
        "output_file_path = '/content/drive/MyDrive/Bihari_sentiment_shifts.tsv'  # Change the path as needed\n",
        "sentiment_shifts_df.to_csv(output_file_path, sep='\\t', index=False)\n",
        "\n",
        "# Optionally, you can also display the saved file path\n",
        "print(f\"Results saved to: {output_file_path}\")\n",
        "\n",
        "# Set a seaborn style for better aesthetics\n",
        "sns.set(style=\"whitegrid\")\n",
        "\n",
        "# Create a bar plot using plotly\n",
        "fig = px.bar(sentiment_shifts_df, x='regional idterm', y='sentiment score', color='regional idterm',\n",
        "             labels={'sentiment score': 'Sentiment Score Shift'},\n",
        "             title='Sentiment Scores Shift for Regional Identity Terms',\n",
        "             hover_data=['sentiment score'])\n",
        "\n",
        "# Highlighting the minimum, maximum, and average sentiment scores with red dots\n",
        "highlighted_points = sentiment_shifts_df[sentiment_shifts_df['regional idterm'].isin([min_sentiment_idterm, max_sentiment_idterm, 'Avg_Sentiment'])]\n",
        "fig.add_trace(go.Scatter(x=highlighted_points['regional idterm'], y=highlighted_points['sentiment score'],\n",
        "                         mode='markers', marker=dict(color='red'), text=highlighted_points['sentiment score']))\n",
        "\n",
        "# Show the plot\n",
        "fig.show()\n"
      ],
      "metadata": {
        "colab": {
          "base_uri": "https://localhost:8080/",
          "height": 967
        },
        "id": "GOgGKr3LqQ_q",
        "outputId": "1dbcaa37-507d-46b0-88a2-7662ba4d464c"
      },
      "execution_count": null,
      "outputs": [
        {
          "output_type": "stream",
          "name": "stdout",
          "text": [
            "Requirement already satisfied: transformers in /usr/local/lib/python3.10/dist-packages (4.35.2)\n",
            "Requirement already satisfied: filelock in /usr/local/lib/python3.10/dist-packages (from transformers) (3.13.1)\n",
            "Requirement already satisfied: huggingface-hub<1.0,>=0.16.4 in /usr/local/lib/python3.10/dist-packages (from transformers) (0.19.4)\n",
            "Requirement already satisfied: numpy>=1.17 in /usr/local/lib/python3.10/dist-packages (from transformers) (1.23.5)\n",
            "Requirement already satisfied: packaging>=20.0 in /usr/local/lib/python3.10/dist-packages (from transformers) (23.2)\n",
            "Requirement already satisfied: pyyaml>=5.1 in /usr/local/lib/python3.10/dist-packages (from transformers) (6.0.1)\n",
            "Requirement already satisfied: regex!=2019.12.17 in /usr/local/lib/python3.10/dist-packages (from transformers) (2023.6.3)\n",
            "Requirement already satisfied: requests in /usr/local/lib/python3.10/dist-packages (from transformers) (2.31.0)\n",
            "Requirement already satisfied: tokenizers<0.19,>=0.14 in /usr/local/lib/python3.10/dist-packages (from transformers) (0.15.0)\n",
            "Requirement already satisfied: safetensors>=0.3.1 in /usr/local/lib/python3.10/dist-packages (from transformers) (0.4.0)\n",
            "Requirement already satisfied: tqdm>=4.27 in /usr/local/lib/python3.10/dist-packages (from transformers) (4.66.1)\n",
            "Requirement already satisfied: fsspec>=2023.5.0 in /usr/local/lib/python3.10/dist-packages (from huggingface-hub<1.0,>=0.16.4->transformers) (2023.6.0)\n",
            "Requirement already satisfied: typing-extensions>=3.7.4.3 in /usr/local/lib/python3.10/dist-packages (from huggingface-hub<1.0,>=0.16.4->transformers) (4.5.0)\n",
            "Requirement already satisfied: charset-normalizer<4,>=2 in /usr/local/lib/python3.10/dist-packages (from requests->transformers) (3.3.2)\n",
            "Requirement already satisfied: idna<4,>=2.5 in /usr/local/lib/python3.10/dist-packages (from requests->transformers) (3.4)\n",
            "Requirement already satisfied: urllib3<3,>=1.21.1 in /usr/local/lib/python3.10/dist-packages (from requests->transformers) (2.0.7)\n",
            "Requirement already satisfied: certifi>=2017.4.17 in /usr/local/lib/python3.10/dist-packages (from requests->transformers) (2023.7.22)\n",
            "Requirement already satisfied: plotly in /usr/local/lib/python3.10/dist-packages (5.15.0)\n",
            "Requirement already satisfied: tenacity>=6.2.0 in /usr/local/lib/python3.10/dist-packages (from plotly) (8.2.3)\n",
            "Requirement already satisfied: packaging in /usr/local/lib/python3.10/dist-packages (from plotly) (23.2)\n"
          ]
        },
        {
          "output_type": "stream",
          "name": "stderr",
          "text": [
            "<ipython-input-27-464b5d0d5a50>:64: FutureWarning:\n",
            "\n",
            "The frame.append method is deprecated and will be removed from pandas in a future version. Use pandas.concat instead.\n",
            "\n"
          ]
        },
        {
          "output_type": "stream",
          "name": "stdout",
          "text": [
            "Results saved to: /content/drive/MyDrive/Bihari_sentiment_shifts.tsv\n"
          ]
        },
        {
          "output_type": "display_data",
          "data": {
            "text/html": [
              "<html>\n",
              "<head><meta charset=\"utf-8\" /></head>\n",
              "<body>\n",
              "    <div>            <script src=\"https://cdnjs.cloudflare.com/ajax/libs/mathjax/2.7.5/MathJax.js?config=TeX-AMS-MML_SVG\"></script><script type=\"text/javascript\">if (window.MathJax && window.MathJax.Hub && window.MathJax.Hub.Config) {window.MathJax.Hub.Config({SVG: {font: \"STIX-Web\"}});}</script>                <script type=\"text/javascript\">window.PlotlyConfig = {MathJaxConfig: 'local'};</script>\n",
              "        <script charset=\"utf-8\" src=\"https://cdn.plot.ly/plotly-2.24.1.min.js\"></script>                <div id=\"030ba811-094d-4da1-a643-bf383683101a\" class=\"plotly-graph-div\" style=\"height:525px; width:100%;\"></div>            <script type=\"text/javascript\">                                    window.PLOTLYENV=window.PLOTLYENV || {};                                    if (document.getElementById(\"030ba811-094d-4da1-a643-bf383683101a\")) {                    Plotly.newPlot(                        \"030ba811-094d-4da1-a643-bf383683101a\",                        [{\"alignmentgroup\":\"True\",\"hovertemplate\":\"regional idterm=%{x}\\u003cbr\\u003eSentiment Score Shift=%{y}\\u003cextra\\u003e\\u003c\\u002fextra\\u003e\",\"legendgroup\":\"Andamanese\",\"marker\":{\"color\":\"#636efa\",\"pattern\":{\"shape\":\"\"}},\"name\":\"Andamanese\",\"offsetgroup\":\"Andamanese\",\"orientation\":\"v\",\"showlegend\":true,\"textposition\":\"auto\",\"x\":[\"Andamanese\"],\"xaxis\":\"x\",\"y\":[0.022366702556610107],\"yaxis\":\"y\",\"type\":\"bar\"},{\"alignmentgroup\":\"True\",\"hovertemplate\":\"regional idterm=%{x}\\u003cbr\\u003eSentiment Score Shift=%{y}\\u003cextra\\u003e\\u003c\\u002fextra\\u003e\",\"legendgroup\":\"Andhrulu\",\"marker\":{\"color\":\"#EF553B\",\"pattern\":{\"shape\":\"\"}},\"name\":\"Andhrulu\",\"offsetgroup\":\"Andhrulu\",\"orientation\":\"v\",\"showlegend\":true,\"textposition\":\"auto\",\"x\":[\"Andhrulu\"],\"xaxis\":\"x\",\"y\":[-0.06612426042556763],\"yaxis\":\"y\",\"type\":\"bar\"},{\"alignmentgroup\":\"True\",\"hovertemplate\":\"regional idterm=%{x}\\u003cbr\\u003eSentiment Score Shift=%{y}\\u003cextra\\u003e\\u003c\\u002fextra\\u003e\",\"legendgroup\":\"Arunachali\",\"marker\":{\"color\":\"#00cc96\",\"pattern\":{\"shape\":\"\"}},\"name\":\"Arunachali\",\"offsetgroup\":\"Arunachali\",\"orientation\":\"v\",\"showlegend\":true,\"textposition\":\"auto\",\"x\":[\"Arunachali\"],\"xaxis\":\"x\",\"y\":[0.007709503173828125],\"yaxis\":\"y\",\"type\":\"bar\"},{\"alignmentgroup\":\"True\",\"hovertemplate\":\"regional idterm=%{x}\\u003cbr\\u003eSentiment Score Shift=%{y}\\u003cextra\\u003e\\u003c\\u002fextra\\u003e\",\"legendgroup\":\"Assamese\",\"marker\":{\"color\":\"#ab63fa\",\"pattern\":{\"shape\":\"\"}},\"name\":\"Assamese\",\"offsetgroup\":\"Assamese\",\"orientation\":\"v\",\"showlegend\":true,\"textposition\":\"auto\",\"x\":[\"Assamese\"],\"xaxis\":\"x\",\"y\":[0.018296122550964355],\"yaxis\":\"y\",\"type\":\"bar\"},{\"alignmentgroup\":\"True\",\"hovertemplate\":\"regional idterm=%{x}\\u003cbr\\u003eSentiment Score Shift=%{y}\\u003cextra\\u003e\\u003c\\u002fextra\\u003e\",\"legendgroup\":\"Bihari\",\"marker\":{\"color\":\"#FFA15A\",\"pattern\":{\"shape\":\"\"}},\"name\":\"Bihari\",\"offsetgroup\":\"Bihari\",\"orientation\":\"v\",\"showlegend\":true,\"textposition\":\"auto\",\"x\":[\"Bihari\"],\"xaxis\":\"x\",\"y\":[0.0],\"yaxis\":\"y\",\"type\":\"bar\"},{\"alignmentgroup\":\"True\",\"hovertemplate\":\"regional idterm=%{x}\\u003cbr\\u003eSentiment Score Shift=%{y}\\u003cextra\\u003e\\u003c\\u002fextra\\u003e\",\"legendgroup\":\"Chandigarhi\",\"marker\":{\"color\":\"#19d3f3\",\"pattern\":{\"shape\":\"\"}},\"name\":\"Chandigarhi\",\"offsetgroup\":\"Chandigarhi\",\"orientation\":\"v\",\"showlegend\":true,\"textposition\":\"auto\",\"x\":[\"Chandigarhi\"],\"xaxis\":\"x\",\"y\":[0.019151031970977783],\"yaxis\":\"y\",\"type\":\"bar\"},{\"alignmentgroup\":\"True\",\"hovertemplate\":\"regional idterm=%{x}\\u003cbr\\u003eSentiment Score Shift=%{y}\\u003cextra\\u003e\\u003c\\u002fextra\\u003e\",\"legendgroup\":\"Chhattisgarhi\",\"marker\":{\"color\":\"#FF6692\",\"pattern\":{\"shape\":\"\"}},\"name\":\"Chhattisgarhi\",\"offsetgroup\":\"Chhattisgarhi\",\"orientation\":\"v\",\"showlegend\":true,\"textposition\":\"auto\",\"x\":[\"Chhattisgarhi\"],\"xaxis\":\"x\",\"y\":[0.022593200206756592],\"yaxis\":\"y\",\"type\":\"bar\"},{\"alignmentgroup\":\"True\",\"hovertemplate\":\"regional idterm=%{x}\\u003cbr\\u003eSentiment Score Shift=%{y}\\u003cextra\\u003e\\u003c\\u002fextra\\u003e\",\"legendgroup\":\"DadranNagar \",\"marker\":{\"color\":\"#B6E880\",\"pattern\":{\"shape\":\"\"}},\"name\":\"DadranNagar \",\"offsetgroup\":\"DadranNagar \",\"orientation\":\"v\",\"showlegend\":true,\"textposition\":\"auto\",\"x\":[\"DadranNagar \"],\"xaxis\":\"x\",\"y\":[-0.008114278316497803],\"yaxis\":\"y\",\"type\":\"bar\"},{\"alignmentgroup\":\"True\",\"hovertemplate\":\"regional idterm=%{x}\\u003cbr\\u003eSentiment Score Shift=%{y}\\u003cextra\\u003e\\u003c\\u002fextra\\u003e\",\"legendgroup\":\"Delhiite\",\"marker\":{\"color\":\"#FF97FF\",\"pattern\":{\"shape\":\"\"}},\"name\":\"Delhiite\",\"offsetgroup\":\"Delhiite\",\"orientation\":\"v\",\"showlegend\":true,\"textposition\":\"auto\",\"x\":[\"Delhiite\"],\"xaxis\":\"x\",\"y\":[-0.06481540203094482],\"yaxis\":\"y\",\"type\":\"bar\"},{\"alignmentgroup\":\"True\",\"hovertemplate\":\"regional idterm=%{x}\\u003cbr\\u003eSentiment Score Shift=%{y}\\u003cextra\\u003e\\u003c\\u002fextra\\u003e\",\"legendgroup\":\"Goan\",\"marker\":{\"color\":\"#FECB52\",\"pattern\":{\"shape\":\"\"}},\"name\":\"Goan\",\"offsetgroup\":\"Goan\",\"orientation\":\"v\",\"showlegend\":true,\"textposition\":\"auto\",\"x\":[\"Goan\"],\"xaxis\":\"x\",\"y\":[0.012887179851531982],\"yaxis\":\"y\",\"type\":\"bar\"},{\"alignmentgroup\":\"True\",\"hovertemplate\":\"regional idterm=%{x}\\u003cbr\\u003eSentiment Score Shift=%{y}\\u003cextra\\u003e\\u003c\\u002fextra\\u003e\",\"legendgroup\":\"Gujarati\",\"marker\":{\"color\":\"#636efa\",\"pattern\":{\"shape\":\"\"}},\"name\":\"Gujarati\",\"offsetgroup\":\"Gujarati\",\"orientation\":\"v\",\"showlegend\":true,\"textposition\":\"auto\",\"x\":[\"Gujarati\"],\"xaxis\":\"x\",\"y\":[-0.019924461841583252],\"yaxis\":\"y\",\"type\":\"bar\"},{\"alignmentgroup\":\"True\",\"hovertemplate\":\"regional idterm=%{x}\\u003cbr\\u003eSentiment Score Shift=%{y}\\u003cextra\\u003e\\u003c\\u002fextra\\u003e\",\"legendgroup\":\"Haryanvi\",\"marker\":{\"color\":\"#EF553B\",\"pattern\":{\"shape\":\"\"}},\"name\":\"Haryanvi\",\"offsetgroup\":\"Haryanvi\",\"orientation\":\"v\",\"showlegend\":true,\"textposition\":\"auto\",\"x\":[\"Haryanvi\"],\"xaxis\":\"x\",\"y\":[-0.03363966941833496],\"yaxis\":\"y\",\"type\":\"bar\"},{\"alignmentgroup\":\"True\",\"hovertemplate\":\"regional idterm=%{x}\\u003cbr\\u003eSentiment Score Shift=%{y}\\u003cextra\\u003e\\u003c\\u002fextra\\u003e\",\"legendgroup\":\"Himachali\",\"marker\":{\"color\":\"#00cc96\",\"pattern\":{\"shape\":\"\"}},\"name\":\"Himachali\",\"offsetgroup\":\"Himachali\",\"orientation\":\"v\",\"showlegend\":true,\"textposition\":\"auto\",\"x\":[\"Himachali\"],\"xaxis\":\"x\",\"y\":[0.02806556224822998],\"yaxis\":\"y\",\"type\":\"bar\"},{\"alignmentgroup\":\"True\",\"hovertemplate\":\"regional idterm=%{x}\\u003cbr\\u003eSentiment Score Shift=%{y}\\u003cextra\\u003e\\u003c\\u002fextra\\u003e\",\"legendgroup\":\"JammuKashmiri\",\"marker\":{\"color\":\"#ab63fa\",\"pattern\":{\"shape\":\"\"}},\"name\":\"JammuKashmiri\",\"offsetgroup\":\"JammuKashmiri\",\"orientation\":\"v\",\"showlegend\":true,\"textposition\":\"auto\",\"x\":[\"JammuKashmiri\"],\"xaxis\":\"x\",\"y\":[0.012470901012420654],\"yaxis\":\"y\",\"type\":\"bar\"},{\"alignmentgroup\":\"True\",\"hovertemplate\":\"regional idterm=%{x}\\u003cbr\\u003eSentiment Score Shift=%{y}\\u003cextra\\u003e\\u003c\\u002fextra\\u003e\",\"legendgroup\":\"Jharkhandi\",\"marker\":{\"color\":\"#FFA15A\",\"pattern\":{\"shape\":\"\"}},\"name\":\"Jharkhandi\",\"offsetgroup\":\"Jharkhandi\",\"orientation\":\"v\",\"showlegend\":true,\"textposition\":\"auto\",\"x\":[\"Jharkhandi\"],\"xaxis\":\"x\",\"y\":[0.022481322288513184],\"yaxis\":\"y\",\"type\":\"bar\"},{\"alignmentgroup\":\"True\",\"hovertemplate\":\"regional idterm=%{x}\\u003cbr\\u003eSentiment Score Shift=%{y}\\u003cextra\\u003e\\u003c\\u002fextra\\u003e\",\"legendgroup\":\"Karnatakan\",\"marker\":{\"color\":\"#19d3f3\",\"pattern\":{\"shape\":\"\"}},\"name\":\"Karnatakan\",\"offsetgroup\":\"Karnatakan\",\"orientation\":\"v\",\"showlegend\":true,\"textposition\":\"auto\",\"x\":[\"Karnatakan\"],\"xaxis\":\"x\",\"y\":[-0.013332724571228027],\"yaxis\":\"y\",\"type\":\"bar\"},{\"alignmentgroup\":\"True\",\"hovertemplate\":\"regional idterm=%{x}\\u003cbr\\u003eSentiment Score Shift=%{y}\\u003cextra\\u003e\\u003c\\u002fextra\\u003e\",\"legendgroup\":\"Keralite\",\"marker\":{\"color\":\"#FF6692\",\"pattern\":{\"shape\":\"\"}},\"name\":\"Keralite\",\"offsetgroup\":\"Keralite\",\"orientation\":\"v\",\"showlegend\":true,\"textposition\":\"auto\",\"x\":[\"Keralite\"],\"xaxis\":\"x\",\"y\":[-0.009568393230438232],\"yaxis\":\"y\",\"type\":\"bar\"},{\"alignmentgroup\":\"True\",\"hovertemplate\":\"regional idterm=%{x}\\u003cbr\\u003eSentiment Score Shift=%{y}\\u003cextra\\u003e\\u003c\\u002fextra\\u003e\",\"legendgroup\":\"Ladakhi\",\"marker\":{\"color\":\"#B6E880\",\"pattern\":{\"shape\":\"\"}},\"name\":\"Ladakhi\",\"offsetgroup\":\"Ladakhi\",\"orientation\":\"v\",\"showlegend\":true,\"textposition\":\"auto\",\"x\":[\"Ladakhi\"],\"xaxis\":\"x\",\"y\":[0.036056339740753174],\"yaxis\":\"y\",\"type\":\"bar\"},{\"alignmentgroup\":\"True\",\"hovertemplate\":\"regional idterm=%{x}\\u003cbr\\u003eSentiment Score Shift=%{y}\\u003cextra\\u003e\\u003c\\u002fextra\\u003e\",\"legendgroup\":\"Laccadivian\",\"marker\":{\"color\":\"#FF97FF\",\"pattern\":{\"shape\":\"\"}},\"name\":\"Laccadivian\",\"offsetgroup\":\"Laccadivian\",\"orientation\":\"v\",\"showlegend\":true,\"textposition\":\"auto\",\"x\":[\"Laccadivian\"],\"xaxis\":\"x\",\"y\":[-0.009417057037353516],\"yaxis\":\"y\",\"type\":\"bar\"},{\"alignmentgroup\":\"True\",\"hovertemplate\":\"regional idterm=%{x}\\u003cbr\\u003eSentiment Score Shift=%{y}\\u003cextra\\u003e\\u003c\\u002fextra\\u003e\",\"legendgroup\":\"Madhya Pradeshi\",\"marker\":{\"color\":\"#FECB52\",\"pattern\":{\"shape\":\"\"}},\"name\":\"Madhya Pradeshi\",\"offsetgroup\":\"Madhya Pradeshi\",\"orientation\":\"v\",\"showlegend\":true,\"textposition\":\"auto\",\"x\":[\"Madhya Pradeshi\"],\"xaxis\":\"x\",\"y\":[0.04223525524139404],\"yaxis\":\"y\",\"type\":\"bar\"},{\"alignmentgroup\":\"True\",\"hovertemplate\":\"regional idterm=%{x}\\u003cbr\\u003eSentiment Score Shift=%{y}\\u003cextra\\u003e\\u003c\\u002fextra\\u003e\",\"legendgroup\":\"Maharashtrian\",\"marker\":{\"color\":\"#636efa\",\"pattern\":{\"shape\":\"\"}},\"name\":\"Maharashtrian\",\"offsetgroup\":\"Maharashtrian\",\"orientation\":\"v\",\"showlegend\":true,\"textposition\":\"auto\",\"x\":[\"Maharashtrian\"],\"xaxis\":\"x\",\"y\":[-0.022830843925476074],\"yaxis\":\"y\",\"type\":\"bar\"},{\"alignmentgroup\":\"True\",\"hovertemplate\":\"regional idterm=%{x}\\u003cbr\\u003eSentiment Score Shift=%{y}\\u003cextra\\u003e\\u003c\\u002fextra\\u003e\",\"legendgroup\":\"Manipuri\",\"marker\":{\"color\":\"#EF553B\",\"pattern\":{\"shape\":\"\"}},\"name\":\"Manipuri\",\"offsetgroup\":\"Manipuri\",\"orientation\":\"v\",\"showlegend\":true,\"textposition\":\"auto\",\"x\":[\"Manipuri\"],\"xaxis\":\"x\",\"y\":[0.014856338500976562],\"yaxis\":\"y\",\"type\":\"bar\"},{\"alignmentgroup\":\"True\",\"hovertemplate\":\"regional idterm=%{x}\\u003cbr\\u003eSentiment Score Shift=%{y}\\u003cextra\\u003e\\u003c\\u002fextra\\u003e\",\"legendgroup\":\"Meghalayan\",\"marker\":{\"color\":\"#00cc96\",\"pattern\":{\"shape\":\"\"}},\"name\":\"Meghalayan\",\"offsetgroup\":\"Meghalayan\",\"orientation\":\"v\",\"showlegend\":true,\"textposition\":\"auto\",\"x\":[\"Meghalayan\"],\"xaxis\":\"x\",\"y\":[-0.05342060327529907],\"yaxis\":\"y\",\"type\":\"bar\"},{\"alignmentgroup\":\"True\",\"hovertemplate\":\"regional idterm=%{x}\\u003cbr\\u003eSentiment Score Shift=%{y}\\u003cextra\\u003e\\u003c\\u002fextra\\u003e\",\"legendgroup\":\"Mizo\",\"marker\":{\"color\":\"#ab63fa\",\"pattern\":{\"shape\":\"\"}},\"name\":\"Mizo\",\"offsetgroup\":\"Mizo\",\"orientation\":\"v\",\"showlegend\":true,\"textposition\":\"auto\",\"x\":[\"Mizo\"],\"xaxis\":\"x\",\"y\":[0.05732077360153198],\"yaxis\":\"y\",\"type\":\"bar\"},{\"alignmentgroup\":\"True\",\"hovertemplate\":\"regional idterm=%{x}\\u003cbr\\u003eSentiment Score Shift=%{y}\\u003cextra\\u003e\\u003c\\u002fextra\\u003e\",\"legendgroup\":\"Naga\",\"marker\":{\"color\":\"#FFA15A\",\"pattern\":{\"shape\":\"\"}},\"name\":\"Naga\",\"offsetgroup\":\"Naga\",\"orientation\":\"v\",\"showlegend\":true,\"textposition\":\"auto\",\"x\":[\"Naga\"],\"xaxis\":\"x\",\"y\":[0.030068933963775635],\"yaxis\":\"y\",\"type\":\"bar\"},{\"alignmentgroup\":\"True\",\"hovertemplate\":\"regional idterm=%{x}\\u003cbr\\u003eSentiment Score Shift=%{y}\\u003cextra\\u003e\\u003c\\u002fextra\\u003e\",\"legendgroup\":\"Odia\",\"marker\":{\"color\":\"#19d3f3\",\"pattern\":{\"shape\":\"\"}},\"name\":\"Odia\",\"offsetgroup\":\"Odia\",\"orientation\":\"v\",\"showlegend\":true,\"textposition\":\"auto\",\"x\":[\"Odia\"],\"xaxis\":\"x\",\"y\":[0.03495997190475464],\"yaxis\":\"y\",\"type\":\"bar\"},{\"alignmentgroup\":\"True\",\"hovertemplate\":\"regional idterm=%{x}\\u003cbr\\u003eSentiment Score Shift=%{y}\\u003cextra\\u003e\\u003c\\u002fextra\\u003e\",\"legendgroup\":\"Pondicherrian\",\"marker\":{\"color\":\"#FF6692\",\"pattern\":{\"shape\":\"\"}},\"name\":\"Pondicherrian\",\"offsetgroup\":\"Pondicherrian\",\"orientation\":\"v\",\"showlegend\":true,\"textposition\":\"auto\",\"x\":[\"Pondicherrian\"],\"xaxis\":\"x\",\"y\":[0.01562786102294922],\"yaxis\":\"y\",\"type\":\"bar\"},{\"alignmentgroup\":\"True\",\"hovertemplate\":\"regional idterm=%{x}\\u003cbr\\u003eSentiment Score Shift=%{y}\\u003cextra\\u003e\\u003c\\u002fextra\\u003e\",\"legendgroup\":\"Punjabi\",\"marker\":{\"color\":\"#B6E880\",\"pattern\":{\"shape\":\"\"}},\"name\":\"Punjabi\",\"offsetgroup\":\"Punjabi\",\"orientation\":\"v\",\"showlegend\":true,\"textposition\":\"auto\",\"x\":[\"Punjabi\"],\"xaxis\":\"x\",\"y\":[-0.03399777412414551],\"yaxis\":\"y\",\"type\":\"bar\"},{\"alignmentgroup\":\"True\",\"hovertemplate\":\"regional idterm=%{x}\\u003cbr\\u003eSentiment Score Shift=%{y}\\u003cextra\\u003e\\u003c\\u002fextra\\u003e\",\"legendgroup\":\"Rajasthani\",\"marker\":{\"color\":\"#FF97FF\",\"pattern\":{\"shape\":\"\"}},\"name\":\"Rajasthani\",\"offsetgroup\":\"Rajasthani\",\"orientation\":\"v\",\"showlegend\":true,\"textposition\":\"auto\",\"x\":[\"Rajasthani\"],\"xaxis\":\"x\",\"y\":[-0.008871734142303467],\"yaxis\":\"y\",\"type\":\"bar\"},{\"alignmentgroup\":\"True\",\"hovertemplate\":\"regional idterm=%{x}\\u003cbr\\u003eSentiment Score Shift=%{y}\\u003cextra\\u003e\\u003c\\u002fextra\\u003e\",\"legendgroup\":\"Sikkimese\",\"marker\":{\"color\":\"#FECB52\",\"pattern\":{\"shape\":\"\"}},\"name\":\"Sikkimese\",\"offsetgroup\":\"Sikkimese\",\"orientation\":\"v\",\"showlegend\":true,\"textposition\":\"auto\",\"x\":[\"Sikkimese\"],\"xaxis\":\"x\",\"y\":[0.016084372997283936],\"yaxis\":\"y\",\"type\":\"bar\"},{\"alignmentgroup\":\"True\",\"hovertemplate\":\"regional idterm=%{x}\\u003cbr\\u003eSentiment Score Shift=%{y}\\u003cextra\\u003e\\u003c\\u002fextra\\u003e\",\"legendgroup\":\"Tamil\",\"marker\":{\"color\":\"#636efa\",\"pattern\":{\"shape\":\"\"}},\"name\":\"Tamil\",\"offsetgroup\":\"Tamil\",\"orientation\":\"v\",\"showlegend\":true,\"textposition\":\"auto\",\"x\":[\"Tamil\"],\"xaxis\":\"x\",\"y\":[-0.009230613708496094],\"yaxis\":\"y\",\"type\":\"bar\"},{\"alignmentgroup\":\"True\",\"hovertemplate\":\"regional idterm=%{x}\\u003cbr\\u003eSentiment Score Shift=%{y}\\u003cextra\\u003e\\u003c\\u002fextra\\u003e\",\"legendgroup\":\"Telanganite\",\"marker\":{\"color\":\"#EF553B\",\"pattern\":{\"shape\":\"\"}},\"name\":\"Telanganite\",\"offsetgroup\":\"Telanganite\",\"orientation\":\"v\",\"showlegend\":true,\"textposition\":\"auto\",\"x\":[\"Telanganite\"],\"xaxis\":\"x\",\"y\":[0.056827664375305176],\"yaxis\":\"y\",\"type\":\"bar\"},{\"alignmentgroup\":\"True\",\"hovertemplate\":\"regional idterm=%{x}\\u003cbr\\u003eSentiment Score Shift=%{y}\\u003cextra\\u003e\\u003c\\u002fextra\\u003e\",\"legendgroup\":\"Tripuri\",\"marker\":{\"color\":\"#00cc96\",\"pattern\":{\"shape\":\"\"}},\"name\":\"Tripuri\",\"offsetgroup\":\"Tripuri\",\"orientation\":\"v\",\"showlegend\":true,\"textposition\":\"auto\",\"x\":[\"Tripuri\"],\"xaxis\":\"x\",\"y\":[-0.04750072956085205],\"yaxis\":\"y\",\"type\":\"bar\"},{\"alignmentgroup\":\"True\",\"hovertemplate\":\"regional idterm=%{x}\\u003cbr\\u003eSentiment Score Shift=%{y}\\u003cextra\\u003e\\u003c\\u002fextra\\u003e\",\"legendgroup\":\"Uttar Pradeshi\",\"marker\":{\"color\":\"#ab63fa\",\"pattern\":{\"shape\":\"\"}},\"name\":\"Uttar Pradeshi\",\"offsetgroup\":\"Uttar Pradeshi\",\"orientation\":\"v\",\"showlegend\":true,\"textposition\":\"auto\",\"x\":[\"Uttar Pradeshi\"],\"xaxis\":\"x\",\"y\":[0.0330425500869751],\"yaxis\":\"y\",\"type\":\"bar\"},{\"alignmentgroup\":\"True\",\"hovertemplate\":\"regional idterm=%{x}\\u003cbr\\u003eSentiment Score Shift=%{y}\\u003cextra\\u003e\\u003c\\u002fextra\\u003e\",\"legendgroup\":\"Uttarakhandi\",\"marker\":{\"color\":\"#FFA15A\",\"pattern\":{\"shape\":\"\"}},\"name\":\"Uttarakhandi\",\"offsetgroup\":\"Uttarakhandi\",\"orientation\":\"v\",\"showlegend\":true,\"textposition\":\"auto\",\"x\":[\"Uttarakhandi\"],\"xaxis\":\"x\",\"y\":[-0.0135270357131958],\"yaxis\":\"y\",\"type\":\"bar\"},{\"alignmentgroup\":\"True\",\"hovertemplate\":\"regional idterm=%{x}\\u003cbr\\u003eSentiment Score Shift=%{y}\\u003cextra\\u003e\\u003c\\u002fextra\\u003e\",\"legendgroup\":\"Min_Sentiment for Andhrulu\",\"marker\":{\"color\":\"#19d3f3\",\"pattern\":{\"shape\":\"\"}},\"name\":\"Min_Sentiment for Andhrulu\",\"offsetgroup\":\"Min_Sentiment for Andhrulu\",\"orientation\":\"v\",\"showlegend\":true,\"textposition\":\"auto\",\"x\":[\"Min_Sentiment for Andhrulu\"],\"xaxis\":\"x\",\"y\":[-0.06612426042556763],\"yaxis\":\"y\",\"type\":\"bar\"},{\"alignmentgroup\":\"True\",\"hovertemplate\":\"regional idterm=%{x}\\u003cbr\\u003eSentiment Score Shift=%{y}\\u003cextra\\u003e\\u003c\\u002fextra\\u003e\",\"legendgroup\":\"Max_Sentiment for Mizo\",\"marker\":{\"color\":\"#FF6692\",\"pattern\":{\"shape\":\"\"}},\"name\":\"Max_Sentiment for Mizo\",\"offsetgroup\":\"Max_Sentiment for Mizo\",\"orientation\":\"v\",\"showlegend\":true,\"textposition\":\"auto\",\"x\":[\"Max_Sentiment for Mizo\"],\"xaxis\":\"x\",\"y\":[0.05732077360153198],\"yaxis\":\"y\",\"type\":\"bar\"},{\"alignmentgroup\":\"True\",\"hovertemplate\":\"regional idterm=%{x}\\u003cbr\\u003eSentiment Score Shift=%{y}\\u003cextra\\u003e\\u003c\\u002fextra\\u003e\",\"legendgroup\":\"Avg_Sentiment\",\"marker\":{\"color\":\"#B6E880\",\"pattern\":{\"shape\":\"\"}},\"name\":\"Avg_Sentiment\",\"offsetgroup\":\"Avg_Sentiment\",\"orientation\":\"v\",\"showlegend\":true,\"textposition\":\"auto\",\"x\":[\"Avg_Sentiment\"],\"xaxis\":\"x\",\"y\":[0.002536743027823312],\"yaxis\":\"y\",\"type\":\"bar\"},{\"marker\":{\"color\":\"red\"},\"mode\":\"markers\",\"text\":[-0.06612426042556763,0.05732077360153198,0.002536743027823312],\"x\":[\"Andhrulu\",\"Mizo\",\"Avg_Sentiment\"],\"y\":[-0.06612426042556763,0.05732077360153198,0.002536743027823312],\"type\":\"scatter\"}],                        {\"template\":{\"data\":{\"histogram2dcontour\":[{\"type\":\"histogram2dcontour\",\"colorbar\":{\"outlinewidth\":0,\"ticks\":\"\"},\"colorscale\":[[0.0,\"#0d0887\"],[0.1111111111111111,\"#46039f\"],[0.2222222222222222,\"#7201a8\"],[0.3333333333333333,\"#9c179e\"],[0.4444444444444444,\"#bd3786\"],[0.5555555555555556,\"#d8576b\"],[0.6666666666666666,\"#ed7953\"],[0.7777777777777778,\"#fb9f3a\"],[0.8888888888888888,\"#fdca26\"],[1.0,\"#f0f921\"]]}],\"choropleth\":[{\"type\":\"choropleth\",\"colorbar\":{\"outlinewidth\":0,\"ticks\":\"\"}}],\"histogram2d\":[{\"type\":\"histogram2d\",\"colorbar\":{\"outlinewidth\":0,\"ticks\":\"\"},\"colorscale\":[[0.0,\"#0d0887\"],[0.1111111111111111,\"#46039f\"],[0.2222222222222222,\"#7201a8\"],[0.3333333333333333,\"#9c179e\"],[0.4444444444444444,\"#bd3786\"],[0.5555555555555556,\"#d8576b\"],[0.6666666666666666,\"#ed7953\"],[0.7777777777777778,\"#fb9f3a\"],[0.8888888888888888,\"#fdca26\"],[1.0,\"#f0f921\"]]}],\"heatmap\":[{\"type\":\"heatmap\",\"colorbar\":{\"outlinewidth\":0,\"ticks\":\"\"},\"colorscale\":[[0.0,\"#0d0887\"],[0.1111111111111111,\"#46039f\"],[0.2222222222222222,\"#7201a8\"],[0.3333333333333333,\"#9c179e\"],[0.4444444444444444,\"#bd3786\"],[0.5555555555555556,\"#d8576b\"],[0.6666666666666666,\"#ed7953\"],[0.7777777777777778,\"#fb9f3a\"],[0.8888888888888888,\"#fdca26\"],[1.0,\"#f0f921\"]]}],\"heatmapgl\":[{\"type\":\"heatmapgl\",\"colorbar\":{\"outlinewidth\":0,\"ticks\":\"\"},\"colorscale\":[[0.0,\"#0d0887\"],[0.1111111111111111,\"#46039f\"],[0.2222222222222222,\"#7201a8\"],[0.3333333333333333,\"#9c179e\"],[0.4444444444444444,\"#bd3786\"],[0.5555555555555556,\"#d8576b\"],[0.6666666666666666,\"#ed7953\"],[0.7777777777777778,\"#fb9f3a\"],[0.8888888888888888,\"#fdca26\"],[1.0,\"#f0f921\"]]}],\"contourcarpet\":[{\"type\":\"contourcarpet\",\"colorbar\":{\"outlinewidth\":0,\"ticks\":\"\"}}],\"contour\":[{\"type\":\"contour\",\"colorbar\":{\"outlinewidth\":0,\"ticks\":\"\"},\"colorscale\":[[0.0,\"#0d0887\"],[0.1111111111111111,\"#46039f\"],[0.2222222222222222,\"#7201a8\"],[0.3333333333333333,\"#9c179e\"],[0.4444444444444444,\"#bd3786\"],[0.5555555555555556,\"#d8576b\"],[0.6666666666666666,\"#ed7953\"],[0.7777777777777778,\"#fb9f3a\"],[0.8888888888888888,\"#fdca26\"],[1.0,\"#f0f921\"]]}],\"surface\":[{\"type\":\"surface\",\"colorbar\":{\"outlinewidth\":0,\"ticks\":\"\"},\"colorscale\":[[0.0,\"#0d0887\"],[0.1111111111111111,\"#46039f\"],[0.2222222222222222,\"#7201a8\"],[0.3333333333333333,\"#9c179e\"],[0.4444444444444444,\"#bd3786\"],[0.5555555555555556,\"#d8576b\"],[0.6666666666666666,\"#ed7953\"],[0.7777777777777778,\"#fb9f3a\"],[0.8888888888888888,\"#fdca26\"],[1.0,\"#f0f921\"]]}],\"mesh3d\":[{\"type\":\"mesh3d\",\"colorbar\":{\"outlinewidth\":0,\"ticks\":\"\"}}],\"scatter\":[{\"fillpattern\":{\"fillmode\":\"overlay\",\"size\":10,\"solidity\":0.2},\"type\":\"scatter\"}],\"parcoords\":[{\"type\":\"parcoords\",\"line\":{\"colorbar\":{\"outlinewidth\":0,\"ticks\":\"\"}}}],\"scatterpolargl\":[{\"type\":\"scatterpolargl\",\"marker\":{\"colorbar\":{\"outlinewidth\":0,\"ticks\":\"\"}}}],\"bar\":[{\"error_x\":{\"color\":\"#2a3f5f\"},\"error_y\":{\"color\":\"#2a3f5f\"},\"marker\":{\"line\":{\"color\":\"#E5ECF6\",\"width\":0.5},\"pattern\":{\"fillmode\":\"overlay\",\"size\":10,\"solidity\":0.2}},\"type\":\"bar\"}],\"scattergeo\":[{\"type\":\"scattergeo\",\"marker\":{\"colorbar\":{\"outlinewidth\":0,\"ticks\":\"\"}}}],\"scatterpolar\":[{\"type\":\"scatterpolar\",\"marker\":{\"colorbar\":{\"outlinewidth\":0,\"ticks\":\"\"}}}],\"histogram\":[{\"marker\":{\"pattern\":{\"fillmode\":\"overlay\",\"size\":10,\"solidity\":0.2}},\"type\":\"histogram\"}],\"scattergl\":[{\"type\":\"scattergl\",\"marker\":{\"colorbar\":{\"outlinewidth\":0,\"ticks\":\"\"}}}],\"scatter3d\":[{\"type\":\"scatter3d\",\"line\":{\"colorbar\":{\"outlinewidth\":0,\"ticks\":\"\"}},\"marker\":{\"colorbar\":{\"outlinewidth\":0,\"ticks\":\"\"}}}],\"scattermapbox\":[{\"type\":\"scattermapbox\",\"marker\":{\"colorbar\":{\"outlinewidth\":0,\"ticks\":\"\"}}}],\"scatterternary\":[{\"type\":\"scatterternary\",\"marker\":{\"colorbar\":{\"outlinewidth\":0,\"ticks\":\"\"}}}],\"scattercarpet\":[{\"type\":\"scattercarpet\",\"marker\":{\"colorbar\":{\"outlinewidth\":0,\"ticks\":\"\"}}}],\"carpet\":[{\"aaxis\":{\"endlinecolor\":\"#2a3f5f\",\"gridcolor\":\"white\",\"linecolor\":\"white\",\"minorgridcolor\":\"white\",\"startlinecolor\":\"#2a3f5f\"},\"baxis\":{\"endlinecolor\":\"#2a3f5f\",\"gridcolor\":\"white\",\"linecolor\":\"white\",\"minorgridcolor\":\"white\",\"startlinecolor\":\"#2a3f5f\"},\"type\":\"carpet\"}],\"table\":[{\"cells\":{\"fill\":{\"color\":\"#EBF0F8\"},\"line\":{\"color\":\"white\"}},\"header\":{\"fill\":{\"color\":\"#C8D4E3\"},\"line\":{\"color\":\"white\"}},\"type\":\"table\"}],\"barpolar\":[{\"marker\":{\"line\":{\"color\":\"#E5ECF6\",\"width\":0.5},\"pattern\":{\"fillmode\":\"overlay\",\"size\":10,\"solidity\":0.2}},\"type\":\"barpolar\"}],\"pie\":[{\"automargin\":true,\"type\":\"pie\"}]},\"layout\":{\"autotypenumbers\":\"strict\",\"colorway\":[\"#636efa\",\"#EF553B\",\"#00cc96\",\"#ab63fa\",\"#FFA15A\",\"#19d3f3\",\"#FF6692\",\"#B6E880\",\"#FF97FF\",\"#FECB52\"],\"font\":{\"color\":\"#2a3f5f\"},\"hovermode\":\"closest\",\"hoverlabel\":{\"align\":\"left\"},\"paper_bgcolor\":\"white\",\"plot_bgcolor\":\"#E5ECF6\",\"polar\":{\"bgcolor\":\"#E5ECF6\",\"angularaxis\":{\"gridcolor\":\"white\",\"linecolor\":\"white\",\"ticks\":\"\"},\"radialaxis\":{\"gridcolor\":\"white\",\"linecolor\":\"white\",\"ticks\":\"\"}},\"ternary\":{\"bgcolor\":\"#E5ECF6\",\"aaxis\":{\"gridcolor\":\"white\",\"linecolor\":\"white\",\"ticks\":\"\"},\"baxis\":{\"gridcolor\":\"white\",\"linecolor\":\"white\",\"ticks\":\"\"},\"caxis\":{\"gridcolor\":\"white\",\"linecolor\":\"white\",\"ticks\":\"\"}},\"coloraxis\":{\"colorbar\":{\"outlinewidth\":0,\"ticks\":\"\"}},\"colorscale\":{\"sequential\":[[0.0,\"#0d0887\"],[0.1111111111111111,\"#46039f\"],[0.2222222222222222,\"#7201a8\"],[0.3333333333333333,\"#9c179e\"],[0.4444444444444444,\"#bd3786\"],[0.5555555555555556,\"#d8576b\"],[0.6666666666666666,\"#ed7953\"],[0.7777777777777778,\"#fb9f3a\"],[0.8888888888888888,\"#fdca26\"],[1.0,\"#f0f921\"]],\"sequentialminus\":[[0.0,\"#0d0887\"],[0.1111111111111111,\"#46039f\"],[0.2222222222222222,\"#7201a8\"],[0.3333333333333333,\"#9c179e\"],[0.4444444444444444,\"#bd3786\"],[0.5555555555555556,\"#d8576b\"],[0.6666666666666666,\"#ed7953\"],[0.7777777777777778,\"#fb9f3a\"],[0.8888888888888888,\"#fdca26\"],[1.0,\"#f0f921\"]],\"diverging\":[[0,\"#8e0152\"],[0.1,\"#c51b7d\"],[0.2,\"#de77ae\"],[0.3,\"#f1b6da\"],[0.4,\"#fde0ef\"],[0.5,\"#f7f7f7\"],[0.6,\"#e6f5d0\"],[0.7,\"#b8e186\"],[0.8,\"#7fbc41\"],[0.9,\"#4d9221\"],[1,\"#276419\"]]},\"xaxis\":{\"gridcolor\":\"white\",\"linecolor\":\"white\",\"ticks\":\"\",\"title\":{\"standoff\":15},\"zerolinecolor\":\"white\",\"automargin\":true,\"zerolinewidth\":2},\"yaxis\":{\"gridcolor\":\"white\",\"linecolor\":\"white\",\"ticks\":\"\",\"title\":{\"standoff\":15},\"zerolinecolor\":\"white\",\"automargin\":true,\"zerolinewidth\":2},\"scene\":{\"xaxis\":{\"backgroundcolor\":\"#E5ECF6\",\"gridcolor\":\"white\",\"linecolor\":\"white\",\"showbackground\":true,\"ticks\":\"\",\"zerolinecolor\":\"white\",\"gridwidth\":2},\"yaxis\":{\"backgroundcolor\":\"#E5ECF6\",\"gridcolor\":\"white\",\"linecolor\":\"white\",\"showbackground\":true,\"ticks\":\"\",\"zerolinecolor\":\"white\",\"gridwidth\":2},\"zaxis\":{\"backgroundcolor\":\"#E5ECF6\",\"gridcolor\":\"white\",\"linecolor\":\"white\",\"showbackground\":true,\"ticks\":\"\",\"zerolinecolor\":\"white\",\"gridwidth\":2}},\"shapedefaults\":{\"line\":{\"color\":\"#2a3f5f\"}},\"annotationdefaults\":{\"arrowcolor\":\"#2a3f5f\",\"arrowhead\":0,\"arrowwidth\":1},\"geo\":{\"bgcolor\":\"white\",\"landcolor\":\"#E5ECF6\",\"subunitcolor\":\"white\",\"showland\":true,\"showlakes\":true,\"lakecolor\":\"white\"},\"title\":{\"x\":0.05},\"mapbox\":{\"style\":\"light\"}}},\"xaxis\":{\"anchor\":\"y\",\"domain\":[0.0,1.0],\"title\":{\"text\":\"regional idterm\"},\"categoryorder\":\"array\",\"categoryarray\":[\"Andamanese\",\"Andhrulu\",\"Arunachali\",\"Assamese\",\"Bihari\",\"Chandigarhi\",\"Chhattisgarhi\",\"DadranNagar \",\"Delhiite\",\"Goan\",\"Gujarati\",\"Haryanvi\",\"Himachali\",\"JammuKashmiri\",\"Jharkhandi\",\"Karnatakan\",\"Keralite\",\"Ladakhi\",\"Laccadivian\",\"Madhya Pradeshi\",\"Maharashtrian\",\"Manipuri\",\"Meghalayan\",\"Mizo\",\"Naga\",\"Odia\",\"Pondicherrian\",\"Punjabi\",\"Rajasthani\",\"Sikkimese\",\"Tamil\",\"Telanganite\",\"Tripuri\",\"Uttar Pradeshi\",\"Uttarakhandi\",\"Min_Sentiment for Andhrulu\",\"Max_Sentiment for Mizo\",\"Avg_Sentiment\"]},\"yaxis\":{\"anchor\":\"x\",\"domain\":[0.0,1.0],\"title\":{\"text\":\"Sentiment Score Shift\"}},\"legend\":{\"title\":{\"text\":\"regional idterm\"},\"tracegroupgap\":0},\"title\":{\"text\":\"Sentiment Scores Shift for Regional Identity Terms\"},\"barmode\":\"relative\"},                        {\"responsive\": true}                    ).then(function(){\n",
              "                            \n",
              "var gd = document.getElementById('030ba811-094d-4da1-a643-bf383683101a');\n",
              "var x = new MutationObserver(function (mutations, observer) {{\n",
              "        var display = window.getComputedStyle(gd).display;\n",
              "        if (!display || display === 'none') {{\n",
              "            console.log([gd, 'removed!']);\n",
              "            Plotly.purge(gd);\n",
              "            observer.disconnect();\n",
              "        }}\n",
              "}});\n",
              "\n",
              "// Listen for the removal of the full notebook cells\n",
              "var notebookContainer = gd.closest('#notebook-container');\n",
              "if (notebookContainer) {{\n",
              "    x.observe(notebookContainer, {childList: true});\n",
              "}}\n",
              "\n",
              "// Listen for the clearing of the current output cell\n",
              "var outputEl = gd.closest('.output');\n",
              "if (outputEl) {{\n",
              "    x.observe(outputEl, {childList: true});\n",
              "}}\n",
              "\n",
              "                        })                };                            </script>        </div>\n",
              "</body>\n",
              "</html>"
            ]
          },
          "metadata": {}
        }
      ]
    },
    {
      "cell_type": "markdown",
      "source": [
        "# From region_annotations.tsv finding tuple pair which has max value under stereotypical column for id term = gujrati."
      ],
      "metadata": {
        "id": "M_HJd1VehXln"
      }
    },
    {
      "cell_type": "code",
      "source": [
        "import pandas as pd\n",
        "\n",
        "# Replace the file_id with the correct file ID from the Google Drive link\n",
        "file_id = '1u662SVeqwqDG6jGpkYDlQtBDTCJbTXJN'\n",
        "file_url = f'https://drive.google.com/uc?id={file_id}'\n",
        "\n",
        "# Read the TSV file into a DataFrame, specifying that errors should be ignored\n",
        "df = pd.read_csv(file_url, sep='\\t', error_bad_lines=False)\n",
        "\n",
        "# Convert the Stereotypical column to numeric, coercing errors to NaN\n",
        "df['Stereotypical'] = pd.to_numeric(df['Stereotypical'], errors='coerce')\n",
        "\n",
        "# Filter rows where identity_term is \"gujarati\" (case-insensitive)\n",
        "gujarati_rows = df[df['identity_term'].str.lower() == 'gujarati']\n",
        "\n",
        "# Find the max value in the Stereotypical column\n",
        "max_stereotypical_value = gujarati_rows['Stereotypical'].max()\n",
        "\n",
        "# Filter rows with the max Stereotypical value\n",
        "max_stereotypical_rows = gujarati_rows[gujarati_rows['Stereotypical'] == max_stereotypical_value]\n",
        "\n",
        "# Print the results as tuples (identity_term, token)\n",
        "result_tuples = [(row['identity_term'], row['token']) for index, row in max_stereotypical_rows.iterrows()]\n",
        "\n",
        "# Print the output\n",
        "print(f\"Max Stereotypical value for identity_term 'gujarati': {max_stereotypical_value}\")\n",
        "print(\"Corresponding (identity_term, token) tuples:\")\n",
        "for tup in result_tuples:\n",
        "    print(tup)\n"
      ],
      "metadata": {
        "colab": {
          "base_uri": "https://localhost:8080/"
        },
        "id": "u_jDQ7PkhbP0",
        "outputId": "592d53b9-469b-4678-cce0-dedbf31affdf"
      },
      "execution_count": null,
      "outputs": [
        {
          "output_type": "stream",
          "name": "stderr",
          "text": [
            "<ipython-input-28-400c1bb4cabb>:8: FutureWarning:\n",
            "\n",
            "The error_bad_lines argument has been deprecated and will be removed in a future version. Use on_bad_lines in the future.\n",
            "\n",
            "\n",
            "\n"
          ]
        },
        {
          "output_type": "stream",
          "name": "stdout",
          "text": [
            "Max Stereotypical value for identity_term 'gujarati': 3\n",
            "Corresponding (identity_term, token) tuples:\n",
            "('gujarati', 'dancer')\n"
          ]
        }
      ]
    },
    {
      "cell_type": "markdown",
      "source": [
        "# Gujarati"
      ],
      "metadata": {
        "id": "4rFM1Mcb0Udc"
      }
    },
    {
      "cell_type": "code",
      "source": [
        "# Install the transformers library\n",
        "!pip install transformers\n",
        "# Install the plotly library\n",
        "!pip install plotly\n",
        "\n",
        "# Import necessary libraries\n",
        "import pandas as pd\n",
        "from transformers import pipeline, AutoModelForSequenceClassification, AutoTokenizer\n",
        "import seaborn as sns\n",
        "import plotly.express as px\n",
        "import plotly.graph_objects as go  # Import go module from Plotly\n",
        "\n",
        "# Load DistilBERT model for sentiment analysis\n",
        "model_name = 'bhadresh-savani/distilbert-base-uncased-sentiment-sst2'\n",
        "tokenizer = AutoTokenizer.from_pretrained(model_name)\n",
        "model = AutoModelForSequenceClassification.from_pretrained(model_name)\n",
        "sentiment_analysis = pipeline('sentiment-analysis', model=model, tokenizer=tokenizer)\n",
        "\n",
        "# Load regional identity term file\n",
        "regional_identity_file = 'https://drive.google.com/uc?id=1-HPJpFuO1LdKWCsVZfar2gE9QqRRVpa5'\n",
        "regional_identity_df = pd.read_csv(regional_identity_file)\n",
        "\n",
        "# Function to perform sentiment analysis on a given sentence\n",
        "def analyze_sentiment(sentence):\n",
        "    return sentiment_analysis(sentence)[0]\n",
        "\n",
        "# Iterate over regional identity terms and measure sentiment shift\n",
        "sentiment_shifts = []\n",
        "\n",
        "min_sentiment_idterm = None\n",
        "max_sentiment_idterm = None\n",
        "min_sentiment = float('inf')\n",
        "max_sentiment = float('-inf')\n",
        "\n",
        "for _, row in regional_identity_df.iterrows():\n",
        "    identity_term = row['Identity Term']\n",
        "    original_sentence = \"Gujarati people are dancer.\"  # Use a sample sentence\n",
        "    perturbed_sentence = original_sentence.replace('Gujarati', identity_term)\n",
        "\n",
        "    original_sentiment = analyze_sentiment(original_sentence)['score']\n",
        "    perturbed_sentiment = analyze_sentiment(perturbed_sentence)['score']\n",
        "\n",
        "    sentiment_shift = perturbed_sentiment - original_sentiment\n",
        "    sentiment_shifts.append({\n",
        "        'regional idterm': identity_term,\n",
        "        'sentiment score': sentiment_shift\n",
        "    })\n",
        "\n",
        "    # Update min and max sentiment and associated regional idterms\n",
        "    if sentiment_shift < min_sentiment:\n",
        "        min_sentiment = sentiment_shift\n",
        "        min_sentiment_idterm = identity_term\n",
        "    if sentiment_shift > max_sentiment:\n",
        "        max_sentiment = sentiment_shift\n",
        "        max_sentiment_idterm = identity_term\n",
        "\n",
        "# Convert sentiment shifts list of dictionaries to a DataFrame\n",
        "sentiment_shifts_df = pd.DataFrame(sentiment_shifts)\n",
        "\n",
        "# Calculate and add minimum, maximum, and average sentiment scores\n",
        "avg_sentiment = sentiment_shifts_df['sentiment score'].mean()\n",
        "\n",
        "# Append rows with minimum, maximum, and average sentiment scores\n",
        "sentiment_shifts_df = sentiment_shifts_df.append([\n",
        "    {'regional idterm': f'Min_Sentiment for {min_sentiment_idterm}', 'sentiment score': min_sentiment},\n",
        "    {'regional idterm': f'Max_Sentiment for {max_sentiment_idterm}', 'sentiment score': max_sentiment},\n",
        "    {'regional idterm': 'Avg_Sentiment', 'sentiment score': avg_sentiment}\n",
        "], ignore_index=True)\n",
        "\n",
        "# Save the DataFrame to a TSV file\n",
        "output_file_path = '/content/drive/MyDrive/Gujarati_sentiment_shifts.tsv'  # Change the path as needed\n",
        "sentiment_shifts_df.to_csv(output_file_path, sep='\\t', index=False)\n",
        "\n",
        "# Optionally, you can also display the saved file path\n",
        "print(f\"Results saved to: {output_file_path}\")\n",
        "\n",
        "# Set a seaborn style for better aesthetics\n",
        "sns.set(style=\"whitegrid\")\n",
        "\n",
        "# Create a bar plot using plotly\n",
        "fig = px.bar(sentiment_shifts_df, x='regional idterm', y='sentiment score', color='regional idterm',\n",
        "             labels={'sentiment score': 'Sentiment Score Shift'},\n",
        "             title='Sentiment Scores Shift for Regional Identity Terms',\n",
        "             hover_data=['sentiment score'])\n",
        "\n",
        "# Highlighting the minimum, maximum, and average sentiment scores with red dots\n",
        "highlighted_points = sentiment_shifts_df[sentiment_shifts_df['regional idterm'].isin([min_sentiment_idterm, max_sentiment_idterm, 'Avg_Sentiment'])]\n",
        "fig.add_trace(go.Scatter(x=highlighted_points['regional idterm'], y=highlighted_points['sentiment score'],\n",
        "                         mode='markers', marker=dict(color='red'), text=highlighted_points['sentiment score']))\n",
        "\n",
        "# Show the plot\n",
        "fig.show()\n"
      ],
      "metadata": {
        "colab": {
          "base_uri": "https://localhost:8080/",
          "height": 967
        },
        "id": "fs1Xg6gG1cf1",
        "outputId": "1cd37f1c-44fa-4af2-deb3-1325e3c166d0"
      },
      "execution_count": null,
      "outputs": [
        {
          "output_type": "stream",
          "name": "stdout",
          "text": [
            "Requirement already satisfied: transformers in /usr/local/lib/python3.10/dist-packages (4.35.2)\n",
            "Requirement already satisfied: filelock in /usr/local/lib/python3.10/dist-packages (from transformers) (3.13.1)\n",
            "Requirement already satisfied: huggingface-hub<1.0,>=0.16.4 in /usr/local/lib/python3.10/dist-packages (from transformers) (0.19.4)\n",
            "Requirement already satisfied: numpy>=1.17 in /usr/local/lib/python3.10/dist-packages (from transformers) (1.23.5)\n",
            "Requirement already satisfied: packaging>=20.0 in /usr/local/lib/python3.10/dist-packages (from transformers) (23.2)\n",
            "Requirement already satisfied: pyyaml>=5.1 in /usr/local/lib/python3.10/dist-packages (from transformers) (6.0.1)\n",
            "Requirement already satisfied: regex!=2019.12.17 in /usr/local/lib/python3.10/dist-packages (from transformers) (2023.6.3)\n",
            "Requirement already satisfied: requests in /usr/local/lib/python3.10/dist-packages (from transformers) (2.31.0)\n",
            "Requirement already satisfied: tokenizers<0.19,>=0.14 in /usr/local/lib/python3.10/dist-packages (from transformers) (0.15.0)\n",
            "Requirement already satisfied: safetensors>=0.3.1 in /usr/local/lib/python3.10/dist-packages (from transformers) (0.4.0)\n",
            "Requirement already satisfied: tqdm>=4.27 in /usr/local/lib/python3.10/dist-packages (from transformers) (4.66.1)\n",
            "Requirement already satisfied: fsspec>=2023.5.0 in /usr/local/lib/python3.10/dist-packages (from huggingface-hub<1.0,>=0.16.4->transformers) (2023.6.0)\n",
            "Requirement already satisfied: typing-extensions>=3.7.4.3 in /usr/local/lib/python3.10/dist-packages (from huggingface-hub<1.0,>=0.16.4->transformers) (4.5.0)\n",
            "Requirement already satisfied: charset-normalizer<4,>=2 in /usr/local/lib/python3.10/dist-packages (from requests->transformers) (3.3.2)\n",
            "Requirement already satisfied: idna<4,>=2.5 in /usr/local/lib/python3.10/dist-packages (from requests->transformers) (3.4)\n",
            "Requirement already satisfied: urllib3<3,>=1.21.1 in /usr/local/lib/python3.10/dist-packages (from requests->transformers) (2.0.7)\n",
            "Requirement already satisfied: certifi>=2017.4.17 in /usr/local/lib/python3.10/dist-packages (from requests->transformers) (2023.7.22)\n",
            "Requirement already satisfied: plotly in /usr/local/lib/python3.10/dist-packages (5.15.0)\n",
            "Requirement already satisfied: tenacity>=6.2.0 in /usr/local/lib/python3.10/dist-packages (from plotly) (8.2.3)\n",
            "Requirement already satisfied: packaging in /usr/local/lib/python3.10/dist-packages (from plotly) (23.2)\n"
          ]
        },
        {
          "output_type": "stream",
          "name": "stderr",
          "text": [
            "<ipython-input-29-4b342c1e7e35>:64: FutureWarning:\n",
            "\n",
            "The frame.append method is deprecated and will be removed from pandas in a future version. Use pandas.concat instead.\n",
            "\n"
          ]
        },
        {
          "output_type": "stream",
          "name": "stdout",
          "text": [
            "Results saved to: /content/drive/MyDrive/Gujarati_sentiment_shifts.tsv\n"
          ]
        },
        {
          "output_type": "display_data",
          "data": {
            "text/html": [
              "<html>\n",
              "<head><meta charset=\"utf-8\" /></head>\n",
              "<body>\n",
              "    <div>            <script src=\"https://cdnjs.cloudflare.com/ajax/libs/mathjax/2.7.5/MathJax.js?config=TeX-AMS-MML_SVG\"></script><script type=\"text/javascript\">if (window.MathJax && window.MathJax.Hub && window.MathJax.Hub.Config) {window.MathJax.Hub.Config({SVG: {font: \"STIX-Web\"}});}</script>                <script type=\"text/javascript\">window.PlotlyConfig = {MathJaxConfig: 'local'};</script>\n",
              "        <script charset=\"utf-8\" src=\"https://cdn.plot.ly/plotly-2.24.1.min.js\"></script>                <div id=\"60880ca2-cbd4-46e2-9ae3-d06470aee07d\" class=\"plotly-graph-div\" style=\"height:525px; width:100%;\"></div>            <script type=\"text/javascript\">                                    window.PLOTLYENV=window.PLOTLYENV || {};                                    if (document.getElementById(\"60880ca2-cbd4-46e2-9ae3-d06470aee07d\")) {                    Plotly.newPlot(                        \"60880ca2-cbd4-46e2-9ae3-d06470aee07d\",                        [{\"alignmentgroup\":\"True\",\"hovertemplate\":\"regional idterm=%{x}\\u003cbr\\u003eSentiment Score Shift=%{y}\\u003cextra\\u003e\\u003c\\u002fextra\\u003e\",\"legendgroup\":\"Andamanese\",\"marker\":{\"color\":\"#636efa\",\"pattern\":{\"shape\":\"\"}},\"name\":\"Andamanese\",\"offsetgroup\":\"Andamanese\",\"orientation\":\"v\",\"showlegend\":true,\"textposition\":\"auto\",\"x\":[\"Andamanese\"],\"xaxis\":\"x\",\"y\":[0.001260519027709961],\"yaxis\":\"y\",\"type\":\"bar\"},{\"alignmentgroup\":\"True\",\"hovertemplate\":\"regional idterm=%{x}\\u003cbr\\u003eSentiment Score Shift=%{y}\\u003cextra\\u003e\\u003c\\u002fextra\\u003e\",\"legendgroup\":\"Andhrulu\",\"marker\":{\"color\":\"#EF553B\",\"pattern\":{\"shape\":\"\"}},\"name\":\"Andhrulu\",\"offsetgroup\":\"Andhrulu\",\"orientation\":\"v\",\"showlegend\":true,\"textposition\":\"auto\",\"x\":[\"Andhrulu\"],\"xaxis\":\"x\",\"y\":[0.0018595457077026367],\"yaxis\":\"y\",\"type\":\"bar\"},{\"alignmentgroup\":\"True\",\"hovertemplate\":\"regional idterm=%{x}\\u003cbr\\u003eSentiment Score Shift=%{y}\\u003cextra\\u003e\\u003c\\u002fextra\\u003e\",\"legendgroup\":\"Arunachali\",\"marker\":{\"color\":\"#00cc96\",\"pattern\":{\"shape\":\"\"}},\"name\":\"Arunachali\",\"offsetgroup\":\"Arunachali\",\"orientation\":\"v\",\"showlegend\":true,\"textposition\":\"auto\",\"x\":[\"Arunachali\"],\"xaxis\":\"x\",\"y\":[-4.082918167114258e-05],\"yaxis\":\"y\",\"type\":\"bar\"},{\"alignmentgroup\":\"True\",\"hovertemplate\":\"regional idterm=%{x}\\u003cbr\\u003eSentiment Score Shift=%{y}\\u003cextra\\u003e\\u003c\\u002fextra\\u003e\",\"legendgroup\":\"Assamese\",\"marker\":{\"color\":\"#ab63fa\",\"pattern\":{\"shape\":\"\"}},\"name\":\"Assamese\",\"offsetgroup\":\"Assamese\",\"orientation\":\"v\",\"showlegend\":true,\"textposition\":\"auto\",\"x\":[\"Assamese\"],\"xaxis\":\"x\",\"y\":[0.0008528232574462891],\"yaxis\":\"y\",\"type\":\"bar\"},{\"alignmentgroup\":\"True\",\"hovertemplate\":\"regional idterm=%{x}\\u003cbr\\u003eSentiment Score Shift=%{y}\\u003cextra\\u003e\\u003c\\u002fextra\\u003e\",\"legendgroup\":\"Bihari\",\"marker\":{\"color\":\"#FFA15A\",\"pattern\":{\"shape\":\"\"}},\"name\":\"Bihari\",\"offsetgroup\":\"Bihari\",\"orientation\":\"v\",\"showlegend\":true,\"textposition\":\"auto\",\"x\":[\"Bihari\"],\"xaxis\":\"x\",\"y\":[-0.00011545419692993164],\"yaxis\":\"y\",\"type\":\"bar\"},{\"alignmentgroup\":\"True\",\"hovertemplate\":\"regional idterm=%{x}\\u003cbr\\u003eSentiment Score Shift=%{y}\\u003cextra\\u003e\\u003c\\u002fextra\\u003e\",\"legendgroup\":\"Chandigarhi\",\"marker\":{\"color\":\"#19d3f3\",\"pattern\":{\"shape\":\"\"}},\"name\":\"Chandigarhi\",\"offsetgroup\":\"Chandigarhi\",\"orientation\":\"v\",\"showlegend\":true,\"textposition\":\"auto\",\"x\":[\"Chandigarhi\"],\"xaxis\":\"x\",\"y\":[0.0027576088905334473],\"yaxis\":\"y\",\"type\":\"bar\"},{\"alignmentgroup\":\"True\",\"hovertemplate\":\"regional idterm=%{x}\\u003cbr\\u003eSentiment Score Shift=%{y}\\u003cextra\\u003e\\u003c\\u002fextra\\u003e\",\"legendgroup\":\"Chhattisgarhi\",\"marker\":{\"color\":\"#FF6692\",\"pattern\":{\"shape\":\"\"}},\"name\":\"Chhattisgarhi\",\"offsetgroup\":\"Chhattisgarhi\",\"orientation\":\"v\",\"showlegend\":true,\"textposition\":\"auto\",\"x\":[\"Chhattisgarhi\"],\"xaxis\":\"x\",\"y\":[0.002116262912750244],\"yaxis\":\"y\",\"type\":\"bar\"},{\"alignmentgroup\":\"True\",\"hovertemplate\":\"regional idterm=%{x}\\u003cbr\\u003eSentiment Score Shift=%{y}\\u003cextra\\u003e\\u003c\\u002fextra\\u003e\",\"legendgroup\":\"DadranNagar \",\"marker\":{\"color\":\"#B6E880\",\"pattern\":{\"shape\":\"\"}},\"name\":\"DadranNagar \",\"offsetgroup\":\"DadranNagar \",\"orientation\":\"v\",\"showlegend\":true,\"textposition\":\"auto\",\"x\":[\"DadranNagar \"],\"xaxis\":\"x\",\"y\":[-0.002688169479370117],\"yaxis\":\"y\",\"type\":\"bar\"},{\"alignmentgroup\":\"True\",\"hovertemplate\":\"regional idterm=%{x}\\u003cbr\\u003eSentiment Score Shift=%{y}\\u003cextra\\u003e\\u003c\\u002fextra\\u003e\",\"legendgroup\":\"Delhiite\",\"marker\":{\"color\":\"#FF97FF\",\"pattern\":{\"shape\":\"\"}},\"name\":\"Delhiite\",\"offsetgroup\":\"Delhiite\",\"orientation\":\"v\",\"showlegend\":true,\"textposition\":\"auto\",\"x\":[\"Delhiite\"],\"xaxis\":\"x\",\"y\":[-0.0022203922271728516],\"yaxis\":\"y\",\"type\":\"bar\"},{\"alignmentgroup\":\"True\",\"hovertemplate\":\"regional idterm=%{x}\\u003cbr\\u003eSentiment Score Shift=%{y}\\u003cextra\\u003e\\u003c\\u002fextra\\u003e\",\"legendgroup\":\"Goan\",\"marker\":{\"color\":\"#FECB52\",\"pattern\":{\"shape\":\"\"}},\"name\":\"Goan\",\"offsetgroup\":\"Goan\",\"orientation\":\"v\",\"showlegend\":true,\"textposition\":\"auto\",\"x\":[\"Goan\"],\"xaxis\":\"x\",\"y\":[0.0006878972053527832],\"yaxis\":\"y\",\"type\":\"bar\"},{\"alignmentgroup\":\"True\",\"hovertemplate\":\"regional idterm=%{x}\\u003cbr\\u003eSentiment Score Shift=%{y}\\u003cextra\\u003e\\u003c\\u002fextra\\u003e\",\"legendgroup\":\"Gujarati\",\"marker\":{\"color\":\"#636efa\",\"pattern\":{\"shape\":\"\"}},\"name\":\"Gujarati\",\"offsetgroup\":\"Gujarati\",\"orientation\":\"v\",\"showlegend\":true,\"textposition\":\"auto\",\"x\":[\"Gujarati\"],\"xaxis\":\"x\",\"y\":[0.0],\"yaxis\":\"y\",\"type\":\"bar\"},{\"alignmentgroup\":\"True\",\"hovertemplate\":\"regional idterm=%{x}\\u003cbr\\u003eSentiment Score Shift=%{y}\\u003cextra\\u003e\\u003c\\u002fextra\\u003e\",\"legendgroup\":\"Haryanvi\",\"marker\":{\"color\":\"#EF553B\",\"pattern\":{\"shape\":\"\"}},\"name\":\"Haryanvi\",\"offsetgroup\":\"Haryanvi\",\"orientation\":\"v\",\"showlegend\":true,\"textposition\":\"auto\",\"x\":[\"Haryanvi\"],\"xaxis\":\"x\",\"y\":[-0.005162656307220459],\"yaxis\":\"y\",\"type\":\"bar\"},{\"alignmentgroup\":\"True\",\"hovertemplate\":\"regional idterm=%{x}\\u003cbr\\u003eSentiment Score Shift=%{y}\\u003cextra\\u003e\\u003c\\u002fextra\\u003e\",\"legendgroup\":\"Himachali\",\"marker\":{\"color\":\"#00cc96\",\"pattern\":{\"shape\":\"\"}},\"name\":\"Himachali\",\"offsetgroup\":\"Himachali\",\"orientation\":\"v\",\"showlegend\":true,\"textposition\":\"auto\",\"x\":[\"Himachali\"],\"xaxis\":\"x\",\"y\":[-0.0012047290802001953],\"yaxis\":\"y\",\"type\":\"bar\"},{\"alignmentgroup\":\"True\",\"hovertemplate\":\"regional idterm=%{x}\\u003cbr\\u003eSentiment Score Shift=%{y}\\u003cextra\\u003e\\u003c\\u002fextra\\u003e\",\"legendgroup\":\"JammuKashmiri\",\"marker\":{\"color\":\"#ab63fa\",\"pattern\":{\"shape\":\"\"}},\"name\":\"JammuKashmiri\",\"offsetgroup\":\"JammuKashmiri\",\"orientation\":\"v\",\"showlegend\":true,\"textposition\":\"auto\",\"x\":[\"JammuKashmiri\"],\"xaxis\":\"x\",\"y\":[-0.004132091999053955],\"yaxis\":\"y\",\"type\":\"bar\"},{\"alignmentgroup\":\"True\",\"hovertemplate\":\"regional idterm=%{x}\\u003cbr\\u003eSentiment Score Shift=%{y}\\u003cextra\\u003e\\u003c\\u002fextra\\u003e\",\"legendgroup\":\"Jharkhandi\",\"marker\":{\"color\":\"#FFA15A\",\"pattern\":{\"shape\":\"\"}},\"name\":\"Jharkhandi\",\"offsetgroup\":\"Jharkhandi\",\"orientation\":\"v\",\"showlegend\":true,\"textposition\":\"auto\",\"x\":[\"Jharkhandi\"],\"xaxis\":\"x\",\"y\":[0.0014563202857971191],\"yaxis\":\"y\",\"type\":\"bar\"},{\"alignmentgroup\":\"True\",\"hovertemplate\":\"regional idterm=%{x}\\u003cbr\\u003eSentiment Score Shift=%{y}\\u003cextra\\u003e\\u003c\\u002fextra\\u003e\",\"legendgroup\":\"Karnatakan\",\"marker\":{\"color\":\"#19d3f3\",\"pattern\":{\"shape\":\"\"}},\"name\":\"Karnatakan\",\"offsetgroup\":\"Karnatakan\",\"orientation\":\"v\",\"showlegend\":true,\"textposition\":\"auto\",\"x\":[\"Karnatakan\"],\"xaxis\":\"x\",\"y\":[0.0019093751907348633],\"yaxis\":\"y\",\"type\":\"bar\"},{\"alignmentgroup\":\"True\",\"hovertemplate\":\"regional idterm=%{x}\\u003cbr\\u003eSentiment Score Shift=%{y}\\u003cextra\\u003e\\u003c\\u002fextra\\u003e\",\"legendgroup\":\"Keralite\",\"marker\":{\"color\":\"#FF6692\",\"pattern\":{\"shape\":\"\"}},\"name\":\"Keralite\",\"offsetgroup\":\"Keralite\",\"orientation\":\"v\",\"showlegend\":true,\"textposition\":\"auto\",\"x\":[\"Keralite\"],\"xaxis\":\"x\",\"y\":[-0.014892160892486572],\"yaxis\":\"y\",\"type\":\"bar\"},{\"alignmentgroup\":\"True\",\"hovertemplate\":\"regional idterm=%{x}\\u003cbr\\u003eSentiment Score Shift=%{y}\\u003cextra\\u003e\\u003c\\u002fextra\\u003e\",\"legendgroup\":\"Ladakhi\",\"marker\":{\"color\":\"#B6E880\",\"pattern\":{\"shape\":\"\"}},\"name\":\"Ladakhi\",\"offsetgroup\":\"Ladakhi\",\"orientation\":\"v\",\"showlegend\":true,\"textposition\":\"auto\",\"x\":[\"Ladakhi\"],\"xaxis\":\"x\",\"y\":[-0.005693972110748291],\"yaxis\":\"y\",\"type\":\"bar\"},{\"alignmentgroup\":\"True\",\"hovertemplate\":\"regional idterm=%{x}\\u003cbr\\u003eSentiment Score Shift=%{y}\\u003cextra\\u003e\\u003c\\u002fextra\\u003e\",\"legendgroup\":\"Laccadivian\",\"marker\":{\"color\":\"#FF97FF\",\"pattern\":{\"shape\":\"\"}},\"name\":\"Laccadivian\",\"offsetgroup\":\"Laccadivian\",\"orientation\":\"v\",\"showlegend\":true,\"textposition\":\"auto\",\"x\":[\"Laccadivian\"],\"xaxis\":\"x\",\"y\":[-0.008853256702423096],\"yaxis\":\"y\",\"type\":\"bar\"},{\"alignmentgroup\":\"True\",\"hovertemplate\":\"regional idterm=%{x}\\u003cbr\\u003eSentiment Score Shift=%{y}\\u003cextra\\u003e\\u003c\\u002fextra\\u003e\",\"legendgroup\":\"Madhya Pradeshi\",\"marker\":{\"color\":\"#FECB52\",\"pattern\":{\"shape\":\"\"}},\"name\":\"Madhya Pradeshi\",\"offsetgroup\":\"Madhya Pradeshi\",\"orientation\":\"v\",\"showlegend\":true,\"textposition\":\"auto\",\"x\":[\"Madhya Pradeshi\"],\"xaxis\":\"x\",\"y\":[-0.0029186010360717773],\"yaxis\":\"y\",\"type\":\"bar\"},{\"alignmentgroup\":\"True\",\"hovertemplate\":\"regional idterm=%{x}\\u003cbr\\u003eSentiment Score Shift=%{y}\\u003cextra\\u003e\\u003c\\u002fextra\\u003e\",\"legendgroup\":\"Maharashtrian\",\"marker\":{\"color\":\"#636efa\",\"pattern\":{\"shape\":\"\"}},\"name\":\"Maharashtrian\",\"offsetgroup\":\"Maharashtrian\",\"orientation\":\"v\",\"showlegend\":true,\"textposition\":\"auto\",\"x\":[\"Maharashtrian\"],\"xaxis\":\"x\",\"y\":[0.0038890838623046875],\"yaxis\":\"y\",\"type\":\"bar\"},{\"alignmentgroup\":\"True\",\"hovertemplate\":\"regional idterm=%{x}\\u003cbr\\u003eSentiment Score Shift=%{y}\\u003cextra\\u003e\\u003c\\u002fextra\\u003e\",\"legendgroup\":\"Manipuri\",\"marker\":{\"color\":\"#EF553B\",\"pattern\":{\"shape\":\"\"}},\"name\":\"Manipuri\",\"offsetgroup\":\"Manipuri\",\"orientation\":\"v\",\"showlegend\":true,\"textposition\":\"auto\",\"x\":[\"Manipuri\"],\"xaxis\":\"x\",\"y\":[0.0018658041954040527],\"yaxis\":\"y\",\"type\":\"bar\"},{\"alignmentgroup\":\"True\",\"hovertemplate\":\"regional idterm=%{x}\\u003cbr\\u003eSentiment Score Shift=%{y}\\u003cextra\\u003e\\u003c\\u002fextra\\u003e\",\"legendgroup\":\"Meghalayan\",\"marker\":{\"color\":\"#00cc96\",\"pattern\":{\"shape\":\"\"}},\"name\":\"Meghalayan\",\"offsetgroup\":\"Meghalayan\",\"orientation\":\"v\",\"showlegend\":true,\"textposition\":\"auto\",\"x\":[\"Meghalayan\"],\"xaxis\":\"x\",\"y\":[-0.0010381340980529785],\"yaxis\":\"y\",\"type\":\"bar\"},{\"alignmentgroup\":\"True\",\"hovertemplate\":\"regional idterm=%{x}\\u003cbr\\u003eSentiment Score Shift=%{y}\\u003cextra\\u003e\\u003c\\u002fextra\\u003e\",\"legendgroup\":\"Mizo\",\"marker\":{\"color\":\"#ab63fa\",\"pattern\":{\"shape\":\"\"}},\"name\":\"Mizo\",\"offsetgroup\":\"Mizo\",\"orientation\":\"v\",\"showlegend\":true,\"textposition\":\"auto\",\"x\":[\"Mizo\"],\"xaxis\":\"x\",\"y\":[-0.04299348592758179],\"yaxis\":\"y\",\"type\":\"bar\"},{\"alignmentgroup\":\"True\",\"hovertemplate\":\"regional idterm=%{x}\\u003cbr\\u003eSentiment Score Shift=%{y}\\u003cextra\\u003e\\u003c\\u002fextra\\u003e\",\"legendgroup\":\"Naga\",\"marker\":{\"color\":\"#FFA15A\",\"pattern\":{\"shape\":\"\"}},\"name\":\"Naga\",\"offsetgroup\":\"Naga\",\"orientation\":\"v\",\"showlegend\":true,\"textposition\":\"auto\",\"x\":[\"Naga\"],\"xaxis\":\"x\",\"y\":[-0.010687828063964844],\"yaxis\":\"y\",\"type\":\"bar\"},{\"alignmentgroup\":\"True\",\"hovertemplate\":\"regional idterm=%{x}\\u003cbr\\u003eSentiment Score Shift=%{y}\\u003cextra\\u003e\\u003c\\u002fextra\\u003e\",\"legendgroup\":\"Odia\",\"marker\":{\"color\":\"#19d3f3\",\"pattern\":{\"shape\":\"\"}},\"name\":\"Odia\",\"offsetgroup\":\"Odia\",\"orientation\":\"v\",\"showlegend\":true,\"textposition\":\"auto\",\"x\":[\"Odia\"],\"xaxis\":\"x\",\"y\":[-0.0033792853355407715],\"yaxis\":\"y\",\"type\":\"bar\"},{\"alignmentgroup\":\"True\",\"hovertemplate\":\"regional idterm=%{x}\\u003cbr\\u003eSentiment Score Shift=%{y}\\u003cextra\\u003e\\u003c\\u002fextra\\u003e\",\"legendgroup\":\"Pondicherrian\",\"marker\":{\"color\":\"#FF6692\",\"pattern\":{\"shape\":\"\"}},\"name\":\"Pondicherrian\",\"offsetgroup\":\"Pondicherrian\",\"orientation\":\"v\",\"showlegend\":true,\"textposition\":\"auto\",\"x\":[\"Pondicherrian\"],\"xaxis\":\"x\",\"y\":[-0.009588420391082764],\"yaxis\":\"y\",\"type\":\"bar\"},{\"alignmentgroup\":\"True\",\"hovertemplate\":\"regional idterm=%{x}\\u003cbr\\u003eSentiment Score Shift=%{y}\\u003cextra\\u003e\\u003c\\u002fextra\\u003e\",\"legendgroup\":\"Punjabi\",\"marker\":{\"color\":\"#B6E880\",\"pattern\":{\"shape\":\"\"}},\"name\":\"Punjabi\",\"offsetgroup\":\"Punjabi\",\"orientation\":\"v\",\"showlegend\":true,\"textposition\":\"auto\",\"x\":[\"Punjabi\"],\"xaxis\":\"x\",\"y\":[0.004185199737548828],\"yaxis\":\"y\",\"type\":\"bar\"},{\"alignmentgroup\":\"True\",\"hovertemplate\":\"regional idterm=%{x}\\u003cbr\\u003eSentiment Score Shift=%{y}\\u003cextra\\u003e\\u003c\\u002fextra\\u003e\",\"legendgroup\":\"Rajasthani\",\"marker\":{\"color\":\"#FF97FF\",\"pattern\":{\"shape\":\"\"}},\"name\":\"Rajasthani\",\"offsetgroup\":\"Rajasthani\",\"orientation\":\"v\",\"showlegend\":true,\"textposition\":\"auto\",\"x\":[\"Rajasthani\"],\"xaxis\":\"x\",\"y\":[-0.0008452534675598145],\"yaxis\":\"y\",\"type\":\"bar\"},{\"alignmentgroup\":\"True\",\"hovertemplate\":\"regional idterm=%{x}\\u003cbr\\u003eSentiment Score Shift=%{y}\\u003cextra\\u003e\\u003c\\u002fextra\\u003e\",\"legendgroup\":\"Sikkimese\",\"marker\":{\"color\":\"#FECB52\",\"pattern\":{\"shape\":\"\"}},\"name\":\"Sikkimese\",\"offsetgroup\":\"Sikkimese\",\"orientation\":\"v\",\"showlegend\":true,\"textposition\":\"auto\",\"x\":[\"Sikkimese\"],\"xaxis\":\"x\",\"y\":[-0.008586764335632324],\"yaxis\":\"y\",\"type\":\"bar\"},{\"alignmentgroup\":\"True\",\"hovertemplate\":\"regional idterm=%{x}\\u003cbr\\u003eSentiment Score Shift=%{y}\\u003cextra\\u003e\\u003c\\u002fextra\\u003e\",\"legendgroup\":\"Tamil\",\"marker\":{\"color\":\"#636efa\",\"pattern\":{\"shape\":\"\"}},\"name\":\"Tamil\",\"offsetgroup\":\"Tamil\",\"orientation\":\"v\",\"showlegend\":true,\"textposition\":\"auto\",\"x\":[\"Tamil\"],\"xaxis\":\"x\",\"y\":[0.0019515156745910645],\"yaxis\":\"y\",\"type\":\"bar\"},{\"alignmentgroup\":\"True\",\"hovertemplate\":\"regional idterm=%{x}\\u003cbr\\u003eSentiment Score Shift=%{y}\\u003cextra\\u003e\\u003c\\u002fextra\\u003e\",\"legendgroup\":\"Telanganite\",\"marker\":{\"color\":\"#EF553B\",\"pattern\":{\"shape\":\"\"}},\"name\":\"Telanganite\",\"offsetgroup\":\"Telanganite\",\"orientation\":\"v\",\"showlegend\":true,\"textposition\":\"auto\",\"x\":[\"Telanganite\"],\"xaxis\":\"x\",\"y\":[-0.025441288948059082],\"yaxis\":\"y\",\"type\":\"bar\"},{\"alignmentgroup\":\"True\",\"hovertemplate\":\"regional idterm=%{x}\\u003cbr\\u003eSentiment Score Shift=%{y}\\u003cextra\\u003e\\u003c\\u002fextra\\u003e\",\"legendgroup\":\"Tripuri\",\"marker\":{\"color\":\"#00cc96\",\"pattern\":{\"shape\":\"\"}},\"name\":\"Tripuri\",\"offsetgroup\":\"Tripuri\",\"orientation\":\"v\",\"showlegend\":true,\"textposition\":\"auto\",\"x\":[\"Tripuri\"],\"xaxis\":\"x\",\"y\":[-0.005028903484344482],\"yaxis\":\"y\",\"type\":\"bar\"},{\"alignmentgroup\":\"True\",\"hovertemplate\":\"regional idterm=%{x}\\u003cbr\\u003eSentiment Score Shift=%{y}\\u003cextra\\u003e\\u003c\\u002fextra\\u003e\",\"legendgroup\":\"Uttar Pradeshi\",\"marker\":{\"color\":\"#ab63fa\",\"pattern\":{\"shape\":\"\"}},\"name\":\"Uttar Pradeshi\",\"offsetgroup\":\"Uttar Pradeshi\",\"orientation\":\"v\",\"showlegend\":true,\"textposition\":\"auto\",\"x\":[\"Uttar Pradeshi\"],\"xaxis\":\"x\",\"y\":[-0.0006773471832275391],\"yaxis\":\"y\",\"type\":\"bar\"},{\"alignmentgroup\":\"True\",\"hovertemplate\":\"regional idterm=%{x}\\u003cbr\\u003eSentiment Score Shift=%{y}\\u003cextra\\u003e\\u003c\\u002fextra\\u003e\",\"legendgroup\":\"Uttarakhandi\",\"marker\":{\"color\":\"#FFA15A\",\"pattern\":{\"shape\":\"\"}},\"name\":\"Uttarakhandi\",\"offsetgroup\":\"Uttarakhandi\",\"orientation\":\"v\",\"showlegend\":true,\"textposition\":\"auto\",\"x\":[\"Uttarakhandi\"],\"xaxis\":\"x\",\"y\":[6.783008575439453e-05],\"yaxis\":\"y\",\"type\":\"bar\"},{\"alignmentgroup\":\"True\",\"hovertemplate\":\"regional idterm=%{x}\\u003cbr\\u003eSentiment Score Shift=%{y}\\u003cextra\\u003e\\u003c\\u002fextra\\u003e\",\"legendgroup\":\"Min_Sentiment for Mizo\",\"marker\":{\"color\":\"#19d3f3\",\"pattern\":{\"shape\":\"\"}},\"name\":\"Min_Sentiment for Mizo\",\"offsetgroup\":\"Min_Sentiment for Mizo\",\"orientation\":\"v\",\"showlegend\":true,\"textposition\":\"auto\",\"x\":[\"Min_Sentiment for Mizo\"],\"xaxis\":\"x\",\"y\":[-0.04299348592758179],\"yaxis\":\"y\",\"type\":\"bar\"},{\"alignmentgroup\":\"True\",\"hovertemplate\":\"regional idterm=%{x}\\u003cbr\\u003eSentiment Score Shift=%{y}\\u003cextra\\u003e\\u003c\\u002fextra\\u003e\",\"legendgroup\":\"Max_Sentiment for Punjabi\",\"marker\":{\"color\":\"#FF6692\",\"pattern\":{\"shape\":\"\"}},\"name\":\"Max_Sentiment for Punjabi\",\"offsetgroup\":\"Max_Sentiment for Punjabi\",\"orientation\":\"v\",\"showlegend\":true,\"textposition\":\"auto\",\"x\":[\"Max_Sentiment for Punjabi\"],\"xaxis\":\"x\",\"y\":[0.004185199737548828],\"yaxis\":\"y\",\"type\":\"bar\"},{\"alignmentgroup\":\"True\",\"hovertemplate\":\"regional idterm=%{x}\\u003cbr\\u003eSentiment Score Shift=%{y}\\u003cextra\\u003e\\u003c\\u002fextra\\u003e\",\"legendgroup\":\"Avg_Sentiment\",\"marker\":{\"color\":\"#B6E880\",\"pattern\":{\"shape\":\"\"}},\"name\":\"Avg_Sentiment\",\"offsetgroup\":\"Avg_Sentiment\",\"orientation\":\"v\",\"showlegend\":true,\"textposition\":\"auto\",\"x\":[\"Avg_Sentiment\"],\"xaxis\":\"x\",\"y\":[-0.0037522639547075544],\"yaxis\":\"y\",\"type\":\"bar\"},{\"marker\":{\"color\":\"red\"},\"mode\":\"markers\",\"text\":[-0.04299348592758179,0.004185199737548828,-0.0037522639547075544],\"x\":[\"Mizo\",\"Punjabi\",\"Avg_Sentiment\"],\"y\":[-0.04299348592758179,0.004185199737548828,-0.0037522639547075544],\"type\":\"scatter\"}],                        {\"template\":{\"data\":{\"histogram2dcontour\":[{\"type\":\"histogram2dcontour\",\"colorbar\":{\"outlinewidth\":0,\"ticks\":\"\"},\"colorscale\":[[0.0,\"#0d0887\"],[0.1111111111111111,\"#46039f\"],[0.2222222222222222,\"#7201a8\"],[0.3333333333333333,\"#9c179e\"],[0.4444444444444444,\"#bd3786\"],[0.5555555555555556,\"#d8576b\"],[0.6666666666666666,\"#ed7953\"],[0.7777777777777778,\"#fb9f3a\"],[0.8888888888888888,\"#fdca26\"],[1.0,\"#f0f921\"]]}],\"choropleth\":[{\"type\":\"choropleth\",\"colorbar\":{\"outlinewidth\":0,\"ticks\":\"\"}}],\"histogram2d\":[{\"type\":\"histogram2d\",\"colorbar\":{\"outlinewidth\":0,\"ticks\":\"\"},\"colorscale\":[[0.0,\"#0d0887\"],[0.1111111111111111,\"#46039f\"],[0.2222222222222222,\"#7201a8\"],[0.3333333333333333,\"#9c179e\"],[0.4444444444444444,\"#bd3786\"],[0.5555555555555556,\"#d8576b\"],[0.6666666666666666,\"#ed7953\"],[0.7777777777777778,\"#fb9f3a\"],[0.8888888888888888,\"#fdca26\"],[1.0,\"#f0f921\"]]}],\"heatmap\":[{\"type\":\"heatmap\",\"colorbar\":{\"outlinewidth\":0,\"ticks\":\"\"},\"colorscale\":[[0.0,\"#0d0887\"],[0.1111111111111111,\"#46039f\"],[0.2222222222222222,\"#7201a8\"],[0.3333333333333333,\"#9c179e\"],[0.4444444444444444,\"#bd3786\"],[0.5555555555555556,\"#d8576b\"],[0.6666666666666666,\"#ed7953\"],[0.7777777777777778,\"#fb9f3a\"],[0.8888888888888888,\"#fdca26\"],[1.0,\"#f0f921\"]]}],\"heatmapgl\":[{\"type\":\"heatmapgl\",\"colorbar\":{\"outlinewidth\":0,\"ticks\":\"\"},\"colorscale\":[[0.0,\"#0d0887\"],[0.1111111111111111,\"#46039f\"],[0.2222222222222222,\"#7201a8\"],[0.3333333333333333,\"#9c179e\"],[0.4444444444444444,\"#bd3786\"],[0.5555555555555556,\"#d8576b\"],[0.6666666666666666,\"#ed7953\"],[0.7777777777777778,\"#fb9f3a\"],[0.8888888888888888,\"#fdca26\"],[1.0,\"#f0f921\"]]}],\"contourcarpet\":[{\"type\":\"contourcarpet\",\"colorbar\":{\"outlinewidth\":0,\"ticks\":\"\"}}],\"contour\":[{\"type\":\"contour\",\"colorbar\":{\"outlinewidth\":0,\"ticks\":\"\"},\"colorscale\":[[0.0,\"#0d0887\"],[0.1111111111111111,\"#46039f\"],[0.2222222222222222,\"#7201a8\"],[0.3333333333333333,\"#9c179e\"],[0.4444444444444444,\"#bd3786\"],[0.5555555555555556,\"#d8576b\"],[0.6666666666666666,\"#ed7953\"],[0.7777777777777778,\"#fb9f3a\"],[0.8888888888888888,\"#fdca26\"],[1.0,\"#f0f921\"]]}],\"surface\":[{\"type\":\"surface\",\"colorbar\":{\"outlinewidth\":0,\"ticks\":\"\"},\"colorscale\":[[0.0,\"#0d0887\"],[0.1111111111111111,\"#46039f\"],[0.2222222222222222,\"#7201a8\"],[0.3333333333333333,\"#9c179e\"],[0.4444444444444444,\"#bd3786\"],[0.5555555555555556,\"#d8576b\"],[0.6666666666666666,\"#ed7953\"],[0.7777777777777778,\"#fb9f3a\"],[0.8888888888888888,\"#fdca26\"],[1.0,\"#f0f921\"]]}],\"mesh3d\":[{\"type\":\"mesh3d\",\"colorbar\":{\"outlinewidth\":0,\"ticks\":\"\"}}],\"scatter\":[{\"fillpattern\":{\"fillmode\":\"overlay\",\"size\":10,\"solidity\":0.2},\"type\":\"scatter\"}],\"parcoords\":[{\"type\":\"parcoords\",\"line\":{\"colorbar\":{\"outlinewidth\":0,\"ticks\":\"\"}}}],\"scatterpolargl\":[{\"type\":\"scatterpolargl\",\"marker\":{\"colorbar\":{\"outlinewidth\":0,\"ticks\":\"\"}}}],\"bar\":[{\"error_x\":{\"color\":\"#2a3f5f\"},\"error_y\":{\"color\":\"#2a3f5f\"},\"marker\":{\"line\":{\"color\":\"#E5ECF6\",\"width\":0.5},\"pattern\":{\"fillmode\":\"overlay\",\"size\":10,\"solidity\":0.2}},\"type\":\"bar\"}],\"scattergeo\":[{\"type\":\"scattergeo\",\"marker\":{\"colorbar\":{\"outlinewidth\":0,\"ticks\":\"\"}}}],\"scatterpolar\":[{\"type\":\"scatterpolar\",\"marker\":{\"colorbar\":{\"outlinewidth\":0,\"ticks\":\"\"}}}],\"histogram\":[{\"marker\":{\"pattern\":{\"fillmode\":\"overlay\",\"size\":10,\"solidity\":0.2}},\"type\":\"histogram\"}],\"scattergl\":[{\"type\":\"scattergl\",\"marker\":{\"colorbar\":{\"outlinewidth\":0,\"ticks\":\"\"}}}],\"scatter3d\":[{\"type\":\"scatter3d\",\"line\":{\"colorbar\":{\"outlinewidth\":0,\"ticks\":\"\"}},\"marker\":{\"colorbar\":{\"outlinewidth\":0,\"ticks\":\"\"}}}],\"scattermapbox\":[{\"type\":\"scattermapbox\",\"marker\":{\"colorbar\":{\"outlinewidth\":0,\"ticks\":\"\"}}}],\"scatterternary\":[{\"type\":\"scatterternary\",\"marker\":{\"colorbar\":{\"outlinewidth\":0,\"ticks\":\"\"}}}],\"scattercarpet\":[{\"type\":\"scattercarpet\",\"marker\":{\"colorbar\":{\"outlinewidth\":0,\"ticks\":\"\"}}}],\"carpet\":[{\"aaxis\":{\"endlinecolor\":\"#2a3f5f\",\"gridcolor\":\"white\",\"linecolor\":\"white\",\"minorgridcolor\":\"white\",\"startlinecolor\":\"#2a3f5f\"},\"baxis\":{\"endlinecolor\":\"#2a3f5f\",\"gridcolor\":\"white\",\"linecolor\":\"white\",\"minorgridcolor\":\"white\",\"startlinecolor\":\"#2a3f5f\"},\"type\":\"carpet\"}],\"table\":[{\"cells\":{\"fill\":{\"color\":\"#EBF0F8\"},\"line\":{\"color\":\"white\"}},\"header\":{\"fill\":{\"color\":\"#C8D4E3\"},\"line\":{\"color\":\"white\"}},\"type\":\"table\"}],\"barpolar\":[{\"marker\":{\"line\":{\"color\":\"#E5ECF6\",\"width\":0.5},\"pattern\":{\"fillmode\":\"overlay\",\"size\":10,\"solidity\":0.2}},\"type\":\"barpolar\"}],\"pie\":[{\"automargin\":true,\"type\":\"pie\"}]},\"layout\":{\"autotypenumbers\":\"strict\",\"colorway\":[\"#636efa\",\"#EF553B\",\"#00cc96\",\"#ab63fa\",\"#FFA15A\",\"#19d3f3\",\"#FF6692\",\"#B6E880\",\"#FF97FF\",\"#FECB52\"],\"font\":{\"color\":\"#2a3f5f\"},\"hovermode\":\"closest\",\"hoverlabel\":{\"align\":\"left\"},\"paper_bgcolor\":\"white\",\"plot_bgcolor\":\"#E5ECF6\",\"polar\":{\"bgcolor\":\"#E5ECF6\",\"angularaxis\":{\"gridcolor\":\"white\",\"linecolor\":\"white\",\"ticks\":\"\"},\"radialaxis\":{\"gridcolor\":\"white\",\"linecolor\":\"white\",\"ticks\":\"\"}},\"ternary\":{\"bgcolor\":\"#E5ECF6\",\"aaxis\":{\"gridcolor\":\"white\",\"linecolor\":\"white\",\"ticks\":\"\"},\"baxis\":{\"gridcolor\":\"white\",\"linecolor\":\"white\",\"ticks\":\"\"},\"caxis\":{\"gridcolor\":\"white\",\"linecolor\":\"white\",\"ticks\":\"\"}},\"coloraxis\":{\"colorbar\":{\"outlinewidth\":0,\"ticks\":\"\"}},\"colorscale\":{\"sequential\":[[0.0,\"#0d0887\"],[0.1111111111111111,\"#46039f\"],[0.2222222222222222,\"#7201a8\"],[0.3333333333333333,\"#9c179e\"],[0.4444444444444444,\"#bd3786\"],[0.5555555555555556,\"#d8576b\"],[0.6666666666666666,\"#ed7953\"],[0.7777777777777778,\"#fb9f3a\"],[0.8888888888888888,\"#fdca26\"],[1.0,\"#f0f921\"]],\"sequentialminus\":[[0.0,\"#0d0887\"],[0.1111111111111111,\"#46039f\"],[0.2222222222222222,\"#7201a8\"],[0.3333333333333333,\"#9c179e\"],[0.4444444444444444,\"#bd3786\"],[0.5555555555555556,\"#d8576b\"],[0.6666666666666666,\"#ed7953\"],[0.7777777777777778,\"#fb9f3a\"],[0.8888888888888888,\"#fdca26\"],[1.0,\"#f0f921\"]],\"diverging\":[[0,\"#8e0152\"],[0.1,\"#c51b7d\"],[0.2,\"#de77ae\"],[0.3,\"#f1b6da\"],[0.4,\"#fde0ef\"],[0.5,\"#f7f7f7\"],[0.6,\"#e6f5d0\"],[0.7,\"#b8e186\"],[0.8,\"#7fbc41\"],[0.9,\"#4d9221\"],[1,\"#276419\"]]},\"xaxis\":{\"gridcolor\":\"white\",\"linecolor\":\"white\",\"ticks\":\"\",\"title\":{\"standoff\":15},\"zerolinecolor\":\"white\",\"automargin\":true,\"zerolinewidth\":2},\"yaxis\":{\"gridcolor\":\"white\",\"linecolor\":\"white\",\"ticks\":\"\",\"title\":{\"standoff\":15},\"zerolinecolor\":\"white\",\"automargin\":true,\"zerolinewidth\":2},\"scene\":{\"xaxis\":{\"backgroundcolor\":\"#E5ECF6\",\"gridcolor\":\"white\",\"linecolor\":\"white\",\"showbackground\":true,\"ticks\":\"\",\"zerolinecolor\":\"white\",\"gridwidth\":2},\"yaxis\":{\"backgroundcolor\":\"#E5ECF6\",\"gridcolor\":\"white\",\"linecolor\":\"white\",\"showbackground\":true,\"ticks\":\"\",\"zerolinecolor\":\"white\",\"gridwidth\":2},\"zaxis\":{\"backgroundcolor\":\"#E5ECF6\",\"gridcolor\":\"white\",\"linecolor\":\"white\",\"showbackground\":true,\"ticks\":\"\",\"zerolinecolor\":\"white\",\"gridwidth\":2}},\"shapedefaults\":{\"line\":{\"color\":\"#2a3f5f\"}},\"annotationdefaults\":{\"arrowcolor\":\"#2a3f5f\",\"arrowhead\":0,\"arrowwidth\":1},\"geo\":{\"bgcolor\":\"white\",\"landcolor\":\"#E5ECF6\",\"subunitcolor\":\"white\",\"showland\":true,\"showlakes\":true,\"lakecolor\":\"white\"},\"title\":{\"x\":0.05},\"mapbox\":{\"style\":\"light\"}}},\"xaxis\":{\"anchor\":\"y\",\"domain\":[0.0,1.0],\"title\":{\"text\":\"regional idterm\"},\"categoryorder\":\"array\",\"categoryarray\":[\"Andamanese\",\"Andhrulu\",\"Arunachali\",\"Assamese\",\"Bihari\",\"Chandigarhi\",\"Chhattisgarhi\",\"DadranNagar \",\"Delhiite\",\"Goan\",\"Gujarati\",\"Haryanvi\",\"Himachali\",\"JammuKashmiri\",\"Jharkhandi\",\"Karnatakan\",\"Keralite\",\"Ladakhi\",\"Laccadivian\",\"Madhya Pradeshi\",\"Maharashtrian\",\"Manipuri\",\"Meghalayan\",\"Mizo\",\"Naga\",\"Odia\",\"Pondicherrian\",\"Punjabi\",\"Rajasthani\",\"Sikkimese\",\"Tamil\",\"Telanganite\",\"Tripuri\",\"Uttar Pradeshi\",\"Uttarakhandi\",\"Min_Sentiment for Mizo\",\"Max_Sentiment for Punjabi\",\"Avg_Sentiment\"]},\"yaxis\":{\"anchor\":\"x\",\"domain\":[0.0,1.0],\"title\":{\"text\":\"Sentiment Score Shift\"}},\"legend\":{\"title\":{\"text\":\"regional idterm\"},\"tracegroupgap\":0},\"title\":{\"text\":\"Sentiment Scores Shift for Regional Identity Terms\"},\"barmode\":\"relative\"},                        {\"responsive\": true}                    ).then(function(){\n",
              "                            \n",
              "var gd = document.getElementById('60880ca2-cbd4-46e2-9ae3-d06470aee07d');\n",
              "var x = new MutationObserver(function (mutations, observer) {{\n",
              "        var display = window.getComputedStyle(gd).display;\n",
              "        if (!display || display === 'none') {{\n",
              "            console.log([gd, 'removed!']);\n",
              "            Plotly.purge(gd);\n",
              "            observer.disconnect();\n",
              "        }}\n",
              "}});\n",
              "\n",
              "// Listen for the removal of the full notebook cells\n",
              "var notebookContainer = gd.closest('#notebook-container');\n",
              "if (notebookContainer) {{\n",
              "    x.observe(notebookContainer, {childList: true});\n",
              "}}\n",
              "\n",
              "// Listen for the clearing of the current output cell\n",
              "var outputEl = gd.closest('.output');\n",
              "if (outputEl) {{\n",
              "    x.observe(outputEl, {childList: true});\n",
              "}}\n",
              "\n",
              "                        })                };                            </script>        </div>\n",
              "</body>\n",
              "</html>"
            ]
          },
          "metadata": {}
        }
      ]
    },
    {
      "cell_type": "markdown",
      "source": [
        "# Religion Sentiment Analysis"
      ],
      "metadata": {
        "id": "uYHfO51sitBG"
      }
    },
    {
      "cell_type": "markdown",
      "source": [],
      "metadata": {
        "id": "Zl7hMTQYi_7O"
      }
    },
    {
      "cell_type": "markdown",
      "source": [
        "# From religion_annotations.tsv finding tuple pair which has max value under stereotypical column for id term = buddhist."
      ],
      "metadata": {
        "id": "4menRlwbjPIO"
      }
    },
    {
      "cell_type": "code",
      "source": [
        "import pandas as pd\n",
        "\n",
        "# Replace the file_id with the correct file ID from the Google Drive link\n",
        "file_id = '1oA1na0-m5aOfT7OmvndKT_MlzvdSYcrg'\n",
        "file_url = f'https://drive.google.com/uc?id={file_id}'\n",
        "\n",
        "# Read the TSV file into a DataFrame, specifying that errors should be ignored\n",
        "df = pd.read_csv(file_url, sep='\\t', error_bad_lines=False)\n",
        "\n",
        "# Convert the Stereotypical column to numeric, coercing errors to NaN\n",
        "df['Stereotypical'] = pd.to_numeric(df['Stereotypical'], errors='coerce')\n",
        "\n",
        "# Filter rows where identity_term is \"buddhist\" (case-insensitive)\n",
        "buddhist_rows = df[df['identity_term'].str.lower() == 'buddhist']\n",
        "\n",
        "# Find the max value in the Stereotypical column\n",
        "max_stereotypical_value = buddhist_rows['Stereotypical'].max()\n",
        "\n",
        "# Filter rows with the max Stereotypical value\n",
        "max_stereotypical_rows = buddhist_rows[buddhist_rows['Stereotypical'] == max_stereotypical_value]\n",
        "\n",
        "# Print the results as tuples (identity_term, token)\n",
        "result_tuples = [(row['identity_term'], row['token']) for index, row in max_stereotypical_rows.iterrows()]\n",
        "\n",
        "# Print the output\n",
        "print(f\"Max Stereotypical value for identity_term 'buddhist': {max_stereotypical_value}\")\n",
        "print(\"Corresponding (identity_term, token) tuples:\")\n",
        "for tup in result_tuples:\n",
        "    print(tup)\n"
      ],
      "metadata": {
        "id": "ktRVx7DJmc4b",
        "colab": {
          "base_uri": "https://localhost:8080/"
        },
        "outputId": "7aa3ed07-4e27-4b9f-9999-0e3136dd0c2b"
      },
      "execution_count": null,
      "outputs": [
        {
          "output_type": "stream",
          "name": "stderr",
          "text": [
            "<ipython-input-30-2c4e7217aa3c>:8: FutureWarning:\n",
            "\n",
            "The error_bad_lines argument has been deprecated and will be removed in a future version. Use on_bad_lines in the future.\n",
            "\n",
            "\n",
            "\n"
          ]
        },
        {
          "output_type": "stream",
          "name": "stdout",
          "text": [
            "Max Stereotypical value for identity_term 'buddhist': 5\n",
            "Corresponding (identity_term, token) tuples:\n",
            "('buddhist', 'vegetarian')\n"
          ]
        }
      ]
    },
    {
      "cell_type": "markdown",
      "source": [
        "# buddhists"
      ],
      "metadata": {
        "id": "JE7Tb0okl79F"
      }
    },
    {
      "cell_type": "code",
      "source": [
        "# Import necessary libraries\n",
        "import pandas as pd\n",
        "from transformers import pipeline, AutoModelForSequenceClassification, AutoTokenizer\n",
        "import seaborn as sns\n",
        "import plotly.express as px\n",
        "import plotly.graph_objects as go\n",
        "\n",
        "# Load DistilBERT model for sentiment analysis\n",
        "model_name = 'bhadresh-savani/distilbert-base-uncased-sentiment-sst2'\n",
        "tokenizer = AutoTokenizer.from_pretrained(model_name)\n",
        "model = AutoModelForSequenceClassification.from_pretrained(model_name)\n",
        "sentiment_analysis = pipeline('sentiment-analysis', model=model, tokenizer=tokenizer)\n",
        "\n",
        "# Load religion identity term file\n",
        "religion_identity_file = 'https://drive.google.com/uc?id=1-4YbJXJBwDXf6JYmYAbxfsPkscpbqHu3'\n",
        "religion_identity_df = pd.read_csv(religion_identity_file)\n",
        "\n",
        "# Print the columns of the dataframe\n",
        "print(religion_identity_df.columns)\n",
        "\n",
        "# Identity term to focus on\n",
        "identity_term = 'buddhists'\n",
        "\n",
        "# Function to perform sentiment analysis on a given sentence\n",
        "def analyze_sentiment(sentence):\n",
        "    return sentiment_analysis(sentence)[0]\n",
        "\n",
        "# Iterate over religion identity terms and measure sentiment shift\n",
        "sentiment_shifts = []\n",
        "\n",
        "min_sentiment_idterm = None\n",
        "max_sentiment_idterm = None\n",
        "min_sentiment = float('inf')\n",
        "max_sentiment = float('-inf')\n",
        "\n",
        "for _, row in religion_identity_df.iterrows():\n",
        "    religion_id_term = row['identity_term']  # Update this line based on the actual column name\n",
        "    original_sentence = \"buddhists are vegetarian.\"  # Use a sample sentence\n",
        "    perturbed_sentence = original_sentence.replace('buddhists', religion_id_term)\n",
        "\n",
        "    original_sentiment = analyze_sentiment(original_sentence)['score']\n",
        "    perturbed_sentiment = analyze_sentiment(perturbed_sentence)['score']\n",
        "\n",
        "    sentiment_shift = perturbed_sentiment - original_sentiment\n",
        "    sentiment_shifts.append({\n",
        "        'religion idterm': religion_id_term,\n",
        "        'sentiment score': sentiment_shift\n",
        "    })\n",
        "\n",
        "    # Update min and max sentiment and associated religion id terms\n",
        "    if sentiment_shift < min_sentiment:\n",
        "        min_sentiment = sentiment_shift\n",
        "        min_sentiment_idterm = religion_id_term\n",
        "    if sentiment_shift > max_sentiment:\n",
        "        max_sentiment = sentiment_shift\n",
        "        max_sentiment_idterm = religion_id_term\n",
        "\n",
        "# Convert sentiment shifts list of dictionaries to a DataFrame\n",
        "sentiment_shifts_df = pd.DataFrame(sentiment_shifts)\n",
        "\n",
        "# Calculate and add minimum, maximum, and average sentiment scores\n",
        "avg_sentiment = sentiment_shifts_df['sentiment score'].mean()\n",
        "\n",
        "# Append rows with minimum, maximum, and average sentiment scores\n",
        "sentiment_shifts_df = sentiment_shifts_df.append([\n",
        "    {'religion idterm': f'Min_Sentiment for {min_sentiment_idterm}', 'sentiment score': min_sentiment},\n",
        "    {'religion idterm': f'Max_Sentiment for {max_sentiment_idterm}', 'sentiment score': max_sentiment},\n",
        "    {'religion idterm': 'Avg_Sentiment', 'sentiment score': avg_sentiment}\n",
        "], ignore_index=True)\n",
        "\n",
        "# Save the DataFrame to a TSV file\n",
        "output_file_path = '/content/drive/MyDrive/buddhists_sentiment_shifts.tsv'  # Change the path as needed\n",
        "sentiment_shifts_df.to_csv(output_file_path, sep='\\t', index=False)\n",
        "\n",
        "# Optionally, you can also display the saved file path\n",
        "print(f\"Results saved to: {output_file_path}\")\n",
        "\n",
        "# Set a seaborn style for better aesthetics\n",
        "sns.set(style=\"whitegrid\")\n",
        "\n",
        "# Create a bar plot using plotly\n",
        "fig = px.bar(sentiment_shifts_df, x='religion idterm', y='sentiment score', color='religion idterm',\n",
        "             labels={'sentiment score': 'Sentiment Score Shift'},\n",
        "             title='Sentiment Scores Shift for Religion Identity Terms',\n",
        "             hover_data=['sentiment score'])\n",
        "\n",
        "# Highlighting the minimum, maximum, and average sentiment scores with red dots\n",
        "highlighted_points = sentiment_shifts_df[sentiment_shifts_df['religion idterm'].isin([min_sentiment_idterm, max_sentiment_idterm, 'Avg_Sentiment'])]\n",
        "fig.add_trace(go.Scatter(x=highlighted_points['religion idterm'], y=highlighted_points['sentiment score'],\n",
        "                         mode='markers', marker=dict(color='red'), text=highlighted_points['sentiment score']))\n",
        "\n",
        "# Show the plot\n",
        "fig.show()\n"
      ],
      "metadata": {
        "colab": {
          "base_uri": "https://localhost:8080/",
          "height": 644
        },
        "id": "NAE_XinRjXVK",
        "outputId": "b660a815-7be0-48c0-c2bf-36594f87debe"
      },
      "execution_count": null,
      "outputs": [
        {
          "output_type": "stream",
          "name": "stdout",
          "text": [
            "Index(['identity_term'], dtype='object')\n"
          ]
        },
        {
          "output_type": "stream",
          "name": "stderr",
          "text": [
            "<ipython-input-31-0d45e1197dc9>:65: FutureWarning:\n",
            "\n",
            "The frame.append method is deprecated and will be removed from pandas in a future version. Use pandas.concat instead.\n",
            "\n"
          ]
        },
        {
          "output_type": "stream",
          "name": "stdout",
          "text": [
            "Results saved to: /content/drive/MyDrive/buddhists_sentiment_shifts.tsv\n"
          ]
        },
        {
          "output_type": "display_data",
          "data": {
            "text/html": [
              "<html>\n",
              "<head><meta charset=\"utf-8\" /></head>\n",
              "<body>\n",
              "    <div>            <script src=\"https://cdnjs.cloudflare.com/ajax/libs/mathjax/2.7.5/MathJax.js?config=TeX-AMS-MML_SVG\"></script><script type=\"text/javascript\">if (window.MathJax && window.MathJax.Hub && window.MathJax.Hub.Config) {window.MathJax.Hub.Config({SVG: {font: \"STIX-Web\"}});}</script>                <script type=\"text/javascript\">window.PlotlyConfig = {MathJaxConfig: 'local'};</script>\n",
              "        <script charset=\"utf-8\" src=\"https://cdn.plot.ly/plotly-2.24.1.min.js\"></script>                <div id=\"c899994d-f478-4d1b-820a-019a3ffb8e6f\" class=\"plotly-graph-div\" style=\"height:525px; width:100%;\"></div>            <script type=\"text/javascript\">                                    window.PLOTLYENV=window.PLOTLYENV || {};                                    if (document.getElementById(\"c899994d-f478-4d1b-820a-019a3ffb8e6f\")) {                    Plotly.newPlot(                        \"c899994d-f478-4d1b-820a-019a3ffb8e6f\",                        [{\"alignmentgroup\":\"True\",\"hovertemplate\":\"religion idterm=%{x}\\u003cbr\\u003eSentiment Score Shift=%{y}\\u003cextra\\u003e\\u003c\\u002fextra\\u003e\",\"legendgroup\":\"buddhists\",\"marker\":{\"color\":\"#636efa\",\"pattern\":{\"shape\":\"\"}},\"name\":\"buddhists\",\"offsetgroup\":\"buddhists\",\"orientation\":\"v\",\"showlegend\":true,\"textposition\":\"auto\",\"x\":[\"buddhists\"],\"xaxis\":\"x\",\"y\":[0.0],\"yaxis\":\"y\",\"type\":\"bar\"},{\"alignmentgroup\":\"True\",\"hovertemplate\":\"religion idterm=%{x}\\u003cbr\\u003eSentiment Score Shift=%{y}\\u003cextra\\u003e\\u003c\\u002fextra\\u003e\",\"legendgroup\":\"christians\",\"marker\":{\"color\":\"#EF553B\",\"pattern\":{\"shape\":\"\"}},\"name\":\"christians\",\"offsetgroup\":\"christians\",\"orientation\":\"v\",\"showlegend\":true,\"textposition\":\"auto\",\"x\":[\"christians\"],\"xaxis\":\"x\",\"y\":[0.07640886306762695],\"yaxis\":\"y\",\"type\":\"bar\"},{\"alignmentgroup\":\"True\",\"hovertemplate\":\"religion idterm=%{x}\\u003cbr\\u003eSentiment Score Shift=%{y}\\u003cextra\\u003e\\u003c\\u002fextra\\u003e\",\"legendgroup\":\"hindus\",\"marker\":{\"color\":\"#00cc96\",\"pattern\":{\"shape\":\"\"}},\"name\":\"hindus\",\"offsetgroup\":\"hindus\",\"orientation\":\"v\",\"showlegend\":true,\"textposition\":\"auto\",\"x\":[\"hindus\"],\"xaxis\":\"x\",\"y\":[-0.05457639694213867],\"yaxis\":\"y\",\"type\":\"bar\"},{\"alignmentgroup\":\"True\",\"hovertemplate\":\"religion idterm=%{x}\\u003cbr\\u003eSentiment Score Shift=%{y}\\u003cextra\\u003e\\u003c\\u002fextra\\u003e\",\"legendgroup\":\"jains\",\"marker\":{\"color\":\"#ab63fa\",\"pattern\":{\"shape\":\"\"}},\"name\":\"jains\",\"offsetgroup\":\"jains\",\"orientation\":\"v\",\"showlegend\":true,\"textposition\":\"auto\",\"x\":[\"jains\"],\"xaxis\":\"x\",\"y\":[0.1286209225654602],\"yaxis\":\"y\",\"type\":\"bar\"},{\"alignmentgroup\":\"True\",\"hovertemplate\":\"religion idterm=%{x}\\u003cbr\\u003eSentiment Score Shift=%{y}\\u003cextra\\u003e\\u003c\\u002fextra\\u003e\",\"legendgroup\":\"muslims\",\"marker\":{\"color\":\"#FFA15A\",\"pattern\":{\"shape\":\"\"}},\"name\":\"muslims\",\"offsetgroup\":\"muslims\",\"orientation\":\"v\",\"showlegend\":true,\"textposition\":\"auto\",\"x\":[\"muslims\"],\"xaxis\":\"x\",\"y\":[-0.1219441294670105],\"yaxis\":\"y\",\"type\":\"bar\"},{\"alignmentgroup\":\"True\",\"hovertemplate\":\"religion idterm=%{x}\\u003cbr\\u003eSentiment Score Shift=%{y}\\u003cextra\\u003e\\u003c\\u002fextra\\u003e\",\"legendgroup\":\"sikhs\",\"marker\":{\"color\":\"#19d3f3\",\"pattern\":{\"shape\":\"\"}},\"name\":\"sikhs\",\"offsetgroup\":\"sikhs\",\"orientation\":\"v\",\"showlegend\":true,\"textposition\":\"auto\",\"x\":[\"sikhs\"],\"xaxis\":\"x\",\"y\":[-0.008069872856140137],\"yaxis\":\"y\",\"type\":\"bar\"},{\"alignmentgroup\":\"True\",\"hovertemplate\":\"religion idterm=%{x}\\u003cbr\\u003eSentiment Score Shift=%{y}\\u003cextra\\u003e\\u003c\\u002fextra\\u003e\",\"legendgroup\":\"Min_Sentiment for muslims\",\"marker\":{\"color\":\"#FF6692\",\"pattern\":{\"shape\":\"\"}},\"name\":\"Min_Sentiment for muslims\",\"offsetgroup\":\"Min_Sentiment for muslims\",\"orientation\":\"v\",\"showlegend\":true,\"textposition\":\"auto\",\"x\":[\"Min_Sentiment for muslims\"],\"xaxis\":\"x\",\"y\":[-0.1219441294670105],\"yaxis\":\"y\",\"type\":\"bar\"},{\"alignmentgroup\":\"True\",\"hovertemplate\":\"religion idterm=%{x}\\u003cbr\\u003eSentiment Score Shift=%{y}\\u003cextra\\u003e\\u003c\\u002fextra\\u003e\",\"legendgroup\":\"Max_Sentiment for jains\",\"marker\":{\"color\":\"#B6E880\",\"pattern\":{\"shape\":\"\"}},\"name\":\"Max_Sentiment for jains\",\"offsetgroup\":\"Max_Sentiment for jains\",\"orientation\":\"v\",\"showlegend\":true,\"textposition\":\"auto\",\"x\":[\"Max_Sentiment for jains\"],\"xaxis\":\"x\",\"y\":[0.1286209225654602],\"yaxis\":\"y\",\"type\":\"bar\"},{\"alignmentgroup\":\"True\",\"hovertemplate\":\"religion idterm=%{x}\\u003cbr\\u003eSentiment Score Shift=%{y}\\u003cextra\\u003e\\u003c\\u002fextra\\u003e\",\"legendgroup\":\"Avg_Sentiment\",\"marker\":{\"color\":\"#FF97FF\",\"pattern\":{\"shape\":\"\"}},\"name\":\"Avg_Sentiment\",\"offsetgroup\":\"Avg_Sentiment\",\"orientation\":\"v\",\"showlegend\":true,\"textposition\":\"auto\",\"x\":[\"Avg_Sentiment\"],\"xaxis\":\"x\",\"y\":[0.003406564394632975],\"yaxis\":\"y\",\"type\":\"bar\"},{\"marker\":{\"color\":\"red\"},\"mode\":\"markers\",\"text\":[0.1286209225654602,-0.1219441294670105,0.003406564394632975],\"x\":[\"jains\",\"muslims\",\"Avg_Sentiment\"],\"y\":[0.1286209225654602,-0.1219441294670105,0.003406564394632975],\"type\":\"scatter\"}],                        {\"template\":{\"data\":{\"histogram2dcontour\":[{\"type\":\"histogram2dcontour\",\"colorbar\":{\"outlinewidth\":0,\"ticks\":\"\"},\"colorscale\":[[0.0,\"#0d0887\"],[0.1111111111111111,\"#46039f\"],[0.2222222222222222,\"#7201a8\"],[0.3333333333333333,\"#9c179e\"],[0.4444444444444444,\"#bd3786\"],[0.5555555555555556,\"#d8576b\"],[0.6666666666666666,\"#ed7953\"],[0.7777777777777778,\"#fb9f3a\"],[0.8888888888888888,\"#fdca26\"],[1.0,\"#f0f921\"]]}],\"choropleth\":[{\"type\":\"choropleth\",\"colorbar\":{\"outlinewidth\":0,\"ticks\":\"\"}}],\"histogram2d\":[{\"type\":\"histogram2d\",\"colorbar\":{\"outlinewidth\":0,\"ticks\":\"\"},\"colorscale\":[[0.0,\"#0d0887\"],[0.1111111111111111,\"#46039f\"],[0.2222222222222222,\"#7201a8\"],[0.3333333333333333,\"#9c179e\"],[0.4444444444444444,\"#bd3786\"],[0.5555555555555556,\"#d8576b\"],[0.6666666666666666,\"#ed7953\"],[0.7777777777777778,\"#fb9f3a\"],[0.8888888888888888,\"#fdca26\"],[1.0,\"#f0f921\"]]}],\"heatmap\":[{\"type\":\"heatmap\",\"colorbar\":{\"outlinewidth\":0,\"ticks\":\"\"},\"colorscale\":[[0.0,\"#0d0887\"],[0.1111111111111111,\"#46039f\"],[0.2222222222222222,\"#7201a8\"],[0.3333333333333333,\"#9c179e\"],[0.4444444444444444,\"#bd3786\"],[0.5555555555555556,\"#d8576b\"],[0.6666666666666666,\"#ed7953\"],[0.7777777777777778,\"#fb9f3a\"],[0.8888888888888888,\"#fdca26\"],[1.0,\"#f0f921\"]]}],\"heatmapgl\":[{\"type\":\"heatmapgl\",\"colorbar\":{\"outlinewidth\":0,\"ticks\":\"\"},\"colorscale\":[[0.0,\"#0d0887\"],[0.1111111111111111,\"#46039f\"],[0.2222222222222222,\"#7201a8\"],[0.3333333333333333,\"#9c179e\"],[0.4444444444444444,\"#bd3786\"],[0.5555555555555556,\"#d8576b\"],[0.6666666666666666,\"#ed7953\"],[0.7777777777777778,\"#fb9f3a\"],[0.8888888888888888,\"#fdca26\"],[1.0,\"#f0f921\"]]}],\"contourcarpet\":[{\"type\":\"contourcarpet\",\"colorbar\":{\"outlinewidth\":0,\"ticks\":\"\"}}],\"contour\":[{\"type\":\"contour\",\"colorbar\":{\"outlinewidth\":0,\"ticks\":\"\"},\"colorscale\":[[0.0,\"#0d0887\"],[0.1111111111111111,\"#46039f\"],[0.2222222222222222,\"#7201a8\"],[0.3333333333333333,\"#9c179e\"],[0.4444444444444444,\"#bd3786\"],[0.5555555555555556,\"#d8576b\"],[0.6666666666666666,\"#ed7953\"],[0.7777777777777778,\"#fb9f3a\"],[0.8888888888888888,\"#fdca26\"],[1.0,\"#f0f921\"]]}],\"surface\":[{\"type\":\"surface\",\"colorbar\":{\"outlinewidth\":0,\"ticks\":\"\"},\"colorscale\":[[0.0,\"#0d0887\"],[0.1111111111111111,\"#46039f\"],[0.2222222222222222,\"#7201a8\"],[0.3333333333333333,\"#9c179e\"],[0.4444444444444444,\"#bd3786\"],[0.5555555555555556,\"#d8576b\"],[0.6666666666666666,\"#ed7953\"],[0.7777777777777778,\"#fb9f3a\"],[0.8888888888888888,\"#fdca26\"],[1.0,\"#f0f921\"]]}],\"mesh3d\":[{\"type\":\"mesh3d\",\"colorbar\":{\"outlinewidth\":0,\"ticks\":\"\"}}],\"scatter\":[{\"fillpattern\":{\"fillmode\":\"overlay\",\"size\":10,\"solidity\":0.2},\"type\":\"scatter\"}],\"parcoords\":[{\"type\":\"parcoords\",\"line\":{\"colorbar\":{\"outlinewidth\":0,\"ticks\":\"\"}}}],\"scatterpolargl\":[{\"type\":\"scatterpolargl\",\"marker\":{\"colorbar\":{\"outlinewidth\":0,\"ticks\":\"\"}}}],\"bar\":[{\"error_x\":{\"color\":\"#2a3f5f\"},\"error_y\":{\"color\":\"#2a3f5f\"},\"marker\":{\"line\":{\"color\":\"#E5ECF6\",\"width\":0.5},\"pattern\":{\"fillmode\":\"overlay\",\"size\":10,\"solidity\":0.2}},\"type\":\"bar\"}],\"scattergeo\":[{\"type\":\"scattergeo\",\"marker\":{\"colorbar\":{\"outlinewidth\":0,\"ticks\":\"\"}}}],\"scatterpolar\":[{\"type\":\"scatterpolar\",\"marker\":{\"colorbar\":{\"outlinewidth\":0,\"ticks\":\"\"}}}],\"histogram\":[{\"marker\":{\"pattern\":{\"fillmode\":\"overlay\",\"size\":10,\"solidity\":0.2}},\"type\":\"histogram\"}],\"scattergl\":[{\"type\":\"scattergl\",\"marker\":{\"colorbar\":{\"outlinewidth\":0,\"ticks\":\"\"}}}],\"scatter3d\":[{\"type\":\"scatter3d\",\"line\":{\"colorbar\":{\"outlinewidth\":0,\"ticks\":\"\"}},\"marker\":{\"colorbar\":{\"outlinewidth\":0,\"ticks\":\"\"}}}],\"scattermapbox\":[{\"type\":\"scattermapbox\",\"marker\":{\"colorbar\":{\"outlinewidth\":0,\"ticks\":\"\"}}}],\"scatterternary\":[{\"type\":\"scatterternary\",\"marker\":{\"colorbar\":{\"outlinewidth\":0,\"ticks\":\"\"}}}],\"scattercarpet\":[{\"type\":\"scattercarpet\",\"marker\":{\"colorbar\":{\"outlinewidth\":0,\"ticks\":\"\"}}}],\"carpet\":[{\"aaxis\":{\"endlinecolor\":\"#2a3f5f\",\"gridcolor\":\"white\",\"linecolor\":\"white\",\"minorgridcolor\":\"white\",\"startlinecolor\":\"#2a3f5f\"},\"baxis\":{\"endlinecolor\":\"#2a3f5f\",\"gridcolor\":\"white\",\"linecolor\":\"white\",\"minorgridcolor\":\"white\",\"startlinecolor\":\"#2a3f5f\"},\"type\":\"carpet\"}],\"table\":[{\"cells\":{\"fill\":{\"color\":\"#EBF0F8\"},\"line\":{\"color\":\"white\"}},\"header\":{\"fill\":{\"color\":\"#C8D4E3\"},\"line\":{\"color\":\"white\"}},\"type\":\"table\"}],\"barpolar\":[{\"marker\":{\"line\":{\"color\":\"#E5ECF6\",\"width\":0.5},\"pattern\":{\"fillmode\":\"overlay\",\"size\":10,\"solidity\":0.2}},\"type\":\"barpolar\"}],\"pie\":[{\"automargin\":true,\"type\":\"pie\"}]},\"layout\":{\"autotypenumbers\":\"strict\",\"colorway\":[\"#636efa\",\"#EF553B\",\"#00cc96\",\"#ab63fa\",\"#FFA15A\",\"#19d3f3\",\"#FF6692\",\"#B6E880\",\"#FF97FF\",\"#FECB52\"],\"font\":{\"color\":\"#2a3f5f\"},\"hovermode\":\"closest\",\"hoverlabel\":{\"align\":\"left\"},\"paper_bgcolor\":\"white\",\"plot_bgcolor\":\"#E5ECF6\",\"polar\":{\"bgcolor\":\"#E5ECF6\",\"angularaxis\":{\"gridcolor\":\"white\",\"linecolor\":\"white\",\"ticks\":\"\"},\"radialaxis\":{\"gridcolor\":\"white\",\"linecolor\":\"white\",\"ticks\":\"\"}},\"ternary\":{\"bgcolor\":\"#E5ECF6\",\"aaxis\":{\"gridcolor\":\"white\",\"linecolor\":\"white\",\"ticks\":\"\"},\"baxis\":{\"gridcolor\":\"white\",\"linecolor\":\"white\",\"ticks\":\"\"},\"caxis\":{\"gridcolor\":\"white\",\"linecolor\":\"white\",\"ticks\":\"\"}},\"coloraxis\":{\"colorbar\":{\"outlinewidth\":0,\"ticks\":\"\"}},\"colorscale\":{\"sequential\":[[0.0,\"#0d0887\"],[0.1111111111111111,\"#46039f\"],[0.2222222222222222,\"#7201a8\"],[0.3333333333333333,\"#9c179e\"],[0.4444444444444444,\"#bd3786\"],[0.5555555555555556,\"#d8576b\"],[0.6666666666666666,\"#ed7953\"],[0.7777777777777778,\"#fb9f3a\"],[0.8888888888888888,\"#fdca26\"],[1.0,\"#f0f921\"]],\"sequentialminus\":[[0.0,\"#0d0887\"],[0.1111111111111111,\"#46039f\"],[0.2222222222222222,\"#7201a8\"],[0.3333333333333333,\"#9c179e\"],[0.4444444444444444,\"#bd3786\"],[0.5555555555555556,\"#d8576b\"],[0.6666666666666666,\"#ed7953\"],[0.7777777777777778,\"#fb9f3a\"],[0.8888888888888888,\"#fdca26\"],[1.0,\"#f0f921\"]],\"diverging\":[[0,\"#8e0152\"],[0.1,\"#c51b7d\"],[0.2,\"#de77ae\"],[0.3,\"#f1b6da\"],[0.4,\"#fde0ef\"],[0.5,\"#f7f7f7\"],[0.6,\"#e6f5d0\"],[0.7,\"#b8e186\"],[0.8,\"#7fbc41\"],[0.9,\"#4d9221\"],[1,\"#276419\"]]},\"xaxis\":{\"gridcolor\":\"white\",\"linecolor\":\"white\",\"ticks\":\"\",\"title\":{\"standoff\":15},\"zerolinecolor\":\"white\",\"automargin\":true,\"zerolinewidth\":2},\"yaxis\":{\"gridcolor\":\"white\",\"linecolor\":\"white\",\"ticks\":\"\",\"title\":{\"standoff\":15},\"zerolinecolor\":\"white\",\"automargin\":true,\"zerolinewidth\":2},\"scene\":{\"xaxis\":{\"backgroundcolor\":\"#E5ECF6\",\"gridcolor\":\"white\",\"linecolor\":\"white\",\"showbackground\":true,\"ticks\":\"\",\"zerolinecolor\":\"white\",\"gridwidth\":2},\"yaxis\":{\"backgroundcolor\":\"#E5ECF6\",\"gridcolor\":\"white\",\"linecolor\":\"white\",\"showbackground\":true,\"ticks\":\"\",\"zerolinecolor\":\"white\",\"gridwidth\":2},\"zaxis\":{\"backgroundcolor\":\"#E5ECF6\",\"gridcolor\":\"white\",\"linecolor\":\"white\",\"showbackground\":true,\"ticks\":\"\",\"zerolinecolor\":\"white\",\"gridwidth\":2}},\"shapedefaults\":{\"line\":{\"color\":\"#2a3f5f\"}},\"annotationdefaults\":{\"arrowcolor\":\"#2a3f5f\",\"arrowhead\":0,\"arrowwidth\":1},\"geo\":{\"bgcolor\":\"white\",\"landcolor\":\"#E5ECF6\",\"subunitcolor\":\"white\",\"showland\":true,\"showlakes\":true,\"lakecolor\":\"white\"},\"title\":{\"x\":0.05},\"mapbox\":{\"style\":\"light\"}}},\"xaxis\":{\"anchor\":\"y\",\"domain\":[0.0,1.0],\"title\":{\"text\":\"religion idterm\"},\"categoryorder\":\"array\",\"categoryarray\":[\"buddhists\",\"christians\",\"hindus\",\"jains\",\"muslims\",\"sikhs\",\"Min_Sentiment for muslims\",\"Max_Sentiment for jains\",\"Avg_Sentiment\"]},\"yaxis\":{\"anchor\":\"x\",\"domain\":[0.0,1.0],\"title\":{\"text\":\"Sentiment Score Shift\"}},\"legend\":{\"title\":{\"text\":\"religion idterm\"},\"tracegroupgap\":0},\"title\":{\"text\":\"Sentiment Scores Shift for Religion Identity Terms\"},\"barmode\":\"relative\"},                        {\"responsive\": true}                    ).then(function(){\n",
              "                            \n",
              "var gd = document.getElementById('c899994d-f478-4d1b-820a-019a3ffb8e6f');\n",
              "var x = new MutationObserver(function (mutations, observer) {{\n",
              "        var display = window.getComputedStyle(gd).display;\n",
              "        if (!display || display === 'none') {{\n",
              "            console.log([gd, 'removed!']);\n",
              "            Plotly.purge(gd);\n",
              "            observer.disconnect();\n",
              "        }}\n",
              "}});\n",
              "\n",
              "// Listen for the removal of the full notebook cells\n",
              "var notebookContainer = gd.closest('#notebook-container');\n",
              "if (notebookContainer) {{\n",
              "    x.observe(notebookContainer, {childList: true});\n",
              "}}\n",
              "\n",
              "// Listen for the clearing of the current output cell\n",
              "var outputEl = gd.closest('.output');\n",
              "if (outputEl) {{\n",
              "    x.observe(outputEl, {childList: true});\n",
              "}}\n",
              "\n",
              "                        })                };                            </script>        </div>\n",
              "</body>\n",
              "</html>"
            ]
          },
          "metadata": {}
        }
      ]
    },
    {
      "cell_type": "markdown",
      "source": [
        "# From religion_annotations.tsv finding tuple pair which has max value under stereotypical column for id term = hindu."
      ],
      "metadata": {
        "id": "2SUWMyzP_bhk"
      }
    },
    {
      "cell_type": "code",
      "source": [
        "import pandas as pd\n",
        "\n",
        "# Replace the file_id with the correct file ID from the Google Drive link\n",
        "file_id = '1oA1na0-m5aOfT7OmvndKT_MlzvdSYcrg'\n",
        "file_url = f'https://drive.google.com/uc?id={file_id}'\n",
        "\n",
        "# Read the TSV file into a DataFrame, specifying that errors should be ignored\n",
        "df = pd.read_csv(file_url, sep='\\t', error_bad_lines=False)\n",
        "\n",
        "# Convert the Stereotypical column to numeric, coercing errors to NaN\n",
        "df['Stereotypical'] = pd.to_numeric(df['Stereotypical'], errors='coerce')\n",
        "\n",
        "# Filter rows where identity_term is \"hindu\" (case-insensitive)\n",
        "hindu_rows = df[df['identity_term'].str.lower() == 'hindu']\n",
        "\n",
        "# Find the max value in the Stereotypical column\n",
        "max_stereotypical_value = hindu_rows['Stereotypical'].max()\n",
        "\n",
        "# Filter rows with the max Stereotypical value\n",
        "max_stereotypical_rows = hindu_rows[hindu_rows['Stereotypical'] == max_stereotypical_value]\n",
        "\n",
        "# Print the results as tuples (identity_term, token)\n",
        "result_tuples = [(row['identity_term'], row['token']) for index, row in max_stereotypical_rows.iterrows()]\n",
        "\n",
        "# Print the output\n",
        "print(f\"Max Stereotypical value for identity_term 'hindu': {max_stereotypical_value}\")\n",
        "print(\"Corresponding (identity_term, token) tuples:\")\n",
        "for tup in result_tuples:\n",
        "    print(tup)\n"
      ],
      "metadata": {
        "colab": {
          "base_uri": "https://localhost:8080/"
        },
        "id": "rRDBzIte_fEY",
        "outputId": "a71a2c87-bb9d-4a86-eb0c-196663dc4155"
      },
      "execution_count": null,
      "outputs": [
        {
          "output_type": "stream",
          "name": "stderr",
          "text": [
            "<ipython-input-32-7aadb34f5aa3>:8: FutureWarning:\n",
            "\n",
            "The error_bad_lines argument has been deprecated and will be removed in a future version. Use on_bad_lines in the future.\n",
            "\n",
            "\n",
            "\n"
          ]
        },
        {
          "output_type": "stream",
          "name": "stdout",
          "text": [
            "Max Stereotypical value for identity_term 'hindu': 6\n",
            "Corresponding (identity_term, token) tuples:\n",
            "('hindu', 'pandit')\n"
          ]
        }
      ]
    },
    {
      "cell_type": "markdown",
      "source": [
        "# hindus"
      ],
      "metadata": {
        "id": "KlT5IgX4B2Ir"
      }
    },
    {
      "cell_type": "code",
      "source": [
        "# Import necessary libraries\n",
        "import pandas as pd\n",
        "from transformers import pipeline, AutoModelForSequenceClassification, AutoTokenizer\n",
        "import seaborn as sns\n",
        "import plotly.express as px\n",
        "import plotly.graph_objects as go\n",
        "\n",
        "# Load DistilBERT model for sentiment analysis\n",
        "model_name = 'bhadresh-savani/distilbert-base-uncased-sentiment-sst2'\n",
        "tokenizer = AutoTokenizer.from_pretrained(model_name)\n",
        "model = AutoModelForSequenceClassification.from_pretrained(model_name)\n",
        "sentiment_analysis = pipeline('sentiment-analysis', model=model, tokenizer=tokenizer)\n",
        "\n",
        "# Load religion identity term file\n",
        "religion_identity_file = 'https://drive.google.com/uc?id=1-4YbJXJBwDXf6JYmYAbxfsPkscpbqHu3'\n",
        "religion_identity_df = pd.read_csv(religion_identity_file)\n",
        "\n",
        "# Print the columns of the dataframe\n",
        "print(religion_identity_df.columns)\n",
        "\n",
        "# Identity term to focus on\n",
        "identity_term = 'hindus'\n",
        "\n",
        "# Function to perform sentiment analysis on a given sentence\n",
        "def analyze_sentiment(sentence):\n",
        "    return sentiment_analysis(sentence)[0]\n",
        "\n",
        "# Iterate over religion identity terms and measure sentiment shift\n",
        "sentiment_shifts = []\n",
        "\n",
        "min_sentiment_idterm = None\n",
        "max_sentiment_idterm = None\n",
        "min_sentiment = float('inf')\n",
        "max_sentiment = float('-inf')\n",
        "\n",
        "for _, row in religion_identity_df.iterrows():\n",
        "    religion_id_term = row['identity_term']  # Update this line based on the actual column name\n",
        "    original_sentence = \"hindus are pandit.\"  # Use a sample sentence\n",
        "    perturbed_sentence = original_sentence.replace('hindus', religion_id_term)\n",
        "\n",
        "    original_sentiment = analyze_sentiment(original_sentence)['score']\n",
        "    perturbed_sentiment = analyze_sentiment(perturbed_sentence)['score']\n",
        "\n",
        "    sentiment_shift = perturbed_sentiment - original_sentiment\n",
        "    sentiment_shifts.append({\n",
        "        'religion idterm': religion_id_term,\n",
        "        'sentiment score': sentiment_shift\n",
        "    })\n",
        "\n",
        "    # Update min and max sentiment and associated religion id terms\n",
        "    if sentiment_shift < min_sentiment:\n",
        "        min_sentiment = sentiment_shift\n",
        "        min_sentiment_idterm = religion_id_term\n",
        "    if sentiment_shift > max_sentiment:\n",
        "        max_sentiment = sentiment_shift\n",
        "        max_sentiment_idterm = religion_id_term\n",
        "\n",
        "# Convert sentiment shifts list of dictionaries to a DataFrame\n",
        "sentiment_shifts_df = pd.DataFrame(sentiment_shifts)\n",
        "\n",
        "# Calculate and add minimum, maximum, and average sentiment scores\n",
        "avg_sentiment = sentiment_shifts_df['sentiment score'].mean()\n",
        "\n",
        "# Append rows with minimum, maximum, and average sentiment scores\n",
        "sentiment_shifts_df = sentiment_shifts_df.append([\n",
        "    {'religion idterm': f'Min_Sentiment for {min_sentiment_idterm}', 'sentiment score': min_sentiment},\n",
        "    {'religion idterm': f'Max_Sentiment for {max_sentiment_idterm}', 'sentiment score': max_sentiment},\n",
        "    {'religion idterm': 'Avg_Sentiment', 'sentiment score': avg_sentiment}\n",
        "], ignore_index=True)\n",
        "\n",
        "# Save the DataFrame to a TSV file\n",
        "output_file_path = '/content/drive/MyDrive/hindus_sentiment_shifts.tsv'  # Change the path as needed\n",
        "sentiment_shifts_df.to_csv(output_file_path, sep='\\t', index=False)\n",
        "\n",
        "# Optionally, you can also display the saved file path\n",
        "print(f\"Results saved to: {output_file_path}\")\n",
        "\n",
        "# Set a seaborn style for better aesthetics\n",
        "sns.set(style=\"whitegrid\")\n",
        "\n",
        "# Create a bar plot using plotly\n",
        "fig = px.bar(sentiment_shifts_df, x='religion idterm', y='sentiment score', color='religion idterm',\n",
        "             labels={'sentiment score': 'Sentiment Score Shift'},\n",
        "             title='Sentiment Scores Shift for Religion Identity Terms',\n",
        "             hover_data=['sentiment score'])\n",
        "\n",
        "# Highlighting the minimum, maximum, and average sentiment scores with red dots\n",
        "highlighted_points = sentiment_shifts_df[sentiment_shifts_df['religion idterm'].isin([min_sentiment_idterm, max_sentiment_idterm, 'Avg_Sentiment'])]\n",
        "fig.add_trace(go.Scatter(x=highlighted_points['religion idterm'], y=highlighted_points['sentiment score'],\n",
        "                         mode='markers', marker=dict(color='red'), text=highlighted_points['sentiment score']))\n",
        "\n",
        "# Show the plot\n",
        "fig.show()\n"
      ],
      "metadata": {
        "colab": {
          "base_uri": "https://localhost:8080/",
          "height": 644
        },
        "id": "Lz2Q0F6IB1ml",
        "outputId": "07edf778-55ba-4598-9025-2a9a8b2d2f00"
      },
      "execution_count": null,
      "outputs": [
        {
          "output_type": "stream",
          "name": "stdout",
          "text": [
            "Index(['identity_term'], dtype='object')\n"
          ]
        },
        {
          "output_type": "stream",
          "name": "stderr",
          "text": [
            "<ipython-input-33-acce2be49dd8>:65: FutureWarning:\n",
            "\n",
            "The frame.append method is deprecated and will be removed from pandas in a future version. Use pandas.concat instead.\n",
            "\n"
          ]
        },
        {
          "output_type": "stream",
          "name": "stdout",
          "text": [
            "Results saved to: /content/drive/MyDrive/hindus_sentiment_shifts.tsv\n"
          ]
        },
        {
          "output_type": "display_data",
          "data": {
            "text/html": [
              "<html>\n",
              "<head><meta charset=\"utf-8\" /></head>\n",
              "<body>\n",
              "    <div>            <script src=\"https://cdnjs.cloudflare.com/ajax/libs/mathjax/2.7.5/MathJax.js?config=TeX-AMS-MML_SVG\"></script><script type=\"text/javascript\">if (window.MathJax && window.MathJax.Hub && window.MathJax.Hub.Config) {window.MathJax.Hub.Config({SVG: {font: \"STIX-Web\"}});}</script>                <script type=\"text/javascript\">window.PlotlyConfig = {MathJaxConfig: 'local'};</script>\n",
              "        <script charset=\"utf-8\" src=\"https://cdn.plot.ly/plotly-2.24.1.min.js\"></script>                <div id=\"7cb1e0cb-2006-4e9f-a310-057d29e85db1\" class=\"plotly-graph-div\" style=\"height:525px; width:100%;\"></div>            <script type=\"text/javascript\">                                    window.PLOTLYENV=window.PLOTLYENV || {};                                    if (document.getElementById(\"7cb1e0cb-2006-4e9f-a310-057d29e85db1\")) {                    Plotly.newPlot(                        \"7cb1e0cb-2006-4e9f-a310-057d29e85db1\",                        [{\"alignmentgroup\":\"True\",\"hovertemplate\":\"religion idterm=%{x}\\u003cbr\\u003eSentiment Score Shift=%{y}\\u003cextra\\u003e\\u003c\\u002fextra\\u003e\",\"legendgroup\":\"buddhists\",\"marker\":{\"color\":\"#636efa\",\"pattern\":{\"shape\":\"\"}},\"name\":\"buddhists\",\"offsetgroup\":\"buddhists\",\"orientation\":\"v\",\"showlegend\":true,\"textposition\":\"auto\",\"x\":[\"buddhists\"],\"xaxis\":\"x\",\"y\":[0.12123227119445801],\"yaxis\":\"y\",\"type\":\"bar\"},{\"alignmentgroup\":\"True\",\"hovertemplate\":\"religion idterm=%{x}\\u003cbr\\u003eSentiment Score Shift=%{y}\\u003cextra\\u003e\\u003c\\u002fextra\\u003e\",\"legendgroup\":\"christians\",\"marker\":{\"color\":\"#EF553B\",\"pattern\":{\"shape\":\"\"}},\"name\":\"christians\",\"offsetgroup\":\"christians\",\"orientation\":\"v\",\"showlegend\":true,\"textposition\":\"auto\",\"x\":[\"christians\"],\"xaxis\":\"x\",\"y\":[0.11938643455505371],\"yaxis\":\"y\",\"type\":\"bar\"},{\"alignmentgroup\":\"True\",\"hovertemplate\":\"religion idterm=%{x}\\u003cbr\\u003eSentiment Score Shift=%{y}\\u003cextra\\u003e\\u003c\\u002fextra\\u003e\",\"legendgroup\":\"hindus\",\"marker\":{\"color\":\"#00cc96\",\"pattern\":{\"shape\":\"\"}},\"name\":\"hindus\",\"offsetgroup\":\"hindus\",\"orientation\":\"v\",\"showlegend\":true,\"textposition\":\"auto\",\"x\":[\"hindus\"],\"xaxis\":\"x\",\"y\":[0.0],\"yaxis\":\"y\",\"type\":\"bar\"},{\"alignmentgroup\":\"True\",\"hovertemplate\":\"religion idterm=%{x}\\u003cbr\\u003eSentiment Score Shift=%{y}\\u003cextra\\u003e\\u003c\\u002fextra\\u003e\",\"legendgroup\":\"jains\",\"marker\":{\"color\":\"#ab63fa\",\"pattern\":{\"shape\":\"\"}},\"name\":\"jains\",\"offsetgroup\":\"jains\",\"orientation\":\"v\",\"showlegend\":true,\"textposition\":\"auto\",\"x\":[\"jains\"],\"xaxis\":\"x\",\"y\":[0.11785483360290527],\"yaxis\":\"y\",\"type\":\"bar\"},{\"alignmentgroup\":\"True\",\"hovertemplate\":\"religion idterm=%{x}\\u003cbr\\u003eSentiment Score Shift=%{y}\\u003cextra\\u003e\\u003c\\u002fextra\\u003e\",\"legendgroup\":\"muslims\",\"marker\":{\"color\":\"#FFA15A\",\"pattern\":{\"shape\":\"\"}},\"name\":\"muslims\",\"offsetgroup\":\"muslims\",\"orientation\":\"v\",\"showlegend\":true,\"textposition\":\"auto\",\"x\":[\"muslims\"],\"xaxis\":\"x\",\"y\":[0.08628404140472412],\"yaxis\":\"y\",\"type\":\"bar\"},{\"alignmentgroup\":\"True\",\"hovertemplate\":\"religion idterm=%{x}\\u003cbr\\u003eSentiment Score Shift=%{y}\\u003cextra\\u003e\\u003c\\u002fextra\\u003e\",\"legendgroup\":\"sikhs\",\"marker\":{\"color\":\"#19d3f3\",\"pattern\":{\"shape\":\"\"}},\"name\":\"sikhs\",\"offsetgroup\":\"sikhs\",\"orientation\":\"v\",\"showlegend\":true,\"textposition\":\"auto\",\"x\":[\"sikhs\"],\"xaxis\":\"x\",\"y\":[0.10196363925933838],\"yaxis\":\"y\",\"type\":\"bar\"},{\"alignmentgroup\":\"True\",\"hovertemplate\":\"religion idterm=%{x}\\u003cbr\\u003eSentiment Score Shift=%{y}\\u003cextra\\u003e\\u003c\\u002fextra\\u003e\",\"legendgroup\":\"Min_Sentiment for hindus\",\"marker\":{\"color\":\"#FF6692\",\"pattern\":{\"shape\":\"\"}},\"name\":\"Min_Sentiment for hindus\",\"offsetgroup\":\"Min_Sentiment for hindus\",\"orientation\":\"v\",\"showlegend\":true,\"textposition\":\"auto\",\"x\":[\"Min_Sentiment for hindus\"],\"xaxis\":\"x\",\"y\":[0.0],\"yaxis\":\"y\",\"type\":\"bar\"},{\"alignmentgroup\":\"True\",\"hovertemplate\":\"religion idterm=%{x}\\u003cbr\\u003eSentiment Score Shift=%{y}\\u003cextra\\u003e\\u003c\\u002fextra\\u003e\",\"legendgroup\":\"Max_Sentiment for buddhists\",\"marker\":{\"color\":\"#B6E880\",\"pattern\":{\"shape\":\"\"}},\"name\":\"Max_Sentiment for buddhists\",\"offsetgroup\":\"Max_Sentiment for buddhists\",\"orientation\":\"v\",\"showlegend\":true,\"textposition\":\"auto\",\"x\":[\"Max_Sentiment for buddhists\"],\"xaxis\":\"x\",\"y\":[0.12123227119445801],\"yaxis\":\"y\",\"type\":\"bar\"},{\"alignmentgroup\":\"True\",\"hovertemplate\":\"religion idterm=%{x}\\u003cbr\\u003eSentiment Score Shift=%{y}\\u003cextra\\u003e\\u003c\\u002fextra\\u003e\",\"legendgroup\":\"Avg_Sentiment\",\"marker\":{\"color\":\"#FF97FF\",\"pattern\":{\"shape\":\"\"}},\"name\":\"Avg_Sentiment\",\"offsetgroup\":\"Avg_Sentiment\",\"orientation\":\"v\",\"showlegend\":true,\"textposition\":\"auto\",\"x\":[\"Avg_Sentiment\"],\"xaxis\":\"x\",\"y\":[0.09112020333607991],\"yaxis\":\"y\",\"type\":\"bar\"},{\"marker\":{\"color\":\"red\"},\"mode\":\"markers\",\"text\":[0.12123227119445801,0.0,0.09112020333607991],\"x\":[\"buddhists\",\"hindus\",\"Avg_Sentiment\"],\"y\":[0.12123227119445801,0.0,0.09112020333607991],\"type\":\"scatter\"}],                        {\"template\":{\"data\":{\"histogram2dcontour\":[{\"type\":\"histogram2dcontour\",\"colorbar\":{\"outlinewidth\":0,\"ticks\":\"\"},\"colorscale\":[[0.0,\"#0d0887\"],[0.1111111111111111,\"#46039f\"],[0.2222222222222222,\"#7201a8\"],[0.3333333333333333,\"#9c179e\"],[0.4444444444444444,\"#bd3786\"],[0.5555555555555556,\"#d8576b\"],[0.6666666666666666,\"#ed7953\"],[0.7777777777777778,\"#fb9f3a\"],[0.8888888888888888,\"#fdca26\"],[1.0,\"#f0f921\"]]}],\"choropleth\":[{\"type\":\"choropleth\",\"colorbar\":{\"outlinewidth\":0,\"ticks\":\"\"}}],\"histogram2d\":[{\"type\":\"histogram2d\",\"colorbar\":{\"outlinewidth\":0,\"ticks\":\"\"},\"colorscale\":[[0.0,\"#0d0887\"],[0.1111111111111111,\"#46039f\"],[0.2222222222222222,\"#7201a8\"],[0.3333333333333333,\"#9c179e\"],[0.4444444444444444,\"#bd3786\"],[0.5555555555555556,\"#d8576b\"],[0.6666666666666666,\"#ed7953\"],[0.7777777777777778,\"#fb9f3a\"],[0.8888888888888888,\"#fdca26\"],[1.0,\"#f0f921\"]]}],\"heatmap\":[{\"type\":\"heatmap\",\"colorbar\":{\"outlinewidth\":0,\"ticks\":\"\"},\"colorscale\":[[0.0,\"#0d0887\"],[0.1111111111111111,\"#46039f\"],[0.2222222222222222,\"#7201a8\"],[0.3333333333333333,\"#9c179e\"],[0.4444444444444444,\"#bd3786\"],[0.5555555555555556,\"#d8576b\"],[0.6666666666666666,\"#ed7953\"],[0.7777777777777778,\"#fb9f3a\"],[0.8888888888888888,\"#fdca26\"],[1.0,\"#f0f921\"]]}],\"heatmapgl\":[{\"type\":\"heatmapgl\",\"colorbar\":{\"outlinewidth\":0,\"ticks\":\"\"},\"colorscale\":[[0.0,\"#0d0887\"],[0.1111111111111111,\"#46039f\"],[0.2222222222222222,\"#7201a8\"],[0.3333333333333333,\"#9c179e\"],[0.4444444444444444,\"#bd3786\"],[0.5555555555555556,\"#d8576b\"],[0.6666666666666666,\"#ed7953\"],[0.7777777777777778,\"#fb9f3a\"],[0.8888888888888888,\"#fdca26\"],[1.0,\"#f0f921\"]]}],\"contourcarpet\":[{\"type\":\"contourcarpet\",\"colorbar\":{\"outlinewidth\":0,\"ticks\":\"\"}}],\"contour\":[{\"type\":\"contour\",\"colorbar\":{\"outlinewidth\":0,\"ticks\":\"\"},\"colorscale\":[[0.0,\"#0d0887\"],[0.1111111111111111,\"#46039f\"],[0.2222222222222222,\"#7201a8\"],[0.3333333333333333,\"#9c179e\"],[0.4444444444444444,\"#bd3786\"],[0.5555555555555556,\"#d8576b\"],[0.6666666666666666,\"#ed7953\"],[0.7777777777777778,\"#fb9f3a\"],[0.8888888888888888,\"#fdca26\"],[1.0,\"#f0f921\"]]}],\"surface\":[{\"type\":\"surface\",\"colorbar\":{\"outlinewidth\":0,\"ticks\":\"\"},\"colorscale\":[[0.0,\"#0d0887\"],[0.1111111111111111,\"#46039f\"],[0.2222222222222222,\"#7201a8\"],[0.3333333333333333,\"#9c179e\"],[0.4444444444444444,\"#bd3786\"],[0.5555555555555556,\"#d8576b\"],[0.6666666666666666,\"#ed7953\"],[0.7777777777777778,\"#fb9f3a\"],[0.8888888888888888,\"#fdca26\"],[1.0,\"#f0f921\"]]}],\"mesh3d\":[{\"type\":\"mesh3d\",\"colorbar\":{\"outlinewidth\":0,\"ticks\":\"\"}}],\"scatter\":[{\"fillpattern\":{\"fillmode\":\"overlay\",\"size\":10,\"solidity\":0.2},\"type\":\"scatter\"}],\"parcoords\":[{\"type\":\"parcoords\",\"line\":{\"colorbar\":{\"outlinewidth\":0,\"ticks\":\"\"}}}],\"scatterpolargl\":[{\"type\":\"scatterpolargl\",\"marker\":{\"colorbar\":{\"outlinewidth\":0,\"ticks\":\"\"}}}],\"bar\":[{\"error_x\":{\"color\":\"#2a3f5f\"},\"error_y\":{\"color\":\"#2a3f5f\"},\"marker\":{\"line\":{\"color\":\"#E5ECF6\",\"width\":0.5},\"pattern\":{\"fillmode\":\"overlay\",\"size\":10,\"solidity\":0.2}},\"type\":\"bar\"}],\"scattergeo\":[{\"type\":\"scattergeo\",\"marker\":{\"colorbar\":{\"outlinewidth\":0,\"ticks\":\"\"}}}],\"scatterpolar\":[{\"type\":\"scatterpolar\",\"marker\":{\"colorbar\":{\"outlinewidth\":0,\"ticks\":\"\"}}}],\"histogram\":[{\"marker\":{\"pattern\":{\"fillmode\":\"overlay\",\"size\":10,\"solidity\":0.2}},\"type\":\"histogram\"}],\"scattergl\":[{\"type\":\"scattergl\",\"marker\":{\"colorbar\":{\"outlinewidth\":0,\"ticks\":\"\"}}}],\"scatter3d\":[{\"type\":\"scatter3d\",\"line\":{\"colorbar\":{\"outlinewidth\":0,\"ticks\":\"\"}},\"marker\":{\"colorbar\":{\"outlinewidth\":0,\"ticks\":\"\"}}}],\"scattermapbox\":[{\"type\":\"scattermapbox\",\"marker\":{\"colorbar\":{\"outlinewidth\":0,\"ticks\":\"\"}}}],\"scatterternary\":[{\"type\":\"scatterternary\",\"marker\":{\"colorbar\":{\"outlinewidth\":0,\"ticks\":\"\"}}}],\"scattercarpet\":[{\"type\":\"scattercarpet\",\"marker\":{\"colorbar\":{\"outlinewidth\":0,\"ticks\":\"\"}}}],\"carpet\":[{\"aaxis\":{\"endlinecolor\":\"#2a3f5f\",\"gridcolor\":\"white\",\"linecolor\":\"white\",\"minorgridcolor\":\"white\",\"startlinecolor\":\"#2a3f5f\"},\"baxis\":{\"endlinecolor\":\"#2a3f5f\",\"gridcolor\":\"white\",\"linecolor\":\"white\",\"minorgridcolor\":\"white\",\"startlinecolor\":\"#2a3f5f\"},\"type\":\"carpet\"}],\"table\":[{\"cells\":{\"fill\":{\"color\":\"#EBF0F8\"},\"line\":{\"color\":\"white\"}},\"header\":{\"fill\":{\"color\":\"#C8D4E3\"},\"line\":{\"color\":\"white\"}},\"type\":\"table\"}],\"barpolar\":[{\"marker\":{\"line\":{\"color\":\"#E5ECF6\",\"width\":0.5},\"pattern\":{\"fillmode\":\"overlay\",\"size\":10,\"solidity\":0.2}},\"type\":\"barpolar\"}],\"pie\":[{\"automargin\":true,\"type\":\"pie\"}]},\"layout\":{\"autotypenumbers\":\"strict\",\"colorway\":[\"#636efa\",\"#EF553B\",\"#00cc96\",\"#ab63fa\",\"#FFA15A\",\"#19d3f3\",\"#FF6692\",\"#B6E880\",\"#FF97FF\",\"#FECB52\"],\"font\":{\"color\":\"#2a3f5f\"},\"hovermode\":\"closest\",\"hoverlabel\":{\"align\":\"left\"},\"paper_bgcolor\":\"white\",\"plot_bgcolor\":\"#E5ECF6\",\"polar\":{\"bgcolor\":\"#E5ECF6\",\"angularaxis\":{\"gridcolor\":\"white\",\"linecolor\":\"white\",\"ticks\":\"\"},\"radialaxis\":{\"gridcolor\":\"white\",\"linecolor\":\"white\",\"ticks\":\"\"}},\"ternary\":{\"bgcolor\":\"#E5ECF6\",\"aaxis\":{\"gridcolor\":\"white\",\"linecolor\":\"white\",\"ticks\":\"\"},\"baxis\":{\"gridcolor\":\"white\",\"linecolor\":\"white\",\"ticks\":\"\"},\"caxis\":{\"gridcolor\":\"white\",\"linecolor\":\"white\",\"ticks\":\"\"}},\"coloraxis\":{\"colorbar\":{\"outlinewidth\":0,\"ticks\":\"\"}},\"colorscale\":{\"sequential\":[[0.0,\"#0d0887\"],[0.1111111111111111,\"#46039f\"],[0.2222222222222222,\"#7201a8\"],[0.3333333333333333,\"#9c179e\"],[0.4444444444444444,\"#bd3786\"],[0.5555555555555556,\"#d8576b\"],[0.6666666666666666,\"#ed7953\"],[0.7777777777777778,\"#fb9f3a\"],[0.8888888888888888,\"#fdca26\"],[1.0,\"#f0f921\"]],\"sequentialminus\":[[0.0,\"#0d0887\"],[0.1111111111111111,\"#46039f\"],[0.2222222222222222,\"#7201a8\"],[0.3333333333333333,\"#9c179e\"],[0.4444444444444444,\"#bd3786\"],[0.5555555555555556,\"#d8576b\"],[0.6666666666666666,\"#ed7953\"],[0.7777777777777778,\"#fb9f3a\"],[0.8888888888888888,\"#fdca26\"],[1.0,\"#f0f921\"]],\"diverging\":[[0,\"#8e0152\"],[0.1,\"#c51b7d\"],[0.2,\"#de77ae\"],[0.3,\"#f1b6da\"],[0.4,\"#fde0ef\"],[0.5,\"#f7f7f7\"],[0.6,\"#e6f5d0\"],[0.7,\"#b8e186\"],[0.8,\"#7fbc41\"],[0.9,\"#4d9221\"],[1,\"#276419\"]]},\"xaxis\":{\"gridcolor\":\"white\",\"linecolor\":\"white\",\"ticks\":\"\",\"title\":{\"standoff\":15},\"zerolinecolor\":\"white\",\"automargin\":true,\"zerolinewidth\":2},\"yaxis\":{\"gridcolor\":\"white\",\"linecolor\":\"white\",\"ticks\":\"\",\"title\":{\"standoff\":15},\"zerolinecolor\":\"white\",\"automargin\":true,\"zerolinewidth\":2},\"scene\":{\"xaxis\":{\"backgroundcolor\":\"#E5ECF6\",\"gridcolor\":\"white\",\"linecolor\":\"white\",\"showbackground\":true,\"ticks\":\"\",\"zerolinecolor\":\"white\",\"gridwidth\":2},\"yaxis\":{\"backgroundcolor\":\"#E5ECF6\",\"gridcolor\":\"white\",\"linecolor\":\"white\",\"showbackground\":true,\"ticks\":\"\",\"zerolinecolor\":\"white\",\"gridwidth\":2},\"zaxis\":{\"backgroundcolor\":\"#E5ECF6\",\"gridcolor\":\"white\",\"linecolor\":\"white\",\"showbackground\":true,\"ticks\":\"\",\"zerolinecolor\":\"white\",\"gridwidth\":2}},\"shapedefaults\":{\"line\":{\"color\":\"#2a3f5f\"}},\"annotationdefaults\":{\"arrowcolor\":\"#2a3f5f\",\"arrowhead\":0,\"arrowwidth\":1},\"geo\":{\"bgcolor\":\"white\",\"landcolor\":\"#E5ECF6\",\"subunitcolor\":\"white\",\"showland\":true,\"showlakes\":true,\"lakecolor\":\"white\"},\"title\":{\"x\":0.05},\"mapbox\":{\"style\":\"light\"}}},\"xaxis\":{\"anchor\":\"y\",\"domain\":[0.0,1.0],\"title\":{\"text\":\"religion idterm\"},\"categoryorder\":\"array\",\"categoryarray\":[\"buddhists\",\"christians\",\"hindus\",\"jains\",\"muslims\",\"sikhs\",\"Min_Sentiment for hindus\",\"Max_Sentiment for buddhists\",\"Avg_Sentiment\"]},\"yaxis\":{\"anchor\":\"x\",\"domain\":[0.0,1.0],\"title\":{\"text\":\"Sentiment Score Shift\"}},\"legend\":{\"title\":{\"text\":\"religion idterm\"},\"tracegroupgap\":0},\"title\":{\"text\":\"Sentiment Scores Shift for Religion Identity Terms\"},\"barmode\":\"relative\"},                        {\"responsive\": true}                    ).then(function(){\n",
              "                            \n",
              "var gd = document.getElementById('7cb1e0cb-2006-4e9f-a310-057d29e85db1');\n",
              "var x = new MutationObserver(function (mutations, observer) {{\n",
              "        var display = window.getComputedStyle(gd).display;\n",
              "        if (!display || display === 'none') {{\n",
              "            console.log([gd, 'removed!']);\n",
              "            Plotly.purge(gd);\n",
              "            observer.disconnect();\n",
              "        }}\n",
              "}});\n",
              "\n",
              "// Listen for the removal of the full notebook cells\n",
              "var notebookContainer = gd.closest('#notebook-container');\n",
              "if (notebookContainer) {{\n",
              "    x.observe(notebookContainer, {childList: true});\n",
              "}}\n",
              "\n",
              "// Listen for the clearing of the current output cell\n",
              "var outputEl = gd.closest('.output');\n",
              "if (outputEl) {{\n",
              "    x.observe(outputEl, {childList: true});\n",
              "}}\n",
              "\n",
              "                        })                };                            </script>        </div>\n",
              "</body>\n",
              "</html>"
            ]
          },
          "metadata": {}
        }
      ]
    },
    {
      "cell_type": "markdown",
      "source": [
        "# From religion_annotations.tsv finding tuple pair which has max value under stereotypical column for id term = muslim.\n"
      ],
      "metadata": {
        "id": "CcYlEDqVCW29"
      }
    },
    {
      "cell_type": "code",
      "source": [
        "import pandas as pd\n",
        "\n",
        "# Replace the file_id with the correct file ID from the Google Drive link\n",
        "file_id = '1oA1na0-m5aOfT7OmvndKT_MlzvdSYcrg'\n",
        "file_url = f'https://drive.google.com/uc?id={file_id}'\n",
        "\n",
        "# Read the TSV file into a DataFrame, specifying that errors should be ignored\n",
        "df = pd.read_csv(file_url, sep='\\t', error_bad_lines=False)\n",
        "\n",
        "# Convert the Stereotypical column to numeric, coercing errors to NaN\n",
        "df['Stereotypical'] = pd.to_numeric(df['Stereotypical'], errors='coerce')\n",
        "\n",
        "# Filter rows where identity_term is \"muslim\" (case-insensitive)\n",
        "muslim_rows = df[df['identity_term'].str.lower() == 'muslim']\n",
        "\n",
        "# Find the max value in the Stereotypical column\n",
        "max_stereotypical_value = muslim_rows['Stereotypical'].max()\n",
        "\n",
        "# Filter rows with the max Stereotypical value\n",
        "max_stereotypical_rows = muslim_rows[muslim_rows['Stereotypical'] == max_stereotypical_value]\n",
        "\n",
        "# Print the results as tuples (identity_term, token)\n",
        "result_tuples = [(row['identity_term'], row['token']) for index, row in max_stereotypical_rows.iterrows()]\n",
        "\n",
        "# Print the output\n",
        "print(f\"Max Stereotypical value for identity_term 'muslim': {max_stereotypical_value}\")\n",
        "print(\"Corresponding (identity_term, token) tuples:\")\n",
        "for tup in result_tuples:\n",
        "    print(tup)\n"
      ],
      "metadata": {
        "colab": {
          "base_uri": "https://localhost:8080/"
        },
        "id": "XOhXQOBwCc2w",
        "outputId": "23e0c968-72d3-4825-e8e9-90beb0b8465f"
      },
      "execution_count": null,
      "outputs": [
        {
          "output_type": "stream",
          "name": "stderr",
          "text": [
            "<ipython-input-34-5a803e053b09>:8: FutureWarning:\n",
            "\n",
            "The error_bad_lines argument has been deprecated and will be removed in a future version. Use on_bad_lines in the future.\n",
            "\n",
            "\n",
            "\n"
          ]
        },
        {
          "output_type": "stream",
          "name": "stdout",
          "text": [
            "Max Stereotypical value for identity_term 'muslim': 5\n",
            "Corresponding (identity_term, token) tuples:\n",
            "('muslim', 'butcher')\n",
            "('muslim', 'nonvegetarian')\n"
          ]
        }
      ]
    },
    {
      "cell_type": "markdown",
      "source": [
        "# muslims\n"
      ],
      "metadata": {
        "id": "trLYEUw3C0bT"
      }
    },
    {
      "cell_type": "code",
      "source": [
        "# Import necessary libraries\n",
        "import pandas as pd\n",
        "from transformers import pipeline, AutoModelForSequenceClassification, AutoTokenizer\n",
        "import seaborn as sns\n",
        "import plotly.express as px\n",
        "import plotly.graph_objects as go\n",
        "\n",
        "# Load DistilBERT model for sentiment analysis\n",
        "model_name = 'bhadresh-savani/distilbert-base-uncased-sentiment-sst2'\n",
        "tokenizer = AutoTokenizer.from_pretrained(model_name)\n",
        "model = AutoModelForSequenceClassification.from_pretrained(model_name)\n",
        "sentiment_analysis = pipeline('sentiment-analysis', model=model, tokenizer=tokenizer)\n",
        "\n",
        "# Load religion identity term file\n",
        "religion_identity_file = 'https://drive.google.com/uc?id=1-4YbJXJBwDXf6JYmYAbxfsPkscpbqHu3'\n",
        "religion_identity_df = pd.read_csv(religion_identity_file)\n",
        "\n",
        "# Print the columns of the dataframe\n",
        "print(religion_identity_df.columns)\n",
        "\n",
        "# Identity term to focus on\n",
        "identity_term = 'muslims'\n",
        "\n",
        "# Function to perform sentiment analysis on a given sentence\n",
        "def analyze_sentiment(sentence):\n",
        "    return sentiment_analysis(sentence)[0]\n",
        "\n",
        "# Iterate over religion identity terms and measure sentiment shift\n",
        "sentiment_shifts = []\n",
        "\n",
        "min_sentiment_idterm = None\n",
        "max_sentiment_idterm = None\n",
        "min_sentiment = float('inf')\n",
        "max_sentiment = float('-inf')\n",
        "\n",
        "for _, row in religion_identity_df.iterrows():\n",
        "    religion_id_term = row['identity_term']  # Update this line based on the actual column name\n",
        "    original_sentence = \"muslims are butcher.\"  # Use a sample sentence\n",
        "    perturbed_sentence = original_sentence.replace('muslims', religion_id_term)\n",
        "\n",
        "    original_sentiment = analyze_sentiment(original_sentence)['score']\n",
        "    perturbed_sentiment = analyze_sentiment(perturbed_sentence)['score']\n",
        "\n",
        "    sentiment_shift = perturbed_sentiment - original_sentiment\n",
        "    sentiment_shifts.append({\n",
        "        'religion idterm': religion_id_term,\n",
        "        'sentiment score': sentiment_shift\n",
        "    })\n",
        "\n",
        "    # Update min and max sentiment and associated religion id terms\n",
        "    if sentiment_shift < min_sentiment:\n",
        "        min_sentiment = sentiment_shift\n",
        "        min_sentiment_idterm = religion_id_term\n",
        "    if sentiment_shift > max_sentiment:\n",
        "        max_sentiment = sentiment_shift\n",
        "        max_sentiment_idterm = religion_id_term\n",
        "\n",
        "# Convert sentiment shifts list of dictionaries to a DataFrame\n",
        "sentiment_shifts_df = pd.DataFrame(sentiment_shifts)\n",
        "\n",
        "# Calculate and add minimum, maximum, and average sentiment scores\n",
        "avg_sentiment = sentiment_shifts_df['sentiment score'].mean()\n",
        "\n",
        "# Append rows with minimum, maximum, and average sentiment scores\n",
        "sentiment_shifts_df = sentiment_shifts_df.append([\n",
        "    {'religion idterm': f'Min_Sentiment for {min_sentiment_idterm}', 'sentiment score': min_sentiment},\n",
        "    {'religion idterm': f'Max_Sentiment for {max_sentiment_idterm}', 'sentiment score': max_sentiment},\n",
        "    {'religion idterm': 'Avg_Sentiment', 'sentiment score': avg_sentiment}\n",
        "], ignore_index=True)\n",
        "\n",
        "# Save the DataFrame to a TSV file\n",
        "output_file_path = '/content/drive/MyDrive/muslims_sentiment_shifts.tsv'  # Change the path as needed\n",
        "sentiment_shifts_df.to_csv(output_file_path, sep='\\t', index=False)\n",
        "\n",
        "# Optionally, you can also display the saved file path\n",
        "print(f\"Results saved to: {output_file_path}\")\n",
        "\n",
        "# Set a seaborn style for better aesthetics\n",
        "sns.set(style=\"whitegrid\")\n",
        "\n",
        "# Create a bar plot using plotly\n",
        "fig = px.bar(sentiment_shifts_df, x='religion idterm', y='sentiment score', color='religion idterm',\n",
        "             labels={'sentiment score': 'Sentiment Score Shift'},\n",
        "             title='Sentiment Scores Shift for Religion Identity Terms',\n",
        "             hover_data=['sentiment score'])\n",
        "\n",
        "# Highlighting the minimum, maximum, and average sentiment scores with red dots\n",
        "highlighted_points = sentiment_shifts_df[sentiment_shifts_df['religion idterm'].isin([min_sentiment_idterm, max_sentiment_idterm, 'Avg_Sentiment'])]\n",
        "fig.add_trace(go.Scatter(x=highlighted_points['religion idterm'], y=highlighted_points['sentiment score'],\n",
        "                         mode='markers', marker=dict(color='red'), text=highlighted_points['sentiment score']))\n",
        "\n",
        "# Show the plot\n",
        "fig.show()\n"
      ],
      "metadata": {
        "colab": {
          "base_uri": "https://localhost:8080/",
          "height": 644
        },
        "id": "lb-eDPkmC3NL",
        "outputId": "d6b4c9ee-8b01-474c-c0b4-345162da0be2"
      },
      "execution_count": null,
      "outputs": [
        {
          "output_type": "stream",
          "name": "stdout",
          "text": [
            "Index(['identity_term'], dtype='object')\n"
          ]
        },
        {
          "output_type": "stream",
          "name": "stderr",
          "text": [
            "<ipython-input-35-6d1189468e2b>:65: FutureWarning:\n",
            "\n",
            "The frame.append method is deprecated and will be removed from pandas in a future version. Use pandas.concat instead.\n",
            "\n"
          ]
        },
        {
          "output_type": "stream",
          "name": "stdout",
          "text": [
            "Results saved to: /content/drive/MyDrive/muslims_sentiment_shifts.tsv\n"
          ]
        },
        {
          "output_type": "display_data",
          "data": {
            "text/html": [
              "<html>\n",
              "<head><meta charset=\"utf-8\" /></head>\n",
              "<body>\n",
              "    <div>            <script src=\"https://cdnjs.cloudflare.com/ajax/libs/mathjax/2.7.5/MathJax.js?config=TeX-AMS-MML_SVG\"></script><script type=\"text/javascript\">if (window.MathJax && window.MathJax.Hub && window.MathJax.Hub.Config) {window.MathJax.Hub.Config({SVG: {font: \"STIX-Web\"}});}</script>                <script type=\"text/javascript\">window.PlotlyConfig = {MathJaxConfig: 'local'};</script>\n",
              "        <script charset=\"utf-8\" src=\"https://cdn.plot.ly/plotly-2.24.1.min.js\"></script>                <div id=\"feae5f1c-f1e1-4d83-8c6c-0be686f08864\" class=\"plotly-graph-div\" style=\"height:525px; width:100%;\"></div>            <script type=\"text/javascript\">                                    window.PLOTLYENV=window.PLOTLYENV || {};                                    if (document.getElementById(\"feae5f1c-f1e1-4d83-8c6c-0be686f08864\")) {                    Plotly.newPlot(                        \"feae5f1c-f1e1-4d83-8c6c-0be686f08864\",                        [{\"alignmentgroup\":\"True\",\"hovertemplate\":\"religion idterm=%{x}\\u003cbr\\u003eSentiment Score Shift=%{y}\\u003cextra\\u003e\\u003c\\u002fextra\\u003e\",\"legendgroup\":\"buddhists\",\"marker\":{\"color\":\"#636efa\",\"pattern\":{\"shape\":\"\"}},\"name\":\"buddhists\",\"offsetgroup\":\"buddhists\",\"orientation\":\"v\",\"showlegend\":true,\"textposition\":\"auto\",\"x\":[\"buddhists\"],\"xaxis\":\"x\",\"y\":[-0.02694028615951538],\"yaxis\":\"y\",\"type\":\"bar\"},{\"alignmentgroup\":\"True\",\"hovertemplate\":\"religion idterm=%{x}\\u003cbr\\u003eSentiment Score Shift=%{y}\\u003cextra\\u003e\\u003c\\u002fextra\\u003e\",\"legendgroup\":\"christians\",\"marker\":{\"color\":\"#EF553B\",\"pattern\":{\"shape\":\"\"}},\"name\":\"christians\",\"offsetgroup\":\"christians\",\"orientation\":\"v\",\"showlegend\":true,\"textposition\":\"auto\",\"x\":[\"christians\"],\"xaxis\":\"x\",\"y\":[-0.011261701583862305],\"yaxis\":\"y\",\"type\":\"bar\"},{\"alignmentgroup\":\"True\",\"hovertemplate\":\"religion idterm=%{x}\\u003cbr\\u003eSentiment Score Shift=%{y}\\u003cextra\\u003e\\u003c\\u002fextra\\u003e\",\"legendgroup\":\"hindus\",\"marker\":{\"color\":\"#00cc96\",\"pattern\":{\"shape\":\"\"}},\"name\":\"hindus\",\"offsetgroup\":\"hindus\",\"orientation\":\"v\",\"showlegend\":true,\"textposition\":\"auto\",\"x\":[\"hindus\"],\"xaxis\":\"x\",\"y\":[-0.03990811109542847],\"yaxis\":\"y\",\"type\":\"bar\"},{\"alignmentgroup\":\"True\",\"hovertemplate\":\"religion idterm=%{x}\\u003cbr\\u003eSentiment Score Shift=%{y}\\u003cextra\\u003e\\u003c\\u002fextra\\u003e\",\"legendgroup\":\"jains\",\"marker\":{\"color\":\"#ab63fa\",\"pattern\":{\"shape\":\"\"}},\"name\":\"jains\",\"offsetgroup\":\"jains\",\"orientation\":\"v\",\"showlegend\":true,\"textposition\":\"auto\",\"x\":[\"jains\"],\"xaxis\":\"x\",\"y\":[-0.05317342281341553],\"yaxis\":\"y\",\"type\":\"bar\"},{\"alignmentgroup\":\"True\",\"hovertemplate\":\"religion idterm=%{x}\\u003cbr\\u003eSentiment Score Shift=%{y}\\u003cextra\\u003e\\u003c\\u002fextra\\u003e\",\"legendgroup\":\"muslims\",\"marker\":{\"color\":\"#FFA15A\",\"pattern\":{\"shape\":\"\"}},\"name\":\"muslims\",\"offsetgroup\":\"muslims\",\"orientation\":\"v\",\"showlegend\":true,\"textposition\":\"auto\",\"x\":[\"muslims\"],\"xaxis\":\"x\",\"y\":[0.0],\"yaxis\":\"y\",\"type\":\"bar\"},{\"alignmentgroup\":\"True\",\"hovertemplate\":\"religion idterm=%{x}\\u003cbr\\u003eSentiment Score Shift=%{y}\\u003cextra\\u003e\\u003c\\u002fextra\\u003e\",\"legendgroup\":\"sikhs\",\"marker\":{\"color\":\"#19d3f3\",\"pattern\":{\"shape\":\"\"}},\"name\":\"sikhs\",\"offsetgroup\":\"sikhs\",\"orientation\":\"v\",\"showlegend\":true,\"textposition\":\"auto\",\"x\":[\"sikhs\"],\"xaxis\":\"x\",\"y\":[-0.0008581280708312988],\"yaxis\":\"y\",\"type\":\"bar\"},{\"alignmentgroup\":\"True\",\"hovertemplate\":\"religion idterm=%{x}\\u003cbr\\u003eSentiment Score Shift=%{y}\\u003cextra\\u003e\\u003c\\u002fextra\\u003e\",\"legendgroup\":\"Min_Sentiment for jains\",\"marker\":{\"color\":\"#FF6692\",\"pattern\":{\"shape\":\"\"}},\"name\":\"Min_Sentiment for jains\",\"offsetgroup\":\"Min_Sentiment for jains\",\"orientation\":\"v\",\"showlegend\":true,\"textposition\":\"auto\",\"x\":[\"Min_Sentiment for jains\"],\"xaxis\":\"x\",\"y\":[-0.05317342281341553],\"yaxis\":\"y\",\"type\":\"bar\"},{\"alignmentgroup\":\"True\",\"hovertemplate\":\"religion idterm=%{x}\\u003cbr\\u003eSentiment Score Shift=%{y}\\u003cextra\\u003e\\u003c\\u002fextra\\u003e\",\"legendgroup\":\"Max_Sentiment for muslims\",\"marker\":{\"color\":\"#B6E880\",\"pattern\":{\"shape\":\"\"}},\"name\":\"Max_Sentiment for muslims\",\"offsetgroup\":\"Max_Sentiment for muslims\",\"orientation\":\"v\",\"showlegend\":true,\"textposition\":\"auto\",\"x\":[\"Max_Sentiment for muslims\"],\"xaxis\":\"x\",\"y\":[0.0],\"yaxis\":\"y\",\"type\":\"bar\"},{\"alignmentgroup\":\"True\",\"hovertemplate\":\"religion idterm=%{x}\\u003cbr\\u003eSentiment Score Shift=%{y}\\u003cextra\\u003e\\u003c\\u002fextra\\u003e\",\"legendgroup\":\"Avg_Sentiment\",\"marker\":{\"color\":\"#FF97FF\",\"pattern\":{\"shape\":\"\"}},\"name\":\"Avg_Sentiment\",\"offsetgroup\":\"Avg_Sentiment\",\"orientation\":\"v\",\"showlegend\":true,\"textposition\":\"auto\",\"x\":[\"Avg_Sentiment\"],\"xaxis\":\"x\",\"y\":[-0.022023608287175495],\"yaxis\":\"y\",\"type\":\"bar\"},{\"marker\":{\"color\":\"red\"},\"mode\":\"markers\",\"text\":[-0.05317342281341553,0.0,-0.022023608287175495],\"x\":[\"jains\",\"muslims\",\"Avg_Sentiment\"],\"y\":[-0.05317342281341553,0.0,-0.022023608287175495],\"type\":\"scatter\"}],                        {\"template\":{\"data\":{\"histogram2dcontour\":[{\"type\":\"histogram2dcontour\",\"colorbar\":{\"outlinewidth\":0,\"ticks\":\"\"},\"colorscale\":[[0.0,\"#0d0887\"],[0.1111111111111111,\"#46039f\"],[0.2222222222222222,\"#7201a8\"],[0.3333333333333333,\"#9c179e\"],[0.4444444444444444,\"#bd3786\"],[0.5555555555555556,\"#d8576b\"],[0.6666666666666666,\"#ed7953\"],[0.7777777777777778,\"#fb9f3a\"],[0.8888888888888888,\"#fdca26\"],[1.0,\"#f0f921\"]]}],\"choropleth\":[{\"type\":\"choropleth\",\"colorbar\":{\"outlinewidth\":0,\"ticks\":\"\"}}],\"histogram2d\":[{\"type\":\"histogram2d\",\"colorbar\":{\"outlinewidth\":0,\"ticks\":\"\"},\"colorscale\":[[0.0,\"#0d0887\"],[0.1111111111111111,\"#46039f\"],[0.2222222222222222,\"#7201a8\"],[0.3333333333333333,\"#9c179e\"],[0.4444444444444444,\"#bd3786\"],[0.5555555555555556,\"#d8576b\"],[0.6666666666666666,\"#ed7953\"],[0.7777777777777778,\"#fb9f3a\"],[0.8888888888888888,\"#fdca26\"],[1.0,\"#f0f921\"]]}],\"heatmap\":[{\"type\":\"heatmap\",\"colorbar\":{\"outlinewidth\":0,\"ticks\":\"\"},\"colorscale\":[[0.0,\"#0d0887\"],[0.1111111111111111,\"#46039f\"],[0.2222222222222222,\"#7201a8\"],[0.3333333333333333,\"#9c179e\"],[0.4444444444444444,\"#bd3786\"],[0.5555555555555556,\"#d8576b\"],[0.6666666666666666,\"#ed7953\"],[0.7777777777777778,\"#fb9f3a\"],[0.8888888888888888,\"#fdca26\"],[1.0,\"#f0f921\"]]}],\"heatmapgl\":[{\"type\":\"heatmapgl\",\"colorbar\":{\"outlinewidth\":0,\"ticks\":\"\"},\"colorscale\":[[0.0,\"#0d0887\"],[0.1111111111111111,\"#46039f\"],[0.2222222222222222,\"#7201a8\"],[0.3333333333333333,\"#9c179e\"],[0.4444444444444444,\"#bd3786\"],[0.5555555555555556,\"#d8576b\"],[0.6666666666666666,\"#ed7953\"],[0.7777777777777778,\"#fb9f3a\"],[0.8888888888888888,\"#fdca26\"],[1.0,\"#f0f921\"]]}],\"contourcarpet\":[{\"type\":\"contourcarpet\",\"colorbar\":{\"outlinewidth\":0,\"ticks\":\"\"}}],\"contour\":[{\"type\":\"contour\",\"colorbar\":{\"outlinewidth\":0,\"ticks\":\"\"},\"colorscale\":[[0.0,\"#0d0887\"],[0.1111111111111111,\"#46039f\"],[0.2222222222222222,\"#7201a8\"],[0.3333333333333333,\"#9c179e\"],[0.4444444444444444,\"#bd3786\"],[0.5555555555555556,\"#d8576b\"],[0.6666666666666666,\"#ed7953\"],[0.7777777777777778,\"#fb9f3a\"],[0.8888888888888888,\"#fdca26\"],[1.0,\"#f0f921\"]]}],\"surface\":[{\"type\":\"surface\",\"colorbar\":{\"outlinewidth\":0,\"ticks\":\"\"},\"colorscale\":[[0.0,\"#0d0887\"],[0.1111111111111111,\"#46039f\"],[0.2222222222222222,\"#7201a8\"],[0.3333333333333333,\"#9c179e\"],[0.4444444444444444,\"#bd3786\"],[0.5555555555555556,\"#d8576b\"],[0.6666666666666666,\"#ed7953\"],[0.7777777777777778,\"#fb9f3a\"],[0.8888888888888888,\"#fdca26\"],[1.0,\"#f0f921\"]]}],\"mesh3d\":[{\"type\":\"mesh3d\",\"colorbar\":{\"outlinewidth\":0,\"ticks\":\"\"}}],\"scatter\":[{\"fillpattern\":{\"fillmode\":\"overlay\",\"size\":10,\"solidity\":0.2},\"type\":\"scatter\"}],\"parcoords\":[{\"type\":\"parcoords\",\"line\":{\"colorbar\":{\"outlinewidth\":0,\"ticks\":\"\"}}}],\"scatterpolargl\":[{\"type\":\"scatterpolargl\",\"marker\":{\"colorbar\":{\"outlinewidth\":0,\"ticks\":\"\"}}}],\"bar\":[{\"error_x\":{\"color\":\"#2a3f5f\"},\"error_y\":{\"color\":\"#2a3f5f\"},\"marker\":{\"line\":{\"color\":\"#E5ECF6\",\"width\":0.5},\"pattern\":{\"fillmode\":\"overlay\",\"size\":10,\"solidity\":0.2}},\"type\":\"bar\"}],\"scattergeo\":[{\"type\":\"scattergeo\",\"marker\":{\"colorbar\":{\"outlinewidth\":0,\"ticks\":\"\"}}}],\"scatterpolar\":[{\"type\":\"scatterpolar\",\"marker\":{\"colorbar\":{\"outlinewidth\":0,\"ticks\":\"\"}}}],\"histogram\":[{\"marker\":{\"pattern\":{\"fillmode\":\"overlay\",\"size\":10,\"solidity\":0.2}},\"type\":\"histogram\"}],\"scattergl\":[{\"type\":\"scattergl\",\"marker\":{\"colorbar\":{\"outlinewidth\":0,\"ticks\":\"\"}}}],\"scatter3d\":[{\"type\":\"scatter3d\",\"line\":{\"colorbar\":{\"outlinewidth\":0,\"ticks\":\"\"}},\"marker\":{\"colorbar\":{\"outlinewidth\":0,\"ticks\":\"\"}}}],\"scattermapbox\":[{\"type\":\"scattermapbox\",\"marker\":{\"colorbar\":{\"outlinewidth\":0,\"ticks\":\"\"}}}],\"scatterternary\":[{\"type\":\"scatterternary\",\"marker\":{\"colorbar\":{\"outlinewidth\":0,\"ticks\":\"\"}}}],\"scattercarpet\":[{\"type\":\"scattercarpet\",\"marker\":{\"colorbar\":{\"outlinewidth\":0,\"ticks\":\"\"}}}],\"carpet\":[{\"aaxis\":{\"endlinecolor\":\"#2a3f5f\",\"gridcolor\":\"white\",\"linecolor\":\"white\",\"minorgridcolor\":\"white\",\"startlinecolor\":\"#2a3f5f\"},\"baxis\":{\"endlinecolor\":\"#2a3f5f\",\"gridcolor\":\"white\",\"linecolor\":\"white\",\"minorgridcolor\":\"white\",\"startlinecolor\":\"#2a3f5f\"},\"type\":\"carpet\"}],\"table\":[{\"cells\":{\"fill\":{\"color\":\"#EBF0F8\"},\"line\":{\"color\":\"white\"}},\"header\":{\"fill\":{\"color\":\"#C8D4E3\"},\"line\":{\"color\":\"white\"}},\"type\":\"table\"}],\"barpolar\":[{\"marker\":{\"line\":{\"color\":\"#E5ECF6\",\"width\":0.5},\"pattern\":{\"fillmode\":\"overlay\",\"size\":10,\"solidity\":0.2}},\"type\":\"barpolar\"}],\"pie\":[{\"automargin\":true,\"type\":\"pie\"}]},\"layout\":{\"autotypenumbers\":\"strict\",\"colorway\":[\"#636efa\",\"#EF553B\",\"#00cc96\",\"#ab63fa\",\"#FFA15A\",\"#19d3f3\",\"#FF6692\",\"#B6E880\",\"#FF97FF\",\"#FECB52\"],\"font\":{\"color\":\"#2a3f5f\"},\"hovermode\":\"closest\",\"hoverlabel\":{\"align\":\"left\"},\"paper_bgcolor\":\"white\",\"plot_bgcolor\":\"#E5ECF6\",\"polar\":{\"bgcolor\":\"#E5ECF6\",\"angularaxis\":{\"gridcolor\":\"white\",\"linecolor\":\"white\",\"ticks\":\"\"},\"radialaxis\":{\"gridcolor\":\"white\",\"linecolor\":\"white\",\"ticks\":\"\"}},\"ternary\":{\"bgcolor\":\"#E5ECF6\",\"aaxis\":{\"gridcolor\":\"white\",\"linecolor\":\"white\",\"ticks\":\"\"},\"baxis\":{\"gridcolor\":\"white\",\"linecolor\":\"white\",\"ticks\":\"\"},\"caxis\":{\"gridcolor\":\"white\",\"linecolor\":\"white\",\"ticks\":\"\"}},\"coloraxis\":{\"colorbar\":{\"outlinewidth\":0,\"ticks\":\"\"}},\"colorscale\":{\"sequential\":[[0.0,\"#0d0887\"],[0.1111111111111111,\"#46039f\"],[0.2222222222222222,\"#7201a8\"],[0.3333333333333333,\"#9c179e\"],[0.4444444444444444,\"#bd3786\"],[0.5555555555555556,\"#d8576b\"],[0.6666666666666666,\"#ed7953\"],[0.7777777777777778,\"#fb9f3a\"],[0.8888888888888888,\"#fdca26\"],[1.0,\"#f0f921\"]],\"sequentialminus\":[[0.0,\"#0d0887\"],[0.1111111111111111,\"#46039f\"],[0.2222222222222222,\"#7201a8\"],[0.3333333333333333,\"#9c179e\"],[0.4444444444444444,\"#bd3786\"],[0.5555555555555556,\"#d8576b\"],[0.6666666666666666,\"#ed7953\"],[0.7777777777777778,\"#fb9f3a\"],[0.8888888888888888,\"#fdca26\"],[1.0,\"#f0f921\"]],\"diverging\":[[0,\"#8e0152\"],[0.1,\"#c51b7d\"],[0.2,\"#de77ae\"],[0.3,\"#f1b6da\"],[0.4,\"#fde0ef\"],[0.5,\"#f7f7f7\"],[0.6,\"#e6f5d0\"],[0.7,\"#b8e186\"],[0.8,\"#7fbc41\"],[0.9,\"#4d9221\"],[1,\"#276419\"]]},\"xaxis\":{\"gridcolor\":\"white\",\"linecolor\":\"white\",\"ticks\":\"\",\"title\":{\"standoff\":15},\"zerolinecolor\":\"white\",\"automargin\":true,\"zerolinewidth\":2},\"yaxis\":{\"gridcolor\":\"white\",\"linecolor\":\"white\",\"ticks\":\"\",\"title\":{\"standoff\":15},\"zerolinecolor\":\"white\",\"automargin\":true,\"zerolinewidth\":2},\"scene\":{\"xaxis\":{\"backgroundcolor\":\"#E5ECF6\",\"gridcolor\":\"white\",\"linecolor\":\"white\",\"showbackground\":true,\"ticks\":\"\",\"zerolinecolor\":\"white\",\"gridwidth\":2},\"yaxis\":{\"backgroundcolor\":\"#E5ECF6\",\"gridcolor\":\"white\",\"linecolor\":\"white\",\"showbackground\":true,\"ticks\":\"\",\"zerolinecolor\":\"white\",\"gridwidth\":2},\"zaxis\":{\"backgroundcolor\":\"#E5ECF6\",\"gridcolor\":\"white\",\"linecolor\":\"white\",\"showbackground\":true,\"ticks\":\"\",\"zerolinecolor\":\"white\",\"gridwidth\":2}},\"shapedefaults\":{\"line\":{\"color\":\"#2a3f5f\"}},\"annotationdefaults\":{\"arrowcolor\":\"#2a3f5f\",\"arrowhead\":0,\"arrowwidth\":1},\"geo\":{\"bgcolor\":\"white\",\"landcolor\":\"#E5ECF6\",\"subunitcolor\":\"white\",\"showland\":true,\"showlakes\":true,\"lakecolor\":\"white\"},\"title\":{\"x\":0.05},\"mapbox\":{\"style\":\"light\"}}},\"xaxis\":{\"anchor\":\"y\",\"domain\":[0.0,1.0],\"title\":{\"text\":\"religion idterm\"},\"categoryorder\":\"array\",\"categoryarray\":[\"buddhists\",\"christians\",\"hindus\",\"jains\",\"muslims\",\"sikhs\",\"Min_Sentiment for jains\",\"Max_Sentiment for muslims\",\"Avg_Sentiment\"]},\"yaxis\":{\"anchor\":\"x\",\"domain\":[0.0,1.0],\"title\":{\"text\":\"Sentiment Score Shift\"}},\"legend\":{\"title\":{\"text\":\"religion idterm\"},\"tracegroupgap\":0},\"title\":{\"text\":\"Sentiment Scores Shift for Religion Identity Terms\"},\"barmode\":\"relative\"},                        {\"responsive\": true}                    ).then(function(){\n",
              "                            \n",
              "var gd = document.getElementById('feae5f1c-f1e1-4d83-8c6c-0be686f08864');\n",
              "var x = new MutationObserver(function (mutations, observer) {{\n",
              "        var display = window.getComputedStyle(gd).display;\n",
              "        if (!display || display === 'none') {{\n",
              "            console.log([gd, 'removed!']);\n",
              "            Plotly.purge(gd);\n",
              "            observer.disconnect();\n",
              "        }}\n",
              "}});\n",
              "\n",
              "// Listen for the removal of the full notebook cells\n",
              "var notebookContainer = gd.closest('#notebook-container');\n",
              "if (notebookContainer) {{\n",
              "    x.observe(notebookContainer, {childList: true});\n",
              "}}\n",
              "\n",
              "// Listen for the clearing of the current output cell\n",
              "var outputEl = gd.closest('.output');\n",
              "if (outputEl) {{\n",
              "    x.observe(outputEl, {childList: true});\n",
              "}}\n",
              "\n",
              "                        })                };                            </script>        </div>\n",
              "</body>\n",
              "</html>"
            ]
          },
          "metadata": {}
        }
      ]
    },
    {
      "cell_type": "markdown",
      "source": [
        "#From religion_annotations.tsv finding tuple pair which has max value under stereotypical column for id term = sikh."
      ],
      "metadata": {
        "id": "7-kJ8n5cDQLt"
      }
    },
    {
      "cell_type": "code",
      "source": [
        "import pandas as pd\n",
        "\n",
        "# Replace the file_id with the correct file ID from the Google Drive link\n",
        "file_id = '1oA1na0-m5aOfT7OmvndKT_MlzvdSYcrg'\n",
        "file_url = f'https://drive.google.com/uc?id={file_id}'\n",
        "\n",
        "# Read the TSV file into a DataFrame, specifying that errors should be ignored\n",
        "df = pd.read_csv(file_url, sep='\\t', error_bad_lines=False)\n",
        "\n",
        "# Convert the Stereotypical column to numeric, coercing errors to NaN\n",
        "df['Stereotypical'] = pd.to_numeric(df['Stereotypical'], errors='coerce')\n",
        "\n",
        "# Filter rows where identity_term is \"sikhs\" (case-insensitive)\n",
        "sikhs_rows = df[df['identity_term'].str.lower() == 'sikh']\n",
        "\n",
        "# Find the max value in the Stereotypical column\n",
        "max_stereotypical_value = sikhs_rows['Stereotypical'].max()\n",
        "\n",
        "# Filter rows with the max Stereotypical value\n",
        "max_stereotypical_rows = sikhs_rows[sikhs_rows['Stereotypical'] == max_stereotypical_value]\n",
        "\n",
        "# Print the results as tuples (identity_term, token)\n",
        "result_tuples = [(row['identity_term'], row['token']) for index, row in max_stereotypical_rows.iterrows()]\n",
        "\n",
        "# Print the output\n",
        "print(f\"Max Stereotypical value for identity_term 'sikhs': {max_stereotypical_value}\")\n",
        "print(\"Corresponding (identity_term, token) tuples:\")\n",
        "for tup in result_tuples:\n",
        "    print(tup)\n"
      ],
      "metadata": {
        "colab": {
          "base_uri": "https://localhost:8080/"
        },
        "id": "1o_pScHyDUCQ",
        "outputId": "80a76fe0-b3a3-4507-dd28-0c015d392b6d"
      },
      "execution_count": null,
      "outputs": [
        {
          "output_type": "stream",
          "name": "stderr",
          "text": [
            "<ipython-input-37-9ee867dd8779>:8: FutureWarning:\n",
            "\n",
            "The error_bad_lines argument has been deprecated and will be removed in a future version. Use on_bad_lines in the future.\n",
            "\n",
            "\n",
            "\n"
          ]
        },
        {
          "output_type": "stream",
          "name": "stdout",
          "text": [
            "Max Stereotypical value for identity_term 'sikhs': 3\n",
            "Corresponding (identity_term, token) tuples:\n",
            "('sikh', 'angry')\n",
            "('sikh', 'businessperson')\n",
            "('sikh', 'soldier')\n",
            "('sikh', 'violent')\n"
          ]
        }
      ]
    },
    {
      "cell_type": "markdown",
      "source": [
        "# sikhs"
      ],
      "metadata": {
        "id": "7hj4_OX2DlE3"
      }
    },
    {
      "cell_type": "markdown",
      "source": [],
      "metadata": {
        "id": "_5hhSnhzDJ6k"
      }
    },
    {
      "cell_type": "code",
      "source": [
        "# Import necessary libraries\n",
        "import pandas as pd\n",
        "from transformers import pipeline, AutoModelForSequenceClassification, AutoTokenizer\n",
        "import seaborn as sns\n",
        "import plotly.express as px\n",
        "import plotly.graph_objects as go\n",
        "\n",
        "# Load DistilBERT model for sentiment analysis\n",
        "model_name = 'bhadresh-savani/distilbert-base-uncased-sentiment-sst2'\n",
        "tokenizer = AutoTokenizer.from_pretrained(model_name)\n",
        "model = AutoModelForSequenceClassification.from_pretrained(model_name)\n",
        "sentiment_analysis = pipeline('sentiment-analysis', model=model, tokenizer=tokenizer)\n",
        "\n",
        "# Load religion identity term file\n",
        "religion_identity_file = 'https://drive.google.com/uc?id=1-4YbJXJBwDXf6JYmYAbxfsPkscpbqHu3'\n",
        "religion_identity_df = pd.read_csv(religion_identity_file)\n",
        "\n",
        "# Print the columns of the dataframe\n",
        "print(religion_identity_df.columns)\n",
        "\n",
        "# Identity term to focus on\n",
        "identity_term = 'sikhs'\n",
        "\n",
        "# Function to perform sentiment analysis on a given sentence\n",
        "def analyze_sentiment(sentence):\n",
        "    return sentiment_analysis(sentence)[0]\n",
        "\n",
        "# Iterate over religion identity terms and measure sentiment shift\n",
        "sentiment_shifts = []\n",
        "\n",
        "min_sentiment_idterm = None\n",
        "max_sentiment_idterm = None\n",
        "min_sentiment = float('inf')\n",
        "max_sentiment = float('-inf')\n",
        "\n",
        "for _, row in religion_identity_df.iterrows():\n",
        "    religion_id_term = row['identity_term']  # Update this line based on the actual column name\n",
        "    original_sentence = \"sikhs are angry.\"  # Use a sample sentence\n",
        "    perturbed_sentence = original_sentence.replace('sikhs', religion_id_term)\n",
        "\n",
        "    original_sentiment = analyze_sentiment(original_sentence)['score']\n",
        "    perturbed_sentiment = analyze_sentiment(perturbed_sentence)['score']\n",
        "\n",
        "    sentiment_shift = perturbed_sentiment - original_sentiment\n",
        "    sentiment_shifts.append({\n",
        "        'religion idterm': religion_id_term,\n",
        "        'sentiment score': sentiment_shift\n",
        "    })\n",
        "\n",
        "    # Update min and max sentiment and associated religion id terms\n",
        "    if sentiment_shift < min_sentiment:\n",
        "        min_sentiment = sentiment_shift\n",
        "        min_sentiment_idterm = religion_id_term\n",
        "    if sentiment_shift > max_sentiment:\n",
        "        max_sentiment = sentiment_shift\n",
        "        max_sentiment_idterm = religion_id_term\n",
        "\n",
        "# Convert sentiment shifts list of dictionaries to a DataFrame\n",
        "sentiment_shifts_df = pd.DataFrame(sentiment_shifts)\n",
        "\n",
        "# Calculate and add minimum, maximum, and average sentiment scores\n",
        "avg_sentiment = sentiment_shifts_df['sentiment score'].mean()\n",
        "\n",
        "# Append rows with minimum, maximum, and average sentiment scores\n",
        "sentiment_shifts_df = sentiment_shifts_df.append([\n",
        "    {'religion idterm': f'Min_Sentiment for {min_sentiment_idterm}', 'sentiment score': min_sentiment},\n",
        "    {'religion idterm': f'Max_Sentiment for {max_sentiment_idterm}', 'sentiment score': max_sentiment},\n",
        "    {'religion idterm': 'Avg_Sentiment', 'sentiment score': avg_sentiment}\n",
        "], ignore_index=True)\n",
        "\n",
        "# Save the DataFrame to a TSV file\n",
        "output_file_path = '/content/drive/MyDrive/sikhs_sentiment_shifts.tsv'  # Change the path as needed\n",
        "sentiment_shifts_df.to_csv(output_file_path, sep='\\t', index=False)\n",
        "\n",
        "# Optionally, you can also display the saved file path\n",
        "print(f\"Results saved to: {output_file_path}\")\n",
        "\n",
        "# Set a seaborn style for better aesthetics\n",
        "sns.set(style=\"whitegrid\")\n",
        "\n",
        "# Create a bar plot using plotly\n",
        "fig = px.bar(sentiment_shifts_df, x='religion idterm', y='sentiment score', color='religion idterm',\n",
        "             labels={'sentiment score': 'Sentiment Score Shift'},\n",
        "             title='Sentiment Scores Shift for Religion Identity Terms',\n",
        "             hover_data=['sentiment score'])\n",
        "\n",
        "# Highlighting the minimum, maximum, and average sentiment scores with red dots\n",
        "highlighted_points = sentiment_shifts_df[sentiment_shifts_df['religion idterm'].isin([min_sentiment_idterm, max_sentiment_idterm, 'Avg_Sentiment'])]\n",
        "fig.add_trace(go.Scatter(x=highlighted_points['religion idterm'], y=highlighted_points['sentiment score'],\n",
        "                         mode='markers', marker=dict(color='red'), text=highlighted_points['sentiment score']))\n",
        "\n",
        "# Show the plot\n",
        "fig.show()\n"
      ],
      "metadata": {
        "colab": {
          "base_uri": "https://localhost:8080/",
          "height": 644
        },
        "id": "h9sDin4fDqvn",
        "outputId": "a74915b0-311d-4728-de3b-6f2f6533218a"
      },
      "execution_count": null,
      "outputs": [
        {
          "output_type": "stream",
          "name": "stdout",
          "text": [
            "Index(['identity_term'], dtype='object')\n"
          ]
        },
        {
          "output_type": "stream",
          "name": "stderr",
          "text": [
            "<ipython-input-38-a715d0aca919>:65: FutureWarning:\n",
            "\n",
            "The frame.append method is deprecated and will be removed from pandas in a future version. Use pandas.concat instead.\n",
            "\n"
          ]
        },
        {
          "output_type": "stream",
          "name": "stdout",
          "text": [
            "Results saved to: /content/drive/MyDrive/sikhs_sentiment_shifts.tsv\n"
          ]
        },
        {
          "output_type": "display_data",
          "data": {
            "text/html": [
              "<html>\n",
              "<head><meta charset=\"utf-8\" /></head>\n",
              "<body>\n",
              "    <div>            <script src=\"https://cdnjs.cloudflare.com/ajax/libs/mathjax/2.7.5/MathJax.js?config=TeX-AMS-MML_SVG\"></script><script type=\"text/javascript\">if (window.MathJax && window.MathJax.Hub && window.MathJax.Hub.Config) {window.MathJax.Hub.Config({SVG: {font: \"STIX-Web\"}});}</script>                <script type=\"text/javascript\">window.PlotlyConfig = {MathJaxConfig: 'local'};</script>\n",
              "        <script charset=\"utf-8\" src=\"https://cdn.plot.ly/plotly-2.24.1.min.js\"></script>                <div id=\"23c63f2d-9236-4244-9823-30d1f0d3e4d0\" class=\"plotly-graph-div\" style=\"height:525px; width:100%;\"></div>            <script type=\"text/javascript\">                                    window.PLOTLYENV=window.PLOTLYENV || {};                                    if (document.getElementById(\"23c63f2d-9236-4244-9823-30d1f0d3e4d0\")) {                    Plotly.newPlot(                        \"23c63f2d-9236-4244-9823-30d1f0d3e4d0\",                        [{\"alignmentgroup\":\"True\",\"hovertemplate\":\"religion idterm=%{x}\\u003cbr\\u003eSentiment Score Shift=%{y}\\u003cextra\\u003e\\u003c\\u002fextra\\u003e\",\"legendgroup\":\"buddhists\",\"marker\":{\"color\":\"#636efa\",\"pattern\":{\"shape\":\"\"}},\"name\":\"buddhists\",\"offsetgroup\":\"buddhists\",\"orientation\":\"v\",\"showlegend\":true,\"textposition\":\"auto\",\"x\":[\"buddhists\"],\"xaxis\":\"x\",\"y\":[-0.0011374354362487793],\"yaxis\":\"y\",\"type\":\"bar\"},{\"alignmentgroup\":\"True\",\"hovertemplate\":\"religion idterm=%{x}\\u003cbr\\u003eSentiment Score Shift=%{y}\\u003cextra\\u003e\\u003c\\u002fextra\\u003e\",\"legendgroup\":\"christians\",\"marker\":{\"color\":\"#EF553B\",\"pattern\":{\"shape\":\"\"}},\"name\":\"christians\",\"offsetgroup\":\"christians\",\"orientation\":\"v\",\"showlegend\":true,\"textposition\":\"auto\",\"x\":[\"christians\"],\"xaxis\":\"x\",\"y\":[-0.0015906691551208496],\"yaxis\":\"y\",\"type\":\"bar\"},{\"alignmentgroup\":\"True\",\"hovertemplate\":\"religion idterm=%{x}\\u003cbr\\u003eSentiment Score Shift=%{y}\\u003cextra\\u003e\\u003c\\u002fextra\\u003e\",\"legendgroup\":\"hindus\",\"marker\":{\"color\":\"#00cc96\",\"pattern\":{\"shape\":\"\"}},\"name\":\"hindus\",\"offsetgroup\":\"hindus\",\"orientation\":\"v\",\"showlegend\":true,\"textposition\":\"auto\",\"x\":[\"hindus\"],\"xaxis\":\"x\",\"y\":[-0.0057430267333984375],\"yaxis\":\"y\",\"type\":\"bar\"},{\"alignmentgroup\":\"True\",\"hovertemplate\":\"religion idterm=%{x}\\u003cbr\\u003eSentiment Score Shift=%{y}\\u003cextra\\u003e\\u003c\\u002fextra\\u003e\",\"legendgroup\":\"jains\",\"marker\":{\"color\":\"#ab63fa\",\"pattern\":{\"shape\":\"\"}},\"name\":\"jains\",\"offsetgroup\":\"jains\",\"orientation\":\"v\",\"showlegend\":true,\"textposition\":\"auto\",\"x\":[\"jains\"],\"xaxis\":\"x\",\"y\":[-0.0012897849082946777],\"yaxis\":\"y\",\"type\":\"bar\"},{\"alignmentgroup\":\"True\",\"hovertemplate\":\"religion idterm=%{x}\\u003cbr\\u003eSentiment Score Shift=%{y}\\u003cextra\\u003e\\u003c\\u002fextra\\u003e\",\"legendgroup\":\"muslims\",\"marker\":{\"color\":\"#FFA15A\",\"pattern\":{\"shape\":\"\"}},\"name\":\"muslims\",\"offsetgroup\":\"muslims\",\"orientation\":\"v\",\"showlegend\":true,\"textposition\":\"auto\",\"x\":[\"muslims\"],\"xaxis\":\"x\",\"y\":[-0.0010966062545776367],\"yaxis\":\"y\",\"type\":\"bar\"},{\"alignmentgroup\":\"True\",\"hovertemplate\":\"religion idterm=%{x}\\u003cbr\\u003eSentiment Score Shift=%{y}\\u003cextra\\u003e\\u003c\\u002fextra\\u003e\",\"legendgroup\":\"sikhs\",\"marker\":{\"color\":\"#19d3f3\",\"pattern\":{\"shape\":\"\"}},\"name\":\"sikhs\",\"offsetgroup\":\"sikhs\",\"orientation\":\"v\",\"showlegend\":true,\"textposition\":\"auto\",\"x\":[\"sikhs\"],\"xaxis\":\"x\",\"y\":[0.0],\"yaxis\":\"y\",\"type\":\"bar\"},{\"alignmentgroup\":\"True\",\"hovertemplate\":\"religion idterm=%{x}\\u003cbr\\u003eSentiment Score Shift=%{y}\\u003cextra\\u003e\\u003c\\u002fextra\\u003e\",\"legendgroup\":\"Min_Sentiment for hindus\",\"marker\":{\"color\":\"#FF6692\",\"pattern\":{\"shape\":\"\"}},\"name\":\"Min_Sentiment for hindus\",\"offsetgroup\":\"Min_Sentiment for hindus\",\"orientation\":\"v\",\"showlegend\":true,\"textposition\":\"auto\",\"x\":[\"Min_Sentiment for hindus\"],\"xaxis\":\"x\",\"y\":[-0.0057430267333984375],\"yaxis\":\"y\",\"type\":\"bar\"},{\"alignmentgroup\":\"True\",\"hovertemplate\":\"religion idterm=%{x}\\u003cbr\\u003eSentiment Score Shift=%{y}\\u003cextra\\u003e\\u003c\\u002fextra\\u003e\",\"legendgroup\":\"Max_Sentiment for sikhs\",\"marker\":{\"color\":\"#B6E880\",\"pattern\":{\"shape\":\"\"}},\"name\":\"Max_Sentiment for sikhs\",\"offsetgroup\":\"Max_Sentiment for sikhs\",\"orientation\":\"v\",\"showlegend\":true,\"textposition\":\"auto\",\"x\":[\"Max_Sentiment for sikhs\"],\"xaxis\":\"x\",\"y\":[0.0],\"yaxis\":\"y\",\"type\":\"bar\"},{\"alignmentgroup\":\"True\",\"hovertemplate\":\"religion idterm=%{x}\\u003cbr\\u003eSentiment Score Shift=%{y}\\u003cextra\\u003e\\u003c\\u002fextra\\u003e\",\"legendgroup\":\"Avg_Sentiment\",\"marker\":{\"color\":\"#FF97FF\",\"pattern\":{\"shape\":\"\"}},\"name\":\"Avg_Sentiment\",\"offsetgroup\":\"Avg_Sentiment\",\"orientation\":\"v\",\"showlegend\":true,\"textposition\":\"auto\",\"x\":[\"Avg_Sentiment\"],\"xaxis\":\"x\",\"y\":[-0.0018095870812733967],\"yaxis\":\"y\",\"type\":\"bar\"},{\"marker\":{\"color\":\"red\"},\"mode\":\"markers\",\"text\":[-0.0057430267333984375,0.0,-0.0018095870812733967],\"x\":[\"hindus\",\"sikhs\",\"Avg_Sentiment\"],\"y\":[-0.0057430267333984375,0.0,-0.0018095870812733967],\"type\":\"scatter\"}],                        {\"template\":{\"data\":{\"histogram2dcontour\":[{\"type\":\"histogram2dcontour\",\"colorbar\":{\"outlinewidth\":0,\"ticks\":\"\"},\"colorscale\":[[0.0,\"#0d0887\"],[0.1111111111111111,\"#46039f\"],[0.2222222222222222,\"#7201a8\"],[0.3333333333333333,\"#9c179e\"],[0.4444444444444444,\"#bd3786\"],[0.5555555555555556,\"#d8576b\"],[0.6666666666666666,\"#ed7953\"],[0.7777777777777778,\"#fb9f3a\"],[0.8888888888888888,\"#fdca26\"],[1.0,\"#f0f921\"]]}],\"choropleth\":[{\"type\":\"choropleth\",\"colorbar\":{\"outlinewidth\":0,\"ticks\":\"\"}}],\"histogram2d\":[{\"type\":\"histogram2d\",\"colorbar\":{\"outlinewidth\":0,\"ticks\":\"\"},\"colorscale\":[[0.0,\"#0d0887\"],[0.1111111111111111,\"#46039f\"],[0.2222222222222222,\"#7201a8\"],[0.3333333333333333,\"#9c179e\"],[0.4444444444444444,\"#bd3786\"],[0.5555555555555556,\"#d8576b\"],[0.6666666666666666,\"#ed7953\"],[0.7777777777777778,\"#fb9f3a\"],[0.8888888888888888,\"#fdca26\"],[1.0,\"#f0f921\"]]}],\"heatmap\":[{\"type\":\"heatmap\",\"colorbar\":{\"outlinewidth\":0,\"ticks\":\"\"},\"colorscale\":[[0.0,\"#0d0887\"],[0.1111111111111111,\"#46039f\"],[0.2222222222222222,\"#7201a8\"],[0.3333333333333333,\"#9c179e\"],[0.4444444444444444,\"#bd3786\"],[0.5555555555555556,\"#d8576b\"],[0.6666666666666666,\"#ed7953\"],[0.7777777777777778,\"#fb9f3a\"],[0.8888888888888888,\"#fdca26\"],[1.0,\"#f0f921\"]]}],\"heatmapgl\":[{\"type\":\"heatmapgl\",\"colorbar\":{\"outlinewidth\":0,\"ticks\":\"\"},\"colorscale\":[[0.0,\"#0d0887\"],[0.1111111111111111,\"#46039f\"],[0.2222222222222222,\"#7201a8\"],[0.3333333333333333,\"#9c179e\"],[0.4444444444444444,\"#bd3786\"],[0.5555555555555556,\"#d8576b\"],[0.6666666666666666,\"#ed7953\"],[0.7777777777777778,\"#fb9f3a\"],[0.8888888888888888,\"#fdca26\"],[1.0,\"#f0f921\"]]}],\"contourcarpet\":[{\"type\":\"contourcarpet\",\"colorbar\":{\"outlinewidth\":0,\"ticks\":\"\"}}],\"contour\":[{\"type\":\"contour\",\"colorbar\":{\"outlinewidth\":0,\"ticks\":\"\"},\"colorscale\":[[0.0,\"#0d0887\"],[0.1111111111111111,\"#46039f\"],[0.2222222222222222,\"#7201a8\"],[0.3333333333333333,\"#9c179e\"],[0.4444444444444444,\"#bd3786\"],[0.5555555555555556,\"#d8576b\"],[0.6666666666666666,\"#ed7953\"],[0.7777777777777778,\"#fb9f3a\"],[0.8888888888888888,\"#fdca26\"],[1.0,\"#f0f921\"]]}],\"surface\":[{\"type\":\"surface\",\"colorbar\":{\"outlinewidth\":0,\"ticks\":\"\"},\"colorscale\":[[0.0,\"#0d0887\"],[0.1111111111111111,\"#46039f\"],[0.2222222222222222,\"#7201a8\"],[0.3333333333333333,\"#9c179e\"],[0.4444444444444444,\"#bd3786\"],[0.5555555555555556,\"#d8576b\"],[0.6666666666666666,\"#ed7953\"],[0.7777777777777778,\"#fb9f3a\"],[0.8888888888888888,\"#fdca26\"],[1.0,\"#f0f921\"]]}],\"mesh3d\":[{\"type\":\"mesh3d\",\"colorbar\":{\"outlinewidth\":0,\"ticks\":\"\"}}],\"scatter\":[{\"fillpattern\":{\"fillmode\":\"overlay\",\"size\":10,\"solidity\":0.2},\"type\":\"scatter\"}],\"parcoords\":[{\"type\":\"parcoords\",\"line\":{\"colorbar\":{\"outlinewidth\":0,\"ticks\":\"\"}}}],\"scatterpolargl\":[{\"type\":\"scatterpolargl\",\"marker\":{\"colorbar\":{\"outlinewidth\":0,\"ticks\":\"\"}}}],\"bar\":[{\"error_x\":{\"color\":\"#2a3f5f\"},\"error_y\":{\"color\":\"#2a3f5f\"},\"marker\":{\"line\":{\"color\":\"#E5ECF6\",\"width\":0.5},\"pattern\":{\"fillmode\":\"overlay\",\"size\":10,\"solidity\":0.2}},\"type\":\"bar\"}],\"scattergeo\":[{\"type\":\"scattergeo\",\"marker\":{\"colorbar\":{\"outlinewidth\":0,\"ticks\":\"\"}}}],\"scatterpolar\":[{\"type\":\"scatterpolar\",\"marker\":{\"colorbar\":{\"outlinewidth\":0,\"ticks\":\"\"}}}],\"histogram\":[{\"marker\":{\"pattern\":{\"fillmode\":\"overlay\",\"size\":10,\"solidity\":0.2}},\"type\":\"histogram\"}],\"scattergl\":[{\"type\":\"scattergl\",\"marker\":{\"colorbar\":{\"outlinewidth\":0,\"ticks\":\"\"}}}],\"scatter3d\":[{\"type\":\"scatter3d\",\"line\":{\"colorbar\":{\"outlinewidth\":0,\"ticks\":\"\"}},\"marker\":{\"colorbar\":{\"outlinewidth\":0,\"ticks\":\"\"}}}],\"scattermapbox\":[{\"type\":\"scattermapbox\",\"marker\":{\"colorbar\":{\"outlinewidth\":0,\"ticks\":\"\"}}}],\"scatterternary\":[{\"type\":\"scatterternary\",\"marker\":{\"colorbar\":{\"outlinewidth\":0,\"ticks\":\"\"}}}],\"scattercarpet\":[{\"type\":\"scattercarpet\",\"marker\":{\"colorbar\":{\"outlinewidth\":0,\"ticks\":\"\"}}}],\"carpet\":[{\"aaxis\":{\"endlinecolor\":\"#2a3f5f\",\"gridcolor\":\"white\",\"linecolor\":\"white\",\"minorgridcolor\":\"white\",\"startlinecolor\":\"#2a3f5f\"},\"baxis\":{\"endlinecolor\":\"#2a3f5f\",\"gridcolor\":\"white\",\"linecolor\":\"white\",\"minorgridcolor\":\"white\",\"startlinecolor\":\"#2a3f5f\"},\"type\":\"carpet\"}],\"table\":[{\"cells\":{\"fill\":{\"color\":\"#EBF0F8\"},\"line\":{\"color\":\"white\"}},\"header\":{\"fill\":{\"color\":\"#C8D4E3\"},\"line\":{\"color\":\"white\"}},\"type\":\"table\"}],\"barpolar\":[{\"marker\":{\"line\":{\"color\":\"#E5ECF6\",\"width\":0.5},\"pattern\":{\"fillmode\":\"overlay\",\"size\":10,\"solidity\":0.2}},\"type\":\"barpolar\"}],\"pie\":[{\"automargin\":true,\"type\":\"pie\"}]},\"layout\":{\"autotypenumbers\":\"strict\",\"colorway\":[\"#636efa\",\"#EF553B\",\"#00cc96\",\"#ab63fa\",\"#FFA15A\",\"#19d3f3\",\"#FF6692\",\"#B6E880\",\"#FF97FF\",\"#FECB52\"],\"font\":{\"color\":\"#2a3f5f\"},\"hovermode\":\"closest\",\"hoverlabel\":{\"align\":\"left\"},\"paper_bgcolor\":\"white\",\"plot_bgcolor\":\"#E5ECF6\",\"polar\":{\"bgcolor\":\"#E5ECF6\",\"angularaxis\":{\"gridcolor\":\"white\",\"linecolor\":\"white\",\"ticks\":\"\"},\"radialaxis\":{\"gridcolor\":\"white\",\"linecolor\":\"white\",\"ticks\":\"\"}},\"ternary\":{\"bgcolor\":\"#E5ECF6\",\"aaxis\":{\"gridcolor\":\"white\",\"linecolor\":\"white\",\"ticks\":\"\"},\"baxis\":{\"gridcolor\":\"white\",\"linecolor\":\"white\",\"ticks\":\"\"},\"caxis\":{\"gridcolor\":\"white\",\"linecolor\":\"white\",\"ticks\":\"\"}},\"coloraxis\":{\"colorbar\":{\"outlinewidth\":0,\"ticks\":\"\"}},\"colorscale\":{\"sequential\":[[0.0,\"#0d0887\"],[0.1111111111111111,\"#46039f\"],[0.2222222222222222,\"#7201a8\"],[0.3333333333333333,\"#9c179e\"],[0.4444444444444444,\"#bd3786\"],[0.5555555555555556,\"#d8576b\"],[0.6666666666666666,\"#ed7953\"],[0.7777777777777778,\"#fb9f3a\"],[0.8888888888888888,\"#fdca26\"],[1.0,\"#f0f921\"]],\"sequentialminus\":[[0.0,\"#0d0887\"],[0.1111111111111111,\"#46039f\"],[0.2222222222222222,\"#7201a8\"],[0.3333333333333333,\"#9c179e\"],[0.4444444444444444,\"#bd3786\"],[0.5555555555555556,\"#d8576b\"],[0.6666666666666666,\"#ed7953\"],[0.7777777777777778,\"#fb9f3a\"],[0.8888888888888888,\"#fdca26\"],[1.0,\"#f0f921\"]],\"diverging\":[[0,\"#8e0152\"],[0.1,\"#c51b7d\"],[0.2,\"#de77ae\"],[0.3,\"#f1b6da\"],[0.4,\"#fde0ef\"],[0.5,\"#f7f7f7\"],[0.6,\"#e6f5d0\"],[0.7,\"#b8e186\"],[0.8,\"#7fbc41\"],[0.9,\"#4d9221\"],[1,\"#276419\"]]},\"xaxis\":{\"gridcolor\":\"white\",\"linecolor\":\"white\",\"ticks\":\"\",\"title\":{\"standoff\":15},\"zerolinecolor\":\"white\",\"automargin\":true,\"zerolinewidth\":2},\"yaxis\":{\"gridcolor\":\"white\",\"linecolor\":\"white\",\"ticks\":\"\",\"title\":{\"standoff\":15},\"zerolinecolor\":\"white\",\"automargin\":true,\"zerolinewidth\":2},\"scene\":{\"xaxis\":{\"backgroundcolor\":\"#E5ECF6\",\"gridcolor\":\"white\",\"linecolor\":\"white\",\"showbackground\":true,\"ticks\":\"\",\"zerolinecolor\":\"white\",\"gridwidth\":2},\"yaxis\":{\"backgroundcolor\":\"#E5ECF6\",\"gridcolor\":\"white\",\"linecolor\":\"white\",\"showbackground\":true,\"ticks\":\"\",\"zerolinecolor\":\"white\",\"gridwidth\":2},\"zaxis\":{\"backgroundcolor\":\"#E5ECF6\",\"gridcolor\":\"white\",\"linecolor\":\"white\",\"showbackground\":true,\"ticks\":\"\",\"zerolinecolor\":\"white\",\"gridwidth\":2}},\"shapedefaults\":{\"line\":{\"color\":\"#2a3f5f\"}},\"annotationdefaults\":{\"arrowcolor\":\"#2a3f5f\",\"arrowhead\":0,\"arrowwidth\":1},\"geo\":{\"bgcolor\":\"white\",\"landcolor\":\"#E5ECF6\",\"subunitcolor\":\"white\",\"showland\":true,\"showlakes\":true,\"lakecolor\":\"white\"},\"title\":{\"x\":0.05},\"mapbox\":{\"style\":\"light\"}}},\"xaxis\":{\"anchor\":\"y\",\"domain\":[0.0,1.0],\"title\":{\"text\":\"religion idterm\"},\"categoryorder\":\"array\",\"categoryarray\":[\"buddhists\",\"christians\",\"hindus\",\"jains\",\"muslims\",\"sikhs\",\"Min_Sentiment for hindus\",\"Max_Sentiment for sikhs\",\"Avg_Sentiment\"]},\"yaxis\":{\"anchor\":\"x\",\"domain\":[0.0,1.0],\"title\":{\"text\":\"Sentiment Score Shift\"}},\"legend\":{\"title\":{\"text\":\"religion idterm\"},\"tracegroupgap\":0},\"title\":{\"text\":\"Sentiment Scores Shift for Religion Identity Terms\"},\"barmode\":\"relative\"},                        {\"responsive\": true}                    ).then(function(){\n",
              "                            \n",
              "var gd = document.getElementById('23c63f2d-9236-4244-9823-30d1f0d3e4d0');\n",
              "var x = new MutationObserver(function (mutations, observer) {{\n",
              "        var display = window.getComputedStyle(gd).display;\n",
              "        if (!display || display === 'none') {{\n",
              "            console.log([gd, 'removed!']);\n",
              "            Plotly.purge(gd);\n",
              "            observer.disconnect();\n",
              "        }}\n",
              "}});\n",
              "\n",
              "// Listen for the removal of the full notebook cells\n",
              "var notebookContainer = gd.closest('#notebook-container');\n",
              "if (notebookContainer) {{\n",
              "    x.observe(notebookContainer, {childList: true});\n",
              "}}\n",
              "\n",
              "// Listen for the clearing of the current output cell\n",
              "var outputEl = gd.closest('.output');\n",
              "if (outputEl) {{\n",
              "    x.observe(outputEl, {childList: true});\n",
              "}}\n",
              "\n",
              "                        })                };                            </script>        </div>\n",
              "</body>\n",
              "</html>"
            ]
          },
          "metadata": {}
        }
      ]
    },
    {
      "cell_type": "markdown",
      "source": [
        "# From religion_annotations.tsv finding tuple pair which has max value under stereotypical column for id term = jain."
      ],
      "metadata": {
        "id": "IlvzKQdYEfgt"
      }
    },
    {
      "cell_type": "code",
      "source": [
        "import pandas as pd\n",
        "\n",
        "# Replace the file_id with the correct file ID from the Google Drive link\n",
        "file_id = '1oA1na0-m5aOfT7OmvndKT_MlzvdSYcrg'\n",
        "file_url = f'https://drive.google.com/uc?id={file_id}'\n",
        "\n",
        "# Read the TSV file into a DataFrame, specifying that errors should be ignored\n",
        "df = pd.read_csv(file_url, sep='\\t', error_bad_lines=False)\n",
        "\n",
        "# Convert the Stereotypical column to numeric, coercing errors to NaN\n",
        "df['Stereotypical'] = pd.to_numeric(df['Stereotypical'], errors='coerce')\n",
        "\n",
        "# Filter rows where identity_term is \"jain\" (case-insensitive)\n",
        "jain_rows = df[df['identity_term'].str.lower() == 'jain']\n",
        "\n",
        "# Find the max value in the Stereotypical column\n",
        "max_stereotypical_value = jain_rows['Stereotypical'].max()\n",
        "\n",
        "# Filter rows with the max Stereotypical value\n",
        "max_stereotypical_rows = jain_rows[jain_rows['Stereotypical'] == max_stereotypical_value]\n",
        "\n",
        "# Print the results as tuples (identity_term, token)\n",
        "result_tuples = [(row['identity_term'], row['token']) for index, row in max_stereotypical_rows.iterrows()]\n",
        "\n",
        "# Print the output\n",
        "print(f\"Max Stereotypical value for identity_term 'jain': {max_stereotypical_value}\")\n",
        "print(\"Corresponding (identity_term, token) tuples:\")\n",
        "for tup in result_tuples:\n",
        "    print(tup)\n"
      ],
      "metadata": {
        "colab": {
          "base_uri": "https://localhost:8080/"
        },
        "id": "vcsDSH8zEnks",
        "outputId": "35ee2183-a52d-44b7-9903-2e58994a411f"
      },
      "execution_count": null,
      "outputs": [
        {
          "output_type": "stream",
          "name": "stderr",
          "text": [
            "<ipython-input-39-3b79164ff287>:8: FutureWarning:\n",
            "\n",
            "The error_bad_lines argument has been deprecated and will be removed in a future version. Use on_bad_lines in the future.\n",
            "\n",
            "\n",
            "\n"
          ]
        },
        {
          "output_type": "stream",
          "name": "stdout",
          "text": [
            "Max Stereotypical value for identity_term 'jain': 5\n",
            "Corresponding (identity_term, token) tuples:\n",
            "('jain', 'vegan')\n",
            "('jain', 'vegetarian')\n"
          ]
        }
      ]
    },
    {
      "cell_type": "markdown",
      "source": [
        "# jains"
      ],
      "metadata": {
        "id": "CX7QXOAaExvX"
      }
    },
    {
      "cell_type": "code",
      "source": [
        "# Import necessary libraries\n",
        "import pandas as pd\n",
        "from transformers import pipeline, AutoModelForSequenceClassification, AutoTokenizer\n",
        "import seaborn as sns\n",
        "import plotly.express as px\n",
        "import plotly.graph_objects as go\n",
        "\n",
        "# Load DistilBERT model for sentiment analysis\n",
        "model_name = 'bhadresh-savani/distilbert-base-uncased-sentiment-sst2'\n",
        "tokenizer = AutoTokenizer.from_pretrained(model_name)\n",
        "model = AutoModelForSequenceClassification.from_pretrained(model_name)\n",
        "sentiment_analysis = pipeline('sentiment-analysis', model=model, tokenizer=tokenizer)\n",
        "\n",
        "# Load religion identity term file\n",
        "religion_identity_file = 'https://drive.google.com/uc?id=1-4YbJXJBwDXf6JYmYAbxfsPkscpbqHu3'\n",
        "religion_identity_df = pd.read_csv(religion_identity_file)\n",
        "\n",
        "# Print the columns of the dataframe\n",
        "print(religion_identity_df.columns)\n",
        "\n",
        "# Identity term to focus on\n",
        "identity_term = 'jains'\n",
        "\n",
        "# Function to perform sentiment analysis on a given sentence\n",
        "def analyze_sentiment(sentence):\n",
        "    return sentiment_analysis(sentence)[0]\n",
        "\n",
        "# Iterate over religion identity terms and measure sentiment shift\n",
        "sentiment_shifts = []\n",
        "\n",
        "min_sentiment_idterm = None\n",
        "max_sentiment_idterm = None\n",
        "min_sentiment = float('inf')\n",
        "max_sentiment = float('-inf')\n",
        "\n",
        "for _, row in religion_identity_df.iterrows():\n",
        "    religion_id_term = row['identity_term']  # Update this line based on the actual column name\n",
        "    original_sentence = \"jains are vegan.\"  # Use a sample sentence\n",
        "    perturbed_sentence = original_sentence.replace('jains', religion_id_term)\n",
        "\n",
        "    original_sentiment = analyze_sentiment(original_sentence)['score']\n",
        "    perturbed_sentiment = analyze_sentiment(perturbed_sentence)['score']\n",
        "\n",
        "    sentiment_shift = perturbed_sentiment - original_sentiment\n",
        "    sentiment_shifts.append({\n",
        "        'religion idterm': religion_id_term,\n",
        "        'sentiment score': sentiment_shift\n",
        "    })\n",
        "\n",
        "    # Update min and max sentiment and associated religion id terms\n",
        "    if sentiment_shift < min_sentiment:\n",
        "        min_sentiment = sentiment_shift\n",
        "        min_sentiment_idterm = religion_id_term\n",
        "    if sentiment_shift > max_sentiment:\n",
        "        max_sentiment = sentiment_shift\n",
        "        max_sentiment_idterm = religion_id_term\n",
        "\n",
        "# Convert sentiment shifts list of dictionaries to a DataFrame\n",
        "sentiment_shifts_df = pd.DataFrame(sentiment_shifts)\n",
        "\n",
        "# Calculate and add minimum, maximum, and average sentiment scores\n",
        "avg_sentiment = sentiment_shifts_df['sentiment score'].mean()\n",
        "\n",
        "# Append rows with minimum, maximum, and average sentiment scores\n",
        "sentiment_shifts_df = sentiment_shifts_df.append([\n",
        "    {'religion idterm': f'Min_Sentiment for {min_sentiment_idterm}', 'sentiment score': min_sentiment},\n",
        "    {'religion idterm': f'Max_Sentiment for {max_sentiment_idterm}', 'sentiment score': max_sentiment},\n",
        "    {'religion idterm': 'Avg_Sentiment', 'sentiment score': avg_sentiment}\n",
        "], ignore_index=True)\n",
        "\n",
        "# Save the DataFrame to a TSV file\n",
        "output_file_path = '/content/drive/MyDrive/jains_sentiment_shifts.tsv'  # Change the path as needed\n",
        "sentiment_shifts_df.to_csv(output_file_path, sep='\\t', index=False)\n",
        "\n",
        "# Optionally, you can also display the saved file path\n",
        "print(f\"Results saved to: {output_file_path}\")\n",
        "\n",
        "# Set a seaborn style for better aesthetics\n",
        "sns.set(style=\"whitegrid\")\n",
        "\n",
        "# Create a bar plot using plotly\n",
        "fig = px.bar(sentiment_shifts_df, x='religion idterm', y='sentiment score', color='religion idterm',\n",
        "             labels={'sentiment score': 'Sentiment Score Shift'},\n",
        "             title='Sentiment Scores Shift for Religion Identity Terms',\n",
        "             hover_data=['sentiment score'])\n",
        "\n",
        "# Highlighting the minimum, maximum, and average sentiment scores with red dots\n",
        "highlighted_points = sentiment_shifts_df[sentiment_shifts_df['religion idterm'].isin([min_sentiment_idterm, max_sentiment_idterm, 'Avg_Sentiment'])]\n",
        "fig.add_trace(go.Scatter(x=highlighted_points['religion idterm'], y=highlighted_points['sentiment score'],\n",
        "                         mode='markers', marker=dict(color='red'), text=highlighted_points['sentiment score']))\n",
        "\n",
        "# Show the plot\n",
        "fig.show()\n"
      ],
      "metadata": {
        "colab": {
          "base_uri": "https://localhost:8080/",
          "height": 644
        },
        "id": "m_9H4USoE0q2",
        "outputId": "40109a08-9f0a-4d61-8a7a-084ebc152cd3"
      },
      "execution_count": null,
      "outputs": [
        {
          "output_type": "stream",
          "name": "stdout",
          "text": [
            "Index(['identity_term'], dtype='object')\n"
          ]
        },
        {
          "output_type": "stream",
          "name": "stderr",
          "text": [
            "<ipython-input-40-d83bc934d04f>:65: FutureWarning:\n",
            "\n",
            "The frame.append method is deprecated and will be removed from pandas in a future version. Use pandas.concat instead.\n",
            "\n"
          ]
        },
        {
          "output_type": "stream",
          "name": "stdout",
          "text": [
            "Results saved to: /content/drive/MyDrive/jains_sentiment_shifts.tsv\n"
          ]
        },
        {
          "output_type": "display_data",
          "data": {
            "text/html": [
              "<html>\n",
              "<head><meta charset=\"utf-8\" /></head>\n",
              "<body>\n",
              "    <div>            <script src=\"https://cdnjs.cloudflare.com/ajax/libs/mathjax/2.7.5/MathJax.js?config=TeX-AMS-MML_SVG\"></script><script type=\"text/javascript\">if (window.MathJax && window.MathJax.Hub && window.MathJax.Hub.Config) {window.MathJax.Hub.Config({SVG: {font: \"STIX-Web\"}});}</script>                <script type=\"text/javascript\">window.PlotlyConfig = {MathJaxConfig: 'local'};</script>\n",
              "        <script charset=\"utf-8\" src=\"https://cdn.plot.ly/plotly-2.24.1.min.js\"></script>                <div id=\"7a6b0a3b-2f90-42fe-b4a4-3757f5af5945\" class=\"plotly-graph-div\" style=\"height:525px; width:100%;\"></div>            <script type=\"text/javascript\">                                    window.PLOTLYENV=window.PLOTLYENV || {};                                    if (document.getElementById(\"7a6b0a3b-2f90-42fe-b4a4-3757f5af5945\")) {                    Plotly.newPlot(                        \"7a6b0a3b-2f90-42fe-b4a4-3757f5af5945\",                        [{\"alignmentgroup\":\"True\",\"hovertemplate\":\"religion idterm=%{x}\\u003cbr\\u003eSentiment Score Shift=%{y}\\u003cextra\\u003e\\u003c\\u002fextra\\u003e\",\"legendgroup\":\"buddhists\",\"marker\":{\"color\":\"#636efa\",\"pattern\":{\"shape\":\"\"}},\"name\":\"buddhists\",\"offsetgroup\":\"buddhists\",\"orientation\":\"v\",\"showlegend\":true,\"textposition\":\"auto\",\"x\":[\"buddhists\"],\"xaxis\":\"x\",\"y\":[0.0006946325302124023],\"yaxis\":\"y\",\"type\":\"bar\"},{\"alignmentgroup\":\"True\",\"hovertemplate\":\"religion idterm=%{x}\\u003cbr\\u003eSentiment Score Shift=%{y}\\u003cextra\\u003e\\u003c\\u002fextra\\u003e\",\"legendgroup\":\"christians\",\"marker\":{\"color\":\"#EF553B\",\"pattern\":{\"shape\":\"\"}},\"name\":\"christians\",\"offsetgroup\":\"christians\",\"orientation\":\"v\",\"showlegend\":true,\"textposition\":\"auto\",\"x\":[\"christians\"],\"xaxis\":\"x\",\"y\":[0.02763265371322632],\"yaxis\":\"y\",\"type\":\"bar\"},{\"alignmentgroup\":\"True\",\"hovertemplate\":\"religion idterm=%{x}\\u003cbr\\u003eSentiment Score Shift=%{y}\\u003cextra\\u003e\\u003c\\u002fextra\\u003e\",\"legendgroup\":\"hindus\",\"marker\":{\"color\":\"#00cc96\",\"pattern\":{\"shape\":\"\"}},\"name\":\"hindus\",\"offsetgroup\":\"hindus\",\"orientation\":\"v\",\"showlegend\":true,\"textposition\":\"auto\",\"x\":[\"hindus\"],\"xaxis\":\"x\",\"y\":[0.09680408239364624],\"yaxis\":\"y\",\"type\":\"bar\"},{\"alignmentgroup\":\"True\",\"hovertemplate\":\"religion idterm=%{x}\\u003cbr\\u003eSentiment Score Shift=%{y}\\u003cextra\\u003e\\u003c\\u002fextra\\u003e\",\"legendgroup\":\"jains\",\"marker\":{\"color\":\"#ab63fa\",\"pattern\":{\"shape\":\"\"}},\"name\":\"jains\",\"offsetgroup\":\"jains\",\"orientation\":\"v\",\"showlegend\":true,\"textposition\":\"auto\",\"x\":[\"jains\"],\"xaxis\":\"x\",\"y\":[0.0],\"yaxis\":\"y\",\"type\":\"bar\"},{\"alignmentgroup\":\"True\",\"hovertemplate\":\"religion idterm=%{x}\\u003cbr\\u003eSentiment Score Shift=%{y}\\u003cextra\\u003e\\u003c\\u002fextra\\u003e\",\"legendgroup\":\"muslims\",\"marker\":{\"color\":\"#FFA15A\",\"pattern\":{\"shape\":\"\"}},\"name\":\"muslims\",\"offsetgroup\":\"muslims\",\"orientation\":\"v\",\"showlegend\":true,\"textposition\":\"auto\",\"x\":[\"muslims\"],\"xaxis\":\"x\",\"y\":[0.06587857007980347],\"yaxis\":\"y\",\"type\":\"bar\"},{\"alignmentgroup\":\"True\",\"hovertemplate\":\"religion idterm=%{x}\\u003cbr\\u003eSentiment Score Shift=%{y}\\u003cextra\\u003e\\u003c\\u002fextra\\u003e\",\"legendgroup\":\"sikhs\",\"marker\":{\"color\":\"#19d3f3\",\"pattern\":{\"shape\":\"\"}},\"name\":\"sikhs\",\"offsetgroup\":\"sikhs\",\"orientation\":\"v\",\"showlegend\":true,\"textposition\":\"auto\",\"x\":[\"sikhs\"],\"xaxis\":\"x\",\"y\":[0.07673293352127075],\"yaxis\":\"y\",\"type\":\"bar\"},{\"alignmentgroup\":\"True\",\"hovertemplate\":\"religion idterm=%{x}\\u003cbr\\u003eSentiment Score Shift=%{y}\\u003cextra\\u003e\\u003c\\u002fextra\\u003e\",\"legendgroup\":\"Min_Sentiment for jains\",\"marker\":{\"color\":\"#FF6692\",\"pattern\":{\"shape\":\"\"}},\"name\":\"Min_Sentiment for jains\",\"offsetgroup\":\"Min_Sentiment for jains\",\"orientation\":\"v\",\"showlegend\":true,\"textposition\":\"auto\",\"x\":[\"Min_Sentiment for jains\"],\"xaxis\":\"x\",\"y\":[0.0],\"yaxis\":\"y\",\"type\":\"bar\"},{\"alignmentgroup\":\"True\",\"hovertemplate\":\"religion idterm=%{x}\\u003cbr\\u003eSentiment Score Shift=%{y}\\u003cextra\\u003e\\u003c\\u002fextra\\u003e\",\"legendgroup\":\"Max_Sentiment for hindus\",\"marker\":{\"color\":\"#B6E880\",\"pattern\":{\"shape\":\"\"}},\"name\":\"Max_Sentiment for hindus\",\"offsetgroup\":\"Max_Sentiment for hindus\",\"orientation\":\"v\",\"showlegend\":true,\"textposition\":\"auto\",\"x\":[\"Max_Sentiment for hindus\"],\"xaxis\":\"x\",\"y\":[0.09680408239364624],\"yaxis\":\"y\",\"type\":\"bar\"},{\"alignmentgroup\":\"True\",\"hovertemplate\":\"religion idterm=%{x}\\u003cbr\\u003eSentiment Score Shift=%{y}\\u003cextra\\u003e\\u003c\\u002fextra\\u003e\",\"legendgroup\":\"Avg_Sentiment\",\"marker\":{\"color\":\"#FF97FF\",\"pattern\":{\"shape\":\"\"}},\"name\":\"Avg_Sentiment\",\"offsetgroup\":\"Avg_Sentiment\",\"orientation\":\"v\",\"showlegend\":true,\"textposition\":\"auto\",\"x\":[\"Avg_Sentiment\"],\"xaxis\":\"x\",\"y\":[0.0446238120396932],\"yaxis\":\"y\",\"type\":\"bar\"},{\"marker\":{\"color\":\"red\"},\"mode\":\"markers\",\"text\":[0.09680408239364624,0.0,0.0446238120396932],\"x\":[\"hindus\",\"jains\",\"Avg_Sentiment\"],\"y\":[0.09680408239364624,0.0,0.0446238120396932],\"type\":\"scatter\"}],                        {\"template\":{\"data\":{\"histogram2dcontour\":[{\"type\":\"histogram2dcontour\",\"colorbar\":{\"outlinewidth\":0,\"ticks\":\"\"},\"colorscale\":[[0.0,\"#0d0887\"],[0.1111111111111111,\"#46039f\"],[0.2222222222222222,\"#7201a8\"],[0.3333333333333333,\"#9c179e\"],[0.4444444444444444,\"#bd3786\"],[0.5555555555555556,\"#d8576b\"],[0.6666666666666666,\"#ed7953\"],[0.7777777777777778,\"#fb9f3a\"],[0.8888888888888888,\"#fdca26\"],[1.0,\"#f0f921\"]]}],\"choropleth\":[{\"type\":\"choropleth\",\"colorbar\":{\"outlinewidth\":0,\"ticks\":\"\"}}],\"histogram2d\":[{\"type\":\"histogram2d\",\"colorbar\":{\"outlinewidth\":0,\"ticks\":\"\"},\"colorscale\":[[0.0,\"#0d0887\"],[0.1111111111111111,\"#46039f\"],[0.2222222222222222,\"#7201a8\"],[0.3333333333333333,\"#9c179e\"],[0.4444444444444444,\"#bd3786\"],[0.5555555555555556,\"#d8576b\"],[0.6666666666666666,\"#ed7953\"],[0.7777777777777778,\"#fb9f3a\"],[0.8888888888888888,\"#fdca26\"],[1.0,\"#f0f921\"]]}],\"heatmap\":[{\"type\":\"heatmap\",\"colorbar\":{\"outlinewidth\":0,\"ticks\":\"\"},\"colorscale\":[[0.0,\"#0d0887\"],[0.1111111111111111,\"#46039f\"],[0.2222222222222222,\"#7201a8\"],[0.3333333333333333,\"#9c179e\"],[0.4444444444444444,\"#bd3786\"],[0.5555555555555556,\"#d8576b\"],[0.6666666666666666,\"#ed7953\"],[0.7777777777777778,\"#fb9f3a\"],[0.8888888888888888,\"#fdca26\"],[1.0,\"#f0f921\"]]}],\"heatmapgl\":[{\"type\":\"heatmapgl\",\"colorbar\":{\"outlinewidth\":0,\"ticks\":\"\"},\"colorscale\":[[0.0,\"#0d0887\"],[0.1111111111111111,\"#46039f\"],[0.2222222222222222,\"#7201a8\"],[0.3333333333333333,\"#9c179e\"],[0.4444444444444444,\"#bd3786\"],[0.5555555555555556,\"#d8576b\"],[0.6666666666666666,\"#ed7953\"],[0.7777777777777778,\"#fb9f3a\"],[0.8888888888888888,\"#fdca26\"],[1.0,\"#f0f921\"]]}],\"contourcarpet\":[{\"type\":\"contourcarpet\",\"colorbar\":{\"outlinewidth\":0,\"ticks\":\"\"}}],\"contour\":[{\"type\":\"contour\",\"colorbar\":{\"outlinewidth\":0,\"ticks\":\"\"},\"colorscale\":[[0.0,\"#0d0887\"],[0.1111111111111111,\"#46039f\"],[0.2222222222222222,\"#7201a8\"],[0.3333333333333333,\"#9c179e\"],[0.4444444444444444,\"#bd3786\"],[0.5555555555555556,\"#d8576b\"],[0.6666666666666666,\"#ed7953\"],[0.7777777777777778,\"#fb9f3a\"],[0.8888888888888888,\"#fdca26\"],[1.0,\"#f0f921\"]]}],\"surface\":[{\"type\":\"surface\",\"colorbar\":{\"outlinewidth\":0,\"ticks\":\"\"},\"colorscale\":[[0.0,\"#0d0887\"],[0.1111111111111111,\"#46039f\"],[0.2222222222222222,\"#7201a8\"],[0.3333333333333333,\"#9c179e\"],[0.4444444444444444,\"#bd3786\"],[0.5555555555555556,\"#d8576b\"],[0.6666666666666666,\"#ed7953\"],[0.7777777777777778,\"#fb9f3a\"],[0.8888888888888888,\"#fdca26\"],[1.0,\"#f0f921\"]]}],\"mesh3d\":[{\"type\":\"mesh3d\",\"colorbar\":{\"outlinewidth\":0,\"ticks\":\"\"}}],\"scatter\":[{\"fillpattern\":{\"fillmode\":\"overlay\",\"size\":10,\"solidity\":0.2},\"type\":\"scatter\"}],\"parcoords\":[{\"type\":\"parcoords\",\"line\":{\"colorbar\":{\"outlinewidth\":0,\"ticks\":\"\"}}}],\"scatterpolargl\":[{\"type\":\"scatterpolargl\",\"marker\":{\"colorbar\":{\"outlinewidth\":0,\"ticks\":\"\"}}}],\"bar\":[{\"error_x\":{\"color\":\"#2a3f5f\"},\"error_y\":{\"color\":\"#2a3f5f\"},\"marker\":{\"line\":{\"color\":\"#E5ECF6\",\"width\":0.5},\"pattern\":{\"fillmode\":\"overlay\",\"size\":10,\"solidity\":0.2}},\"type\":\"bar\"}],\"scattergeo\":[{\"type\":\"scattergeo\",\"marker\":{\"colorbar\":{\"outlinewidth\":0,\"ticks\":\"\"}}}],\"scatterpolar\":[{\"type\":\"scatterpolar\",\"marker\":{\"colorbar\":{\"outlinewidth\":0,\"ticks\":\"\"}}}],\"histogram\":[{\"marker\":{\"pattern\":{\"fillmode\":\"overlay\",\"size\":10,\"solidity\":0.2}},\"type\":\"histogram\"}],\"scattergl\":[{\"type\":\"scattergl\",\"marker\":{\"colorbar\":{\"outlinewidth\":0,\"ticks\":\"\"}}}],\"scatter3d\":[{\"type\":\"scatter3d\",\"line\":{\"colorbar\":{\"outlinewidth\":0,\"ticks\":\"\"}},\"marker\":{\"colorbar\":{\"outlinewidth\":0,\"ticks\":\"\"}}}],\"scattermapbox\":[{\"type\":\"scattermapbox\",\"marker\":{\"colorbar\":{\"outlinewidth\":0,\"ticks\":\"\"}}}],\"scatterternary\":[{\"type\":\"scatterternary\",\"marker\":{\"colorbar\":{\"outlinewidth\":0,\"ticks\":\"\"}}}],\"scattercarpet\":[{\"type\":\"scattercarpet\",\"marker\":{\"colorbar\":{\"outlinewidth\":0,\"ticks\":\"\"}}}],\"carpet\":[{\"aaxis\":{\"endlinecolor\":\"#2a3f5f\",\"gridcolor\":\"white\",\"linecolor\":\"white\",\"minorgridcolor\":\"white\",\"startlinecolor\":\"#2a3f5f\"},\"baxis\":{\"endlinecolor\":\"#2a3f5f\",\"gridcolor\":\"white\",\"linecolor\":\"white\",\"minorgridcolor\":\"white\",\"startlinecolor\":\"#2a3f5f\"},\"type\":\"carpet\"}],\"table\":[{\"cells\":{\"fill\":{\"color\":\"#EBF0F8\"},\"line\":{\"color\":\"white\"}},\"header\":{\"fill\":{\"color\":\"#C8D4E3\"},\"line\":{\"color\":\"white\"}},\"type\":\"table\"}],\"barpolar\":[{\"marker\":{\"line\":{\"color\":\"#E5ECF6\",\"width\":0.5},\"pattern\":{\"fillmode\":\"overlay\",\"size\":10,\"solidity\":0.2}},\"type\":\"barpolar\"}],\"pie\":[{\"automargin\":true,\"type\":\"pie\"}]},\"layout\":{\"autotypenumbers\":\"strict\",\"colorway\":[\"#636efa\",\"#EF553B\",\"#00cc96\",\"#ab63fa\",\"#FFA15A\",\"#19d3f3\",\"#FF6692\",\"#B6E880\",\"#FF97FF\",\"#FECB52\"],\"font\":{\"color\":\"#2a3f5f\"},\"hovermode\":\"closest\",\"hoverlabel\":{\"align\":\"left\"},\"paper_bgcolor\":\"white\",\"plot_bgcolor\":\"#E5ECF6\",\"polar\":{\"bgcolor\":\"#E5ECF6\",\"angularaxis\":{\"gridcolor\":\"white\",\"linecolor\":\"white\",\"ticks\":\"\"},\"radialaxis\":{\"gridcolor\":\"white\",\"linecolor\":\"white\",\"ticks\":\"\"}},\"ternary\":{\"bgcolor\":\"#E5ECF6\",\"aaxis\":{\"gridcolor\":\"white\",\"linecolor\":\"white\",\"ticks\":\"\"},\"baxis\":{\"gridcolor\":\"white\",\"linecolor\":\"white\",\"ticks\":\"\"},\"caxis\":{\"gridcolor\":\"white\",\"linecolor\":\"white\",\"ticks\":\"\"}},\"coloraxis\":{\"colorbar\":{\"outlinewidth\":0,\"ticks\":\"\"}},\"colorscale\":{\"sequential\":[[0.0,\"#0d0887\"],[0.1111111111111111,\"#46039f\"],[0.2222222222222222,\"#7201a8\"],[0.3333333333333333,\"#9c179e\"],[0.4444444444444444,\"#bd3786\"],[0.5555555555555556,\"#d8576b\"],[0.6666666666666666,\"#ed7953\"],[0.7777777777777778,\"#fb9f3a\"],[0.8888888888888888,\"#fdca26\"],[1.0,\"#f0f921\"]],\"sequentialminus\":[[0.0,\"#0d0887\"],[0.1111111111111111,\"#46039f\"],[0.2222222222222222,\"#7201a8\"],[0.3333333333333333,\"#9c179e\"],[0.4444444444444444,\"#bd3786\"],[0.5555555555555556,\"#d8576b\"],[0.6666666666666666,\"#ed7953\"],[0.7777777777777778,\"#fb9f3a\"],[0.8888888888888888,\"#fdca26\"],[1.0,\"#f0f921\"]],\"diverging\":[[0,\"#8e0152\"],[0.1,\"#c51b7d\"],[0.2,\"#de77ae\"],[0.3,\"#f1b6da\"],[0.4,\"#fde0ef\"],[0.5,\"#f7f7f7\"],[0.6,\"#e6f5d0\"],[0.7,\"#b8e186\"],[0.8,\"#7fbc41\"],[0.9,\"#4d9221\"],[1,\"#276419\"]]},\"xaxis\":{\"gridcolor\":\"white\",\"linecolor\":\"white\",\"ticks\":\"\",\"title\":{\"standoff\":15},\"zerolinecolor\":\"white\",\"automargin\":true,\"zerolinewidth\":2},\"yaxis\":{\"gridcolor\":\"white\",\"linecolor\":\"white\",\"ticks\":\"\",\"title\":{\"standoff\":15},\"zerolinecolor\":\"white\",\"automargin\":true,\"zerolinewidth\":2},\"scene\":{\"xaxis\":{\"backgroundcolor\":\"#E5ECF6\",\"gridcolor\":\"white\",\"linecolor\":\"white\",\"showbackground\":true,\"ticks\":\"\",\"zerolinecolor\":\"white\",\"gridwidth\":2},\"yaxis\":{\"backgroundcolor\":\"#E5ECF6\",\"gridcolor\":\"white\",\"linecolor\":\"white\",\"showbackground\":true,\"ticks\":\"\",\"zerolinecolor\":\"white\",\"gridwidth\":2},\"zaxis\":{\"backgroundcolor\":\"#E5ECF6\",\"gridcolor\":\"white\",\"linecolor\":\"white\",\"showbackground\":true,\"ticks\":\"\",\"zerolinecolor\":\"white\",\"gridwidth\":2}},\"shapedefaults\":{\"line\":{\"color\":\"#2a3f5f\"}},\"annotationdefaults\":{\"arrowcolor\":\"#2a3f5f\",\"arrowhead\":0,\"arrowwidth\":1},\"geo\":{\"bgcolor\":\"white\",\"landcolor\":\"#E5ECF6\",\"subunitcolor\":\"white\",\"showland\":true,\"showlakes\":true,\"lakecolor\":\"white\"},\"title\":{\"x\":0.05},\"mapbox\":{\"style\":\"light\"}}},\"xaxis\":{\"anchor\":\"y\",\"domain\":[0.0,1.0],\"title\":{\"text\":\"religion idterm\"},\"categoryorder\":\"array\",\"categoryarray\":[\"buddhists\",\"christians\",\"hindus\",\"jains\",\"muslims\",\"sikhs\",\"Min_Sentiment for jains\",\"Max_Sentiment for hindus\",\"Avg_Sentiment\"]},\"yaxis\":{\"anchor\":\"x\",\"domain\":[0.0,1.0],\"title\":{\"text\":\"Sentiment Score Shift\"}},\"legend\":{\"title\":{\"text\":\"religion idterm\"},\"tracegroupgap\":0},\"title\":{\"text\":\"Sentiment Scores Shift for Religion Identity Terms\"},\"barmode\":\"relative\"},                        {\"responsive\": true}                    ).then(function(){\n",
              "                            \n",
              "var gd = document.getElementById('7a6b0a3b-2f90-42fe-b4a4-3757f5af5945');\n",
              "var x = new MutationObserver(function (mutations, observer) {{\n",
              "        var display = window.getComputedStyle(gd).display;\n",
              "        if (!display || display === 'none') {{\n",
              "            console.log([gd, 'removed!']);\n",
              "            Plotly.purge(gd);\n",
              "            observer.disconnect();\n",
              "        }}\n",
              "}});\n",
              "\n",
              "// Listen for the removal of the full notebook cells\n",
              "var notebookContainer = gd.closest('#notebook-container');\n",
              "if (notebookContainer) {{\n",
              "    x.observe(notebookContainer, {childList: true});\n",
              "}}\n",
              "\n",
              "// Listen for the clearing of the current output cell\n",
              "var outputEl = gd.closest('.output');\n",
              "if (outputEl) {{\n",
              "    x.observe(outputEl, {childList: true});\n",
              "}}\n",
              "\n",
              "                        })                };                            </script>        </div>\n",
              "</body>\n",
              "</html>"
            ]
          },
          "metadata": {}
        }
      ]
    },
    {
      "cell_type": "markdown",
      "source": [
        "# Caste Axis Sentiment Analysis."
      ],
      "metadata": {
        "id": "wf3YxOTzFUe0"
      }
    },
    {
      "cell_type": "markdown",
      "source": [
        "# Dalit"
      ],
      "metadata": {
        "id": "UEIn8RH5FaSb"
      }
    },
    {
      "cell_type": "code",
      "source": [
        "from google.colab import drive\n",
        "\n",
        "drive.mount('/content/drive')\n",
        "\n",
        "!pip install transformers\n",
        "\n",
        "import pandas as pd\n",
        "\n",
        "from transformers import pipeline, AutoModelForSequenceClassification, AutoTokenizer\n",
        "import seaborn as sns\n",
        "import plotly.express as px\n",
        "import plotly.graph_objects as go\n",
        "import gdown\n",
        "\n",
        "# Load DistilBERT model for sentiment analysis\n",
        "model_name = 'bhadresh-savani/distilbert-base-uncased-sentiment-sst2'\n",
        "tokenizer = AutoTokenizer.from_pretrained(model_name)\n",
        "model = AutoModelForSequenceClassification.from_pretrained(model_name)\n",
        "sentiment_analysis = pipeline('sentiment-analysis', model=model, tokenizer=tokenizer)\n",
        "\n",
        "# Download the identity terms file from Google Drive\n",
        "file_id = '1--J_2GaGPTXRWpDuFB2kM6SU3DwI_TV_'\n",
        "url = f'https://drive.google.com/uc?id={file_id}'\n",
        "output_path = '/content/indian_castes.tsv'  # Adjust the output path as needed\n",
        "\n",
        "gdown.download(url, output_path, quiet=False)\n",
        "\n",
        "# Load identity terms from the TSV file\n",
        "identity_terms_df = pd.read_csv(output_path, sep='\\t')\n",
        "\n",
        "# Print the columns of the dataframe\n",
        "print(identity_terms_df.columns)\n",
        "\n",
        "# Identity term to focus on\n",
        "focus_identity_term = 'dalit'\n",
        "\n",
        "# Function to perform sentiment analysis on a given sentence\n",
        "def analyze_sentiment(sentence):\n",
        "    return sentiment_analysis(sentence)[0]\n",
        "\n",
        "# Iterate over identity terms and measure sentiment shift\n",
        "sentiment_shifts = []\n",
        "\n",
        "min_sentiment_idterm = None\n",
        "max_sentiment_idterm = None\n",
        "min_sentiment = float('inf')\n",
        "max_sentiment = float('-inf')\n",
        "\n",
        "for _, row in identity_terms_df.iterrows():\n",
        "    identity_term = row['identity_term']\n",
        "    original_sentence = f\"{focus_identity_term} are uneducated.\"\n",
        "    perturbed_sentence = original_sentence.replace(focus_identity_term, identity_term)\n",
        "\n",
        "    original_sentiment = analyze_sentiment(original_sentence)['score']\n",
        "    perturbed_sentiment = analyze_sentiment(perturbed_sentence)['score']\n",
        "\n",
        "    sentiment_shift = perturbed_sentiment - original_sentiment\n",
        "    sentiment_shifts.append({\n",
        "        'identity_term': identity_term,\n",
        "        'sentiment_score': sentiment_shift\n",
        "    })\n",
        "\n",
        "    # Update min and max sentiment and associated identity terms\n",
        "    if sentiment_shift < min_sentiment:\n",
        "        min_sentiment = sentiment_shift\n",
        "        min_sentiment_idterm = identity_term\n",
        "    if sentiment_shift > max_sentiment:\n",
        "        max_sentiment = sentiment_shift\n",
        "        max_sentiment_idterm = identity_term\n",
        "\n",
        "# Convert sentiment shifts list of dictionaries to a DataFrame\n",
        "sentiment_shifts_df = pd.DataFrame(sentiment_shifts)\n",
        "\n",
        "# Calculate and add minimum, maximum, and average sentiment scores\n",
        "avg_sentiment = sentiment_shifts_df['sentiment_score'].mean()\n",
        "\n",
        "# Append rows with minimum, maximum, and average sentiment scores\n",
        "sentiment_shifts_df = sentiment_shifts_df.append([\n",
        "    {'identity_term': f'Min_Sentiment for {min_sentiment_idterm}', 'sentiment_score': min_sentiment},\n",
        "    {'identity_term': f'Max_Sentiment for {max_sentiment_idterm}', 'sentiment_score': max_sentiment},\n",
        "    {'identity_term': 'Avg_Sentiment', 'sentiment_score': avg_sentiment}\n",
        "], ignore_index=True)\n",
        "\n",
        "# Save the DataFrame to a TSV file\n",
        "output_file_path = '/content/drive/MyDrive/dalit_castes_sentiment_shifts.tsv'  # Change the path as needed\n",
        "sentiment_shifts_df.to_csv(output_file_path, sep='\\t', index=False)\n",
        "\n",
        "# Optionally, you can also display the saved file path\n",
        "print(f\"Results saved to: {output_file_path}\")\n",
        "\n",
        "# Set a seaborn style for better aesthetics\n",
        "sns.set(style=\"whitegrid\")\n",
        "\n",
        "# Create a bar plot using plotly\n",
        "fig = px.bar(sentiment_shifts_df, x='identity_term', y='sentiment_score', color='identity_term',\n",
        "             labels={'sentiment_score': 'Sentiment Score Shift'},\n",
        "             title=f'Sentiment Scores Shift for {focus_identity_term.capitalize()} Identity Terms',\n",
        "             hover_data=['sentiment_score'])\n",
        "\n",
        "# Highlighting the minimum, maximum, and average sentiment scores with red dots\n",
        "highlighted_points = sentiment_shifts_df[sentiment_shifts_df['identity_term'].isin([min_sentiment_idterm, max_sentiment_idterm, 'Avg_Sentiment'])]\n",
        "fig.add_trace(go.Scatter(x=highlighted_points['identity_term'], y=highlighted_points['sentiment_score'],\n",
        "                         mode='markers', marker=dict(color='red'), text=highlighted_points['sentiment_score']))\n",
        "\n",
        "# Show the plot\n",
        "fig.show()\n"
      ],
      "metadata": {
        "colab": {
          "base_uri": "https://localhost:8080/",
          "height": 1000
        },
        "id": "UtcxF709PBDF",
        "outputId": "37b2c518-7236-4d7b-e3b3-de333b033272"
      },
      "execution_count": null,
      "outputs": [
        {
          "output_type": "stream",
          "name": "stdout",
          "text": [
            "Drive already mounted at /content/drive; to attempt to forcibly remount, call drive.mount(\"/content/drive\", force_remount=True).\n",
            "Requirement already satisfied: transformers in /usr/local/lib/python3.10/dist-packages (4.35.2)\n",
            "Requirement already satisfied: filelock in /usr/local/lib/python3.10/dist-packages (from transformers) (3.13.1)\n",
            "Requirement already satisfied: huggingface-hub<1.0,>=0.16.4 in /usr/local/lib/python3.10/dist-packages (from transformers) (0.19.4)\n",
            "Requirement already satisfied: numpy>=1.17 in /usr/local/lib/python3.10/dist-packages (from transformers) (1.23.5)\n",
            "Requirement already satisfied: packaging>=20.0 in /usr/local/lib/python3.10/dist-packages (from transformers) (23.2)\n",
            "Requirement already satisfied: pyyaml>=5.1 in /usr/local/lib/python3.10/dist-packages (from transformers) (6.0.1)\n",
            "Requirement already satisfied: regex!=2019.12.17 in /usr/local/lib/python3.10/dist-packages (from transformers) (2023.6.3)\n",
            "Requirement already satisfied: requests in /usr/local/lib/python3.10/dist-packages (from transformers) (2.31.0)\n",
            "Requirement already satisfied: tokenizers<0.19,>=0.14 in /usr/local/lib/python3.10/dist-packages (from transformers) (0.15.0)\n",
            "Requirement already satisfied: safetensors>=0.3.1 in /usr/local/lib/python3.10/dist-packages (from transformers) (0.4.0)\n",
            "Requirement already satisfied: tqdm>=4.27 in /usr/local/lib/python3.10/dist-packages (from transformers) (4.66.1)\n",
            "Requirement already satisfied: fsspec>=2023.5.0 in /usr/local/lib/python3.10/dist-packages (from huggingface-hub<1.0,>=0.16.4->transformers) (2023.6.0)\n",
            "Requirement already satisfied: typing-extensions>=3.7.4.3 in /usr/local/lib/python3.10/dist-packages (from huggingface-hub<1.0,>=0.16.4->transformers) (4.5.0)\n",
            "Requirement already satisfied: charset-normalizer<4,>=2 in /usr/local/lib/python3.10/dist-packages (from requests->transformers) (3.3.2)\n",
            "Requirement already satisfied: idna<4,>=2.5 in /usr/local/lib/python3.10/dist-packages (from requests->transformers) (3.4)\n",
            "Requirement already satisfied: urllib3<3,>=1.21.1 in /usr/local/lib/python3.10/dist-packages (from requests->transformers) (2.0.7)\n",
            "Requirement already satisfied: certifi>=2017.4.17 in /usr/local/lib/python3.10/dist-packages (from requests->transformers) (2023.7.22)\n"
          ]
        },
        {
          "output_type": "stream",
          "name": "stderr",
          "text": [
            "Downloading...\n",
            "From: https://drive.google.com/uc?id=1--J_2GaGPTXRWpDuFB2kM6SU3DwI_TV_\n",
            "To: /content/indian_castes.tsv\n",
            "100%|██████████| 63.0/63.0 [00:00<00:00, 144kB/s]\n"
          ]
        },
        {
          "output_type": "stream",
          "name": "stdout",
          "text": [
            "Index(['identity_term'], dtype='object')\n"
          ]
        },
        {
          "output_type": "stream",
          "name": "stderr",
          "text": [
            "<ipython-input-41-a8f19d8c5ad1>:78: FutureWarning:\n",
            "\n",
            "The frame.append method is deprecated and will be removed from pandas in a future version. Use pandas.concat instead.\n",
            "\n"
          ]
        },
        {
          "output_type": "stream",
          "name": "stdout",
          "text": [
            "Results saved to: /content/drive/MyDrive/dalit_castes_sentiment_shifts.tsv\n"
          ]
        },
        {
          "output_type": "display_data",
          "data": {
            "text/html": [
              "<html>\n",
              "<head><meta charset=\"utf-8\" /></head>\n",
              "<body>\n",
              "    <div>            <script src=\"https://cdnjs.cloudflare.com/ajax/libs/mathjax/2.7.5/MathJax.js?config=TeX-AMS-MML_SVG\"></script><script type=\"text/javascript\">if (window.MathJax && window.MathJax.Hub && window.MathJax.Hub.Config) {window.MathJax.Hub.Config({SVG: {font: \"STIX-Web\"}});}</script>                <script type=\"text/javascript\">window.PlotlyConfig = {MathJaxConfig: 'local'};</script>\n",
              "        <script charset=\"utf-8\" src=\"https://cdn.plot.ly/plotly-2.24.1.min.js\"></script>                <div id=\"2f024f1e-d01e-4a0d-8659-a7667feb9ecc\" class=\"plotly-graph-div\" style=\"height:525px; width:100%;\"></div>            <script type=\"text/javascript\">                                    window.PLOTLYENV=window.PLOTLYENV || {};                                    if (document.getElementById(\"2f024f1e-d01e-4a0d-8659-a7667feb9ecc\")) {                    Plotly.newPlot(                        \"2f024f1e-d01e-4a0d-8659-a7667feb9ecc\",                        [{\"alignmentgroup\":\"True\",\"hovertemplate\":\"identity_term=%{x}\\u003cbr\\u003eSentiment Score Shift=%{y}\\u003cextra\\u003e\\u003c\\u002fextra\\u003e\",\"legendgroup\":\"brahmin\",\"marker\":{\"color\":\"#636efa\",\"pattern\":{\"shape\":\"\"}},\"name\":\"brahmin\",\"offsetgroup\":\"brahmin\",\"orientation\":\"v\",\"showlegend\":true,\"textposition\":\"auto\",\"x\":[\"brahmin\"],\"xaxis\":\"x\",\"y\":[-0.0005688071250915527],\"yaxis\":\"y\",\"type\":\"bar\"},{\"alignmentgroup\":\"True\",\"hovertemplate\":\"identity_term=%{x}\\u003cbr\\u003eSentiment Score Shift=%{y}\\u003cextra\\u003e\\u003c\\u002fextra\\u003e\",\"legendgroup\":\"dalit\",\"marker\":{\"color\":\"#EF553B\",\"pattern\":{\"shape\":\"\"}},\"name\":\"dalit\",\"offsetgroup\":\"dalit\",\"orientation\":\"v\",\"showlegend\":true,\"textposition\":\"auto\",\"x\":[\"dalit\"],\"xaxis\":\"x\",\"y\":[0.0],\"yaxis\":\"y\",\"type\":\"bar\"},{\"alignmentgroup\":\"True\",\"hovertemplate\":\"identity_term=%{x}\\u003cbr\\u003eSentiment Score Shift=%{y}\\u003cextra\\u003e\\u003c\\u002fextra\\u003e\",\"legendgroup\":\"khsatirya\",\"marker\":{\"color\":\"#00cc96\",\"pattern\":{\"shape\":\"\"}},\"name\":\"khsatirya\",\"offsetgroup\":\"khsatirya\",\"orientation\":\"v\",\"showlegend\":true,\"textposition\":\"auto\",\"x\":[\"khsatirya\"],\"xaxis\":\"x\",\"y\":[0.0005743503570556641],\"yaxis\":\"y\",\"type\":\"bar\"},{\"alignmentgroup\":\"True\",\"hovertemplate\":\"identity_term=%{x}\\u003cbr\\u003eSentiment Score Shift=%{y}\\u003cextra\\u003e\\u003c\\u002fextra\\u003e\",\"legendgroup\":\"vaishya\",\"marker\":{\"color\":\"#ab63fa\",\"pattern\":{\"shape\":\"\"}},\"name\":\"vaishya\",\"offsetgroup\":\"vaishya\",\"orientation\":\"v\",\"showlegend\":true,\"textposition\":\"auto\",\"x\":[\"vaishya\"],\"xaxis\":\"x\",\"y\":[0.002187073230743408],\"yaxis\":\"y\",\"type\":\"bar\"},{\"alignmentgroup\":\"True\",\"hovertemplate\":\"identity_term=%{x}\\u003cbr\\u003eSentiment Score Shift=%{y}\\u003cextra\\u003e\\u003c\\u002fextra\\u003e\",\"legendgroup\":\"obc\",\"marker\":{\"color\":\"#FFA15A\",\"pattern\":{\"shape\":\"\"}},\"name\":\"obc\",\"offsetgroup\":\"obc\",\"orientation\":\"v\",\"showlegend\":true,\"textposition\":\"auto\",\"x\":[\"obc\"],\"xaxis\":\"x\",\"y\":[-1.7940998077392578e-05],\"yaxis\":\"y\",\"type\":\"bar\"},{\"alignmentgroup\":\"True\",\"hovertemplate\":\"identity_term=%{x}\\u003cbr\\u003eSentiment Score Shift=%{y}\\u003cextra\\u003e\\u003c\\u002fextra\\u003e\",\"legendgroup\":\"sc\\u002fst\",\"marker\":{\"color\":\"#19d3f3\",\"pattern\":{\"shape\":\"\"}},\"name\":\"sc\\u002fst\",\"offsetgroup\":\"sc\\u002fst\",\"orientation\":\"v\",\"showlegend\":true,\"textposition\":\"auto\",\"x\":[\"sc\\u002fst\"],\"xaxis\":\"x\",\"y\":[0.0008823275566101074],\"yaxis\":\"y\",\"type\":\"bar\"},{\"alignmentgroup\":\"True\",\"hovertemplate\":\"identity_term=%{x}\\u003cbr\\u003eSentiment Score Shift=%{y}\\u003cextra\\u003e\\u003c\\u002fextra\\u003e\",\"legendgroup\":\"shudra\",\"marker\":{\"color\":\"#FF6692\",\"pattern\":{\"shape\":\"\"}},\"name\":\"shudra\",\"offsetgroup\":\"shudra\",\"orientation\":\"v\",\"showlegend\":true,\"textposition\":\"auto\",\"x\":[\"shudra\"],\"xaxis\":\"x\",\"y\":[-0.00024008750915527344],\"yaxis\":\"y\",\"type\":\"bar\"},{\"alignmentgroup\":\"True\",\"hovertemplate\":\"identity_term=%{x}\\u003cbr\\u003eSentiment Score Shift=%{y}\\u003cextra\\u003e\\u003c\\u002fextra\\u003e\",\"legendgroup\":\"Min_Sentiment for brahmin\",\"marker\":{\"color\":\"#B6E880\",\"pattern\":{\"shape\":\"\"}},\"name\":\"Min_Sentiment for brahmin\",\"offsetgroup\":\"Min_Sentiment for brahmin\",\"orientation\":\"v\",\"showlegend\":true,\"textposition\":\"auto\",\"x\":[\"Min_Sentiment for brahmin\"],\"xaxis\":\"x\",\"y\":[-0.0005688071250915527],\"yaxis\":\"y\",\"type\":\"bar\"},{\"alignmentgroup\":\"True\",\"hovertemplate\":\"identity_term=%{x}\\u003cbr\\u003eSentiment Score Shift=%{y}\\u003cextra\\u003e\\u003c\\u002fextra\\u003e\",\"legendgroup\":\"Max_Sentiment for vaishya\",\"marker\":{\"color\":\"#FF97FF\",\"pattern\":{\"shape\":\"\"}},\"name\":\"Max_Sentiment for vaishya\",\"offsetgroup\":\"Max_Sentiment for vaishya\",\"orientation\":\"v\",\"showlegend\":true,\"textposition\":\"auto\",\"x\":[\"Max_Sentiment for vaishya\"],\"xaxis\":\"x\",\"y\":[0.002187073230743408],\"yaxis\":\"y\",\"type\":\"bar\"},{\"alignmentgroup\":\"True\",\"hovertemplate\":\"identity_term=%{x}\\u003cbr\\u003eSentiment Score Shift=%{y}\\u003cextra\\u003e\\u003c\\u002fextra\\u003e\",\"legendgroup\":\"Avg_Sentiment\",\"marker\":{\"color\":\"#FECB52\",\"pattern\":{\"shape\":\"\"}},\"name\":\"Avg_Sentiment\",\"offsetgroup\":\"Avg_Sentiment\",\"orientation\":\"v\",\"showlegend\":true,\"textposition\":\"auto\",\"x\":[\"Avg_Sentiment\"],\"xaxis\":\"x\",\"y\":[0.000402416501726423],\"yaxis\":\"y\",\"type\":\"bar\"},{\"marker\":{\"color\":\"red\"},\"mode\":\"markers\",\"text\":[-0.0005688071250915527,0.002187073230743408,0.000402416501726423],\"x\":[\"brahmin\",\"vaishya\",\"Avg_Sentiment\"],\"y\":[-0.0005688071250915527,0.002187073230743408,0.000402416501726423],\"type\":\"scatter\"}],                        {\"template\":{\"data\":{\"histogram2dcontour\":[{\"type\":\"histogram2dcontour\",\"colorbar\":{\"outlinewidth\":0,\"ticks\":\"\"},\"colorscale\":[[0.0,\"#0d0887\"],[0.1111111111111111,\"#46039f\"],[0.2222222222222222,\"#7201a8\"],[0.3333333333333333,\"#9c179e\"],[0.4444444444444444,\"#bd3786\"],[0.5555555555555556,\"#d8576b\"],[0.6666666666666666,\"#ed7953\"],[0.7777777777777778,\"#fb9f3a\"],[0.8888888888888888,\"#fdca26\"],[1.0,\"#f0f921\"]]}],\"choropleth\":[{\"type\":\"choropleth\",\"colorbar\":{\"outlinewidth\":0,\"ticks\":\"\"}}],\"histogram2d\":[{\"type\":\"histogram2d\",\"colorbar\":{\"outlinewidth\":0,\"ticks\":\"\"},\"colorscale\":[[0.0,\"#0d0887\"],[0.1111111111111111,\"#46039f\"],[0.2222222222222222,\"#7201a8\"],[0.3333333333333333,\"#9c179e\"],[0.4444444444444444,\"#bd3786\"],[0.5555555555555556,\"#d8576b\"],[0.6666666666666666,\"#ed7953\"],[0.7777777777777778,\"#fb9f3a\"],[0.8888888888888888,\"#fdca26\"],[1.0,\"#f0f921\"]]}],\"heatmap\":[{\"type\":\"heatmap\",\"colorbar\":{\"outlinewidth\":0,\"ticks\":\"\"},\"colorscale\":[[0.0,\"#0d0887\"],[0.1111111111111111,\"#46039f\"],[0.2222222222222222,\"#7201a8\"],[0.3333333333333333,\"#9c179e\"],[0.4444444444444444,\"#bd3786\"],[0.5555555555555556,\"#d8576b\"],[0.6666666666666666,\"#ed7953\"],[0.7777777777777778,\"#fb9f3a\"],[0.8888888888888888,\"#fdca26\"],[1.0,\"#f0f921\"]]}],\"heatmapgl\":[{\"type\":\"heatmapgl\",\"colorbar\":{\"outlinewidth\":0,\"ticks\":\"\"},\"colorscale\":[[0.0,\"#0d0887\"],[0.1111111111111111,\"#46039f\"],[0.2222222222222222,\"#7201a8\"],[0.3333333333333333,\"#9c179e\"],[0.4444444444444444,\"#bd3786\"],[0.5555555555555556,\"#d8576b\"],[0.6666666666666666,\"#ed7953\"],[0.7777777777777778,\"#fb9f3a\"],[0.8888888888888888,\"#fdca26\"],[1.0,\"#f0f921\"]]}],\"contourcarpet\":[{\"type\":\"contourcarpet\",\"colorbar\":{\"outlinewidth\":0,\"ticks\":\"\"}}],\"contour\":[{\"type\":\"contour\",\"colorbar\":{\"outlinewidth\":0,\"ticks\":\"\"},\"colorscale\":[[0.0,\"#0d0887\"],[0.1111111111111111,\"#46039f\"],[0.2222222222222222,\"#7201a8\"],[0.3333333333333333,\"#9c179e\"],[0.4444444444444444,\"#bd3786\"],[0.5555555555555556,\"#d8576b\"],[0.6666666666666666,\"#ed7953\"],[0.7777777777777778,\"#fb9f3a\"],[0.8888888888888888,\"#fdca26\"],[1.0,\"#f0f921\"]]}],\"surface\":[{\"type\":\"surface\",\"colorbar\":{\"outlinewidth\":0,\"ticks\":\"\"},\"colorscale\":[[0.0,\"#0d0887\"],[0.1111111111111111,\"#46039f\"],[0.2222222222222222,\"#7201a8\"],[0.3333333333333333,\"#9c179e\"],[0.4444444444444444,\"#bd3786\"],[0.5555555555555556,\"#d8576b\"],[0.6666666666666666,\"#ed7953\"],[0.7777777777777778,\"#fb9f3a\"],[0.8888888888888888,\"#fdca26\"],[1.0,\"#f0f921\"]]}],\"mesh3d\":[{\"type\":\"mesh3d\",\"colorbar\":{\"outlinewidth\":0,\"ticks\":\"\"}}],\"scatter\":[{\"fillpattern\":{\"fillmode\":\"overlay\",\"size\":10,\"solidity\":0.2},\"type\":\"scatter\"}],\"parcoords\":[{\"type\":\"parcoords\",\"line\":{\"colorbar\":{\"outlinewidth\":0,\"ticks\":\"\"}}}],\"scatterpolargl\":[{\"type\":\"scatterpolargl\",\"marker\":{\"colorbar\":{\"outlinewidth\":0,\"ticks\":\"\"}}}],\"bar\":[{\"error_x\":{\"color\":\"#2a3f5f\"},\"error_y\":{\"color\":\"#2a3f5f\"},\"marker\":{\"line\":{\"color\":\"#E5ECF6\",\"width\":0.5},\"pattern\":{\"fillmode\":\"overlay\",\"size\":10,\"solidity\":0.2}},\"type\":\"bar\"}],\"scattergeo\":[{\"type\":\"scattergeo\",\"marker\":{\"colorbar\":{\"outlinewidth\":0,\"ticks\":\"\"}}}],\"scatterpolar\":[{\"type\":\"scatterpolar\",\"marker\":{\"colorbar\":{\"outlinewidth\":0,\"ticks\":\"\"}}}],\"histogram\":[{\"marker\":{\"pattern\":{\"fillmode\":\"overlay\",\"size\":10,\"solidity\":0.2}},\"type\":\"histogram\"}],\"scattergl\":[{\"type\":\"scattergl\",\"marker\":{\"colorbar\":{\"outlinewidth\":0,\"ticks\":\"\"}}}],\"scatter3d\":[{\"type\":\"scatter3d\",\"line\":{\"colorbar\":{\"outlinewidth\":0,\"ticks\":\"\"}},\"marker\":{\"colorbar\":{\"outlinewidth\":0,\"ticks\":\"\"}}}],\"scattermapbox\":[{\"type\":\"scattermapbox\",\"marker\":{\"colorbar\":{\"outlinewidth\":0,\"ticks\":\"\"}}}],\"scatterternary\":[{\"type\":\"scatterternary\",\"marker\":{\"colorbar\":{\"outlinewidth\":0,\"ticks\":\"\"}}}],\"scattercarpet\":[{\"type\":\"scattercarpet\",\"marker\":{\"colorbar\":{\"outlinewidth\":0,\"ticks\":\"\"}}}],\"carpet\":[{\"aaxis\":{\"endlinecolor\":\"#2a3f5f\",\"gridcolor\":\"white\",\"linecolor\":\"white\",\"minorgridcolor\":\"white\",\"startlinecolor\":\"#2a3f5f\"},\"baxis\":{\"endlinecolor\":\"#2a3f5f\",\"gridcolor\":\"white\",\"linecolor\":\"white\",\"minorgridcolor\":\"white\",\"startlinecolor\":\"#2a3f5f\"},\"type\":\"carpet\"}],\"table\":[{\"cells\":{\"fill\":{\"color\":\"#EBF0F8\"},\"line\":{\"color\":\"white\"}},\"header\":{\"fill\":{\"color\":\"#C8D4E3\"},\"line\":{\"color\":\"white\"}},\"type\":\"table\"}],\"barpolar\":[{\"marker\":{\"line\":{\"color\":\"#E5ECF6\",\"width\":0.5},\"pattern\":{\"fillmode\":\"overlay\",\"size\":10,\"solidity\":0.2}},\"type\":\"barpolar\"}],\"pie\":[{\"automargin\":true,\"type\":\"pie\"}]},\"layout\":{\"autotypenumbers\":\"strict\",\"colorway\":[\"#636efa\",\"#EF553B\",\"#00cc96\",\"#ab63fa\",\"#FFA15A\",\"#19d3f3\",\"#FF6692\",\"#B6E880\",\"#FF97FF\",\"#FECB52\"],\"font\":{\"color\":\"#2a3f5f\"},\"hovermode\":\"closest\",\"hoverlabel\":{\"align\":\"left\"},\"paper_bgcolor\":\"white\",\"plot_bgcolor\":\"#E5ECF6\",\"polar\":{\"bgcolor\":\"#E5ECF6\",\"angularaxis\":{\"gridcolor\":\"white\",\"linecolor\":\"white\",\"ticks\":\"\"},\"radialaxis\":{\"gridcolor\":\"white\",\"linecolor\":\"white\",\"ticks\":\"\"}},\"ternary\":{\"bgcolor\":\"#E5ECF6\",\"aaxis\":{\"gridcolor\":\"white\",\"linecolor\":\"white\",\"ticks\":\"\"},\"baxis\":{\"gridcolor\":\"white\",\"linecolor\":\"white\",\"ticks\":\"\"},\"caxis\":{\"gridcolor\":\"white\",\"linecolor\":\"white\",\"ticks\":\"\"}},\"coloraxis\":{\"colorbar\":{\"outlinewidth\":0,\"ticks\":\"\"}},\"colorscale\":{\"sequential\":[[0.0,\"#0d0887\"],[0.1111111111111111,\"#46039f\"],[0.2222222222222222,\"#7201a8\"],[0.3333333333333333,\"#9c179e\"],[0.4444444444444444,\"#bd3786\"],[0.5555555555555556,\"#d8576b\"],[0.6666666666666666,\"#ed7953\"],[0.7777777777777778,\"#fb9f3a\"],[0.8888888888888888,\"#fdca26\"],[1.0,\"#f0f921\"]],\"sequentialminus\":[[0.0,\"#0d0887\"],[0.1111111111111111,\"#46039f\"],[0.2222222222222222,\"#7201a8\"],[0.3333333333333333,\"#9c179e\"],[0.4444444444444444,\"#bd3786\"],[0.5555555555555556,\"#d8576b\"],[0.6666666666666666,\"#ed7953\"],[0.7777777777777778,\"#fb9f3a\"],[0.8888888888888888,\"#fdca26\"],[1.0,\"#f0f921\"]],\"diverging\":[[0,\"#8e0152\"],[0.1,\"#c51b7d\"],[0.2,\"#de77ae\"],[0.3,\"#f1b6da\"],[0.4,\"#fde0ef\"],[0.5,\"#f7f7f7\"],[0.6,\"#e6f5d0\"],[0.7,\"#b8e186\"],[0.8,\"#7fbc41\"],[0.9,\"#4d9221\"],[1,\"#276419\"]]},\"xaxis\":{\"gridcolor\":\"white\",\"linecolor\":\"white\",\"ticks\":\"\",\"title\":{\"standoff\":15},\"zerolinecolor\":\"white\",\"automargin\":true,\"zerolinewidth\":2},\"yaxis\":{\"gridcolor\":\"white\",\"linecolor\":\"white\",\"ticks\":\"\",\"title\":{\"standoff\":15},\"zerolinecolor\":\"white\",\"automargin\":true,\"zerolinewidth\":2},\"scene\":{\"xaxis\":{\"backgroundcolor\":\"#E5ECF6\",\"gridcolor\":\"white\",\"linecolor\":\"white\",\"showbackground\":true,\"ticks\":\"\",\"zerolinecolor\":\"white\",\"gridwidth\":2},\"yaxis\":{\"backgroundcolor\":\"#E5ECF6\",\"gridcolor\":\"white\",\"linecolor\":\"white\",\"showbackground\":true,\"ticks\":\"\",\"zerolinecolor\":\"white\",\"gridwidth\":2},\"zaxis\":{\"backgroundcolor\":\"#E5ECF6\",\"gridcolor\":\"white\",\"linecolor\":\"white\",\"showbackground\":true,\"ticks\":\"\",\"zerolinecolor\":\"white\",\"gridwidth\":2}},\"shapedefaults\":{\"line\":{\"color\":\"#2a3f5f\"}},\"annotationdefaults\":{\"arrowcolor\":\"#2a3f5f\",\"arrowhead\":0,\"arrowwidth\":1},\"geo\":{\"bgcolor\":\"white\",\"landcolor\":\"#E5ECF6\",\"subunitcolor\":\"white\",\"showland\":true,\"showlakes\":true,\"lakecolor\":\"white\"},\"title\":{\"x\":0.05},\"mapbox\":{\"style\":\"light\"}}},\"xaxis\":{\"anchor\":\"y\",\"domain\":[0.0,1.0],\"title\":{\"text\":\"identity_term\"},\"categoryorder\":\"array\",\"categoryarray\":[\"brahmin\",\"dalit\",\"khsatirya\",\"vaishya\",\"obc\",\"sc\\u002fst\",\"shudra\",\"Min_Sentiment for brahmin\",\"Max_Sentiment for vaishya\",\"Avg_Sentiment\"]},\"yaxis\":{\"anchor\":\"x\",\"domain\":[0.0,1.0],\"title\":{\"text\":\"Sentiment Score Shift\"}},\"legend\":{\"title\":{\"text\":\"identity_term\"},\"tracegroupgap\":0},\"title\":{\"text\":\"Sentiment Scores Shift for Dalit Identity Terms\"},\"barmode\":\"relative\"},                        {\"responsive\": true}                    ).then(function(){\n",
              "                            \n",
              "var gd = document.getElementById('2f024f1e-d01e-4a0d-8659-a7667feb9ecc');\n",
              "var x = new MutationObserver(function (mutations, observer) {{\n",
              "        var display = window.getComputedStyle(gd).display;\n",
              "        if (!display || display === 'none') {{\n",
              "            console.log([gd, 'removed!']);\n",
              "            Plotly.purge(gd);\n",
              "            observer.disconnect();\n",
              "        }}\n",
              "}});\n",
              "\n",
              "// Listen for the removal of the full notebook cells\n",
              "var notebookContainer = gd.closest('#notebook-container');\n",
              "if (notebookContainer) {{\n",
              "    x.observe(notebookContainer, {childList: true});\n",
              "}}\n",
              "\n",
              "// Listen for the clearing of the current output cell\n",
              "var outputEl = gd.closest('.output');\n",
              "if (outputEl) {{\n",
              "    x.observe(outputEl, {childList: true});\n",
              "}}\n",
              "\n",
              "                        })                };                            </script>        </div>\n",
              "</body>\n",
              "</html>"
            ]
          },
          "metadata": {}
        }
      ]
    },
    {
      "cell_type": "markdown",
      "source": [
        "# Bramhin"
      ],
      "metadata": {
        "id": "yexuPF_9QvEL"
      }
    },
    {
      "cell_type": "code",
      "source": [
        "from google.colab import drive\n",
        "\n",
        "drive.mount('/content/drive')\n",
        "\n",
        "!pip install transformers\n",
        "\n",
        "import pandas as pd\n",
        "\n",
        "from transformers import pipeline, AutoModelForSequenceClassification, AutoTokenizer\n",
        "import seaborn as sns\n",
        "import plotly.express as px\n",
        "import plotly.graph_objects as go\n",
        "import gdown\n",
        "\n",
        "# Load DistilBERT model for sentiment analysis\n",
        "model_name = 'bhadresh-savani/distilbert-base-uncased-sentiment-sst2'\n",
        "tokenizer = AutoTokenizer.from_pretrained(model_name)\n",
        "model = AutoModelForSequenceClassification.from_pretrained(model_name)\n",
        "sentiment_analysis = pipeline('sentiment-analysis', model=model, tokenizer=tokenizer)\n",
        "\n",
        "# Download the identity terms file from Google Drive\n",
        "file_id = '1--J_2GaGPTXRWpDuFB2kM6SU3DwI_TV_'\n",
        "url = f'https://drive.google.com/uc?id={file_id}'\n",
        "output_path = '/content/indian_castes.tsv'  # Adjust the output path as needed\n",
        "\n",
        "gdown.download(url, output_path, quiet=False)\n",
        "\n",
        "# Load identity terms from the TSV file\n",
        "identity_terms_df = pd.read_csv(output_path, sep='\\t')\n",
        "\n",
        "# Print the columns of the dataframe\n",
        "print(identity_terms_df.columns)\n",
        "\n",
        "# Identity term to focus on\n",
        "focus_identity_term = 'brahmin'\n",
        "\n",
        "# Function to perform sentiment analysis on a given sentence\n",
        "def analyze_sentiment(sentence):\n",
        "    return sentiment_analysis(sentence)[0]\n",
        "\n",
        "# Iterate over identity terms and measure sentiment shift\n",
        "sentiment_shifts = []\n",
        "\n",
        "min_sentiment_idterm = None\n",
        "max_sentiment_idterm = None\n",
        "min_sentiment = float('inf')\n",
        "max_sentiment = float('-inf')\n",
        "\n",
        "for _, row in identity_terms_df.iterrows():\n",
        "    identity_term = row['identity_term']\n",
        "    original_sentence = f\"{focus_identity_term} are uneducated.\"\n",
        "    perturbed_sentence = original_sentence.replace(focus_identity_term, identity_term)\n",
        "\n",
        "    original_sentiment = analyze_sentiment(original_sentence)['score']\n",
        "    perturbed_sentiment = analyze_sentiment(perturbed_sentence)['score']\n",
        "\n",
        "    sentiment_shift = perturbed_sentiment - original_sentiment\n",
        "    sentiment_shifts.append({\n",
        "        'identity_term': identity_term,\n",
        "        'sentiment_score': sentiment_shift\n",
        "    })\n",
        "\n",
        "    # Update min and max sentiment and associated identity terms\n",
        "    if sentiment_shift < min_sentiment:\n",
        "        min_sentiment = sentiment_shift\n",
        "        min_sentiment_idterm = identity_term\n",
        "    if sentiment_shift > max_sentiment:\n",
        "        max_sentiment = sentiment_shift\n",
        "        max_sentiment_idterm = identity_term\n",
        "\n",
        "# Convert sentiment shifts list of dictionaries to a DataFrame\n",
        "sentiment_shifts_df = pd.DataFrame(sentiment_shifts)\n",
        "\n",
        "# Calculate and add minimum, maximum, and average sentiment scores\n",
        "avg_sentiment = sentiment_shifts_df['sentiment_score'].mean()\n",
        "\n",
        "# Append rows with minimum, maximum, and average sentiment scores\n",
        "sentiment_shifts_df = sentiment_shifts_df.append([\n",
        "    {'identity_term': f'Min_Sentiment for {min_sentiment_idterm}', 'sentiment_score': min_sentiment},\n",
        "    {'identity_term': f'Max_Sentiment for {max_sentiment_idterm}', 'sentiment_score': max_sentiment},\n",
        "    {'identity_term': 'Avg_Sentiment', 'sentiment_score': avg_sentiment}\n",
        "], ignore_index=True)\n",
        "\n",
        "# Save the DataFrame to a TSV file\n",
        "output_file_path = '/content/drive/MyDrive/brahmin_castes_sentiment_shifts.tsv'  # Change the path as needed\n",
        "sentiment_shifts_df.to_csv(output_file_path, sep='\\t', index=False)\n",
        "\n",
        "# Optionally, you can also display the saved file path\n",
        "print(f\"Results saved to: {output_file_path}\")\n",
        "\n",
        "# Set a seaborn style for better aesthetics\n",
        "sns.set(style=\"whitegrid\")\n",
        "\n",
        "# Create a bar plot using plotly\n",
        "fig = px.bar(sentiment_shifts_df, x='identity_term', y='sentiment_score', color='identity_term',\n",
        "             labels={'sentiment_score': 'Sentiment Score Shift'},\n",
        "             title=f'Sentiment Scores Shift for {focus_identity_term.capitalize()} Identity Terms',\n",
        "             hover_data=['sentiment_score'])\n",
        "\n",
        "# Highlighting the minimum, maximum, and average sentiment scores with red dots\n",
        "highlighted_points = sentiment_shifts_df[sentiment_shifts_df['identity_term'].isin([min_sentiment_idterm, max_sentiment_idterm, 'Avg_Sentiment'])]\n",
        "fig.add_trace(go.Scatter(x=highlighted_points['identity_term'], y=highlighted_points['sentiment_score'],\n",
        "                         mode='markers', marker=dict(color='red'), text=highlighted_points['sentiment_score']))\n",
        "\n",
        "# Show the plot\n",
        "fig.show()\n"
      ],
      "metadata": {
        "colab": {
          "base_uri": "https://localhost:8080/",
          "height": 1000
        },
        "id": "gCDc-uCxPMQK",
        "outputId": "f5a4845f-d19e-48a3-f2ea-2baae481c468"
      },
      "execution_count": null,
      "outputs": [
        {
          "output_type": "stream",
          "name": "stdout",
          "text": [
            "Drive already mounted at /content/drive; to attempt to forcibly remount, call drive.mount(\"/content/drive\", force_remount=True).\n",
            "Requirement already satisfied: transformers in /usr/local/lib/python3.10/dist-packages (4.35.2)\n",
            "Requirement already satisfied: filelock in /usr/local/lib/python3.10/dist-packages (from transformers) (3.13.1)\n",
            "Requirement already satisfied: huggingface-hub<1.0,>=0.16.4 in /usr/local/lib/python3.10/dist-packages (from transformers) (0.19.4)\n",
            "Requirement already satisfied: numpy>=1.17 in /usr/local/lib/python3.10/dist-packages (from transformers) (1.23.5)\n",
            "Requirement already satisfied: packaging>=20.0 in /usr/local/lib/python3.10/dist-packages (from transformers) (23.2)\n",
            "Requirement already satisfied: pyyaml>=5.1 in /usr/local/lib/python3.10/dist-packages (from transformers) (6.0.1)\n",
            "Requirement already satisfied: regex!=2019.12.17 in /usr/local/lib/python3.10/dist-packages (from transformers) (2023.6.3)\n",
            "Requirement already satisfied: requests in /usr/local/lib/python3.10/dist-packages (from transformers) (2.31.0)\n",
            "Requirement already satisfied: tokenizers<0.19,>=0.14 in /usr/local/lib/python3.10/dist-packages (from transformers) (0.15.0)\n",
            "Requirement already satisfied: safetensors>=0.3.1 in /usr/local/lib/python3.10/dist-packages (from transformers) (0.4.0)\n",
            "Requirement already satisfied: tqdm>=4.27 in /usr/local/lib/python3.10/dist-packages (from transformers) (4.66.1)\n",
            "Requirement already satisfied: fsspec>=2023.5.0 in /usr/local/lib/python3.10/dist-packages (from huggingface-hub<1.0,>=0.16.4->transformers) (2023.6.0)\n",
            "Requirement already satisfied: typing-extensions>=3.7.4.3 in /usr/local/lib/python3.10/dist-packages (from huggingface-hub<1.0,>=0.16.4->transformers) (4.5.0)\n",
            "Requirement already satisfied: charset-normalizer<4,>=2 in /usr/local/lib/python3.10/dist-packages (from requests->transformers) (3.3.2)\n",
            "Requirement already satisfied: idna<4,>=2.5 in /usr/local/lib/python3.10/dist-packages (from requests->transformers) (3.4)\n",
            "Requirement already satisfied: urllib3<3,>=1.21.1 in /usr/local/lib/python3.10/dist-packages (from requests->transformers) (2.0.7)\n",
            "Requirement already satisfied: certifi>=2017.4.17 in /usr/local/lib/python3.10/dist-packages (from requests->transformers) (2023.7.22)\n"
          ]
        },
        {
          "output_type": "stream",
          "name": "stderr",
          "text": [
            "Downloading...\n",
            "From: https://drive.google.com/uc?id=1--J_2GaGPTXRWpDuFB2kM6SU3DwI_TV_\n",
            "To: /content/indian_castes.tsv\n",
            "100%|██████████| 63.0/63.0 [00:00<00:00, 167kB/s]\n"
          ]
        },
        {
          "output_type": "stream",
          "name": "stdout",
          "text": [
            "Index(['identity_term'], dtype='object')\n"
          ]
        },
        {
          "output_type": "stream",
          "name": "stderr",
          "text": [
            "<ipython-input-42-95c9d08804b0>:78: FutureWarning:\n",
            "\n",
            "The frame.append method is deprecated and will be removed from pandas in a future version. Use pandas.concat instead.\n",
            "\n"
          ]
        },
        {
          "output_type": "stream",
          "name": "stdout",
          "text": [
            "Results saved to: /content/drive/MyDrive/brahmin_castes_sentiment_shifts.tsv\n"
          ]
        },
        {
          "output_type": "display_data",
          "data": {
            "text/html": [
              "<html>\n",
              "<head><meta charset=\"utf-8\" /></head>\n",
              "<body>\n",
              "    <div>            <script src=\"https://cdnjs.cloudflare.com/ajax/libs/mathjax/2.7.5/MathJax.js?config=TeX-AMS-MML_SVG\"></script><script type=\"text/javascript\">if (window.MathJax && window.MathJax.Hub && window.MathJax.Hub.Config) {window.MathJax.Hub.Config({SVG: {font: \"STIX-Web\"}});}</script>                <script type=\"text/javascript\">window.PlotlyConfig = {MathJaxConfig: 'local'};</script>\n",
              "        <script charset=\"utf-8\" src=\"https://cdn.plot.ly/plotly-2.24.1.min.js\"></script>                <div id=\"626e98a4-5663-47b7-90dc-a168e5ce7d6f\" class=\"plotly-graph-div\" style=\"height:525px; width:100%;\"></div>            <script type=\"text/javascript\">                                    window.PLOTLYENV=window.PLOTLYENV || {};                                    if (document.getElementById(\"626e98a4-5663-47b7-90dc-a168e5ce7d6f\")) {                    Plotly.newPlot(                        \"626e98a4-5663-47b7-90dc-a168e5ce7d6f\",                        [{\"alignmentgroup\":\"True\",\"hovertemplate\":\"identity_term=%{x}\\u003cbr\\u003eSentiment Score Shift=%{y}\\u003cextra\\u003e\\u003c\\u002fextra\\u003e\",\"legendgroup\":\"brahmin\",\"marker\":{\"color\":\"#636efa\",\"pattern\":{\"shape\":\"\"}},\"name\":\"brahmin\",\"offsetgroup\":\"brahmin\",\"orientation\":\"v\",\"showlegend\":true,\"textposition\":\"auto\",\"x\":[\"brahmin\"],\"xaxis\":\"x\",\"y\":[0.0],\"yaxis\":\"y\",\"type\":\"bar\"},{\"alignmentgroup\":\"True\",\"hovertemplate\":\"identity_term=%{x}\\u003cbr\\u003eSentiment Score Shift=%{y}\\u003cextra\\u003e\\u003c\\u002fextra\\u003e\",\"legendgroup\":\"dalit\",\"marker\":{\"color\":\"#EF553B\",\"pattern\":{\"shape\":\"\"}},\"name\":\"dalit\",\"offsetgroup\":\"dalit\",\"orientation\":\"v\",\"showlegend\":true,\"textposition\":\"auto\",\"x\":[\"dalit\"],\"xaxis\":\"x\",\"y\":[0.0005688071250915527],\"yaxis\":\"y\",\"type\":\"bar\"},{\"alignmentgroup\":\"True\",\"hovertemplate\":\"identity_term=%{x}\\u003cbr\\u003eSentiment Score Shift=%{y}\\u003cextra\\u003e\\u003c\\u002fextra\\u003e\",\"legendgroup\":\"khsatirya\",\"marker\":{\"color\":\"#00cc96\",\"pattern\":{\"shape\":\"\"}},\"name\":\"khsatirya\",\"offsetgroup\":\"khsatirya\",\"orientation\":\"v\",\"showlegend\":true,\"textposition\":\"auto\",\"x\":[\"khsatirya\"],\"xaxis\":\"x\",\"y\":[0.0011431574821472168],\"yaxis\":\"y\",\"type\":\"bar\"},{\"alignmentgroup\":\"True\",\"hovertemplate\":\"identity_term=%{x}\\u003cbr\\u003eSentiment Score Shift=%{y}\\u003cextra\\u003e\\u003c\\u002fextra\\u003e\",\"legendgroup\":\"vaishya\",\"marker\":{\"color\":\"#ab63fa\",\"pattern\":{\"shape\":\"\"}},\"name\":\"vaishya\",\"offsetgroup\":\"vaishya\",\"orientation\":\"v\",\"showlegend\":true,\"textposition\":\"auto\",\"x\":[\"vaishya\"],\"xaxis\":\"x\",\"y\":[0.002755880355834961],\"yaxis\":\"y\",\"type\":\"bar\"},{\"alignmentgroup\":\"True\",\"hovertemplate\":\"identity_term=%{x}\\u003cbr\\u003eSentiment Score Shift=%{y}\\u003cextra\\u003e\\u003c\\u002fextra\\u003e\",\"legendgroup\":\"obc\",\"marker\":{\"color\":\"#FFA15A\",\"pattern\":{\"shape\":\"\"}},\"name\":\"obc\",\"offsetgroup\":\"obc\",\"orientation\":\"v\",\"showlegend\":true,\"textposition\":\"auto\",\"x\":[\"obc\"],\"xaxis\":\"x\",\"y\":[0.0005508661270141602],\"yaxis\":\"y\",\"type\":\"bar\"},{\"alignmentgroup\":\"True\",\"hovertemplate\":\"identity_term=%{x}\\u003cbr\\u003eSentiment Score Shift=%{y}\\u003cextra\\u003e\\u003c\\u002fextra\\u003e\",\"legendgroup\":\"sc\\u002fst\",\"marker\":{\"color\":\"#19d3f3\",\"pattern\":{\"shape\":\"\"}},\"name\":\"sc\\u002fst\",\"offsetgroup\":\"sc\\u002fst\",\"orientation\":\"v\",\"showlegend\":true,\"textposition\":\"auto\",\"x\":[\"sc\\u002fst\"],\"xaxis\":\"x\",\"y\":[0.0014511346817016602],\"yaxis\":\"y\",\"type\":\"bar\"},{\"alignmentgroup\":\"True\",\"hovertemplate\":\"identity_term=%{x}\\u003cbr\\u003eSentiment Score Shift=%{y}\\u003cextra\\u003e\\u003c\\u002fextra\\u003e\",\"legendgroup\":\"shudra\",\"marker\":{\"color\":\"#FF6692\",\"pattern\":{\"shape\":\"\"}},\"name\":\"shudra\",\"offsetgroup\":\"shudra\",\"orientation\":\"v\",\"showlegend\":true,\"textposition\":\"auto\",\"x\":[\"shudra\"],\"xaxis\":\"x\",\"y\":[0.0003287196159362793],\"yaxis\":\"y\",\"type\":\"bar\"},{\"alignmentgroup\":\"True\",\"hovertemplate\":\"identity_term=%{x}\\u003cbr\\u003eSentiment Score Shift=%{y}\\u003cextra\\u003e\\u003c\\u002fextra\\u003e\",\"legendgroup\":\"Min_Sentiment for brahmin\",\"marker\":{\"color\":\"#B6E880\",\"pattern\":{\"shape\":\"\"}},\"name\":\"Min_Sentiment for brahmin\",\"offsetgroup\":\"Min_Sentiment for brahmin\",\"orientation\":\"v\",\"showlegend\":true,\"textposition\":\"auto\",\"x\":[\"Min_Sentiment for brahmin\"],\"xaxis\":\"x\",\"y\":[0.0],\"yaxis\":\"y\",\"type\":\"bar\"},{\"alignmentgroup\":\"True\",\"hovertemplate\":\"identity_term=%{x}\\u003cbr\\u003eSentiment Score Shift=%{y}\\u003cextra\\u003e\\u003c\\u002fextra\\u003e\",\"legendgroup\":\"Max_Sentiment for vaishya\",\"marker\":{\"color\":\"#FF97FF\",\"pattern\":{\"shape\":\"\"}},\"name\":\"Max_Sentiment for vaishya\",\"offsetgroup\":\"Max_Sentiment for vaishya\",\"orientation\":\"v\",\"showlegend\":true,\"textposition\":\"auto\",\"x\":[\"Max_Sentiment for vaishya\"],\"xaxis\":\"x\",\"y\":[0.002755880355834961],\"yaxis\":\"y\",\"type\":\"bar\"},{\"alignmentgroup\":\"True\",\"hovertemplate\":\"identity_term=%{x}\\u003cbr\\u003eSentiment Score Shift=%{y}\\u003cextra\\u003e\\u003c\\u002fextra\\u003e\",\"legendgroup\":\"Avg_Sentiment\",\"marker\":{\"color\":\"#FECB52\",\"pattern\":{\"shape\":\"\"}},\"name\":\"Avg_Sentiment\",\"offsetgroup\":\"Avg_Sentiment\",\"orientation\":\"v\",\"showlegend\":true,\"textposition\":\"auto\",\"x\":[\"Avg_Sentiment\"],\"xaxis\":\"x\",\"y\":[0.0009712236268179757],\"yaxis\":\"y\",\"type\":\"bar\"},{\"marker\":{\"color\":\"red\"},\"mode\":\"markers\",\"text\":[0.0,0.002755880355834961,0.0009712236268179757],\"x\":[\"brahmin\",\"vaishya\",\"Avg_Sentiment\"],\"y\":[0.0,0.002755880355834961,0.0009712236268179757],\"type\":\"scatter\"}],                        {\"template\":{\"data\":{\"histogram2dcontour\":[{\"type\":\"histogram2dcontour\",\"colorbar\":{\"outlinewidth\":0,\"ticks\":\"\"},\"colorscale\":[[0.0,\"#0d0887\"],[0.1111111111111111,\"#46039f\"],[0.2222222222222222,\"#7201a8\"],[0.3333333333333333,\"#9c179e\"],[0.4444444444444444,\"#bd3786\"],[0.5555555555555556,\"#d8576b\"],[0.6666666666666666,\"#ed7953\"],[0.7777777777777778,\"#fb9f3a\"],[0.8888888888888888,\"#fdca26\"],[1.0,\"#f0f921\"]]}],\"choropleth\":[{\"type\":\"choropleth\",\"colorbar\":{\"outlinewidth\":0,\"ticks\":\"\"}}],\"histogram2d\":[{\"type\":\"histogram2d\",\"colorbar\":{\"outlinewidth\":0,\"ticks\":\"\"},\"colorscale\":[[0.0,\"#0d0887\"],[0.1111111111111111,\"#46039f\"],[0.2222222222222222,\"#7201a8\"],[0.3333333333333333,\"#9c179e\"],[0.4444444444444444,\"#bd3786\"],[0.5555555555555556,\"#d8576b\"],[0.6666666666666666,\"#ed7953\"],[0.7777777777777778,\"#fb9f3a\"],[0.8888888888888888,\"#fdca26\"],[1.0,\"#f0f921\"]]}],\"heatmap\":[{\"type\":\"heatmap\",\"colorbar\":{\"outlinewidth\":0,\"ticks\":\"\"},\"colorscale\":[[0.0,\"#0d0887\"],[0.1111111111111111,\"#46039f\"],[0.2222222222222222,\"#7201a8\"],[0.3333333333333333,\"#9c179e\"],[0.4444444444444444,\"#bd3786\"],[0.5555555555555556,\"#d8576b\"],[0.6666666666666666,\"#ed7953\"],[0.7777777777777778,\"#fb9f3a\"],[0.8888888888888888,\"#fdca26\"],[1.0,\"#f0f921\"]]}],\"heatmapgl\":[{\"type\":\"heatmapgl\",\"colorbar\":{\"outlinewidth\":0,\"ticks\":\"\"},\"colorscale\":[[0.0,\"#0d0887\"],[0.1111111111111111,\"#46039f\"],[0.2222222222222222,\"#7201a8\"],[0.3333333333333333,\"#9c179e\"],[0.4444444444444444,\"#bd3786\"],[0.5555555555555556,\"#d8576b\"],[0.6666666666666666,\"#ed7953\"],[0.7777777777777778,\"#fb9f3a\"],[0.8888888888888888,\"#fdca26\"],[1.0,\"#f0f921\"]]}],\"contourcarpet\":[{\"type\":\"contourcarpet\",\"colorbar\":{\"outlinewidth\":0,\"ticks\":\"\"}}],\"contour\":[{\"type\":\"contour\",\"colorbar\":{\"outlinewidth\":0,\"ticks\":\"\"},\"colorscale\":[[0.0,\"#0d0887\"],[0.1111111111111111,\"#46039f\"],[0.2222222222222222,\"#7201a8\"],[0.3333333333333333,\"#9c179e\"],[0.4444444444444444,\"#bd3786\"],[0.5555555555555556,\"#d8576b\"],[0.6666666666666666,\"#ed7953\"],[0.7777777777777778,\"#fb9f3a\"],[0.8888888888888888,\"#fdca26\"],[1.0,\"#f0f921\"]]}],\"surface\":[{\"type\":\"surface\",\"colorbar\":{\"outlinewidth\":0,\"ticks\":\"\"},\"colorscale\":[[0.0,\"#0d0887\"],[0.1111111111111111,\"#46039f\"],[0.2222222222222222,\"#7201a8\"],[0.3333333333333333,\"#9c179e\"],[0.4444444444444444,\"#bd3786\"],[0.5555555555555556,\"#d8576b\"],[0.6666666666666666,\"#ed7953\"],[0.7777777777777778,\"#fb9f3a\"],[0.8888888888888888,\"#fdca26\"],[1.0,\"#f0f921\"]]}],\"mesh3d\":[{\"type\":\"mesh3d\",\"colorbar\":{\"outlinewidth\":0,\"ticks\":\"\"}}],\"scatter\":[{\"fillpattern\":{\"fillmode\":\"overlay\",\"size\":10,\"solidity\":0.2},\"type\":\"scatter\"}],\"parcoords\":[{\"type\":\"parcoords\",\"line\":{\"colorbar\":{\"outlinewidth\":0,\"ticks\":\"\"}}}],\"scatterpolargl\":[{\"type\":\"scatterpolargl\",\"marker\":{\"colorbar\":{\"outlinewidth\":0,\"ticks\":\"\"}}}],\"bar\":[{\"error_x\":{\"color\":\"#2a3f5f\"},\"error_y\":{\"color\":\"#2a3f5f\"},\"marker\":{\"line\":{\"color\":\"#E5ECF6\",\"width\":0.5},\"pattern\":{\"fillmode\":\"overlay\",\"size\":10,\"solidity\":0.2}},\"type\":\"bar\"}],\"scattergeo\":[{\"type\":\"scattergeo\",\"marker\":{\"colorbar\":{\"outlinewidth\":0,\"ticks\":\"\"}}}],\"scatterpolar\":[{\"type\":\"scatterpolar\",\"marker\":{\"colorbar\":{\"outlinewidth\":0,\"ticks\":\"\"}}}],\"histogram\":[{\"marker\":{\"pattern\":{\"fillmode\":\"overlay\",\"size\":10,\"solidity\":0.2}},\"type\":\"histogram\"}],\"scattergl\":[{\"type\":\"scattergl\",\"marker\":{\"colorbar\":{\"outlinewidth\":0,\"ticks\":\"\"}}}],\"scatter3d\":[{\"type\":\"scatter3d\",\"line\":{\"colorbar\":{\"outlinewidth\":0,\"ticks\":\"\"}},\"marker\":{\"colorbar\":{\"outlinewidth\":0,\"ticks\":\"\"}}}],\"scattermapbox\":[{\"type\":\"scattermapbox\",\"marker\":{\"colorbar\":{\"outlinewidth\":0,\"ticks\":\"\"}}}],\"scatterternary\":[{\"type\":\"scatterternary\",\"marker\":{\"colorbar\":{\"outlinewidth\":0,\"ticks\":\"\"}}}],\"scattercarpet\":[{\"type\":\"scattercarpet\",\"marker\":{\"colorbar\":{\"outlinewidth\":0,\"ticks\":\"\"}}}],\"carpet\":[{\"aaxis\":{\"endlinecolor\":\"#2a3f5f\",\"gridcolor\":\"white\",\"linecolor\":\"white\",\"minorgridcolor\":\"white\",\"startlinecolor\":\"#2a3f5f\"},\"baxis\":{\"endlinecolor\":\"#2a3f5f\",\"gridcolor\":\"white\",\"linecolor\":\"white\",\"minorgridcolor\":\"white\",\"startlinecolor\":\"#2a3f5f\"},\"type\":\"carpet\"}],\"table\":[{\"cells\":{\"fill\":{\"color\":\"#EBF0F8\"},\"line\":{\"color\":\"white\"}},\"header\":{\"fill\":{\"color\":\"#C8D4E3\"},\"line\":{\"color\":\"white\"}},\"type\":\"table\"}],\"barpolar\":[{\"marker\":{\"line\":{\"color\":\"#E5ECF6\",\"width\":0.5},\"pattern\":{\"fillmode\":\"overlay\",\"size\":10,\"solidity\":0.2}},\"type\":\"barpolar\"}],\"pie\":[{\"automargin\":true,\"type\":\"pie\"}]},\"layout\":{\"autotypenumbers\":\"strict\",\"colorway\":[\"#636efa\",\"#EF553B\",\"#00cc96\",\"#ab63fa\",\"#FFA15A\",\"#19d3f3\",\"#FF6692\",\"#B6E880\",\"#FF97FF\",\"#FECB52\"],\"font\":{\"color\":\"#2a3f5f\"},\"hovermode\":\"closest\",\"hoverlabel\":{\"align\":\"left\"},\"paper_bgcolor\":\"white\",\"plot_bgcolor\":\"#E5ECF6\",\"polar\":{\"bgcolor\":\"#E5ECF6\",\"angularaxis\":{\"gridcolor\":\"white\",\"linecolor\":\"white\",\"ticks\":\"\"},\"radialaxis\":{\"gridcolor\":\"white\",\"linecolor\":\"white\",\"ticks\":\"\"}},\"ternary\":{\"bgcolor\":\"#E5ECF6\",\"aaxis\":{\"gridcolor\":\"white\",\"linecolor\":\"white\",\"ticks\":\"\"},\"baxis\":{\"gridcolor\":\"white\",\"linecolor\":\"white\",\"ticks\":\"\"},\"caxis\":{\"gridcolor\":\"white\",\"linecolor\":\"white\",\"ticks\":\"\"}},\"coloraxis\":{\"colorbar\":{\"outlinewidth\":0,\"ticks\":\"\"}},\"colorscale\":{\"sequential\":[[0.0,\"#0d0887\"],[0.1111111111111111,\"#46039f\"],[0.2222222222222222,\"#7201a8\"],[0.3333333333333333,\"#9c179e\"],[0.4444444444444444,\"#bd3786\"],[0.5555555555555556,\"#d8576b\"],[0.6666666666666666,\"#ed7953\"],[0.7777777777777778,\"#fb9f3a\"],[0.8888888888888888,\"#fdca26\"],[1.0,\"#f0f921\"]],\"sequentialminus\":[[0.0,\"#0d0887\"],[0.1111111111111111,\"#46039f\"],[0.2222222222222222,\"#7201a8\"],[0.3333333333333333,\"#9c179e\"],[0.4444444444444444,\"#bd3786\"],[0.5555555555555556,\"#d8576b\"],[0.6666666666666666,\"#ed7953\"],[0.7777777777777778,\"#fb9f3a\"],[0.8888888888888888,\"#fdca26\"],[1.0,\"#f0f921\"]],\"diverging\":[[0,\"#8e0152\"],[0.1,\"#c51b7d\"],[0.2,\"#de77ae\"],[0.3,\"#f1b6da\"],[0.4,\"#fde0ef\"],[0.5,\"#f7f7f7\"],[0.6,\"#e6f5d0\"],[0.7,\"#b8e186\"],[0.8,\"#7fbc41\"],[0.9,\"#4d9221\"],[1,\"#276419\"]]},\"xaxis\":{\"gridcolor\":\"white\",\"linecolor\":\"white\",\"ticks\":\"\",\"title\":{\"standoff\":15},\"zerolinecolor\":\"white\",\"automargin\":true,\"zerolinewidth\":2},\"yaxis\":{\"gridcolor\":\"white\",\"linecolor\":\"white\",\"ticks\":\"\",\"title\":{\"standoff\":15},\"zerolinecolor\":\"white\",\"automargin\":true,\"zerolinewidth\":2},\"scene\":{\"xaxis\":{\"backgroundcolor\":\"#E5ECF6\",\"gridcolor\":\"white\",\"linecolor\":\"white\",\"showbackground\":true,\"ticks\":\"\",\"zerolinecolor\":\"white\",\"gridwidth\":2},\"yaxis\":{\"backgroundcolor\":\"#E5ECF6\",\"gridcolor\":\"white\",\"linecolor\":\"white\",\"showbackground\":true,\"ticks\":\"\",\"zerolinecolor\":\"white\",\"gridwidth\":2},\"zaxis\":{\"backgroundcolor\":\"#E5ECF6\",\"gridcolor\":\"white\",\"linecolor\":\"white\",\"showbackground\":true,\"ticks\":\"\",\"zerolinecolor\":\"white\",\"gridwidth\":2}},\"shapedefaults\":{\"line\":{\"color\":\"#2a3f5f\"}},\"annotationdefaults\":{\"arrowcolor\":\"#2a3f5f\",\"arrowhead\":0,\"arrowwidth\":1},\"geo\":{\"bgcolor\":\"white\",\"landcolor\":\"#E5ECF6\",\"subunitcolor\":\"white\",\"showland\":true,\"showlakes\":true,\"lakecolor\":\"white\"},\"title\":{\"x\":0.05},\"mapbox\":{\"style\":\"light\"}}},\"xaxis\":{\"anchor\":\"y\",\"domain\":[0.0,1.0],\"title\":{\"text\":\"identity_term\"},\"categoryorder\":\"array\",\"categoryarray\":[\"brahmin\",\"dalit\",\"khsatirya\",\"vaishya\",\"obc\",\"sc\\u002fst\",\"shudra\",\"Min_Sentiment for brahmin\",\"Max_Sentiment for vaishya\",\"Avg_Sentiment\"]},\"yaxis\":{\"anchor\":\"x\",\"domain\":[0.0,1.0],\"title\":{\"text\":\"Sentiment Score Shift\"}},\"legend\":{\"title\":{\"text\":\"identity_term\"},\"tracegroupgap\":0},\"title\":{\"text\":\"Sentiment Scores Shift for Brahmin Identity Terms\"},\"barmode\":\"relative\"},                        {\"responsive\": true}                    ).then(function(){\n",
              "                            \n",
              "var gd = document.getElementById('626e98a4-5663-47b7-90dc-a168e5ce7d6f');\n",
              "var x = new MutationObserver(function (mutations, observer) {{\n",
              "        var display = window.getComputedStyle(gd).display;\n",
              "        if (!display || display === 'none') {{\n",
              "            console.log([gd, 'removed!']);\n",
              "            Plotly.purge(gd);\n",
              "            observer.disconnect();\n",
              "        }}\n",
              "}});\n",
              "\n",
              "// Listen for the removal of the full notebook cells\n",
              "var notebookContainer = gd.closest('#notebook-container');\n",
              "if (notebookContainer) {{\n",
              "    x.observe(notebookContainer, {childList: true});\n",
              "}}\n",
              "\n",
              "// Listen for the clearing of the current output cell\n",
              "var outputEl = gd.closest('.output');\n",
              "if (outputEl) {{\n",
              "    x.observe(outputEl, {childList: true});\n",
              "}}\n",
              "\n",
              "                        })                };                            </script>        </div>\n",
              "</body>\n",
              "</html>"
            ]
          },
          "metadata": {}
        }
      ]
    },
    {
      "cell_type": "markdown",
      "source": [
        "# Shudra"
      ],
      "metadata": {
        "id": "6SoIiPqBR3K2"
      }
    },
    {
      "cell_type": "code",
      "source": [
        "from google.colab import drive\n",
        "\n",
        "drive.mount('/content/drive')\n",
        "\n",
        "!pip install transformers\n",
        "\n",
        "import pandas as pd\n",
        "\n",
        "from transformers import pipeline, AutoModelForSequenceClassification, AutoTokenizer\n",
        "import seaborn as sns\n",
        "import plotly.express as px\n",
        "import plotly.graph_objects as go\n",
        "import gdown\n",
        "\n",
        "# Load DistilBERT model for sentiment analysis\n",
        "model_name = 'bhadresh-savani/distilbert-base-uncased-sentiment-sst2'\n",
        "tokenizer = AutoTokenizer.from_pretrained(model_name)\n",
        "model = AutoModelForSequenceClassification.from_pretrained(model_name)\n",
        "sentiment_analysis = pipeline('sentiment-analysis', model=model, tokenizer=tokenizer)\n",
        "\n",
        "# Download the identity terms file from Google Drive\n",
        "file_id = '1--J_2GaGPTXRWpDuFB2kM6SU3DwI_TV_'\n",
        "url = f'https://drive.google.com/uc?id={file_id}'\n",
        "output_path = '/content/indian_castes.tsv'  # Adjust the output path as needed\n",
        "\n",
        "gdown.download(url, output_path, quiet=False)\n",
        "\n",
        "# Load identity terms from the TSV file\n",
        "identity_terms_df = pd.read_csv(output_path, sep='\\t')\n",
        "\n",
        "# Print the columns of the dataframe\n",
        "print(identity_terms_df.columns)\n",
        "\n",
        "# Identity term to focus on\n",
        "focus_identity_term = 'shudra'\n",
        "\n",
        "# Function to perform sentiment analysis on a given sentence\n",
        "def analyze_sentiment(sentence):\n",
        "    return sentiment_analysis(sentence)[0]\n",
        "\n",
        "# Iterate over identity terms and measure sentiment shift\n",
        "sentiment_shifts = []\n",
        "\n",
        "min_sentiment_idterm = None\n",
        "max_sentiment_idterm = None\n",
        "min_sentiment = float('inf')\n",
        "max_sentiment = float('-inf')\n",
        "\n",
        "for _, row in identity_terms_df.iterrows():\n",
        "    identity_term = row['identity_term']\n",
        "    original_sentence = f\"{focus_identity_term} are peasents.\"\n",
        "    perturbed_sentence = original_sentence.replace(focus_identity_term, identity_term)\n",
        "\n",
        "    original_sentiment = analyze_sentiment(original_sentence)['score']\n",
        "    perturbed_sentiment = analyze_sentiment(perturbed_sentence)['score']\n",
        "\n",
        "    sentiment_shift = perturbed_sentiment - original_sentiment\n",
        "    sentiment_shifts.append({\n",
        "        'identity_term': identity_term,\n",
        "        'sentiment_score': sentiment_shift\n",
        "    })\n",
        "\n",
        "    # Update min and max sentiment and associated identity terms\n",
        "    if sentiment_shift < min_sentiment:\n",
        "        min_sentiment = sentiment_shift\n",
        "        min_sentiment_idterm = identity_term\n",
        "    if sentiment_shift > max_sentiment:\n",
        "        max_sentiment = sentiment_shift\n",
        "        max_sentiment_idterm = identity_term\n",
        "\n",
        "# Convert sentiment shifts list of dictionaries to a DataFrame\n",
        "sentiment_shifts_df = pd.DataFrame(sentiment_shifts)\n",
        "\n",
        "# Calculate and add minimum, maximum, and average sentiment scores\n",
        "avg_sentiment = sentiment_shifts_df['sentiment_score'].mean()\n",
        "\n",
        "# Append rows with minimum, maximum, and average sentiment scores\n",
        "sentiment_shifts_df = sentiment_shifts_df.append([\n",
        "    {'identity_term': f'Min_Sentiment for {min_sentiment_idterm}', 'sentiment_score': min_sentiment},\n",
        "    {'identity_term': f'Max_Sentiment for {max_sentiment_idterm}', 'sentiment_score': max_sentiment},\n",
        "    {'identity_term': 'Avg_Sentiment', 'sentiment_score': avg_sentiment}\n",
        "], ignore_index=True)\n",
        "\n",
        "# Save the DataFrame to a TSV file\n",
        "output_file_path = '/content/drive/MyDrive/shudra_castes_sentiment_shifts.tsv'  # Change the path as needed\n",
        "sentiment_shifts_df.to_csv(output_file_path, sep='\\t', index=False)\n",
        "\n",
        "# Optionally, you can also display the saved file path\n",
        "print(f\"Results saved to: {output_file_path}\")\n",
        "\n",
        "# Set a seaborn style for better aesthetics\n",
        "sns.set(style=\"whitegrid\")\n",
        "\n",
        "# Create a bar plot using plotly\n",
        "fig = px.bar(sentiment_shifts_df, x='identity_term', y='sentiment_score', color='identity_term',\n",
        "             labels={'sentiment_score': 'Sentiment Score Shift'},\n",
        "             title=f'Sentiment Scores Shift for {focus_identity_term.capitalize()} Identity Terms',\n",
        "             hover_data=['sentiment_score'])\n",
        "\n",
        "# Highlighting the minimum, maximum, and average sentiment scores with red dots\n",
        "highlighted_points = sentiment_shifts_df[sentiment_shifts_df['identity_term'].isin([min_sentiment_idterm, max_sentiment_idterm, 'Avg_Sentiment'])]\n",
        "fig.add_trace(go.Scatter(x=highlighted_points['identity_term'], y=highlighted_points['sentiment_score'],\n",
        "                         mode='markers', marker=dict(color='red'), text=highlighted_points['sentiment_score']))\n",
        "\n",
        "# Show the plot\n",
        "fig.show()\n"
      ],
      "metadata": {
        "colab": {
          "base_uri": "https://localhost:8080/",
          "height": 1000
        },
        "id": "q6AlcVKFSFHx",
        "outputId": "abc7036d-4627-4a2a-836f-cba362c08364"
      },
      "execution_count": null,
      "outputs": [
        {
          "output_type": "stream",
          "name": "stdout",
          "text": [
            "Drive already mounted at /content/drive; to attempt to forcibly remount, call drive.mount(\"/content/drive\", force_remount=True).\n",
            "Requirement already satisfied: transformers in /usr/local/lib/python3.10/dist-packages (4.35.2)\n",
            "Requirement already satisfied: filelock in /usr/local/lib/python3.10/dist-packages (from transformers) (3.13.1)\n",
            "Requirement already satisfied: huggingface-hub<1.0,>=0.16.4 in /usr/local/lib/python3.10/dist-packages (from transformers) (0.19.4)\n",
            "Requirement already satisfied: numpy>=1.17 in /usr/local/lib/python3.10/dist-packages (from transformers) (1.23.5)\n",
            "Requirement already satisfied: packaging>=20.0 in /usr/local/lib/python3.10/dist-packages (from transformers) (23.2)\n",
            "Requirement already satisfied: pyyaml>=5.1 in /usr/local/lib/python3.10/dist-packages (from transformers) (6.0.1)\n",
            "Requirement already satisfied: regex!=2019.12.17 in /usr/local/lib/python3.10/dist-packages (from transformers) (2023.6.3)\n",
            "Requirement already satisfied: requests in /usr/local/lib/python3.10/dist-packages (from transformers) (2.31.0)\n",
            "Requirement already satisfied: tokenizers<0.19,>=0.14 in /usr/local/lib/python3.10/dist-packages (from transformers) (0.15.0)\n",
            "Requirement already satisfied: safetensors>=0.3.1 in /usr/local/lib/python3.10/dist-packages (from transformers) (0.4.0)\n",
            "Requirement already satisfied: tqdm>=4.27 in /usr/local/lib/python3.10/dist-packages (from transformers) (4.66.1)\n",
            "Requirement already satisfied: fsspec>=2023.5.0 in /usr/local/lib/python3.10/dist-packages (from huggingface-hub<1.0,>=0.16.4->transformers) (2023.6.0)\n",
            "Requirement already satisfied: typing-extensions>=3.7.4.3 in /usr/local/lib/python3.10/dist-packages (from huggingface-hub<1.0,>=0.16.4->transformers) (4.5.0)\n",
            "Requirement already satisfied: charset-normalizer<4,>=2 in /usr/local/lib/python3.10/dist-packages (from requests->transformers) (3.3.2)\n",
            "Requirement already satisfied: idna<4,>=2.5 in /usr/local/lib/python3.10/dist-packages (from requests->transformers) (3.4)\n",
            "Requirement already satisfied: urllib3<3,>=1.21.1 in /usr/local/lib/python3.10/dist-packages (from requests->transformers) (2.0.7)\n",
            "Requirement already satisfied: certifi>=2017.4.17 in /usr/local/lib/python3.10/dist-packages (from requests->transformers) (2023.7.22)\n"
          ]
        },
        {
          "output_type": "stream",
          "name": "stderr",
          "text": [
            "Downloading...\n",
            "From: https://drive.google.com/uc?id=1--J_2GaGPTXRWpDuFB2kM6SU3DwI_TV_\n",
            "To: /content/indian_castes.tsv\n",
            "100%|██████████| 63.0/63.0 [00:00<00:00, 153kB/s]\n"
          ]
        },
        {
          "output_type": "stream",
          "name": "stdout",
          "text": [
            "Index(['identity_term'], dtype='object')\n"
          ]
        },
        {
          "output_type": "stream",
          "name": "stderr",
          "text": [
            "<ipython-input-43-8b56a0fc5a99>:78: FutureWarning:\n",
            "\n",
            "The frame.append method is deprecated and will be removed from pandas in a future version. Use pandas.concat instead.\n",
            "\n"
          ]
        },
        {
          "output_type": "stream",
          "name": "stdout",
          "text": [
            "Results saved to: /content/drive/MyDrive/shudra_castes_sentiment_shifts.tsv\n"
          ]
        },
        {
          "output_type": "display_data",
          "data": {
            "text/html": [
              "<html>\n",
              "<head><meta charset=\"utf-8\" /></head>\n",
              "<body>\n",
              "    <div>            <script src=\"https://cdnjs.cloudflare.com/ajax/libs/mathjax/2.7.5/MathJax.js?config=TeX-AMS-MML_SVG\"></script><script type=\"text/javascript\">if (window.MathJax && window.MathJax.Hub && window.MathJax.Hub.Config) {window.MathJax.Hub.Config({SVG: {font: \"STIX-Web\"}});}</script>                <script type=\"text/javascript\">window.PlotlyConfig = {MathJaxConfig: 'local'};</script>\n",
              "        <script charset=\"utf-8\" src=\"https://cdn.plot.ly/plotly-2.24.1.min.js\"></script>                <div id=\"dd3402a3-6f93-4940-b00d-ca2c6fa7841e\" class=\"plotly-graph-div\" style=\"height:525px; width:100%;\"></div>            <script type=\"text/javascript\">                                    window.PLOTLYENV=window.PLOTLYENV || {};                                    if (document.getElementById(\"dd3402a3-6f93-4940-b00d-ca2c6fa7841e\")) {                    Plotly.newPlot(                        \"dd3402a3-6f93-4940-b00d-ca2c6fa7841e\",                        [{\"alignmentgroup\":\"True\",\"hovertemplate\":\"identity_term=%{x}\\u003cbr\\u003eSentiment Score Shift=%{y}\\u003cextra\\u003e\\u003c\\u002fextra\\u003e\",\"legendgroup\":\"brahmin\",\"marker\":{\"color\":\"#636efa\",\"pattern\":{\"shape\":\"\"}},\"name\":\"brahmin\",\"offsetgroup\":\"brahmin\",\"orientation\":\"v\",\"showlegend\":true,\"textposition\":\"auto\",\"x\":[\"brahmin\"],\"xaxis\":\"x\",\"y\":[-0.31074440479278564],\"yaxis\":\"y\",\"type\":\"bar\"},{\"alignmentgroup\":\"True\",\"hovertemplate\":\"identity_term=%{x}\\u003cbr\\u003eSentiment Score Shift=%{y}\\u003cextra\\u003e\\u003c\\u002fextra\\u003e\",\"legendgroup\":\"dalit\",\"marker\":{\"color\":\"#EF553B\",\"pattern\":{\"shape\":\"\"}},\"name\":\"dalit\",\"offsetgroup\":\"dalit\",\"orientation\":\"v\",\"showlegend\":true,\"textposition\":\"auto\",\"x\":[\"dalit\"],\"xaxis\":\"x\",\"y\":[0.058626413345336914],\"yaxis\":\"y\",\"type\":\"bar\"},{\"alignmentgroup\":\"True\",\"hovertemplate\":\"identity_term=%{x}\\u003cbr\\u003eSentiment Score Shift=%{y}\\u003cextra\\u003e\\u003c\\u002fextra\\u003e\",\"legendgroup\":\"khsatirya\",\"marker\":{\"color\":\"#00cc96\",\"pattern\":{\"shape\":\"\"}},\"name\":\"khsatirya\",\"offsetgroup\":\"khsatirya\",\"orientation\":\"v\",\"showlegend\":true,\"textposition\":\"auto\",\"x\":[\"khsatirya\"],\"xaxis\":\"x\",\"y\":[-0.2617872357368469],\"yaxis\":\"y\",\"type\":\"bar\"},{\"alignmentgroup\":\"True\",\"hovertemplate\":\"identity_term=%{x}\\u003cbr\\u003eSentiment Score Shift=%{y}\\u003cextra\\u003e\\u003c\\u002fextra\\u003e\",\"legendgroup\":\"vaishya\",\"marker\":{\"color\":\"#ab63fa\",\"pattern\":{\"shape\":\"\"}},\"name\":\"vaishya\",\"offsetgroup\":\"vaishya\",\"orientation\":\"v\",\"showlegend\":true,\"textposition\":\"auto\",\"x\":[\"vaishya\"],\"xaxis\":\"x\",\"y\":[-0.03388124704360962],\"yaxis\":\"y\",\"type\":\"bar\"},{\"alignmentgroup\":\"True\",\"hovertemplate\":\"identity_term=%{x}\\u003cbr\\u003eSentiment Score Shift=%{y}\\u003cextra\\u003e\\u003c\\u002fextra\\u003e\",\"legendgroup\":\"obc\",\"marker\":{\"color\":\"#FFA15A\",\"pattern\":{\"shape\":\"\"}},\"name\":\"obc\",\"offsetgroup\":\"obc\",\"orientation\":\"v\",\"showlegend\":true,\"textposition\":\"auto\",\"x\":[\"obc\"],\"xaxis\":\"x\",\"y\":[-0.032473862171173096],\"yaxis\":\"y\",\"type\":\"bar\"},{\"alignmentgroup\":\"True\",\"hovertemplate\":\"identity_term=%{x}\\u003cbr\\u003eSentiment Score Shift=%{y}\\u003cextra\\u003e\\u003c\\u002fextra\\u003e\",\"legendgroup\":\"sc\\u002fst\",\"marker\":{\"color\":\"#19d3f3\",\"pattern\":{\"shape\":\"\"}},\"name\":\"sc\\u002fst\",\"offsetgroup\":\"sc\\u002fst\",\"orientation\":\"v\",\"showlegend\":true,\"textposition\":\"auto\",\"x\":[\"sc\\u002fst\"],\"xaxis\":\"x\",\"y\":[-0.31544721126556396],\"yaxis\":\"y\",\"type\":\"bar\"},{\"alignmentgroup\":\"True\",\"hovertemplate\":\"identity_term=%{x}\\u003cbr\\u003eSentiment Score Shift=%{y}\\u003cextra\\u003e\\u003c\\u002fextra\\u003e\",\"legendgroup\":\"shudra\",\"marker\":{\"color\":\"#FF6692\",\"pattern\":{\"shape\":\"\"}},\"name\":\"shudra\",\"offsetgroup\":\"shudra\",\"orientation\":\"v\",\"showlegend\":true,\"textposition\":\"auto\",\"x\":[\"shudra\"],\"xaxis\":\"x\",\"y\":[0.0],\"yaxis\":\"y\",\"type\":\"bar\"},{\"alignmentgroup\":\"True\",\"hovertemplate\":\"identity_term=%{x}\\u003cbr\\u003eSentiment Score Shift=%{y}\\u003cextra\\u003e\\u003c\\u002fextra\\u003e\",\"legendgroup\":\"Min_Sentiment for sc\\u002fst\",\"marker\":{\"color\":\"#B6E880\",\"pattern\":{\"shape\":\"\"}},\"name\":\"Min_Sentiment for sc\\u002fst\",\"offsetgroup\":\"Min_Sentiment for sc\\u002fst\",\"orientation\":\"v\",\"showlegend\":true,\"textposition\":\"auto\",\"x\":[\"Min_Sentiment for sc\\u002fst\"],\"xaxis\":\"x\",\"y\":[-0.31544721126556396],\"yaxis\":\"y\",\"type\":\"bar\"},{\"alignmentgroup\":\"True\",\"hovertemplate\":\"identity_term=%{x}\\u003cbr\\u003eSentiment Score Shift=%{y}\\u003cextra\\u003e\\u003c\\u002fextra\\u003e\",\"legendgroup\":\"Max_Sentiment for dalit\",\"marker\":{\"color\":\"#FF97FF\",\"pattern\":{\"shape\":\"\"}},\"name\":\"Max_Sentiment for dalit\",\"offsetgroup\":\"Max_Sentiment for dalit\",\"orientation\":\"v\",\"showlegend\":true,\"textposition\":\"auto\",\"x\":[\"Max_Sentiment for dalit\"],\"xaxis\":\"x\",\"y\":[0.058626413345336914],\"yaxis\":\"y\",\"type\":\"bar\"},{\"alignmentgroup\":\"True\",\"hovertemplate\":\"identity_term=%{x}\\u003cbr\\u003eSentiment Score Shift=%{y}\\u003cextra\\u003e\\u003c\\u002fextra\\u003e\",\"legendgroup\":\"Avg_Sentiment\",\"marker\":{\"color\":\"#FECB52\",\"pattern\":{\"shape\":\"\"}},\"name\":\"Avg_Sentiment\",\"offsetgroup\":\"Avg_Sentiment\",\"orientation\":\"v\",\"showlegend\":true,\"textposition\":\"auto\",\"x\":[\"Avg_Sentiment\"],\"xaxis\":\"x\",\"y\":[-0.1279582210949489],\"yaxis\":\"y\",\"type\":\"bar\"},{\"marker\":{\"color\":\"red\"},\"mode\":\"markers\",\"text\":[0.058626413345336914,-0.31544721126556396,-0.1279582210949489],\"x\":[\"dalit\",\"sc\\u002fst\",\"Avg_Sentiment\"],\"y\":[0.058626413345336914,-0.31544721126556396,-0.1279582210949489],\"type\":\"scatter\"}],                        {\"template\":{\"data\":{\"histogram2dcontour\":[{\"type\":\"histogram2dcontour\",\"colorbar\":{\"outlinewidth\":0,\"ticks\":\"\"},\"colorscale\":[[0.0,\"#0d0887\"],[0.1111111111111111,\"#46039f\"],[0.2222222222222222,\"#7201a8\"],[0.3333333333333333,\"#9c179e\"],[0.4444444444444444,\"#bd3786\"],[0.5555555555555556,\"#d8576b\"],[0.6666666666666666,\"#ed7953\"],[0.7777777777777778,\"#fb9f3a\"],[0.8888888888888888,\"#fdca26\"],[1.0,\"#f0f921\"]]}],\"choropleth\":[{\"type\":\"choropleth\",\"colorbar\":{\"outlinewidth\":0,\"ticks\":\"\"}}],\"histogram2d\":[{\"type\":\"histogram2d\",\"colorbar\":{\"outlinewidth\":0,\"ticks\":\"\"},\"colorscale\":[[0.0,\"#0d0887\"],[0.1111111111111111,\"#46039f\"],[0.2222222222222222,\"#7201a8\"],[0.3333333333333333,\"#9c179e\"],[0.4444444444444444,\"#bd3786\"],[0.5555555555555556,\"#d8576b\"],[0.6666666666666666,\"#ed7953\"],[0.7777777777777778,\"#fb9f3a\"],[0.8888888888888888,\"#fdca26\"],[1.0,\"#f0f921\"]]}],\"heatmap\":[{\"type\":\"heatmap\",\"colorbar\":{\"outlinewidth\":0,\"ticks\":\"\"},\"colorscale\":[[0.0,\"#0d0887\"],[0.1111111111111111,\"#46039f\"],[0.2222222222222222,\"#7201a8\"],[0.3333333333333333,\"#9c179e\"],[0.4444444444444444,\"#bd3786\"],[0.5555555555555556,\"#d8576b\"],[0.6666666666666666,\"#ed7953\"],[0.7777777777777778,\"#fb9f3a\"],[0.8888888888888888,\"#fdca26\"],[1.0,\"#f0f921\"]]}],\"heatmapgl\":[{\"type\":\"heatmapgl\",\"colorbar\":{\"outlinewidth\":0,\"ticks\":\"\"},\"colorscale\":[[0.0,\"#0d0887\"],[0.1111111111111111,\"#46039f\"],[0.2222222222222222,\"#7201a8\"],[0.3333333333333333,\"#9c179e\"],[0.4444444444444444,\"#bd3786\"],[0.5555555555555556,\"#d8576b\"],[0.6666666666666666,\"#ed7953\"],[0.7777777777777778,\"#fb9f3a\"],[0.8888888888888888,\"#fdca26\"],[1.0,\"#f0f921\"]]}],\"contourcarpet\":[{\"type\":\"contourcarpet\",\"colorbar\":{\"outlinewidth\":0,\"ticks\":\"\"}}],\"contour\":[{\"type\":\"contour\",\"colorbar\":{\"outlinewidth\":0,\"ticks\":\"\"},\"colorscale\":[[0.0,\"#0d0887\"],[0.1111111111111111,\"#46039f\"],[0.2222222222222222,\"#7201a8\"],[0.3333333333333333,\"#9c179e\"],[0.4444444444444444,\"#bd3786\"],[0.5555555555555556,\"#d8576b\"],[0.6666666666666666,\"#ed7953\"],[0.7777777777777778,\"#fb9f3a\"],[0.8888888888888888,\"#fdca26\"],[1.0,\"#f0f921\"]]}],\"surface\":[{\"type\":\"surface\",\"colorbar\":{\"outlinewidth\":0,\"ticks\":\"\"},\"colorscale\":[[0.0,\"#0d0887\"],[0.1111111111111111,\"#46039f\"],[0.2222222222222222,\"#7201a8\"],[0.3333333333333333,\"#9c179e\"],[0.4444444444444444,\"#bd3786\"],[0.5555555555555556,\"#d8576b\"],[0.6666666666666666,\"#ed7953\"],[0.7777777777777778,\"#fb9f3a\"],[0.8888888888888888,\"#fdca26\"],[1.0,\"#f0f921\"]]}],\"mesh3d\":[{\"type\":\"mesh3d\",\"colorbar\":{\"outlinewidth\":0,\"ticks\":\"\"}}],\"scatter\":[{\"fillpattern\":{\"fillmode\":\"overlay\",\"size\":10,\"solidity\":0.2},\"type\":\"scatter\"}],\"parcoords\":[{\"type\":\"parcoords\",\"line\":{\"colorbar\":{\"outlinewidth\":0,\"ticks\":\"\"}}}],\"scatterpolargl\":[{\"type\":\"scatterpolargl\",\"marker\":{\"colorbar\":{\"outlinewidth\":0,\"ticks\":\"\"}}}],\"bar\":[{\"error_x\":{\"color\":\"#2a3f5f\"},\"error_y\":{\"color\":\"#2a3f5f\"},\"marker\":{\"line\":{\"color\":\"#E5ECF6\",\"width\":0.5},\"pattern\":{\"fillmode\":\"overlay\",\"size\":10,\"solidity\":0.2}},\"type\":\"bar\"}],\"scattergeo\":[{\"type\":\"scattergeo\",\"marker\":{\"colorbar\":{\"outlinewidth\":0,\"ticks\":\"\"}}}],\"scatterpolar\":[{\"type\":\"scatterpolar\",\"marker\":{\"colorbar\":{\"outlinewidth\":0,\"ticks\":\"\"}}}],\"histogram\":[{\"marker\":{\"pattern\":{\"fillmode\":\"overlay\",\"size\":10,\"solidity\":0.2}},\"type\":\"histogram\"}],\"scattergl\":[{\"type\":\"scattergl\",\"marker\":{\"colorbar\":{\"outlinewidth\":0,\"ticks\":\"\"}}}],\"scatter3d\":[{\"type\":\"scatter3d\",\"line\":{\"colorbar\":{\"outlinewidth\":0,\"ticks\":\"\"}},\"marker\":{\"colorbar\":{\"outlinewidth\":0,\"ticks\":\"\"}}}],\"scattermapbox\":[{\"type\":\"scattermapbox\",\"marker\":{\"colorbar\":{\"outlinewidth\":0,\"ticks\":\"\"}}}],\"scatterternary\":[{\"type\":\"scatterternary\",\"marker\":{\"colorbar\":{\"outlinewidth\":0,\"ticks\":\"\"}}}],\"scattercarpet\":[{\"type\":\"scattercarpet\",\"marker\":{\"colorbar\":{\"outlinewidth\":0,\"ticks\":\"\"}}}],\"carpet\":[{\"aaxis\":{\"endlinecolor\":\"#2a3f5f\",\"gridcolor\":\"white\",\"linecolor\":\"white\",\"minorgridcolor\":\"white\",\"startlinecolor\":\"#2a3f5f\"},\"baxis\":{\"endlinecolor\":\"#2a3f5f\",\"gridcolor\":\"white\",\"linecolor\":\"white\",\"minorgridcolor\":\"white\",\"startlinecolor\":\"#2a3f5f\"},\"type\":\"carpet\"}],\"table\":[{\"cells\":{\"fill\":{\"color\":\"#EBF0F8\"},\"line\":{\"color\":\"white\"}},\"header\":{\"fill\":{\"color\":\"#C8D4E3\"},\"line\":{\"color\":\"white\"}},\"type\":\"table\"}],\"barpolar\":[{\"marker\":{\"line\":{\"color\":\"#E5ECF6\",\"width\":0.5},\"pattern\":{\"fillmode\":\"overlay\",\"size\":10,\"solidity\":0.2}},\"type\":\"barpolar\"}],\"pie\":[{\"automargin\":true,\"type\":\"pie\"}]},\"layout\":{\"autotypenumbers\":\"strict\",\"colorway\":[\"#636efa\",\"#EF553B\",\"#00cc96\",\"#ab63fa\",\"#FFA15A\",\"#19d3f3\",\"#FF6692\",\"#B6E880\",\"#FF97FF\",\"#FECB52\"],\"font\":{\"color\":\"#2a3f5f\"},\"hovermode\":\"closest\",\"hoverlabel\":{\"align\":\"left\"},\"paper_bgcolor\":\"white\",\"plot_bgcolor\":\"#E5ECF6\",\"polar\":{\"bgcolor\":\"#E5ECF6\",\"angularaxis\":{\"gridcolor\":\"white\",\"linecolor\":\"white\",\"ticks\":\"\"},\"radialaxis\":{\"gridcolor\":\"white\",\"linecolor\":\"white\",\"ticks\":\"\"}},\"ternary\":{\"bgcolor\":\"#E5ECF6\",\"aaxis\":{\"gridcolor\":\"white\",\"linecolor\":\"white\",\"ticks\":\"\"},\"baxis\":{\"gridcolor\":\"white\",\"linecolor\":\"white\",\"ticks\":\"\"},\"caxis\":{\"gridcolor\":\"white\",\"linecolor\":\"white\",\"ticks\":\"\"}},\"coloraxis\":{\"colorbar\":{\"outlinewidth\":0,\"ticks\":\"\"}},\"colorscale\":{\"sequential\":[[0.0,\"#0d0887\"],[0.1111111111111111,\"#46039f\"],[0.2222222222222222,\"#7201a8\"],[0.3333333333333333,\"#9c179e\"],[0.4444444444444444,\"#bd3786\"],[0.5555555555555556,\"#d8576b\"],[0.6666666666666666,\"#ed7953\"],[0.7777777777777778,\"#fb9f3a\"],[0.8888888888888888,\"#fdca26\"],[1.0,\"#f0f921\"]],\"sequentialminus\":[[0.0,\"#0d0887\"],[0.1111111111111111,\"#46039f\"],[0.2222222222222222,\"#7201a8\"],[0.3333333333333333,\"#9c179e\"],[0.4444444444444444,\"#bd3786\"],[0.5555555555555556,\"#d8576b\"],[0.6666666666666666,\"#ed7953\"],[0.7777777777777778,\"#fb9f3a\"],[0.8888888888888888,\"#fdca26\"],[1.0,\"#f0f921\"]],\"diverging\":[[0,\"#8e0152\"],[0.1,\"#c51b7d\"],[0.2,\"#de77ae\"],[0.3,\"#f1b6da\"],[0.4,\"#fde0ef\"],[0.5,\"#f7f7f7\"],[0.6,\"#e6f5d0\"],[0.7,\"#b8e186\"],[0.8,\"#7fbc41\"],[0.9,\"#4d9221\"],[1,\"#276419\"]]},\"xaxis\":{\"gridcolor\":\"white\",\"linecolor\":\"white\",\"ticks\":\"\",\"title\":{\"standoff\":15},\"zerolinecolor\":\"white\",\"automargin\":true,\"zerolinewidth\":2},\"yaxis\":{\"gridcolor\":\"white\",\"linecolor\":\"white\",\"ticks\":\"\",\"title\":{\"standoff\":15},\"zerolinecolor\":\"white\",\"automargin\":true,\"zerolinewidth\":2},\"scene\":{\"xaxis\":{\"backgroundcolor\":\"#E5ECF6\",\"gridcolor\":\"white\",\"linecolor\":\"white\",\"showbackground\":true,\"ticks\":\"\",\"zerolinecolor\":\"white\",\"gridwidth\":2},\"yaxis\":{\"backgroundcolor\":\"#E5ECF6\",\"gridcolor\":\"white\",\"linecolor\":\"white\",\"showbackground\":true,\"ticks\":\"\",\"zerolinecolor\":\"white\",\"gridwidth\":2},\"zaxis\":{\"backgroundcolor\":\"#E5ECF6\",\"gridcolor\":\"white\",\"linecolor\":\"white\",\"showbackground\":true,\"ticks\":\"\",\"zerolinecolor\":\"white\",\"gridwidth\":2}},\"shapedefaults\":{\"line\":{\"color\":\"#2a3f5f\"}},\"annotationdefaults\":{\"arrowcolor\":\"#2a3f5f\",\"arrowhead\":0,\"arrowwidth\":1},\"geo\":{\"bgcolor\":\"white\",\"landcolor\":\"#E5ECF6\",\"subunitcolor\":\"white\",\"showland\":true,\"showlakes\":true,\"lakecolor\":\"white\"},\"title\":{\"x\":0.05},\"mapbox\":{\"style\":\"light\"}}},\"xaxis\":{\"anchor\":\"y\",\"domain\":[0.0,1.0],\"title\":{\"text\":\"identity_term\"},\"categoryorder\":\"array\",\"categoryarray\":[\"brahmin\",\"dalit\",\"khsatirya\",\"vaishya\",\"obc\",\"sc\\u002fst\",\"shudra\",\"Min_Sentiment for sc\\u002fst\",\"Max_Sentiment for dalit\",\"Avg_Sentiment\"]},\"yaxis\":{\"anchor\":\"x\",\"domain\":[0.0,1.0],\"title\":{\"text\":\"Sentiment Score Shift\"}},\"legend\":{\"title\":{\"text\":\"identity_term\"},\"tracegroupgap\":0},\"title\":{\"text\":\"Sentiment Scores Shift for Shudra Identity Terms\"},\"barmode\":\"relative\"},                        {\"responsive\": true}                    ).then(function(){\n",
              "                            \n",
              "var gd = document.getElementById('dd3402a3-6f93-4940-b00d-ca2c6fa7841e');\n",
              "var x = new MutationObserver(function (mutations, observer) {{\n",
              "        var display = window.getComputedStyle(gd).display;\n",
              "        if (!display || display === 'none') {{\n",
              "            console.log([gd, 'removed!']);\n",
              "            Plotly.purge(gd);\n",
              "            observer.disconnect();\n",
              "        }}\n",
              "}});\n",
              "\n",
              "// Listen for the removal of the full notebook cells\n",
              "var notebookContainer = gd.closest('#notebook-container');\n",
              "if (notebookContainer) {{\n",
              "    x.observe(notebookContainer, {childList: true});\n",
              "}}\n",
              "\n",
              "// Listen for the clearing of the current output cell\n",
              "var outputEl = gd.closest('.output');\n",
              "if (outputEl) {{\n",
              "    x.observe(outputEl, {childList: true});\n",
              "}}\n",
              "\n",
              "                        })                };                            </script>        </div>\n",
              "</body>\n",
              "</html>"
            ]
          },
          "metadata": {}
        }
      ]
    },
    {
      "cell_type": "markdown",
      "source": [
        "# Analysis of gendered correlation in pretrained models\n",
        "\n",
        "# mBERT on Indian Names with limit on names and templates"
      ],
      "metadata": {
        "id": "GYVxyw5zXZvR"
      }
    },
    {
      "cell_type": "code",
      "source": [
        "# Step 1: Install Required Packages\n",
        "!pip install transformers pandas\n",
        "\n",
        "# Step 2: Import Libraries\n",
        "import requests\n",
        "import pandas as pd\n",
        "from transformers import pipeline\n",
        "\n",
        "# Step 3: Data Collection\n",
        "def get_indian_names(seed_category):\n",
        "    endpoint = \"https://en.wikipedia.org/w/api.php\"\n",
        "    params = {\n",
        "        'action': 'query',\n",
        "        'list': 'categorymembers',\n",
        "        'cmtitle': seed_category,\n",
        "        'cmlimit': 500,\n",
        "        'format': 'json'\n",
        "    }\n",
        "    response = requests.get(endpoint, params=params)\n",
        "    data = response.json()\n",
        "    return [member['title'] for member in data['query']['categorymembers']]\n",
        "\n",
        "# Example usage\n",
        "seed_category = \"Category:Indian_names\"\n",
        "indian_names = get_indian_names(seed_category)\n",
        "\n",
        "# Step 4: Load Templates from Google Drive\n",
        "templates_url = \"https://drive.google.com/uc?id=1EaNoL_FRFlFyyyb4XPL7a2Q214ajm0R4\"\n",
        "templates_df = pd.read_csv(templates_url, sep='\\t')\n",
        "\n",
        "# Step 5: Define Functions for Analysis\n",
        "def perform_slot_filling(model, templates, names):\n",
        "    nlp_fill_mask = pipeline(\"fill-mask\", model=model)\n",
        "    results = []\n",
        "    for name in names:\n",
        "        for template in templates:\n",
        "            # Replace [SLOT] with the name and [MASK] with a placeholder word, e.g., 'is'\n",
        "            text = template.replace('[SLOT]', name).replace('[MASK]', 'is')\n",
        "            # Ensure there is at least one [MASK] token in the text\n",
        "            if '[MASK]' not in text:\n",
        "                text += ' [MASK]'\n",
        "            prediction = nlp_fill_mask(text)\n",
        "            results.append({'name': name, 'template': template, 'prediction': prediction[0]['token_str']})\n",
        "    return pd.DataFrame(results)\n",
        "\n",
        "\n",
        "def calculate_disco_metric(predictions, templates):\n",
        "    unique_predictions = predictions['prediction'].unique()\n",
        "    return len(unique_predictions)\n",
        "\n",
        "# Limit the number of names and templates for testing\n",
        "limit_names = 50\n",
        "limit_templates = 20\n",
        "\n",
        "# Step 7: Analysis with Indian Names - mBERT\n",
        "results_indian_mbert = perform_slot_filling(mBERT_model, templates_df['template'], indian_names)\n",
        "disco_metric_indian_mbert = calculate_disco_metric(results_indian_mbert, templates_df['template'][:limit_templates][:limit_names])\n",
        "\n",
        "print(\"DisCo Metric with Indian Names - mBERT:\", disco_metric_indian_mbert)\n"
      ],
      "metadata": {
        "colab": {
          "base_uri": "https://localhost:8080/"
        },
        "id": "5tOIk9pmX_lN",
        "outputId": "cc87b1da-9072-485c-ed38-00ce93404f44"
      },
      "execution_count": null,
      "outputs": [
        {
          "output_type": "stream",
          "name": "stdout",
          "text": [
            "Requirement already satisfied: transformers in /usr/local/lib/python3.10/dist-packages (4.35.2)\n",
            "Requirement already satisfied: pandas in /usr/local/lib/python3.10/dist-packages (1.5.3)\n",
            "Requirement already satisfied: filelock in /usr/local/lib/python3.10/dist-packages (from transformers) (3.13.1)\n",
            "Requirement already satisfied: huggingface-hub<1.0,>=0.16.4 in /usr/local/lib/python3.10/dist-packages (from transformers) (0.19.4)\n",
            "Requirement already satisfied: numpy>=1.17 in /usr/local/lib/python3.10/dist-packages (from transformers) (1.23.5)\n",
            "Requirement already satisfied: packaging>=20.0 in /usr/local/lib/python3.10/dist-packages (from transformers) (23.2)\n",
            "Requirement already satisfied: pyyaml>=5.1 in /usr/local/lib/python3.10/dist-packages (from transformers) (6.0.1)\n",
            "Requirement already satisfied: regex!=2019.12.17 in /usr/local/lib/python3.10/dist-packages (from transformers) (2023.6.3)\n",
            "Requirement already satisfied: requests in /usr/local/lib/python3.10/dist-packages (from transformers) (2.31.0)\n",
            "Requirement already satisfied: tokenizers<0.19,>=0.14 in /usr/local/lib/python3.10/dist-packages (from transformers) (0.15.0)\n",
            "Requirement already satisfied: safetensors>=0.3.1 in /usr/local/lib/python3.10/dist-packages (from transformers) (0.4.0)\n",
            "Requirement already satisfied: tqdm>=4.27 in /usr/local/lib/python3.10/dist-packages (from transformers) (4.66.1)\n",
            "Requirement already satisfied: python-dateutil>=2.8.1 in /usr/local/lib/python3.10/dist-packages (from pandas) (2.8.2)\n",
            "Requirement already satisfied: pytz>=2020.1 in /usr/local/lib/python3.10/dist-packages (from pandas) (2023.3.post1)\n",
            "Requirement already satisfied: fsspec>=2023.5.0 in /usr/local/lib/python3.10/dist-packages (from huggingface-hub<1.0,>=0.16.4->transformers) (2023.6.0)\n",
            "Requirement already satisfied: typing-extensions>=3.7.4.3 in /usr/local/lib/python3.10/dist-packages (from huggingface-hub<1.0,>=0.16.4->transformers) (4.5.0)\n",
            "Requirement already satisfied: six>=1.5 in /usr/local/lib/python3.10/dist-packages (from python-dateutil>=2.8.1->pandas) (1.16.0)\n",
            "Requirement already satisfied: charset-normalizer<4,>=2 in /usr/local/lib/python3.10/dist-packages (from requests->transformers) (3.3.2)\n",
            "Requirement already satisfied: idna<4,>=2.5 in /usr/local/lib/python3.10/dist-packages (from requests->transformers) (3.4)\n",
            "Requirement already satisfied: urllib3<3,>=1.21.1 in /usr/local/lib/python3.10/dist-packages (from requests->transformers) (2.0.7)\n",
            "Requirement already satisfied: certifi>=2017.4.17 in /usr/local/lib/python3.10/dist-packages (from requests->transformers) (2023.7.22)\n"
          ]
        },
        {
          "output_type": "stream",
          "name": "stderr",
          "text": [
            "Some weights of the model checkpoint at bert-base-multilingual-cased were not used when initializing BertForMaskedLM: ['bert.pooler.dense.weight', 'cls.seq_relationship.weight', 'cls.seq_relationship.bias', 'bert.pooler.dense.bias']\n",
            "- This IS expected if you are initializing BertForMaskedLM from the checkpoint of a model trained on another task or with another architecture (e.g. initializing a BertForSequenceClassification model from a BertForPreTraining model).\n",
            "- This IS NOT expected if you are initializing BertForMaskedLM from the checkpoint of a model that you expect to be exactly identical (initializing a BertForSequenceClassification model from a BertForSequenceClassification model).\n"
          ]
        },
        {
          "output_type": "stream",
          "name": "stdout",
          "text": [
            "DisCo Metric with Indian Names - mBERT: 16\n"
          ]
        }
      ]
    },
    {
      "cell_type": "markdown",
      "source": [
        "# mBERT with American names with a limit on names and templates"
      ],
      "metadata": {
        "id": "rvoPN4F1YJp-"
      }
    },
    {
      "cell_type": "code",
      "source": [
        "# Step 1: Install Required Packages\n",
        "!pip install transformers pandas\n",
        "\n",
        "# Step 2: Import Libraries\n",
        "import pandas as pd\n",
        "from transformers import pipeline\n",
        "\n",
        "# Step 3: Load American Names from Google Drive TSV\n",
        "names_url = \"https://drive.google.com/uc?id=1MGi6CjSks_VNfq9FQw-KwOcwP6ynmj-0\"\n",
        "names_df = pd.read_csv(names_url, sep='\\t', header=None, names=['male', 'female'])\n",
        "\n",
        "# Replace NaN values with an empty string\n",
        "names_df['male'] = names_df['male'].fillna('')\n",
        "names_df['female'] = names_df['female'].fillna('')\n",
        "\n",
        "# Combine male and female names\n",
        "all_names = list(names_df['male']) + list(names_df['female'])\n",
        "\n",
        "# Step 4: Load Templates from Google Drive\n",
        "templates_url = \"https://drive.google.com/uc?id=1EaNoL_FRFlFyyyb4XPL7a2Q214ajm0R4\"\n",
        "templates_df = pd.read_csv(templates_url, sep='\\t')\n",
        "\n",
        "# Step 5: Define Functions for Analysis\n",
        "def perform_slot_filling(model, templates, names):\n",
        "    nlp_fill_mask = pipeline(\"fill-mask\", model=model)\n",
        "    results = []\n",
        "    for name in names:\n",
        "        for template in templates:\n",
        "            # Replace [SLOT] with the name and [MASK] with a placeholder word, e.g., 'is'\n",
        "            text = template.replace('[SLOT]', name).replace('[MASK]', 'is')\n",
        "            # Ensure there is at least one [MASK] token in the text\n",
        "            if '[MASK]' not in text:\n",
        "                text += ' [MASK]'\n",
        "            prediction = nlp_fill_mask(text)\n",
        "            results.append({'name': name, 'template': template, 'prediction': prediction[0]['token_str']})\n",
        "    return pd.DataFrame(results)\n",
        "\n",
        "\n",
        "def calculate_disco_metric(predictions, templates):\n",
        "    unique_predictions = predictions['prediction'].unique()\n",
        "    return len(unique_predictions)\n",
        "\n",
        "# Step 6: Analysis with American Names - mBERT\n",
        "mBERT_model = \"bert-base-multilingual-cased\"  # Replace with the correct mBERT model\n",
        "\n",
        "# Limit the number of names and templates for testing\n",
        "limit_names = 50\n",
        "limit_templates = 20\n",
        "\n",
        "results_american_mbert = perform_slot_filling(mBERT_model, templates_df['template'][:limit_templates], all_names[:limit_names])\n",
        "disco_metric_american_mbert = calculate_disco_metric(results_american_mbert, templates_df['template'][:limit_templates])\n",
        "\n",
        "# Step 7: Display and Interpret Results\n",
        "print(\"DisCo Metric with American Names - mBERT:\", disco_metric_american_mbert)\n"
      ],
      "metadata": {
        "colab": {
          "base_uri": "https://localhost:8080/",
          "height": 622,
          "referenced_widgets": [
            "c106233b464d4bd39e14ffe023fd92ec",
            "486c82ef5f14487e8bbda4fd72a80781",
            "57616d28a2d34423b55d3a2ed32f4f72",
            "d91fad72d5614c52acf5c04a5a1fa21b",
            "5a2170d976cb4dbbaf8655b9bccf9b42",
            "85941e5cdf864668aa02775d837de4ee",
            "57553fa2a5d04103890290ab92f8fc3f",
            "0cf326929d7348b585c84f5aa98d1409",
            "ac2975b486fc4e23bfedfded59c977cf",
            "38e022e539e24f348d4ccf1214d58736",
            "f6d908c775604222b92ed8decb9c0aad",
            "9c61609375b04a279e4242c5eb0aeb0b",
            "1876a02507aa429eb98d22a09f9b0afb",
            "50c1df369ea543d6944af0f85e255fc2",
            "2adb36976f2e4448a7830c637b987b37",
            "4b4118ac502e4c40bdfb2cd1a030680a",
            "67e766133c724a51951e2b0d3a6fca24",
            "c27f523f148e4e1f8e078b6e543910e9",
            "03ff985132904420a82c2436193e460c",
            "1f902626840c415ca79f7d6f52089854",
            "69a61f1347fc4a1d953cbf5583515f8b",
            "faf9d3573de949cfa8f82e5c87c8a3cf",
            "da7cdaa217d04fbfbc049f2314966ae9",
            "a884f19cac414707ab8ecb25e0532301",
            "41b596a5969047adb61c86cc96580511",
            "a4e2cf942d354912b275c10a3c5757d5",
            "19fa31bb4ee74889b4cb0b0fd9e4f505",
            "323e6578d4554b31a9e2457b3d642784",
            "d92903dd57c549c2a72099612e5ab463",
            "ba51447e4e984bdfbed692710f71a0b4",
            "a270f1afe0694b93a00c51acee411179",
            "873f561b2dcf4d9e8878158caf24c150",
            "7426f21d46cf4b689b908de48c410750",
            "0d55e51b0bfe4349ad65afe65cdf9ddf",
            "7aea1467ed614270b93a4d7064ab93f0",
            "e7472a8b97094eb5a21c54313a881783",
            "1c011ca3e6da46fa884a42d4fcf4b983",
            "060cd3ad23db4c0da99066d02fea6f57",
            "2a6a5da0c01e4f5cb24dc013dc17ac2d",
            "01831938a019427d99587681f1409c0e",
            "34c95029545b4bbe8dcbe283173235e8",
            "956a0461e86f410583e3f141407bd167",
            "862ec39ad1ad484fb91efcb7ddccd087",
            "797010d7d9a3429f98097a1a5e8624df",
            "be772b4f5942432fa65ddddb0b45f310",
            "a6f6703837534345b2d9bb798e27b6b8",
            "4dcf8a09f2a84e5a8f5816903b767489",
            "4de1c663887249c1a051b5255754eb1b",
            "8fa2311a4bbd4955ae0c662e210dbbf3",
            "9021c3e0845c4a49915105fca2b21a6b",
            "4974c9861e554d50a5f4f37ab2b6e973",
            "6af54bb4272f4d3fb77fe610f89c3a33",
            "34ce484bcf0e4b09976eec39e274fe7c",
            "bb555bc5da764a8786acbafbea844497",
            "0c62f178b1e4436f99e25978fa97e524"
          ]
        },
        "id": "rzJfwY8mtuWC",
        "outputId": "f3fe8596-88c2-47d4-c666-8f59567ef37b"
      },
      "execution_count": null,
      "outputs": [
        {
          "output_type": "stream",
          "name": "stdout",
          "text": [
            "Requirement already satisfied: transformers in /usr/local/lib/python3.10/dist-packages (4.35.2)\n",
            "Requirement already satisfied: pandas in /usr/local/lib/python3.10/dist-packages (1.5.3)\n",
            "Requirement already satisfied: filelock in /usr/local/lib/python3.10/dist-packages (from transformers) (3.13.1)\n",
            "Requirement already satisfied: huggingface-hub<1.0,>=0.16.4 in /usr/local/lib/python3.10/dist-packages (from transformers) (0.19.4)\n",
            "Requirement already satisfied: numpy>=1.17 in /usr/local/lib/python3.10/dist-packages (from transformers) (1.23.5)\n",
            "Requirement already satisfied: packaging>=20.0 in /usr/local/lib/python3.10/dist-packages (from transformers) (23.2)\n",
            "Requirement already satisfied: pyyaml>=5.1 in /usr/local/lib/python3.10/dist-packages (from transformers) (6.0.1)\n",
            "Requirement already satisfied: regex!=2019.12.17 in /usr/local/lib/python3.10/dist-packages (from transformers) (2023.6.3)\n",
            "Requirement already satisfied: requests in /usr/local/lib/python3.10/dist-packages (from transformers) (2.31.0)\n",
            "Requirement already satisfied: tokenizers<0.19,>=0.14 in /usr/local/lib/python3.10/dist-packages (from transformers) (0.15.0)\n",
            "Requirement already satisfied: safetensors>=0.3.1 in /usr/local/lib/python3.10/dist-packages (from transformers) (0.4.0)\n",
            "Requirement already satisfied: tqdm>=4.27 in /usr/local/lib/python3.10/dist-packages (from transformers) (4.66.1)\n",
            "Requirement already satisfied: python-dateutil>=2.8.1 in /usr/local/lib/python3.10/dist-packages (from pandas) (2.8.2)\n",
            "Requirement already satisfied: pytz>=2020.1 in /usr/local/lib/python3.10/dist-packages (from pandas) (2023.3.post1)\n",
            "Requirement already satisfied: fsspec>=2023.5.0 in /usr/local/lib/python3.10/dist-packages (from huggingface-hub<1.0,>=0.16.4->transformers) (2023.6.0)\n",
            "Requirement already satisfied: typing-extensions>=3.7.4.3 in /usr/local/lib/python3.10/dist-packages (from huggingface-hub<1.0,>=0.16.4->transformers) (4.5.0)\n",
            "Requirement already satisfied: six>=1.5 in /usr/local/lib/python3.10/dist-packages (from python-dateutil>=2.8.1->pandas) (1.16.0)\n",
            "Requirement already satisfied: charset-normalizer<4,>=2 in /usr/local/lib/python3.10/dist-packages (from requests->transformers) (3.3.2)\n",
            "Requirement already satisfied: idna<4,>=2.5 in /usr/local/lib/python3.10/dist-packages (from requests->transformers) (3.4)\n",
            "Requirement already satisfied: urllib3<3,>=1.21.1 in /usr/local/lib/python3.10/dist-packages (from requests->transformers) (2.0.7)\n",
            "Requirement already satisfied: certifi>=2017.4.17 in /usr/local/lib/python3.10/dist-packages (from requests->transformers) (2023.7.22)\n"
          ]
        },
        {
          "output_type": "display_data",
          "data": {
            "text/plain": [
              "config.json:   0%|          | 0.00/625 [00:00<?, ?B/s]"
            ],
            "application/vnd.jupyter.widget-view+json": {
              "version_major": 2,
              "version_minor": 0,
              "model_id": "c106233b464d4bd39e14ffe023fd92ec"
            }
          },
          "metadata": {}
        },
        {
          "output_type": "display_data",
          "data": {
            "text/plain": [
              "model.safetensors:   0%|          | 0.00/714M [00:00<?, ?B/s]"
            ],
            "application/vnd.jupyter.widget-view+json": {
              "version_major": 2,
              "version_minor": 0,
              "model_id": "9c61609375b04a279e4242c5eb0aeb0b"
            }
          },
          "metadata": {}
        },
        {
          "output_type": "stream",
          "name": "stderr",
          "text": [
            "Some weights of the model checkpoint at bert-base-multilingual-cased were not used when initializing BertForMaskedLM: ['bert.pooler.dense.weight', 'cls.seq_relationship.weight', 'cls.seq_relationship.bias', 'bert.pooler.dense.bias']\n",
            "- This IS expected if you are initializing BertForMaskedLM from the checkpoint of a model trained on another task or with another architecture (e.g. initializing a BertForSequenceClassification model from a BertForPreTraining model).\n",
            "- This IS NOT expected if you are initializing BertForMaskedLM from the checkpoint of a model that you expect to be exactly identical (initializing a BertForSequenceClassification model from a BertForSequenceClassification model).\n"
          ]
        },
        {
          "output_type": "display_data",
          "data": {
            "text/plain": [
              "tokenizer_config.json:   0%|          | 0.00/29.0 [00:00<?, ?B/s]"
            ],
            "application/vnd.jupyter.widget-view+json": {
              "version_major": 2,
              "version_minor": 0,
              "model_id": "da7cdaa217d04fbfbc049f2314966ae9"
            }
          },
          "metadata": {}
        },
        {
          "output_type": "display_data",
          "data": {
            "text/plain": [
              "vocab.txt:   0%|          | 0.00/996k [00:00<?, ?B/s]"
            ],
            "application/vnd.jupyter.widget-view+json": {
              "version_major": 2,
              "version_minor": 0,
              "model_id": "0d55e51b0bfe4349ad65afe65cdf9ddf"
            }
          },
          "metadata": {}
        },
        {
          "output_type": "display_data",
          "data": {
            "text/plain": [
              "tokenizer.json:   0%|          | 0.00/1.96M [00:00<?, ?B/s]"
            ],
            "application/vnd.jupyter.widget-view+json": {
              "version_major": 2,
              "version_minor": 0,
              "model_id": "be772b4f5942432fa65ddddb0b45f310"
            }
          },
          "metadata": {}
        },
        {
          "output_type": "stream",
          "name": "stdout",
          "text": [
            "DisCo Metric with American Names - mBERT: 26\n"
          ]
        }
      ]
    },
    {
      "cell_type": "markdown",
      "source": [
        "# muRIL for Indian Names"
      ],
      "metadata": {
        "id": "MK_wmvMtt3jh"
      }
    },
    {
      "cell_type": "code",
      "source": [
        "# Step 1: Install Required Packages\n",
        "!pip install transformers pandas\n",
        "\n",
        "# Step 2: Import Libraries\n",
        "import requests\n",
        "import pandas as pd\n",
        "from transformers import pipeline\n",
        "\n",
        "# Step 3: Data Collection\n",
        "def get_indian_names(seed_category):\n",
        "    endpoint = \"https://en.wikipedia.org/w/api.php\"\n",
        "    params = {\n",
        "        'action': 'query',\n",
        "        'list': 'categorymembers',\n",
        "        'cmtitle': seed_category,\n",
        "        'cmlimit': 500,\n",
        "        'format': 'json'\n",
        "    }\n",
        "    response = requests.get(endpoint, params=params)\n",
        "    data = response.json()\n",
        "    return [member['title'] for member in data['query']['categorymembers']]\n",
        "\n",
        "# Example usage\n",
        "seed_category = \"Category:Indian_names\"\n",
        "indian_names = get_indian_names(seed_category)\n",
        "\n",
        "# Step 4: Load Templates from Google Drive\n",
        "templates_url = \"https://drive.google.com/uc?id=1EaNoL_FRFlFyyyb4XPL7a2Q214ajm0R4\"\n",
        "templates_df = pd.read_csv(templates_url, sep='\\t')\n",
        "\n",
        "# Step 5: Define Functions for Analysis\n",
        "def perform_slot_filling(model, templates, names):\n",
        "    nlp_fill_mask = pipeline(\"fill-mask\", model=model)\n",
        "    results = []\n",
        "    for name in names:\n",
        "        for template in templates:\n",
        "            # Replace [SLOT] with the name and [MASK] with a placeholder word, e.g., 'is'\n",
        "            text = template.replace('[SLOT]', name).replace('[MASK]', 'is')\n",
        "            # Ensure there is at least one [MASK] token in the text\n",
        "            if '[MASK]' not in text:\n",
        "                text += ' [MASK]'\n",
        "            prediction = nlp_fill_mask(text)\n",
        "            results.append({'name': name, 'template': template, 'prediction': prediction[0]['sequence']})\n",
        "    df = pd.DataFrame(results)\n",
        "    return df\n",
        "\n",
        "def calculate_disco_metric(predictions, templates):\n",
        "    unique_predictions = predictions['prediction'].str.lower().unique()\n",
        "    return len(unique_predictions)\n",
        "\n",
        "# Step 6: Analysis with Indian Names - MuRIL\n",
        "muril_model = \"google/muril-base-cased\"\n",
        "results_indian_muril = perform_slot_filling(muril_model, templates_df['template'], indian_names)\n",
        "disco_metric_indian_muril = calculate_disco_metric(results_indian_muril, templates_df['template'])\n",
        "\n",
        "# Step 7: Display and Interpret Results\n",
        "print(\"DisCo Metric with Indian Names - MuRIL:\", disco_metric_indian_muril)\n"
      ],
      "metadata": {
        "colab": {
          "base_uri": "https://localhost:8080/",
          "height": 622,
          "referenced_widgets": [
            "8499271c7f95446bac3e0976a9570a04",
            "67c2bf98313f4a3ab829a25165ee7bc7",
            "d9defc9db4ea48bfad1d11551689b18d",
            "33ed0ae6fe0645db83be9cd9c88530e5",
            "f8608b4361d54d7ab0fe4eb223844a9c",
            "dee002cf8bf146b9a9b8a89427b37f6c",
            "c7491e11dd894ae0be93115c25155c04",
            "3af2ee3a35284d97a37ca793d808e719",
            "be34f20f10f540c68ecc5888538c5fb2",
            "10a6008c23d8455c926b50ebea9763da",
            "629cc8ce64c44398a401200ccfe404bd",
            "8c586e1741d34e458eb74ceb8a7c529f",
            "9ebaf42ab36c4bc3aa5d74ac697c143f",
            "d18efb5c431a48308599144880919883",
            "61d3e23408a34256a9b5742e9e622d22",
            "da510a2321e74602ae3ba6c1bcaf88e9",
            "dccab9b1abc04237ba4115a425c64f8b",
            "3f177c17f6a54b3eab83e85249342b5b",
            "5249b5d8715041449fd285cf2b8f3722",
            "6a8153a462ae4142ad246e1fb62149ec",
            "8636ba5d2f814783928287029584f04f",
            "5a5632e25adc4d92a27dca80d54a126e",
            "8d219ffd8cc049168f20a8260fef3eaa",
            "40dc013b2ff34886a66992f08708c29f",
            "0e2cbff6a2de4961a1f09bf494c908bb",
            "3cb1e805268a4f5aa2cc8951d21032ac",
            "a95f8f85db3a4a768a0917225c39c8b7",
            "ebddfa7e0c59464f9907cbb9877e2436",
            "d2882caadb0246bcb2ef95ece29163cf",
            "a6bdd5e08bfa43209e6de089b2acdd80",
            "a99bd48e49594bc0b36047b9b9aef837",
            "8fc12d4715e7450f8d090467b6da75bc",
            "74670bcbdeae46abaa4c563eabf09f81",
            "19c4605d941e4af9a7b673b2694997f5",
            "a84a506a460746e99e0129feddd37c6f",
            "49407162aa96457382379a31c4c1deeb",
            "90164b6fc18b488d96be190cf8046ade",
            "2b144bc37546460b80268b73fd0dac99",
            "c04252fa3df947f490704f4073ac1f9d",
            "17380ab9ff814108b1c7024f927241e5",
            "e99eca0931904d6c81e9833d6088cee4",
            "125323f231e24681a87d7e0792f781dc",
            "593c0451510944419a8fcdd7062e6ce2",
            "c7a4743b50194a70b07f63b7257e4839",
            "8f8172d589754bbb9c8d6da9779098e0",
            "550d24fb37fa4f408f8b35181a2a3c00",
            "de1080a6c8bf4f7590188bcb045abf1b",
            "3e1f84f782bb40ce8c64cf704ae03bcf",
            "4f949c9644614cc2a49c0d065ef052c4",
            "d347291b2c99410280259d5ff6129895",
            "87e6808dea9b441e841c3895cdc7491c",
            "72fd8bd04c104cb6bdf9c8615cd733c5",
            "3563d852a6b64f278e869ca1bfa7dda6",
            "1f55c73ef1c6408780d4de4bdd7c14f8",
            "7efa24703c12431e8cb01abb47a36695"
          ]
        },
        "id": "hhjjpOXBjpve",
        "outputId": "38262143-c16c-48e0-e194-6e2a2c74013d"
      },
      "execution_count": null,
      "outputs": [
        {
          "output_type": "stream",
          "name": "stdout",
          "text": [
            "Requirement already satisfied: transformers in /usr/local/lib/python3.10/dist-packages (4.35.2)\n",
            "Requirement already satisfied: pandas in /usr/local/lib/python3.10/dist-packages (1.5.3)\n",
            "Requirement already satisfied: filelock in /usr/local/lib/python3.10/dist-packages (from transformers) (3.13.1)\n",
            "Requirement already satisfied: huggingface-hub<1.0,>=0.16.4 in /usr/local/lib/python3.10/dist-packages (from transformers) (0.19.4)\n",
            "Requirement already satisfied: numpy>=1.17 in /usr/local/lib/python3.10/dist-packages (from transformers) (1.23.5)\n",
            "Requirement already satisfied: packaging>=20.0 in /usr/local/lib/python3.10/dist-packages (from transformers) (23.2)\n",
            "Requirement already satisfied: pyyaml>=5.1 in /usr/local/lib/python3.10/dist-packages (from transformers) (6.0.1)\n",
            "Requirement already satisfied: regex!=2019.12.17 in /usr/local/lib/python3.10/dist-packages (from transformers) (2023.6.3)\n",
            "Requirement already satisfied: requests in /usr/local/lib/python3.10/dist-packages (from transformers) (2.31.0)\n",
            "Requirement already satisfied: tokenizers<0.19,>=0.14 in /usr/local/lib/python3.10/dist-packages (from transformers) (0.15.0)\n",
            "Requirement already satisfied: safetensors>=0.3.1 in /usr/local/lib/python3.10/dist-packages (from transformers) (0.4.0)\n",
            "Requirement already satisfied: tqdm>=4.27 in /usr/local/lib/python3.10/dist-packages (from transformers) (4.66.1)\n",
            "Requirement already satisfied: python-dateutil>=2.8.1 in /usr/local/lib/python3.10/dist-packages (from pandas) (2.8.2)\n",
            "Requirement already satisfied: pytz>=2020.1 in /usr/local/lib/python3.10/dist-packages (from pandas) (2023.3.post1)\n",
            "Requirement already satisfied: fsspec>=2023.5.0 in /usr/local/lib/python3.10/dist-packages (from huggingface-hub<1.0,>=0.16.4->transformers) (2023.6.0)\n",
            "Requirement already satisfied: typing-extensions>=3.7.4.3 in /usr/local/lib/python3.10/dist-packages (from huggingface-hub<1.0,>=0.16.4->transformers) (4.5.0)\n",
            "Requirement already satisfied: six>=1.5 in /usr/local/lib/python3.10/dist-packages (from python-dateutil>=2.8.1->pandas) (1.16.0)\n",
            "Requirement already satisfied: charset-normalizer<4,>=2 in /usr/local/lib/python3.10/dist-packages (from requests->transformers) (3.3.2)\n",
            "Requirement already satisfied: idna<4,>=2.5 in /usr/local/lib/python3.10/dist-packages (from requests->transformers) (3.4)\n",
            "Requirement already satisfied: urllib3<3,>=1.21.1 in /usr/local/lib/python3.10/dist-packages (from requests->transformers) (2.0.7)\n",
            "Requirement already satisfied: certifi>=2017.4.17 in /usr/local/lib/python3.10/dist-packages (from requests->transformers) (2023.7.22)\n"
          ]
        },
        {
          "output_type": "display_data",
          "data": {
            "text/plain": [
              "config.json:   0%|          | 0.00/411 [00:00<?, ?B/s]"
            ],
            "application/vnd.jupyter.widget-view+json": {
              "version_major": 2,
              "version_minor": 0,
              "model_id": "8499271c7f95446bac3e0976a9570a04"
            }
          },
          "metadata": {}
        },
        {
          "output_type": "display_data",
          "data": {
            "text/plain": [
              "pytorch_model.bin:   0%|          | 0.00/953M [00:00<?, ?B/s]"
            ],
            "application/vnd.jupyter.widget-view+json": {
              "version_major": 2,
              "version_minor": 0,
              "model_id": "8c586e1741d34e458eb74ceb8a7c529f"
            }
          },
          "metadata": {}
        },
        {
          "output_type": "stream",
          "name": "stderr",
          "text": [
            "Some weights of the model checkpoint at google/muril-base-cased were not used when initializing BertForMaskedLM: ['bert.pooler.dense.weight', 'cls.seq_relationship.weight', 'cls.seq_relationship.bias', 'bert.pooler.dense.bias']\n",
            "- This IS expected if you are initializing BertForMaskedLM from the checkpoint of a model trained on another task or with another architecture (e.g. initializing a BertForSequenceClassification model from a BertForPreTraining model).\n",
            "- This IS NOT expected if you are initializing BertForMaskedLM from the checkpoint of a model that you expect to be exactly identical (initializing a BertForSequenceClassification model from a BertForSequenceClassification model).\n"
          ]
        },
        {
          "output_type": "display_data",
          "data": {
            "text/plain": [
              "tokenizer_config.json:   0%|          | 0.00/206 [00:00<?, ?B/s]"
            ],
            "application/vnd.jupyter.widget-view+json": {
              "version_major": 2,
              "version_minor": 0,
              "model_id": "8d219ffd8cc049168f20a8260fef3eaa"
            }
          },
          "metadata": {}
        },
        {
          "output_type": "display_data",
          "data": {
            "text/plain": [
              "vocab.txt:   0%|          | 0.00/3.16M [00:00<?, ?B/s]"
            ],
            "application/vnd.jupyter.widget-view+json": {
              "version_major": 2,
              "version_minor": 0,
              "model_id": "19c4605d941e4af9a7b673b2694997f5"
            }
          },
          "metadata": {}
        },
        {
          "output_type": "display_data",
          "data": {
            "text/plain": [
              "special_tokens_map.json:   0%|          | 0.00/113 [00:00<?, ?B/s]"
            ],
            "application/vnd.jupyter.widget-view+json": {
              "version_major": 2,
              "version_minor": 0,
              "model_id": "8f8172d589754bbb9c8d6da9779098e0"
            }
          },
          "metadata": {}
        },
        {
          "output_type": "stream",
          "name": "stdout",
          "text": [
            "DisCo Metric with Indian Names - MuRIL: 1235\n"
          ]
        }
      ]
    },
    {
      "cell_type": "markdown",
      "source": [
        "# muRIL for American Names"
      ],
      "metadata": {
        "id": "wEoXrp0nt9Jr"
      }
    },
    {
      "cell_type": "code",
      "source": [
        "from google.colab import drive\n",
        "drive.mount('/content/gdrive')\n",
        "\n",
        "\n",
        "# Step 1: Install Required Packages\n",
        "!pip install transformers pandas\n",
        "\n",
        "# Step 2: Import Libraries\n",
        "import pandas as pd\n",
        "from transformers import pipeline\n",
        "\n",
        "# Step 3: Load American Names from Google Drive TSV\n",
        "names_url = \"https://drive.google.com/uc?id=1MGi6CjSks_VNfq9FQw-KwOcwP6ynmj-0\"\n",
        "names_df = pd.read_csv(names_url, sep='\\t', header=None, names=['male', 'female'])\n",
        "\n",
        "# Replace NaN values with an empty string\n",
        "names_df['male'] = names_df['male'].fillna('')\n",
        "names_df['female'] = names_df['female'].fillna('')\n",
        "\n",
        "# Combine male and female names\n",
        "all_names = list(names_df['male']) + list(names_df['female'])\n",
        "\n",
        "# Step new: Load Templates from Google Drive\n",
        "templates_url = \"https://drive.google.com/uc?id=1EaNoL_FRFlFyyyb4XPL7a2Q214ajm0R4\"\n",
        "templates_df = pd.read_csv(templates_url, sep='\\t')\n",
        "\n",
        "# Step 4: Define Functions for Analysis\n",
        "def perform_slot_filling(model, templates, names):\n",
        "    nlp_fill_mask = pipeline(\"fill-mask\", model=model)\n",
        "    results = []\n",
        "    for name in names:\n",
        "        for template in templates:\n",
        "            # Replace [SLOT] with the name and [MASK] with a placeholder word, e.g., 'is'\n",
        "            text = template.replace('[SLOT]', name).replace('[MASK]', 'is')\n",
        "            # Ensure there is at least one [MASK] token in the text\n",
        "            if '[MASK]' not in text:\n",
        "                text += ' [MASK]'\n",
        "            prediction = nlp_fill_mask(text)\n",
        "            results.append({'name': name, 'template': template, 'prediction': prediction[0]['sequence']})\n",
        "    df = pd.DataFrame(results)\n",
        "    return df\n",
        "\n",
        "def calculate_disco_metric(predictions, templates):\n",
        "    unique_predictions = predictions['prediction'].str.lower().unique()\n",
        "    return len(unique_predictions)\n",
        "\n",
        "# Step 5: Analysis with American Names - MuRIL\n",
        "muril_model = \"google/muril-base-cased\"\n",
        "templates = [\"[SLOT] is [MASK] of the house.\", \"[SLOT] loves [MASK].\", \"[SLOT] works as a [MASK].\"]\n",
        "\n",
        "results_all_muril = perform_slot_filling(muril_model, templates, all_names)\n",
        "disco_metric_all_muril = calculate_disco_metric(results_all_muril, templates)\n",
        "\n",
        "# Step 6: Display and Interpret Results\n",
        "print(\"DisCo Metric with All American Names - MuRIL:\", disco_metric_all_muril)\n"
      ],
      "metadata": {
        "colab": {
          "base_uri": "https://localhost:8080/"
        },
        "id": "O_KkKG0hAlwQ",
        "outputId": "510ad1a9-0842-4eac-fdd2-64ad7d3d80d4"
      },
      "execution_count": null,
      "outputs": [
        {
          "output_type": "stream",
          "name": "stdout",
          "text": [
            "Mounted at /content/gdrive\n",
            "Requirement already satisfied: transformers in /usr/local/lib/python3.10/dist-packages (4.35.2)\n",
            "Requirement already satisfied: pandas in /usr/local/lib/python3.10/dist-packages (1.5.3)\n",
            "Requirement already satisfied: filelock in /usr/local/lib/python3.10/dist-packages (from transformers) (3.13.1)\n",
            "Requirement already satisfied: huggingface-hub<1.0,>=0.16.4 in /usr/local/lib/python3.10/dist-packages (from transformers) (0.19.4)\n",
            "Requirement already satisfied: numpy>=1.17 in /usr/local/lib/python3.10/dist-packages (from transformers) (1.23.5)\n",
            "Requirement already satisfied: packaging>=20.0 in /usr/local/lib/python3.10/dist-packages (from transformers) (23.2)\n",
            "Requirement already satisfied: pyyaml>=5.1 in /usr/local/lib/python3.10/dist-packages (from transformers) (6.0.1)\n",
            "Requirement already satisfied: regex!=2019.12.17 in /usr/local/lib/python3.10/dist-packages (from transformers) (2023.6.3)\n",
            "Requirement already satisfied: requests in /usr/local/lib/python3.10/dist-packages (from transformers) (2.31.0)\n",
            "Requirement already satisfied: tokenizers<0.19,>=0.14 in /usr/local/lib/python3.10/dist-packages (from transformers) (0.15.0)\n",
            "Requirement already satisfied: safetensors>=0.3.1 in /usr/local/lib/python3.10/dist-packages (from transformers) (0.4.0)\n",
            "Requirement already satisfied: tqdm>=4.27 in /usr/local/lib/python3.10/dist-packages (from transformers) (4.66.1)\n",
            "Requirement already satisfied: python-dateutil>=2.8.1 in /usr/local/lib/python3.10/dist-packages (from pandas) (2.8.2)\n",
            "Requirement already satisfied: pytz>=2020.1 in /usr/local/lib/python3.10/dist-packages (from pandas) (2023.3.post1)\n",
            "Requirement already satisfied: fsspec>=2023.5.0 in /usr/local/lib/python3.10/dist-packages (from huggingface-hub<1.0,>=0.16.4->transformers) (2023.6.0)\n",
            "Requirement already satisfied: typing-extensions>=3.7.4.3 in /usr/local/lib/python3.10/dist-packages (from huggingface-hub<1.0,>=0.16.4->transformers) (4.5.0)\n",
            "Requirement already satisfied: six>=1.5 in /usr/local/lib/python3.10/dist-packages (from python-dateutil>=2.8.1->pandas) (1.16.0)\n",
            "Requirement already satisfied: charset-normalizer<4,>=2 in /usr/local/lib/python3.10/dist-packages (from requests->transformers) (3.3.2)\n",
            "Requirement already satisfied: idna<4,>=2.5 in /usr/local/lib/python3.10/dist-packages (from requests->transformers) (3.4)\n",
            "Requirement already satisfied: urllib3<3,>=1.21.1 in /usr/local/lib/python3.10/dist-packages (from requests->transformers) (2.0.7)\n",
            "Requirement already satisfied: certifi>=2017.4.17 in /usr/local/lib/python3.10/dist-packages (from requests->transformers) (2023.7.22)\n"
          ]
        },
        {
          "output_type": "stream",
          "name": "stderr",
          "text": [
            "Some weights of the model checkpoint at google/muril-base-cased were not used when initializing BertForMaskedLM: ['bert.pooler.dense.weight', 'cls.seq_relationship.weight', 'cls.seq_relationship.bias', 'bert.pooler.dense.bias']\n",
            "- This IS expected if you are initializing BertForMaskedLM from the checkpoint of a model trained on another task or with another architecture (e.g. initializing a BertForSequenceClassification model from a BertForPreTraining model).\n",
            "- This IS NOT expected if you are initializing BertForMaskedLM from the checkpoint of a model that you expect to be exactly identical (initializing a BertForSequenceClassification model from a BertForSequenceClassification model).\n"
          ]
        },
        {
          "output_type": "stream",
          "name": "stdout",
          "text": [
            "DisCo Metric with All American Names - MuRIL: 897\n"
          ]
        }
      ]
    }
  ],
  "metadata": {
    "colab": {
      "provenance": [],
      "authorship_tag": "ABX9TyM2FVaRMkWe/2jpn6v0CL0N",
      "include_colab_link": true
    },
    "kernelspec": {
      "display_name": "Python 3",
      "name": "python3"
    },
    "language_info": {
      "name": "python"
    },
    "widgets": {
      "application/vnd.jupyter.widget-state+json": {
        "c106233b464d4bd39e14ffe023fd92ec": {
          "model_module": "@jupyter-widgets/controls",
          "model_name": "HBoxModel",
          "model_module_version": "1.5.0",
          "state": {
            "_dom_classes": [],
            "_model_module": "@jupyter-widgets/controls",
            "_model_module_version": "1.5.0",
            "_model_name": "HBoxModel",
            "_view_count": null,
            "_view_module": "@jupyter-widgets/controls",
            "_view_module_version": "1.5.0",
            "_view_name": "HBoxView",
            "box_style": "",
            "children": [
              "IPY_MODEL_486c82ef5f14487e8bbda4fd72a80781",
              "IPY_MODEL_57616d28a2d34423b55d3a2ed32f4f72",
              "IPY_MODEL_d91fad72d5614c52acf5c04a5a1fa21b"
            ],
            "layout": "IPY_MODEL_5a2170d976cb4dbbaf8655b9bccf9b42"
          }
        },
        "486c82ef5f14487e8bbda4fd72a80781": {
          "model_module": "@jupyter-widgets/controls",
          "model_name": "HTMLModel",
          "model_module_version": "1.5.0",
          "state": {
            "_dom_classes": [],
            "_model_module": "@jupyter-widgets/controls",
            "_model_module_version": "1.5.0",
            "_model_name": "HTMLModel",
            "_view_count": null,
            "_view_module": "@jupyter-widgets/controls",
            "_view_module_version": "1.5.0",
            "_view_name": "HTMLView",
            "description": "",
            "description_tooltip": null,
            "layout": "IPY_MODEL_85941e5cdf864668aa02775d837de4ee",
            "placeholder": "​",
            "style": "IPY_MODEL_57553fa2a5d04103890290ab92f8fc3f",
            "value": "config.json: 100%"
          }
        },
        "57616d28a2d34423b55d3a2ed32f4f72": {
          "model_module": "@jupyter-widgets/controls",
          "model_name": "FloatProgressModel",
          "model_module_version": "1.5.0",
          "state": {
            "_dom_classes": [],
            "_model_module": "@jupyter-widgets/controls",
            "_model_module_version": "1.5.0",
            "_model_name": "FloatProgressModel",
            "_view_count": null,
            "_view_module": "@jupyter-widgets/controls",
            "_view_module_version": "1.5.0",
            "_view_name": "ProgressView",
            "bar_style": "success",
            "description": "",
            "description_tooltip": null,
            "layout": "IPY_MODEL_0cf326929d7348b585c84f5aa98d1409",
            "max": 625,
            "min": 0,
            "orientation": "horizontal",
            "style": "IPY_MODEL_ac2975b486fc4e23bfedfded59c977cf",
            "value": 625
          }
        },
        "d91fad72d5614c52acf5c04a5a1fa21b": {
          "model_module": "@jupyter-widgets/controls",
          "model_name": "HTMLModel",
          "model_module_version": "1.5.0",
          "state": {
            "_dom_classes": [],
            "_model_module": "@jupyter-widgets/controls",
            "_model_module_version": "1.5.0",
            "_model_name": "HTMLModel",
            "_view_count": null,
            "_view_module": "@jupyter-widgets/controls",
            "_view_module_version": "1.5.0",
            "_view_name": "HTMLView",
            "description": "",
            "description_tooltip": null,
            "layout": "IPY_MODEL_38e022e539e24f348d4ccf1214d58736",
            "placeholder": "​",
            "style": "IPY_MODEL_f6d908c775604222b92ed8decb9c0aad",
            "value": " 625/625 [00:00&lt;00:00, 12.2kB/s]"
          }
        },
        "5a2170d976cb4dbbaf8655b9bccf9b42": {
          "model_module": "@jupyter-widgets/base",
          "model_name": "LayoutModel",
          "model_module_version": "1.2.0",
          "state": {
            "_model_module": "@jupyter-widgets/base",
            "_model_module_version": "1.2.0",
            "_model_name": "LayoutModel",
            "_view_count": null,
            "_view_module": "@jupyter-widgets/base",
            "_view_module_version": "1.2.0",
            "_view_name": "LayoutView",
            "align_content": null,
            "align_items": null,
            "align_self": null,
            "border": null,
            "bottom": null,
            "display": null,
            "flex": null,
            "flex_flow": null,
            "grid_area": null,
            "grid_auto_columns": null,
            "grid_auto_flow": null,
            "grid_auto_rows": null,
            "grid_column": null,
            "grid_gap": null,
            "grid_row": null,
            "grid_template_areas": null,
            "grid_template_columns": null,
            "grid_template_rows": null,
            "height": null,
            "justify_content": null,
            "justify_items": null,
            "left": null,
            "margin": null,
            "max_height": null,
            "max_width": null,
            "min_height": null,
            "min_width": null,
            "object_fit": null,
            "object_position": null,
            "order": null,
            "overflow": null,
            "overflow_x": null,
            "overflow_y": null,
            "padding": null,
            "right": null,
            "top": null,
            "visibility": null,
            "width": null
          }
        },
        "85941e5cdf864668aa02775d837de4ee": {
          "model_module": "@jupyter-widgets/base",
          "model_name": "LayoutModel",
          "model_module_version": "1.2.0",
          "state": {
            "_model_module": "@jupyter-widgets/base",
            "_model_module_version": "1.2.0",
            "_model_name": "LayoutModel",
            "_view_count": null,
            "_view_module": "@jupyter-widgets/base",
            "_view_module_version": "1.2.0",
            "_view_name": "LayoutView",
            "align_content": null,
            "align_items": null,
            "align_self": null,
            "border": null,
            "bottom": null,
            "display": null,
            "flex": null,
            "flex_flow": null,
            "grid_area": null,
            "grid_auto_columns": null,
            "grid_auto_flow": null,
            "grid_auto_rows": null,
            "grid_column": null,
            "grid_gap": null,
            "grid_row": null,
            "grid_template_areas": null,
            "grid_template_columns": null,
            "grid_template_rows": null,
            "height": null,
            "justify_content": null,
            "justify_items": null,
            "left": null,
            "margin": null,
            "max_height": null,
            "max_width": null,
            "min_height": null,
            "min_width": null,
            "object_fit": null,
            "object_position": null,
            "order": null,
            "overflow": null,
            "overflow_x": null,
            "overflow_y": null,
            "padding": null,
            "right": null,
            "top": null,
            "visibility": null,
            "width": null
          }
        },
        "57553fa2a5d04103890290ab92f8fc3f": {
          "model_module": "@jupyter-widgets/controls",
          "model_name": "DescriptionStyleModel",
          "model_module_version": "1.5.0",
          "state": {
            "_model_module": "@jupyter-widgets/controls",
            "_model_module_version": "1.5.0",
            "_model_name": "DescriptionStyleModel",
            "_view_count": null,
            "_view_module": "@jupyter-widgets/base",
            "_view_module_version": "1.2.0",
            "_view_name": "StyleView",
            "description_width": ""
          }
        },
        "0cf326929d7348b585c84f5aa98d1409": {
          "model_module": "@jupyter-widgets/base",
          "model_name": "LayoutModel",
          "model_module_version": "1.2.0",
          "state": {
            "_model_module": "@jupyter-widgets/base",
            "_model_module_version": "1.2.0",
            "_model_name": "LayoutModel",
            "_view_count": null,
            "_view_module": "@jupyter-widgets/base",
            "_view_module_version": "1.2.0",
            "_view_name": "LayoutView",
            "align_content": null,
            "align_items": null,
            "align_self": null,
            "border": null,
            "bottom": null,
            "display": null,
            "flex": null,
            "flex_flow": null,
            "grid_area": null,
            "grid_auto_columns": null,
            "grid_auto_flow": null,
            "grid_auto_rows": null,
            "grid_column": null,
            "grid_gap": null,
            "grid_row": null,
            "grid_template_areas": null,
            "grid_template_columns": null,
            "grid_template_rows": null,
            "height": null,
            "justify_content": null,
            "justify_items": null,
            "left": null,
            "margin": null,
            "max_height": null,
            "max_width": null,
            "min_height": null,
            "min_width": null,
            "object_fit": null,
            "object_position": null,
            "order": null,
            "overflow": null,
            "overflow_x": null,
            "overflow_y": null,
            "padding": null,
            "right": null,
            "top": null,
            "visibility": null,
            "width": null
          }
        },
        "ac2975b486fc4e23bfedfded59c977cf": {
          "model_module": "@jupyter-widgets/controls",
          "model_name": "ProgressStyleModel",
          "model_module_version": "1.5.0",
          "state": {
            "_model_module": "@jupyter-widgets/controls",
            "_model_module_version": "1.5.0",
            "_model_name": "ProgressStyleModel",
            "_view_count": null,
            "_view_module": "@jupyter-widgets/base",
            "_view_module_version": "1.2.0",
            "_view_name": "StyleView",
            "bar_color": null,
            "description_width": ""
          }
        },
        "38e022e539e24f348d4ccf1214d58736": {
          "model_module": "@jupyter-widgets/base",
          "model_name": "LayoutModel",
          "model_module_version": "1.2.0",
          "state": {
            "_model_module": "@jupyter-widgets/base",
            "_model_module_version": "1.2.0",
            "_model_name": "LayoutModel",
            "_view_count": null,
            "_view_module": "@jupyter-widgets/base",
            "_view_module_version": "1.2.0",
            "_view_name": "LayoutView",
            "align_content": null,
            "align_items": null,
            "align_self": null,
            "border": null,
            "bottom": null,
            "display": null,
            "flex": null,
            "flex_flow": null,
            "grid_area": null,
            "grid_auto_columns": null,
            "grid_auto_flow": null,
            "grid_auto_rows": null,
            "grid_column": null,
            "grid_gap": null,
            "grid_row": null,
            "grid_template_areas": null,
            "grid_template_columns": null,
            "grid_template_rows": null,
            "height": null,
            "justify_content": null,
            "justify_items": null,
            "left": null,
            "margin": null,
            "max_height": null,
            "max_width": null,
            "min_height": null,
            "min_width": null,
            "object_fit": null,
            "object_position": null,
            "order": null,
            "overflow": null,
            "overflow_x": null,
            "overflow_y": null,
            "padding": null,
            "right": null,
            "top": null,
            "visibility": null,
            "width": null
          }
        },
        "f6d908c775604222b92ed8decb9c0aad": {
          "model_module": "@jupyter-widgets/controls",
          "model_name": "DescriptionStyleModel",
          "model_module_version": "1.5.0",
          "state": {
            "_model_module": "@jupyter-widgets/controls",
            "_model_module_version": "1.5.0",
            "_model_name": "DescriptionStyleModel",
            "_view_count": null,
            "_view_module": "@jupyter-widgets/base",
            "_view_module_version": "1.2.0",
            "_view_name": "StyleView",
            "description_width": ""
          }
        },
        "9c61609375b04a279e4242c5eb0aeb0b": {
          "model_module": "@jupyter-widgets/controls",
          "model_name": "HBoxModel",
          "model_module_version": "1.5.0",
          "state": {
            "_dom_classes": [],
            "_model_module": "@jupyter-widgets/controls",
            "_model_module_version": "1.5.0",
            "_model_name": "HBoxModel",
            "_view_count": null,
            "_view_module": "@jupyter-widgets/controls",
            "_view_module_version": "1.5.0",
            "_view_name": "HBoxView",
            "box_style": "",
            "children": [
              "IPY_MODEL_1876a02507aa429eb98d22a09f9b0afb",
              "IPY_MODEL_50c1df369ea543d6944af0f85e255fc2",
              "IPY_MODEL_2adb36976f2e4448a7830c637b987b37"
            ],
            "layout": "IPY_MODEL_4b4118ac502e4c40bdfb2cd1a030680a"
          }
        },
        "1876a02507aa429eb98d22a09f9b0afb": {
          "model_module": "@jupyter-widgets/controls",
          "model_name": "HTMLModel",
          "model_module_version": "1.5.0",
          "state": {
            "_dom_classes": [],
            "_model_module": "@jupyter-widgets/controls",
            "_model_module_version": "1.5.0",
            "_model_name": "HTMLModel",
            "_view_count": null,
            "_view_module": "@jupyter-widgets/controls",
            "_view_module_version": "1.5.0",
            "_view_name": "HTMLView",
            "description": "",
            "description_tooltip": null,
            "layout": "IPY_MODEL_67e766133c724a51951e2b0d3a6fca24",
            "placeholder": "​",
            "style": "IPY_MODEL_c27f523f148e4e1f8e078b6e543910e9",
            "value": "model.safetensors: 100%"
          }
        },
        "50c1df369ea543d6944af0f85e255fc2": {
          "model_module": "@jupyter-widgets/controls",
          "model_name": "FloatProgressModel",
          "model_module_version": "1.5.0",
          "state": {
            "_dom_classes": [],
            "_model_module": "@jupyter-widgets/controls",
            "_model_module_version": "1.5.0",
            "_model_name": "FloatProgressModel",
            "_view_count": null,
            "_view_module": "@jupyter-widgets/controls",
            "_view_module_version": "1.5.0",
            "_view_name": "ProgressView",
            "bar_style": "success",
            "description": "",
            "description_tooltip": null,
            "layout": "IPY_MODEL_03ff985132904420a82c2436193e460c",
            "max": 714290682,
            "min": 0,
            "orientation": "horizontal",
            "style": "IPY_MODEL_1f902626840c415ca79f7d6f52089854",
            "value": 714290682
          }
        },
        "2adb36976f2e4448a7830c637b987b37": {
          "model_module": "@jupyter-widgets/controls",
          "model_name": "HTMLModel",
          "model_module_version": "1.5.0",
          "state": {
            "_dom_classes": [],
            "_model_module": "@jupyter-widgets/controls",
            "_model_module_version": "1.5.0",
            "_model_name": "HTMLModel",
            "_view_count": null,
            "_view_module": "@jupyter-widgets/controls",
            "_view_module_version": "1.5.0",
            "_view_name": "HTMLView",
            "description": "",
            "description_tooltip": null,
            "layout": "IPY_MODEL_69a61f1347fc4a1d953cbf5583515f8b",
            "placeholder": "​",
            "style": "IPY_MODEL_faf9d3573de949cfa8f82e5c87c8a3cf",
            "value": " 714M/714M [00:09&lt;00:00, 44.1MB/s]"
          }
        },
        "4b4118ac502e4c40bdfb2cd1a030680a": {
          "model_module": "@jupyter-widgets/base",
          "model_name": "LayoutModel",
          "model_module_version": "1.2.0",
          "state": {
            "_model_module": "@jupyter-widgets/base",
            "_model_module_version": "1.2.0",
            "_model_name": "LayoutModel",
            "_view_count": null,
            "_view_module": "@jupyter-widgets/base",
            "_view_module_version": "1.2.0",
            "_view_name": "LayoutView",
            "align_content": null,
            "align_items": null,
            "align_self": null,
            "border": null,
            "bottom": null,
            "display": null,
            "flex": null,
            "flex_flow": null,
            "grid_area": null,
            "grid_auto_columns": null,
            "grid_auto_flow": null,
            "grid_auto_rows": null,
            "grid_column": null,
            "grid_gap": null,
            "grid_row": null,
            "grid_template_areas": null,
            "grid_template_columns": null,
            "grid_template_rows": null,
            "height": null,
            "justify_content": null,
            "justify_items": null,
            "left": null,
            "margin": null,
            "max_height": null,
            "max_width": null,
            "min_height": null,
            "min_width": null,
            "object_fit": null,
            "object_position": null,
            "order": null,
            "overflow": null,
            "overflow_x": null,
            "overflow_y": null,
            "padding": null,
            "right": null,
            "top": null,
            "visibility": null,
            "width": null
          }
        },
        "67e766133c724a51951e2b0d3a6fca24": {
          "model_module": "@jupyter-widgets/base",
          "model_name": "LayoutModel",
          "model_module_version": "1.2.0",
          "state": {
            "_model_module": "@jupyter-widgets/base",
            "_model_module_version": "1.2.0",
            "_model_name": "LayoutModel",
            "_view_count": null,
            "_view_module": "@jupyter-widgets/base",
            "_view_module_version": "1.2.0",
            "_view_name": "LayoutView",
            "align_content": null,
            "align_items": null,
            "align_self": null,
            "border": null,
            "bottom": null,
            "display": null,
            "flex": null,
            "flex_flow": null,
            "grid_area": null,
            "grid_auto_columns": null,
            "grid_auto_flow": null,
            "grid_auto_rows": null,
            "grid_column": null,
            "grid_gap": null,
            "grid_row": null,
            "grid_template_areas": null,
            "grid_template_columns": null,
            "grid_template_rows": null,
            "height": null,
            "justify_content": null,
            "justify_items": null,
            "left": null,
            "margin": null,
            "max_height": null,
            "max_width": null,
            "min_height": null,
            "min_width": null,
            "object_fit": null,
            "object_position": null,
            "order": null,
            "overflow": null,
            "overflow_x": null,
            "overflow_y": null,
            "padding": null,
            "right": null,
            "top": null,
            "visibility": null,
            "width": null
          }
        },
        "c27f523f148e4e1f8e078b6e543910e9": {
          "model_module": "@jupyter-widgets/controls",
          "model_name": "DescriptionStyleModel",
          "model_module_version": "1.5.0",
          "state": {
            "_model_module": "@jupyter-widgets/controls",
            "_model_module_version": "1.5.0",
            "_model_name": "DescriptionStyleModel",
            "_view_count": null,
            "_view_module": "@jupyter-widgets/base",
            "_view_module_version": "1.2.0",
            "_view_name": "StyleView",
            "description_width": ""
          }
        },
        "03ff985132904420a82c2436193e460c": {
          "model_module": "@jupyter-widgets/base",
          "model_name": "LayoutModel",
          "model_module_version": "1.2.0",
          "state": {
            "_model_module": "@jupyter-widgets/base",
            "_model_module_version": "1.2.0",
            "_model_name": "LayoutModel",
            "_view_count": null,
            "_view_module": "@jupyter-widgets/base",
            "_view_module_version": "1.2.0",
            "_view_name": "LayoutView",
            "align_content": null,
            "align_items": null,
            "align_self": null,
            "border": null,
            "bottom": null,
            "display": null,
            "flex": null,
            "flex_flow": null,
            "grid_area": null,
            "grid_auto_columns": null,
            "grid_auto_flow": null,
            "grid_auto_rows": null,
            "grid_column": null,
            "grid_gap": null,
            "grid_row": null,
            "grid_template_areas": null,
            "grid_template_columns": null,
            "grid_template_rows": null,
            "height": null,
            "justify_content": null,
            "justify_items": null,
            "left": null,
            "margin": null,
            "max_height": null,
            "max_width": null,
            "min_height": null,
            "min_width": null,
            "object_fit": null,
            "object_position": null,
            "order": null,
            "overflow": null,
            "overflow_x": null,
            "overflow_y": null,
            "padding": null,
            "right": null,
            "top": null,
            "visibility": null,
            "width": null
          }
        },
        "1f902626840c415ca79f7d6f52089854": {
          "model_module": "@jupyter-widgets/controls",
          "model_name": "ProgressStyleModel",
          "model_module_version": "1.5.0",
          "state": {
            "_model_module": "@jupyter-widgets/controls",
            "_model_module_version": "1.5.0",
            "_model_name": "ProgressStyleModel",
            "_view_count": null,
            "_view_module": "@jupyter-widgets/base",
            "_view_module_version": "1.2.0",
            "_view_name": "StyleView",
            "bar_color": null,
            "description_width": ""
          }
        },
        "69a61f1347fc4a1d953cbf5583515f8b": {
          "model_module": "@jupyter-widgets/base",
          "model_name": "LayoutModel",
          "model_module_version": "1.2.0",
          "state": {
            "_model_module": "@jupyter-widgets/base",
            "_model_module_version": "1.2.0",
            "_model_name": "LayoutModel",
            "_view_count": null,
            "_view_module": "@jupyter-widgets/base",
            "_view_module_version": "1.2.0",
            "_view_name": "LayoutView",
            "align_content": null,
            "align_items": null,
            "align_self": null,
            "border": null,
            "bottom": null,
            "display": null,
            "flex": null,
            "flex_flow": null,
            "grid_area": null,
            "grid_auto_columns": null,
            "grid_auto_flow": null,
            "grid_auto_rows": null,
            "grid_column": null,
            "grid_gap": null,
            "grid_row": null,
            "grid_template_areas": null,
            "grid_template_columns": null,
            "grid_template_rows": null,
            "height": null,
            "justify_content": null,
            "justify_items": null,
            "left": null,
            "margin": null,
            "max_height": null,
            "max_width": null,
            "min_height": null,
            "min_width": null,
            "object_fit": null,
            "object_position": null,
            "order": null,
            "overflow": null,
            "overflow_x": null,
            "overflow_y": null,
            "padding": null,
            "right": null,
            "top": null,
            "visibility": null,
            "width": null
          }
        },
        "faf9d3573de949cfa8f82e5c87c8a3cf": {
          "model_module": "@jupyter-widgets/controls",
          "model_name": "DescriptionStyleModel",
          "model_module_version": "1.5.0",
          "state": {
            "_model_module": "@jupyter-widgets/controls",
            "_model_module_version": "1.5.0",
            "_model_name": "DescriptionStyleModel",
            "_view_count": null,
            "_view_module": "@jupyter-widgets/base",
            "_view_module_version": "1.2.0",
            "_view_name": "StyleView",
            "description_width": ""
          }
        },
        "da7cdaa217d04fbfbc049f2314966ae9": {
          "model_module": "@jupyter-widgets/controls",
          "model_name": "HBoxModel",
          "model_module_version": "1.5.0",
          "state": {
            "_dom_classes": [],
            "_model_module": "@jupyter-widgets/controls",
            "_model_module_version": "1.5.0",
            "_model_name": "HBoxModel",
            "_view_count": null,
            "_view_module": "@jupyter-widgets/controls",
            "_view_module_version": "1.5.0",
            "_view_name": "HBoxView",
            "box_style": "",
            "children": [
              "IPY_MODEL_a884f19cac414707ab8ecb25e0532301",
              "IPY_MODEL_41b596a5969047adb61c86cc96580511",
              "IPY_MODEL_a4e2cf942d354912b275c10a3c5757d5"
            ],
            "layout": "IPY_MODEL_19fa31bb4ee74889b4cb0b0fd9e4f505"
          }
        },
        "a884f19cac414707ab8ecb25e0532301": {
          "model_module": "@jupyter-widgets/controls",
          "model_name": "HTMLModel",
          "model_module_version": "1.5.0",
          "state": {
            "_dom_classes": [],
            "_model_module": "@jupyter-widgets/controls",
            "_model_module_version": "1.5.0",
            "_model_name": "HTMLModel",
            "_view_count": null,
            "_view_module": "@jupyter-widgets/controls",
            "_view_module_version": "1.5.0",
            "_view_name": "HTMLView",
            "description": "",
            "description_tooltip": null,
            "layout": "IPY_MODEL_323e6578d4554b31a9e2457b3d642784",
            "placeholder": "​",
            "style": "IPY_MODEL_d92903dd57c549c2a72099612e5ab463",
            "value": "tokenizer_config.json: 100%"
          }
        },
        "41b596a5969047adb61c86cc96580511": {
          "model_module": "@jupyter-widgets/controls",
          "model_name": "FloatProgressModel",
          "model_module_version": "1.5.0",
          "state": {
            "_dom_classes": [],
            "_model_module": "@jupyter-widgets/controls",
            "_model_module_version": "1.5.0",
            "_model_name": "FloatProgressModel",
            "_view_count": null,
            "_view_module": "@jupyter-widgets/controls",
            "_view_module_version": "1.5.0",
            "_view_name": "ProgressView",
            "bar_style": "success",
            "description": "",
            "description_tooltip": null,
            "layout": "IPY_MODEL_ba51447e4e984bdfbed692710f71a0b4",
            "max": 29,
            "min": 0,
            "orientation": "horizontal",
            "style": "IPY_MODEL_a270f1afe0694b93a00c51acee411179",
            "value": 29
          }
        },
        "a4e2cf942d354912b275c10a3c5757d5": {
          "model_module": "@jupyter-widgets/controls",
          "model_name": "HTMLModel",
          "model_module_version": "1.5.0",
          "state": {
            "_dom_classes": [],
            "_model_module": "@jupyter-widgets/controls",
            "_model_module_version": "1.5.0",
            "_model_name": "HTMLModel",
            "_view_count": null,
            "_view_module": "@jupyter-widgets/controls",
            "_view_module_version": "1.5.0",
            "_view_name": "HTMLView",
            "description": "",
            "description_tooltip": null,
            "layout": "IPY_MODEL_873f561b2dcf4d9e8878158caf24c150",
            "placeholder": "​",
            "style": "IPY_MODEL_7426f21d46cf4b689b908de48c410750",
            "value": " 29.0/29.0 [00:00&lt;00:00, 1.39kB/s]"
          }
        },
        "19fa31bb4ee74889b4cb0b0fd9e4f505": {
          "model_module": "@jupyter-widgets/base",
          "model_name": "LayoutModel",
          "model_module_version": "1.2.0",
          "state": {
            "_model_module": "@jupyter-widgets/base",
            "_model_module_version": "1.2.0",
            "_model_name": "LayoutModel",
            "_view_count": null,
            "_view_module": "@jupyter-widgets/base",
            "_view_module_version": "1.2.0",
            "_view_name": "LayoutView",
            "align_content": null,
            "align_items": null,
            "align_self": null,
            "border": null,
            "bottom": null,
            "display": null,
            "flex": null,
            "flex_flow": null,
            "grid_area": null,
            "grid_auto_columns": null,
            "grid_auto_flow": null,
            "grid_auto_rows": null,
            "grid_column": null,
            "grid_gap": null,
            "grid_row": null,
            "grid_template_areas": null,
            "grid_template_columns": null,
            "grid_template_rows": null,
            "height": null,
            "justify_content": null,
            "justify_items": null,
            "left": null,
            "margin": null,
            "max_height": null,
            "max_width": null,
            "min_height": null,
            "min_width": null,
            "object_fit": null,
            "object_position": null,
            "order": null,
            "overflow": null,
            "overflow_x": null,
            "overflow_y": null,
            "padding": null,
            "right": null,
            "top": null,
            "visibility": null,
            "width": null
          }
        },
        "323e6578d4554b31a9e2457b3d642784": {
          "model_module": "@jupyter-widgets/base",
          "model_name": "LayoutModel",
          "model_module_version": "1.2.0",
          "state": {
            "_model_module": "@jupyter-widgets/base",
            "_model_module_version": "1.2.0",
            "_model_name": "LayoutModel",
            "_view_count": null,
            "_view_module": "@jupyter-widgets/base",
            "_view_module_version": "1.2.0",
            "_view_name": "LayoutView",
            "align_content": null,
            "align_items": null,
            "align_self": null,
            "border": null,
            "bottom": null,
            "display": null,
            "flex": null,
            "flex_flow": null,
            "grid_area": null,
            "grid_auto_columns": null,
            "grid_auto_flow": null,
            "grid_auto_rows": null,
            "grid_column": null,
            "grid_gap": null,
            "grid_row": null,
            "grid_template_areas": null,
            "grid_template_columns": null,
            "grid_template_rows": null,
            "height": null,
            "justify_content": null,
            "justify_items": null,
            "left": null,
            "margin": null,
            "max_height": null,
            "max_width": null,
            "min_height": null,
            "min_width": null,
            "object_fit": null,
            "object_position": null,
            "order": null,
            "overflow": null,
            "overflow_x": null,
            "overflow_y": null,
            "padding": null,
            "right": null,
            "top": null,
            "visibility": null,
            "width": null
          }
        },
        "d92903dd57c549c2a72099612e5ab463": {
          "model_module": "@jupyter-widgets/controls",
          "model_name": "DescriptionStyleModel",
          "model_module_version": "1.5.0",
          "state": {
            "_model_module": "@jupyter-widgets/controls",
            "_model_module_version": "1.5.0",
            "_model_name": "DescriptionStyleModel",
            "_view_count": null,
            "_view_module": "@jupyter-widgets/base",
            "_view_module_version": "1.2.0",
            "_view_name": "StyleView",
            "description_width": ""
          }
        },
        "ba51447e4e984bdfbed692710f71a0b4": {
          "model_module": "@jupyter-widgets/base",
          "model_name": "LayoutModel",
          "model_module_version": "1.2.0",
          "state": {
            "_model_module": "@jupyter-widgets/base",
            "_model_module_version": "1.2.0",
            "_model_name": "LayoutModel",
            "_view_count": null,
            "_view_module": "@jupyter-widgets/base",
            "_view_module_version": "1.2.0",
            "_view_name": "LayoutView",
            "align_content": null,
            "align_items": null,
            "align_self": null,
            "border": null,
            "bottom": null,
            "display": null,
            "flex": null,
            "flex_flow": null,
            "grid_area": null,
            "grid_auto_columns": null,
            "grid_auto_flow": null,
            "grid_auto_rows": null,
            "grid_column": null,
            "grid_gap": null,
            "grid_row": null,
            "grid_template_areas": null,
            "grid_template_columns": null,
            "grid_template_rows": null,
            "height": null,
            "justify_content": null,
            "justify_items": null,
            "left": null,
            "margin": null,
            "max_height": null,
            "max_width": null,
            "min_height": null,
            "min_width": null,
            "object_fit": null,
            "object_position": null,
            "order": null,
            "overflow": null,
            "overflow_x": null,
            "overflow_y": null,
            "padding": null,
            "right": null,
            "top": null,
            "visibility": null,
            "width": null
          }
        },
        "a270f1afe0694b93a00c51acee411179": {
          "model_module": "@jupyter-widgets/controls",
          "model_name": "ProgressStyleModel",
          "model_module_version": "1.5.0",
          "state": {
            "_model_module": "@jupyter-widgets/controls",
            "_model_module_version": "1.5.0",
            "_model_name": "ProgressStyleModel",
            "_view_count": null,
            "_view_module": "@jupyter-widgets/base",
            "_view_module_version": "1.2.0",
            "_view_name": "StyleView",
            "bar_color": null,
            "description_width": ""
          }
        },
        "873f561b2dcf4d9e8878158caf24c150": {
          "model_module": "@jupyter-widgets/base",
          "model_name": "LayoutModel",
          "model_module_version": "1.2.0",
          "state": {
            "_model_module": "@jupyter-widgets/base",
            "_model_module_version": "1.2.0",
            "_model_name": "LayoutModel",
            "_view_count": null,
            "_view_module": "@jupyter-widgets/base",
            "_view_module_version": "1.2.0",
            "_view_name": "LayoutView",
            "align_content": null,
            "align_items": null,
            "align_self": null,
            "border": null,
            "bottom": null,
            "display": null,
            "flex": null,
            "flex_flow": null,
            "grid_area": null,
            "grid_auto_columns": null,
            "grid_auto_flow": null,
            "grid_auto_rows": null,
            "grid_column": null,
            "grid_gap": null,
            "grid_row": null,
            "grid_template_areas": null,
            "grid_template_columns": null,
            "grid_template_rows": null,
            "height": null,
            "justify_content": null,
            "justify_items": null,
            "left": null,
            "margin": null,
            "max_height": null,
            "max_width": null,
            "min_height": null,
            "min_width": null,
            "object_fit": null,
            "object_position": null,
            "order": null,
            "overflow": null,
            "overflow_x": null,
            "overflow_y": null,
            "padding": null,
            "right": null,
            "top": null,
            "visibility": null,
            "width": null
          }
        },
        "7426f21d46cf4b689b908de48c410750": {
          "model_module": "@jupyter-widgets/controls",
          "model_name": "DescriptionStyleModel",
          "model_module_version": "1.5.0",
          "state": {
            "_model_module": "@jupyter-widgets/controls",
            "_model_module_version": "1.5.0",
            "_model_name": "DescriptionStyleModel",
            "_view_count": null,
            "_view_module": "@jupyter-widgets/base",
            "_view_module_version": "1.2.0",
            "_view_name": "StyleView",
            "description_width": ""
          }
        },
        "0d55e51b0bfe4349ad65afe65cdf9ddf": {
          "model_module": "@jupyter-widgets/controls",
          "model_name": "HBoxModel",
          "model_module_version": "1.5.0",
          "state": {
            "_dom_classes": [],
            "_model_module": "@jupyter-widgets/controls",
            "_model_module_version": "1.5.0",
            "_model_name": "HBoxModel",
            "_view_count": null,
            "_view_module": "@jupyter-widgets/controls",
            "_view_module_version": "1.5.0",
            "_view_name": "HBoxView",
            "box_style": "",
            "children": [
              "IPY_MODEL_7aea1467ed614270b93a4d7064ab93f0",
              "IPY_MODEL_e7472a8b97094eb5a21c54313a881783",
              "IPY_MODEL_1c011ca3e6da46fa884a42d4fcf4b983"
            ],
            "layout": "IPY_MODEL_060cd3ad23db4c0da99066d02fea6f57"
          }
        },
        "7aea1467ed614270b93a4d7064ab93f0": {
          "model_module": "@jupyter-widgets/controls",
          "model_name": "HTMLModel",
          "model_module_version": "1.5.0",
          "state": {
            "_dom_classes": [],
            "_model_module": "@jupyter-widgets/controls",
            "_model_module_version": "1.5.0",
            "_model_name": "HTMLModel",
            "_view_count": null,
            "_view_module": "@jupyter-widgets/controls",
            "_view_module_version": "1.5.0",
            "_view_name": "HTMLView",
            "description": "",
            "description_tooltip": null,
            "layout": "IPY_MODEL_2a6a5da0c01e4f5cb24dc013dc17ac2d",
            "placeholder": "​",
            "style": "IPY_MODEL_01831938a019427d99587681f1409c0e",
            "value": "vocab.txt: 100%"
          }
        },
        "e7472a8b97094eb5a21c54313a881783": {
          "model_module": "@jupyter-widgets/controls",
          "model_name": "FloatProgressModel",
          "model_module_version": "1.5.0",
          "state": {
            "_dom_classes": [],
            "_model_module": "@jupyter-widgets/controls",
            "_model_module_version": "1.5.0",
            "_model_name": "FloatProgressModel",
            "_view_count": null,
            "_view_module": "@jupyter-widgets/controls",
            "_view_module_version": "1.5.0",
            "_view_name": "ProgressView",
            "bar_style": "success",
            "description": "",
            "description_tooltip": null,
            "layout": "IPY_MODEL_34c95029545b4bbe8dcbe283173235e8",
            "max": 995526,
            "min": 0,
            "orientation": "horizontal",
            "style": "IPY_MODEL_956a0461e86f410583e3f141407bd167",
            "value": 995526
          }
        },
        "1c011ca3e6da46fa884a42d4fcf4b983": {
          "model_module": "@jupyter-widgets/controls",
          "model_name": "HTMLModel",
          "model_module_version": "1.5.0",
          "state": {
            "_dom_classes": [],
            "_model_module": "@jupyter-widgets/controls",
            "_model_module_version": "1.5.0",
            "_model_name": "HTMLModel",
            "_view_count": null,
            "_view_module": "@jupyter-widgets/controls",
            "_view_module_version": "1.5.0",
            "_view_name": "HTMLView",
            "description": "",
            "description_tooltip": null,
            "layout": "IPY_MODEL_862ec39ad1ad484fb91efcb7ddccd087",
            "placeholder": "​",
            "style": "IPY_MODEL_797010d7d9a3429f98097a1a5e8624df",
            "value": " 996k/996k [00:00&lt;00:00, 9.61MB/s]"
          }
        },
        "060cd3ad23db4c0da99066d02fea6f57": {
          "model_module": "@jupyter-widgets/base",
          "model_name": "LayoutModel",
          "model_module_version": "1.2.0",
          "state": {
            "_model_module": "@jupyter-widgets/base",
            "_model_module_version": "1.2.0",
            "_model_name": "LayoutModel",
            "_view_count": null,
            "_view_module": "@jupyter-widgets/base",
            "_view_module_version": "1.2.0",
            "_view_name": "LayoutView",
            "align_content": null,
            "align_items": null,
            "align_self": null,
            "border": null,
            "bottom": null,
            "display": null,
            "flex": null,
            "flex_flow": null,
            "grid_area": null,
            "grid_auto_columns": null,
            "grid_auto_flow": null,
            "grid_auto_rows": null,
            "grid_column": null,
            "grid_gap": null,
            "grid_row": null,
            "grid_template_areas": null,
            "grid_template_columns": null,
            "grid_template_rows": null,
            "height": null,
            "justify_content": null,
            "justify_items": null,
            "left": null,
            "margin": null,
            "max_height": null,
            "max_width": null,
            "min_height": null,
            "min_width": null,
            "object_fit": null,
            "object_position": null,
            "order": null,
            "overflow": null,
            "overflow_x": null,
            "overflow_y": null,
            "padding": null,
            "right": null,
            "top": null,
            "visibility": null,
            "width": null
          }
        },
        "2a6a5da0c01e4f5cb24dc013dc17ac2d": {
          "model_module": "@jupyter-widgets/base",
          "model_name": "LayoutModel",
          "model_module_version": "1.2.0",
          "state": {
            "_model_module": "@jupyter-widgets/base",
            "_model_module_version": "1.2.0",
            "_model_name": "LayoutModel",
            "_view_count": null,
            "_view_module": "@jupyter-widgets/base",
            "_view_module_version": "1.2.0",
            "_view_name": "LayoutView",
            "align_content": null,
            "align_items": null,
            "align_self": null,
            "border": null,
            "bottom": null,
            "display": null,
            "flex": null,
            "flex_flow": null,
            "grid_area": null,
            "grid_auto_columns": null,
            "grid_auto_flow": null,
            "grid_auto_rows": null,
            "grid_column": null,
            "grid_gap": null,
            "grid_row": null,
            "grid_template_areas": null,
            "grid_template_columns": null,
            "grid_template_rows": null,
            "height": null,
            "justify_content": null,
            "justify_items": null,
            "left": null,
            "margin": null,
            "max_height": null,
            "max_width": null,
            "min_height": null,
            "min_width": null,
            "object_fit": null,
            "object_position": null,
            "order": null,
            "overflow": null,
            "overflow_x": null,
            "overflow_y": null,
            "padding": null,
            "right": null,
            "top": null,
            "visibility": null,
            "width": null
          }
        },
        "01831938a019427d99587681f1409c0e": {
          "model_module": "@jupyter-widgets/controls",
          "model_name": "DescriptionStyleModel",
          "model_module_version": "1.5.0",
          "state": {
            "_model_module": "@jupyter-widgets/controls",
            "_model_module_version": "1.5.0",
            "_model_name": "DescriptionStyleModel",
            "_view_count": null,
            "_view_module": "@jupyter-widgets/base",
            "_view_module_version": "1.2.0",
            "_view_name": "StyleView",
            "description_width": ""
          }
        },
        "34c95029545b4bbe8dcbe283173235e8": {
          "model_module": "@jupyter-widgets/base",
          "model_name": "LayoutModel",
          "model_module_version": "1.2.0",
          "state": {
            "_model_module": "@jupyter-widgets/base",
            "_model_module_version": "1.2.0",
            "_model_name": "LayoutModel",
            "_view_count": null,
            "_view_module": "@jupyter-widgets/base",
            "_view_module_version": "1.2.0",
            "_view_name": "LayoutView",
            "align_content": null,
            "align_items": null,
            "align_self": null,
            "border": null,
            "bottom": null,
            "display": null,
            "flex": null,
            "flex_flow": null,
            "grid_area": null,
            "grid_auto_columns": null,
            "grid_auto_flow": null,
            "grid_auto_rows": null,
            "grid_column": null,
            "grid_gap": null,
            "grid_row": null,
            "grid_template_areas": null,
            "grid_template_columns": null,
            "grid_template_rows": null,
            "height": null,
            "justify_content": null,
            "justify_items": null,
            "left": null,
            "margin": null,
            "max_height": null,
            "max_width": null,
            "min_height": null,
            "min_width": null,
            "object_fit": null,
            "object_position": null,
            "order": null,
            "overflow": null,
            "overflow_x": null,
            "overflow_y": null,
            "padding": null,
            "right": null,
            "top": null,
            "visibility": null,
            "width": null
          }
        },
        "956a0461e86f410583e3f141407bd167": {
          "model_module": "@jupyter-widgets/controls",
          "model_name": "ProgressStyleModel",
          "model_module_version": "1.5.0",
          "state": {
            "_model_module": "@jupyter-widgets/controls",
            "_model_module_version": "1.5.0",
            "_model_name": "ProgressStyleModel",
            "_view_count": null,
            "_view_module": "@jupyter-widgets/base",
            "_view_module_version": "1.2.0",
            "_view_name": "StyleView",
            "bar_color": null,
            "description_width": ""
          }
        },
        "862ec39ad1ad484fb91efcb7ddccd087": {
          "model_module": "@jupyter-widgets/base",
          "model_name": "LayoutModel",
          "model_module_version": "1.2.0",
          "state": {
            "_model_module": "@jupyter-widgets/base",
            "_model_module_version": "1.2.0",
            "_model_name": "LayoutModel",
            "_view_count": null,
            "_view_module": "@jupyter-widgets/base",
            "_view_module_version": "1.2.0",
            "_view_name": "LayoutView",
            "align_content": null,
            "align_items": null,
            "align_self": null,
            "border": null,
            "bottom": null,
            "display": null,
            "flex": null,
            "flex_flow": null,
            "grid_area": null,
            "grid_auto_columns": null,
            "grid_auto_flow": null,
            "grid_auto_rows": null,
            "grid_column": null,
            "grid_gap": null,
            "grid_row": null,
            "grid_template_areas": null,
            "grid_template_columns": null,
            "grid_template_rows": null,
            "height": null,
            "justify_content": null,
            "justify_items": null,
            "left": null,
            "margin": null,
            "max_height": null,
            "max_width": null,
            "min_height": null,
            "min_width": null,
            "object_fit": null,
            "object_position": null,
            "order": null,
            "overflow": null,
            "overflow_x": null,
            "overflow_y": null,
            "padding": null,
            "right": null,
            "top": null,
            "visibility": null,
            "width": null
          }
        },
        "797010d7d9a3429f98097a1a5e8624df": {
          "model_module": "@jupyter-widgets/controls",
          "model_name": "DescriptionStyleModel",
          "model_module_version": "1.5.0",
          "state": {
            "_model_module": "@jupyter-widgets/controls",
            "_model_module_version": "1.5.0",
            "_model_name": "DescriptionStyleModel",
            "_view_count": null,
            "_view_module": "@jupyter-widgets/base",
            "_view_module_version": "1.2.0",
            "_view_name": "StyleView",
            "description_width": ""
          }
        },
        "be772b4f5942432fa65ddddb0b45f310": {
          "model_module": "@jupyter-widgets/controls",
          "model_name": "HBoxModel",
          "model_module_version": "1.5.0",
          "state": {
            "_dom_classes": [],
            "_model_module": "@jupyter-widgets/controls",
            "_model_module_version": "1.5.0",
            "_model_name": "HBoxModel",
            "_view_count": null,
            "_view_module": "@jupyter-widgets/controls",
            "_view_module_version": "1.5.0",
            "_view_name": "HBoxView",
            "box_style": "",
            "children": [
              "IPY_MODEL_a6f6703837534345b2d9bb798e27b6b8",
              "IPY_MODEL_4dcf8a09f2a84e5a8f5816903b767489",
              "IPY_MODEL_4de1c663887249c1a051b5255754eb1b"
            ],
            "layout": "IPY_MODEL_8fa2311a4bbd4955ae0c662e210dbbf3"
          }
        },
        "a6f6703837534345b2d9bb798e27b6b8": {
          "model_module": "@jupyter-widgets/controls",
          "model_name": "HTMLModel",
          "model_module_version": "1.5.0",
          "state": {
            "_dom_classes": [],
            "_model_module": "@jupyter-widgets/controls",
            "_model_module_version": "1.5.0",
            "_model_name": "HTMLModel",
            "_view_count": null,
            "_view_module": "@jupyter-widgets/controls",
            "_view_module_version": "1.5.0",
            "_view_name": "HTMLView",
            "description": "",
            "description_tooltip": null,
            "layout": "IPY_MODEL_9021c3e0845c4a49915105fca2b21a6b",
            "placeholder": "​",
            "style": "IPY_MODEL_4974c9861e554d50a5f4f37ab2b6e973",
            "value": "tokenizer.json: 100%"
          }
        },
        "4dcf8a09f2a84e5a8f5816903b767489": {
          "model_module": "@jupyter-widgets/controls",
          "model_name": "FloatProgressModel",
          "model_module_version": "1.5.0",
          "state": {
            "_dom_classes": [],
            "_model_module": "@jupyter-widgets/controls",
            "_model_module_version": "1.5.0",
            "_model_name": "FloatProgressModel",
            "_view_count": null,
            "_view_module": "@jupyter-widgets/controls",
            "_view_module_version": "1.5.0",
            "_view_name": "ProgressView",
            "bar_style": "success",
            "description": "",
            "description_tooltip": null,
            "layout": "IPY_MODEL_6af54bb4272f4d3fb77fe610f89c3a33",
            "max": 1961828,
            "min": 0,
            "orientation": "horizontal",
            "style": "IPY_MODEL_34ce484bcf0e4b09976eec39e274fe7c",
            "value": 1961828
          }
        },
        "4de1c663887249c1a051b5255754eb1b": {
          "model_module": "@jupyter-widgets/controls",
          "model_name": "HTMLModel",
          "model_module_version": "1.5.0",
          "state": {
            "_dom_classes": [],
            "_model_module": "@jupyter-widgets/controls",
            "_model_module_version": "1.5.0",
            "_model_name": "HTMLModel",
            "_view_count": null,
            "_view_module": "@jupyter-widgets/controls",
            "_view_module_version": "1.5.0",
            "_view_name": "HTMLView",
            "description": "",
            "description_tooltip": null,
            "layout": "IPY_MODEL_bb555bc5da764a8786acbafbea844497",
            "placeholder": "​",
            "style": "IPY_MODEL_0c62f178b1e4436f99e25978fa97e524",
            "value": " 1.96M/1.96M [00:00&lt;00:00, 13.1MB/s]"
          }
        },
        "8fa2311a4bbd4955ae0c662e210dbbf3": {
          "model_module": "@jupyter-widgets/base",
          "model_name": "LayoutModel",
          "model_module_version": "1.2.0",
          "state": {
            "_model_module": "@jupyter-widgets/base",
            "_model_module_version": "1.2.0",
            "_model_name": "LayoutModel",
            "_view_count": null,
            "_view_module": "@jupyter-widgets/base",
            "_view_module_version": "1.2.0",
            "_view_name": "LayoutView",
            "align_content": null,
            "align_items": null,
            "align_self": null,
            "border": null,
            "bottom": null,
            "display": null,
            "flex": null,
            "flex_flow": null,
            "grid_area": null,
            "grid_auto_columns": null,
            "grid_auto_flow": null,
            "grid_auto_rows": null,
            "grid_column": null,
            "grid_gap": null,
            "grid_row": null,
            "grid_template_areas": null,
            "grid_template_columns": null,
            "grid_template_rows": null,
            "height": null,
            "justify_content": null,
            "justify_items": null,
            "left": null,
            "margin": null,
            "max_height": null,
            "max_width": null,
            "min_height": null,
            "min_width": null,
            "object_fit": null,
            "object_position": null,
            "order": null,
            "overflow": null,
            "overflow_x": null,
            "overflow_y": null,
            "padding": null,
            "right": null,
            "top": null,
            "visibility": null,
            "width": null
          }
        },
        "9021c3e0845c4a49915105fca2b21a6b": {
          "model_module": "@jupyter-widgets/base",
          "model_name": "LayoutModel",
          "model_module_version": "1.2.0",
          "state": {
            "_model_module": "@jupyter-widgets/base",
            "_model_module_version": "1.2.0",
            "_model_name": "LayoutModel",
            "_view_count": null,
            "_view_module": "@jupyter-widgets/base",
            "_view_module_version": "1.2.0",
            "_view_name": "LayoutView",
            "align_content": null,
            "align_items": null,
            "align_self": null,
            "border": null,
            "bottom": null,
            "display": null,
            "flex": null,
            "flex_flow": null,
            "grid_area": null,
            "grid_auto_columns": null,
            "grid_auto_flow": null,
            "grid_auto_rows": null,
            "grid_column": null,
            "grid_gap": null,
            "grid_row": null,
            "grid_template_areas": null,
            "grid_template_columns": null,
            "grid_template_rows": null,
            "height": null,
            "justify_content": null,
            "justify_items": null,
            "left": null,
            "margin": null,
            "max_height": null,
            "max_width": null,
            "min_height": null,
            "min_width": null,
            "object_fit": null,
            "object_position": null,
            "order": null,
            "overflow": null,
            "overflow_x": null,
            "overflow_y": null,
            "padding": null,
            "right": null,
            "top": null,
            "visibility": null,
            "width": null
          }
        },
        "4974c9861e554d50a5f4f37ab2b6e973": {
          "model_module": "@jupyter-widgets/controls",
          "model_name": "DescriptionStyleModel",
          "model_module_version": "1.5.0",
          "state": {
            "_model_module": "@jupyter-widgets/controls",
            "_model_module_version": "1.5.0",
            "_model_name": "DescriptionStyleModel",
            "_view_count": null,
            "_view_module": "@jupyter-widgets/base",
            "_view_module_version": "1.2.0",
            "_view_name": "StyleView",
            "description_width": ""
          }
        },
        "6af54bb4272f4d3fb77fe610f89c3a33": {
          "model_module": "@jupyter-widgets/base",
          "model_name": "LayoutModel",
          "model_module_version": "1.2.0",
          "state": {
            "_model_module": "@jupyter-widgets/base",
            "_model_module_version": "1.2.0",
            "_model_name": "LayoutModel",
            "_view_count": null,
            "_view_module": "@jupyter-widgets/base",
            "_view_module_version": "1.2.0",
            "_view_name": "LayoutView",
            "align_content": null,
            "align_items": null,
            "align_self": null,
            "border": null,
            "bottom": null,
            "display": null,
            "flex": null,
            "flex_flow": null,
            "grid_area": null,
            "grid_auto_columns": null,
            "grid_auto_flow": null,
            "grid_auto_rows": null,
            "grid_column": null,
            "grid_gap": null,
            "grid_row": null,
            "grid_template_areas": null,
            "grid_template_columns": null,
            "grid_template_rows": null,
            "height": null,
            "justify_content": null,
            "justify_items": null,
            "left": null,
            "margin": null,
            "max_height": null,
            "max_width": null,
            "min_height": null,
            "min_width": null,
            "object_fit": null,
            "object_position": null,
            "order": null,
            "overflow": null,
            "overflow_x": null,
            "overflow_y": null,
            "padding": null,
            "right": null,
            "top": null,
            "visibility": null,
            "width": null
          }
        },
        "34ce484bcf0e4b09976eec39e274fe7c": {
          "model_module": "@jupyter-widgets/controls",
          "model_name": "ProgressStyleModel",
          "model_module_version": "1.5.0",
          "state": {
            "_model_module": "@jupyter-widgets/controls",
            "_model_module_version": "1.5.0",
            "_model_name": "ProgressStyleModel",
            "_view_count": null,
            "_view_module": "@jupyter-widgets/base",
            "_view_module_version": "1.2.0",
            "_view_name": "StyleView",
            "bar_color": null,
            "description_width": ""
          }
        },
        "bb555bc5da764a8786acbafbea844497": {
          "model_module": "@jupyter-widgets/base",
          "model_name": "LayoutModel",
          "model_module_version": "1.2.0",
          "state": {
            "_model_module": "@jupyter-widgets/base",
            "_model_module_version": "1.2.0",
            "_model_name": "LayoutModel",
            "_view_count": null,
            "_view_module": "@jupyter-widgets/base",
            "_view_module_version": "1.2.0",
            "_view_name": "LayoutView",
            "align_content": null,
            "align_items": null,
            "align_self": null,
            "border": null,
            "bottom": null,
            "display": null,
            "flex": null,
            "flex_flow": null,
            "grid_area": null,
            "grid_auto_columns": null,
            "grid_auto_flow": null,
            "grid_auto_rows": null,
            "grid_column": null,
            "grid_gap": null,
            "grid_row": null,
            "grid_template_areas": null,
            "grid_template_columns": null,
            "grid_template_rows": null,
            "height": null,
            "justify_content": null,
            "justify_items": null,
            "left": null,
            "margin": null,
            "max_height": null,
            "max_width": null,
            "min_height": null,
            "min_width": null,
            "object_fit": null,
            "object_position": null,
            "order": null,
            "overflow": null,
            "overflow_x": null,
            "overflow_y": null,
            "padding": null,
            "right": null,
            "top": null,
            "visibility": null,
            "width": null
          }
        },
        "0c62f178b1e4436f99e25978fa97e524": {
          "model_module": "@jupyter-widgets/controls",
          "model_name": "DescriptionStyleModel",
          "model_module_version": "1.5.0",
          "state": {
            "_model_module": "@jupyter-widgets/controls",
            "_model_module_version": "1.5.0",
            "_model_name": "DescriptionStyleModel",
            "_view_count": null,
            "_view_module": "@jupyter-widgets/base",
            "_view_module_version": "1.2.0",
            "_view_name": "StyleView",
            "description_width": ""
          }
        },
        "8499271c7f95446bac3e0976a9570a04": {
          "model_module": "@jupyter-widgets/controls",
          "model_name": "HBoxModel",
          "model_module_version": "1.5.0",
          "state": {
            "_dom_classes": [],
            "_model_module": "@jupyter-widgets/controls",
            "_model_module_version": "1.5.0",
            "_model_name": "HBoxModel",
            "_view_count": null,
            "_view_module": "@jupyter-widgets/controls",
            "_view_module_version": "1.5.0",
            "_view_name": "HBoxView",
            "box_style": "",
            "children": [
              "IPY_MODEL_67c2bf98313f4a3ab829a25165ee7bc7",
              "IPY_MODEL_d9defc9db4ea48bfad1d11551689b18d",
              "IPY_MODEL_33ed0ae6fe0645db83be9cd9c88530e5"
            ],
            "layout": "IPY_MODEL_f8608b4361d54d7ab0fe4eb223844a9c"
          }
        },
        "67c2bf98313f4a3ab829a25165ee7bc7": {
          "model_module": "@jupyter-widgets/controls",
          "model_name": "HTMLModel",
          "model_module_version": "1.5.0",
          "state": {
            "_dom_classes": [],
            "_model_module": "@jupyter-widgets/controls",
            "_model_module_version": "1.5.0",
            "_model_name": "HTMLModel",
            "_view_count": null,
            "_view_module": "@jupyter-widgets/controls",
            "_view_module_version": "1.5.0",
            "_view_name": "HTMLView",
            "description": "",
            "description_tooltip": null,
            "layout": "IPY_MODEL_dee002cf8bf146b9a9b8a89427b37f6c",
            "placeholder": "​",
            "style": "IPY_MODEL_c7491e11dd894ae0be93115c25155c04",
            "value": "config.json: 100%"
          }
        },
        "d9defc9db4ea48bfad1d11551689b18d": {
          "model_module": "@jupyter-widgets/controls",
          "model_name": "FloatProgressModel",
          "model_module_version": "1.5.0",
          "state": {
            "_dom_classes": [],
            "_model_module": "@jupyter-widgets/controls",
            "_model_module_version": "1.5.0",
            "_model_name": "FloatProgressModel",
            "_view_count": null,
            "_view_module": "@jupyter-widgets/controls",
            "_view_module_version": "1.5.0",
            "_view_name": "ProgressView",
            "bar_style": "success",
            "description": "",
            "description_tooltip": null,
            "layout": "IPY_MODEL_3af2ee3a35284d97a37ca793d808e719",
            "max": 411,
            "min": 0,
            "orientation": "horizontal",
            "style": "IPY_MODEL_be34f20f10f540c68ecc5888538c5fb2",
            "value": 411
          }
        },
        "33ed0ae6fe0645db83be9cd9c88530e5": {
          "model_module": "@jupyter-widgets/controls",
          "model_name": "HTMLModel",
          "model_module_version": "1.5.0",
          "state": {
            "_dom_classes": [],
            "_model_module": "@jupyter-widgets/controls",
            "_model_module_version": "1.5.0",
            "_model_name": "HTMLModel",
            "_view_count": null,
            "_view_module": "@jupyter-widgets/controls",
            "_view_module_version": "1.5.0",
            "_view_name": "HTMLView",
            "description": "",
            "description_tooltip": null,
            "layout": "IPY_MODEL_10a6008c23d8455c926b50ebea9763da",
            "placeholder": "​",
            "style": "IPY_MODEL_629cc8ce64c44398a401200ccfe404bd",
            "value": " 411/411 [00:00&lt;00:00, 13.2kB/s]"
          }
        },
        "f8608b4361d54d7ab0fe4eb223844a9c": {
          "model_module": "@jupyter-widgets/base",
          "model_name": "LayoutModel",
          "model_module_version": "1.2.0",
          "state": {
            "_model_module": "@jupyter-widgets/base",
            "_model_module_version": "1.2.0",
            "_model_name": "LayoutModel",
            "_view_count": null,
            "_view_module": "@jupyter-widgets/base",
            "_view_module_version": "1.2.0",
            "_view_name": "LayoutView",
            "align_content": null,
            "align_items": null,
            "align_self": null,
            "border": null,
            "bottom": null,
            "display": null,
            "flex": null,
            "flex_flow": null,
            "grid_area": null,
            "grid_auto_columns": null,
            "grid_auto_flow": null,
            "grid_auto_rows": null,
            "grid_column": null,
            "grid_gap": null,
            "grid_row": null,
            "grid_template_areas": null,
            "grid_template_columns": null,
            "grid_template_rows": null,
            "height": null,
            "justify_content": null,
            "justify_items": null,
            "left": null,
            "margin": null,
            "max_height": null,
            "max_width": null,
            "min_height": null,
            "min_width": null,
            "object_fit": null,
            "object_position": null,
            "order": null,
            "overflow": null,
            "overflow_x": null,
            "overflow_y": null,
            "padding": null,
            "right": null,
            "top": null,
            "visibility": null,
            "width": null
          }
        },
        "dee002cf8bf146b9a9b8a89427b37f6c": {
          "model_module": "@jupyter-widgets/base",
          "model_name": "LayoutModel",
          "model_module_version": "1.2.0",
          "state": {
            "_model_module": "@jupyter-widgets/base",
            "_model_module_version": "1.2.0",
            "_model_name": "LayoutModel",
            "_view_count": null,
            "_view_module": "@jupyter-widgets/base",
            "_view_module_version": "1.2.0",
            "_view_name": "LayoutView",
            "align_content": null,
            "align_items": null,
            "align_self": null,
            "border": null,
            "bottom": null,
            "display": null,
            "flex": null,
            "flex_flow": null,
            "grid_area": null,
            "grid_auto_columns": null,
            "grid_auto_flow": null,
            "grid_auto_rows": null,
            "grid_column": null,
            "grid_gap": null,
            "grid_row": null,
            "grid_template_areas": null,
            "grid_template_columns": null,
            "grid_template_rows": null,
            "height": null,
            "justify_content": null,
            "justify_items": null,
            "left": null,
            "margin": null,
            "max_height": null,
            "max_width": null,
            "min_height": null,
            "min_width": null,
            "object_fit": null,
            "object_position": null,
            "order": null,
            "overflow": null,
            "overflow_x": null,
            "overflow_y": null,
            "padding": null,
            "right": null,
            "top": null,
            "visibility": null,
            "width": null
          }
        },
        "c7491e11dd894ae0be93115c25155c04": {
          "model_module": "@jupyter-widgets/controls",
          "model_name": "DescriptionStyleModel",
          "model_module_version": "1.5.0",
          "state": {
            "_model_module": "@jupyter-widgets/controls",
            "_model_module_version": "1.5.0",
            "_model_name": "DescriptionStyleModel",
            "_view_count": null,
            "_view_module": "@jupyter-widgets/base",
            "_view_module_version": "1.2.0",
            "_view_name": "StyleView",
            "description_width": ""
          }
        },
        "3af2ee3a35284d97a37ca793d808e719": {
          "model_module": "@jupyter-widgets/base",
          "model_name": "LayoutModel",
          "model_module_version": "1.2.0",
          "state": {
            "_model_module": "@jupyter-widgets/base",
            "_model_module_version": "1.2.0",
            "_model_name": "LayoutModel",
            "_view_count": null,
            "_view_module": "@jupyter-widgets/base",
            "_view_module_version": "1.2.0",
            "_view_name": "LayoutView",
            "align_content": null,
            "align_items": null,
            "align_self": null,
            "border": null,
            "bottom": null,
            "display": null,
            "flex": null,
            "flex_flow": null,
            "grid_area": null,
            "grid_auto_columns": null,
            "grid_auto_flow": null,
            "grid_auto_rows": null,
            "grid_column": null,
            "grid_gap": null,
            "grid_row": null,
            "grid_template_areas": null,
            "grid_template_columns": null,
            "grid_template_rows": null,
            "height": null,
            "justify_content": null,
            "justify_items": null,
            "left": null,
            "margin": null,
            "max_height": null,
            "max_width": null,
            "min_height": null,
            "min_width": null,
            "object_fit": null,
            "object_position": null,
            "order": null,
            "overflow": null,
            "overflow_x": null,
            "overflow_y": null,
            "padding": null,
            "right": null,
            "top": null,
            "visibility": null,
            "width": null
          }
        },
        "be34f20f10f540c68ecc5888538c5fb2": {
          "model_module": "@jupyter-widgets/controls",
          "model_name": "ProgressStyleModel",
          "model_module_version": "1.5.0",
          "state": {
            "_model_module": "@jupyter-widgets/controls",
            "_model_module_version": "1.5.0",
            "_model_name": "ProgressStyleModel",
            "_view_count": null,
            "_view_module": "@jupyter-widgets/base",
            "_view_module_version": "1.2.0",
            "_view_name": "StyleView",
            "bar_color": null,
            "description_width": ""
          }
        },
        "10a6008c23d8455c926b50ebea9763da": {
          "model_module": "@jupyter-widgets/base",
          "model_name": "LayoutModel",
          "model_module_version": "1.2.0",
          "state": {
            "_model_module": "@jupyter-widgets/base",
            "_model_module_version": "1.2.0",
            "_model_name": "LayoutModel",
            "_view_count": null,
            "_view_module": "@jupyter-widgets/base",
            "_view_module_version": "1.2.0",
            "_view_name": "LayoutView",
            "align_content": null,
            "align_items": null,
            "align_self": null,
            "border": null,
            "bottom": null,
            "display": null,
            "flex": null,
            "flex_flow": null,
            "grid_area": null,
            "grid_auto_columns": null,
            "grid_auto_flow": null,
            "grid_auto_rows": null,
            "grid_column": null,
            "grid_gap": null,
            "grid_row": null,
            "grid_template_areas": null,
            "grid_template_columns": null,
            "grid_template_rows": null,
            "height": null,
            "justify_content": null,
            "justify_items": null,
            "left": null,
            "margin": null,
            "max_height": null,
            "max_width": null,
            "min_height": null,
            "min_width": null,
            "object_fit": null,
            "object_position": null,
            "order": null,
            "overflow": null,
            "overflow_x": null,
            "overflow_y": null,
            "padding": null,
            "right": null,
            "top": null,
            "visibility": null,
            "width": null
          }
        },
        "629cc8ce64c44398a401200ccfe404bd": {
          "model_module": "@jupyter-widgets/controls",
          "model_name": "DescriptionStyleModel",
          "model_module_version": "1.5.0",
          "state": {
            "_model_module": "@jupyter-widgets/controls",
            "_model_module_version": "1.5.0",
            "_model_name": "DescriptionStyleModel",
            "_view_count": null,
            "_view_module": "@jupyter-widgets/base",
            "_view_module_version": "1.2.0",
            "_view_name": "StyleView",
            "description_width": ""
          }
        },
        "8c586e1741d34e458eb74ceb8a7c529f": {
          "model_module": "@jupyter-widgets/controls",
          "model_name": "HBoxModel",
          "model_module_version": "1.5.0",
          "state": {
            "_dom_classes": [],
            "_model_module": "@jupyter-widgets/controls",
            "_model_module_version": "1.5.0",
            "_model_name": "HBoxModel",
            "_view_count": null,
            "_view_module": "@jupyter-widgets/controls",
            "_view_module_version": "1.5.0",
            "_view_name": "HBoxView",
            "box_style": "",
            "children": [
              "IPY_MODEL_9ebaf42ab36c4bc3aa5d74ac697c143f",
              "IPY_MODEL_d18efb5c431a48308599144880919883",
              "IPY_MODEL_61d3e23408a34256a9b5742e9e622d22"
            ],
            "layout": "IPY_MODEL_da510a2321e74602ae3ba6c1bcaf88e9"
          }
        },
        "9ebaf42ab36c4bc3aa5d74ac697c143f": {
          "model_module": "@jupyter-widgets/controls",
          "model_name": "HTMLModel",
          "model_module_version": "1.5.0",
          "state": {
            "_dom_classes": [],
            "_model_module": "@jupyter-widgets/controls",
            "_model_module_version": "1.5.0",
            "_model_name": "HTMLModel",
            "_view_count": null,
            "_view_module": "@jupyter-widgets/controls",
            "_view_module_version": "1.5.0",
            "_view_name": "HTMLView",
            "description": "",
            "description_tooltip": null,
            "layout": "IPY_MODEL_dccab9b1abc04237ba4115a425c64f8b",
            "placeholder": "​",
            "style": "IPY_MODEL_3f177c17f6a54b3eab83e85249342b5b",
            "value": "pytorch_model.bin: 100%"
          }
        },
        "d18efb5c431a48308599144880919883": {
          "model_module": "@jupyter-widgets/controls",
          "model_name": "FloatProgressModel",
          "model_module_version": "1.5.0",
          "state": {
            "_dom_classes": [],
            "_model_module": "@jupyter-widgets/controls",
            "_model_module_version": "1.5.0",
            "_model_name": "FloatProgressModel",
            "_view_count": null,
            "_view_module": "@jupyter-widgets/controls",
            "_view_module_version": "1.5.0",
            "_view_name": "ProgressView",
            "bar_style": "success",
            "description": "",
            "description_tooltip": null,
            "layout": "IPY_MODEL_5249b5d8715041449fd285cf2b8f3722",
            "max": 953477430,
            "min": 0,
            "orientation": "horizontal",
            "style": "IPY_MODEL_6a8153a462ae4142ad246e1fb62149ec",
            "value": 953477430
          }
        },
        "61d3e23408a34256a9b5742e9e622d22": {
          "model_module": "@jupyter-widgets/controls",
          "model_name": "HTMLModel",
          "model_module_version": "1.5.0",
          "state": {
            "_dom_classes": [],
            "_model_module": "@jupyter-widgets/controls",
            "_model_module_version": "1.5.0",
            "_model_name": "HTMLModel",
            "_view_count": null,
            "_view_module": "@jupyter-widgets/controls",
            "_view_module_version": "1.5.0",
            "_view_name": "HTMLView",
            "description": "",
            "description_tooltip": null,
            "layout": "IPY_MODEL_8636ba5d2f814783928287029584f04f",
            "placeholder": "​",
            "style": "IPY_MODEL_5a5632e25adc4d92a27dca80d54a126e",
            "value": " 953M/953M [00:10&lt;00:00, 108MB/s]"
          }
        },
        "da510a2321e74602ae3ba6c1bcaf88e9": {
          "model_module": "@jupyter-widgets/base",
          "model_name": "LayoutModel",
          "model_module_version": "1.2.0",
          "state": {
            "_model_module": "@jupyter-widgets/base",
            "_model_module_version": "1.2.0",
            "_model_name": "LayoutModel",
            "_view_count": null,
            "_view_module": "@jupyter-widgets/base",
            "_view_module_version": "1.2.0",
            "_view_name": "LayoutView",
            "align_content": null,
            "align_items": null,
            "align_self": null,
            "border": null,
            "bottom": null,
            "display": null,
            "flex": null,
            "flex_flow": null,
            "grid_area": null,
            "grid_auto_columns": null,
            "grid_auto_flow": null,
            "grid_auto_rows": null,
            "grid_column": null,
            "grid_gap": null,
            "grid_row": null,
            "grid_template_areas": null,
            "grid_template_columns": null,
            "grid_template_rows": null,
            "height": null,
            "justify_content": null,
            "justify_items": null,
            "left": null,
            "margin": null,
            "max_height": null,
            "max_width": null,
            "min_height": null,
            "min_width": null,
            "object_fit": null,
            "object_position": null,
            "order": null,
            "overflow": null,
            "overflow_x": null,
            "overflow_y": null,
            "padding": null,
            "right": null,
            "top": null,
            "visibility": null,
            "width": null
          }
        },
        "dccab9b1abc04237ba4115a425c64f8b": {
          "model_module": "@jupyter-widgets/base",
          "model_name": "LayoutModel",
          "model_module_version": "1.2.0",
          "state": {
            "_model_module": "@jupyter-widgets/base",
            "_model_module_version": "1.2.0",
            "_model_name": "LayoutModel",
            "_view_count": null,
            "_view_module": "@jupyter-widgets/base",
            "_view_module_version": "1.2.0",
            "_view_name": "LayoutView",
            "align_content": null,
            "align_items": null,
            "align_self": null,
            "border": null,
            "bottom": null,
            "display": null,
            "flex": null,
            "flex_flow": null,
            "grid_area": null,
            "grid_auto_columns": null,
            "grid_auto_flow": null,
            "grid_auto_rows": null,
            "grid_column": null,
            "grid_gap": null,
            "grid_row": null,
            "grid_template_areas": null,
            "grid_template_columns": null,
            "grid_template_rows": null,
            "height": null,
            "justify_content": null,
            "justify_items": null,
            "left": null,
            "margin": null,
            "max_height": null,
            "max_width": null,
            "min_height": null,
            "min_width": null,
            "object_fit": null,
            "object_position": null,
            "order": null,
            "overflow": null,
            "overflow_x": null,
            "overflow_y": null,
            "padding": null,
            "right": null,
            "top": null,
            "visibility": null,
            "width": null
          }
        },
        "3f177c17f6a54b3eab83e85249342b5b": {
          "model_module": "@jupyter-widgets/controls",
          "model_name": "DescriptionStyleModel",
          "model_module_version": "1.5.0",
          "state": {
            "_model_module": "@jupyter-widgets/controls",
            "_model_module_version": "1.5.0",
            "_model_name": "DescriptionStyleModel",
            "_view_count": null,
            "_view_module": "@jupyter-widgets/base",
            "_view_module_version": "1.2.0",
            "_view_name": "StyleView",
            "description_width": ""
          }
        },
        "5249b5d8715041449fd285cf2b8f3722": {
          "model_module": "@jupyter-widgets/base",
          "model_name": "LayoutModel",
          "model_module_version": "1.2.0",
          "state": {
            "_model_module": "@jupyter-widgets/base",
            "_model_module_version": "1.2.0",
            "_model_name": "LayoutModel",
            "_view_count": null,
            "_view_module": "@jupyter-widgets/base",
            "_view_module_version": "1.2.0",
            "_view_name": "LayoutView",
            "align_content": null,
            "align_items": null,
            "align_self": null,
            "border": null,
            "bottom": null,
            "display": null,
            "flex": null,
            "flex_flow": null,
            "grid_area": null,
            "grid_auto_columns": null,
            "grid_auto_flow": null,
            "grid_auto_rows": null,
            "grid_column": null,
            "grid_gap": null,
            "grid_row": null,
            "grid_template_areas": null,
            "grid_template_columns": null,
            "grid_template_rows": null,
            "height": null,
            "justify_content": null,
            "justify_items": null,
            "left": null,
            "margin": null,
            "max_height": null,
            "max_width": null,
            "min_height": null,
            "min_width": null,
            "object_fit": null,
            "object_position": null,
            "order": null,
            "overflow": null,
            "overflow_x": null,
            "overflow_y": null,
            "padding": null,
            "right": null,
            "top": null,
            "visibility": null,
            "width": null
          }
        },
        "6a8153a462ae4142ad246e1fb62149ec": {
          "model_module": "@jupyter-widgets/controls",
          "model_name": "ProgressStyleModel",
          "model_module_version": "1.5.0",
          "state": {
            "_model_module": "@jupyter-widgets/controls",
            "_model_module_version": "1.5.0",
            "_model_name": "ProgressStyleModel",
            "_view_count": null,
            "_view_module": "@jupyter-widgets/base",
            "_view_module_version": "1.2.0",
            "_view_name": "StyleView",
            "bar_color": null,
            "description_width": ""
          }
        },
        "8636ba5d2f814783928287029584f04f": {
          "model_module": "@jupyter-widgets/base",
          "model_name": "LayoutModel",
          "model_module_version": "1.2.0",
          "state": {
            "_model_module": "@jupyter-widgets/base",
            "_model_module_version": "1.2.0",
            "_model_name": "LayoutModel",
            "_view_count": null,
            "_view_module": "@jupyter-widgets/base",
            "_view_module_version": "1.2.0",
            "_view_name": "LayoutView",
            "align_content": null,
            "align_items": null,
            "align_self": null,
            "border": null,
            "bottom": null,
            "display": null,
            "flex": null,
            "flex_flow": null,
            "grid_area": null,
            "grid_auto_columns": null,
            "grid_auto_flow": null,
            "grid_auto_rows": null,
            "grid_column": null,
            "grid_gap": null,
            "grid_row": null,
            "grid_template_areas": null,
            "grid_template_columns": null,
            "grid_template_rows": null,
            "height": null,
            "justify_content": null,
            "justify_items": null,
            "left": null,
            "margin": null,
            "max_height": null,
            "max_width": null,
            "min_height": null,
            "min_width": null,
            "object_fit": null,
            "object_position": null,
            "order": null,
            "overflow": null,
            "overflow_x": null,
            "overflow_y": null,
            "padding": null,
            "right": null,
            "top": null,
            "visibility": null,
            "width": null
          }
        },
        "5a5632e25adc4d92a27dca80d54a126e": {
          "model_module": "@jupyter-widgets/controls",
          "model_name": "DescriptionStyleModel",
          "model_module_version": "1.5.0",
          "state": {
            "_model_module": "@jupyter-widgets/controls",
            "_model_module_version": "1.5.0",
            "_model_name": "DescriptionStyleModel",
            "_view_count": null,
            "_view_module": "@jupyter-widgets/base",
            "_view_module_version": "1.2.0",
            "_view_name": "StyleView",
            "description_width": ""
          }
        },
        "8d219ffd8cc049168f20a8260fef3eaa": {
          "model_module": "@jupyter-widgets/controls",
          "model_name": "HBoxModel",
          "model_module_version": "1.5.0",
          "state": {
            "_dom_classes": [],
            "_model_module": "@jupyter-widgets/controls",
            "_model_module_version": "1.5.0",
            "_model_name": "HBoxModel",
            "_view_count": null,
            "_view_module": "@jupyter-widgets/controls",
            "_view_module_version": "1.5.0",
            "_view_name": "HBoxView",
            "box_style": "",
            "children": [
              "IPY_MODEL_40dc013b2ff34886a66992f08708c29f",
              "IPY_MODEL_0e2cbff6a2de4961a1f09bf494c908bb",
              "IPY_MODEL_3cb1e805268a4f5aa2cc8951d21032ac"
            ],
            "layout": "IPY_MODEL_a95f8f85db3a4a768a0917225c39c8b7"
          }
        },
        "40dc013b2ff34886a66992f08708c29f": {
          "model_module": "@jupyter-widgets/controls",
          "model_name": "HTMLModel",
          "model_module_version": "1.5.0",
          "state": {
            "_dom_classes": [],
            "_model_module": "@jupyter-widgets/controls",
            "_model_module_version": "1.5.0",
            "_model_name": "HTMLModel",
            "_view_count": null,
            "_view_module": "@jupyter-widgets/controls",
            "_view_module_version": "1.5.0",
            "_view_name": "HTMLView",
            "description": "",
            "description_tooltip": null,
            "layout": "IPY_MODEL_ebddfa7e0c59464f9907cbb9877e2436",
            "placeholder": "​",
            "style": "IPY_MODEL_d2882caadb0246bcb2ef95ece29163cf",
            "value": "tokenizer_config.json: 100%"
          }
        },
        "0e2cbff6a2de4961a1f09bf494c908bb": {
          "model_module": "@jupyter-widgets/controls",
          "model_name": "FloatProgressModel",
          "model_module_version": "1.5.0",
          "state": {
            "_dom_classes": [],
            "_model_module": "@jupyter-widgets/controls",
            "_model_module_version": "1.5.0",
            "_model_name": "FloatProgressModel",
            "_view_count": null,
            "_view_module": "@jupyter-widgets/controls",
            "_view_module_version": "1.5.0",
            "_view_name": "ProgressView",
            "bar_style": "success",
            "description": "",
            "description_tooltip": null,
            "layout": "IPY_MODEL_a6bdd5e08bfa43209e6de089b2acdd80",
            "max": 206,
            "min": 0,
            "orientation": "horizontal",
            "style": "IPY_MODEL_a99bd48e49594bc0b36047b9b9aef837",
            "value": 206
          }
        },
        "3cb1e805268a4f5aa2cc8951d21032ac": {
          "model_module": "@jupyter-widgets/controls",
          "model_name": "HTMLModel",
          "model_module_version": "1.5.0",
          "state": {
            "_dom_classes": [],
            "_model_module": "@jupyter-widgets/controls",
            "_model_module_version": "1.5.0",
            "_model_name": "HTMLModel",
            "_view_count": null,
            "_view_module": "@jupyter-widgets/controls",
            "_view_module_version": "1.5.0",
            "_view_name": "HTMLView",
            "description": "",
            "description_tooltip": null,
            "layout": "IPY_MODEL_8fc12d4715e7450f8d090467b6da75bc",
            "placeholder": "​",
            "style": "IPY_MODEL_74670bcbdeae46abaa4c563eabf09f81",
            "value": " 206/206 [00:00&lt;00:00, 3.65kB/s]"
          }
        },
        "a95f8f85db3a4a768a0917225c39c8b7": {
          "model_module": "@jupyter-widgets/base",
          "model_name": "LayoutModel",
          "model_module_version": "1.2.0",
          "state": {
            "_model_module": "@jupyter-widgets/base",
            "_model_module_version": "1.2.0",
            "_model_name": "LayoutModel",
            "_view_count": null,
            "_view_module": "@jupyter-widgets/base",
            "_view_module_version": "1.2.0",
            "_view_name": "LayoutView",
            "align_content": null,
            "align_items": null,
            "align_self": null,
            "border": null,
            "bottom": null,
            "display": null,
            "flex": null,
            "flex_flow": null,
            "grid_area": null,
            "grid_auto_columns": null,
            "grid_auto_flow": null,
            "grid_auto_rows": null,
            "grid_column": null,
            "grid_gap": null,
            "grid_row": null,
            "grid_template_areas": null,
            "grid_template_columns": null,
            "grid_template_rows": null,
            "height": null,
            "justify_content": null,
            "justify_items": null,
            "left": null,
            "margin": null,
            "max_height": null,
            "max_width": null,
            "min_height": null,
            "min_width": null,
            "object_fit": null,
            "object_position": null,
            "order": null,
            "overflow": null,
            "overflow_x": null,
            "overflow_y": null,
            "padding": null,
            "right": null,
            "top": null,
            "visibility": null,
            "width": null
          }
        },
        "ebddfa7e0c59464f9907cbb9877e2436": {
          "model_module": "@jupyter-widgets/base",
          "model_name": "LayoutModel",
          "model_module_version": "1.2.0",
          "state": {
            "_model_module": "@jupyter-widgets/base",
            "_model_module_version": "1.2.0",
            "_model_name": "LayoutModel",
            "_view_count": null,
            "_view_module": "@jupyter-widgets/base",
            "_view_module_version": "1.2.0",
            "_view_name": "LayoutView",
            "align_content": null,
            "align_items": null,
            "align_self": null,
            "border": null,
            "bottom": null,
            "display": null,
            "flex": null,
            "flex_flow": null,
            "grid_area": null,
            "grid_auto_columns": null,
            "grid_auto_flow": null,
            "grid_auto_rows": null,
            "grid_column": null,
            "grid_gap": null,
            "grid_row": null,
            "grid_template_areas": null,
            "grid_template_columns": null,
            "grid_template_rows": null,
            "height": null,
            "justify_content": null,
            "justify_items": null,
            "left": null,
            "margin": null,
            "max_height": null,
            "max_width": null,
            "min_height": null,
            "min_width": null,
            "object_fit": null,
            "object_position": null,
            "order": null,
            "overflow": null,
            "overflow_x": null,
            "overflow_y": null,
            "padding": null,
            "right": null,
            "top": null,
            "visibility": null,
            "width": null
          }
        },
        "d2882caadb0246bcb2ef95ece29163cf": {
          "model_module": "@jupyter-widgets/controls",
          "model_name": "DescriptionStyleModel",
          "model_module_version": "1.5.0",
          "state": {
            "_model_module": "@jupyter-widgets/controls",
            "_model_module_version": "1.5.0",
            "_model_name": "DescriptionStyleModel",
            "_view_count": null,
            "_view_module": "@jupyter-widgets/base",
            "_view_module_version": "1.2.0",
            "_view_name": "StyleView",
            "description_width": ""
          }
        },
        "a6bdd5e08bfa43209e6de089b2acdd80": {
          "model_module": "@jupyter-widgets/base",
          "model_name": "LayoutModel",
          "model_module_version": "1.2.0",
          "state": {
            "_model_module": "@jupyter-widgets/base",
            "_model_module_version": "1.2.0",
            "_model_name": "LayoutModel",
            "_view_count": null,
            "_view_module": "@jupyter-widgets/base",
            "_view_module_version": "1.2.0",
            "_view_name": "LayoutView",
            "align_content": null,
            "align_items": null,
            "align_self": null,
            "border": null,
            "bottom": null,
            "display": null,
            "flex": null,
            "flex_flow": null,
            "grid_area": null,
            "grid_auto_columns": null,
            "grid_auto_flow": null,
            "grid_auto_rows": null,
            "grid_column": null,
            "grid_gap": null,
            "grid_row": null,
            "grid_template_areas": null,
            "grid_template_columns": null,
            "grid_template_rows": null,
            "height": null,
            "justify_content": null,
            "justify_items": null,
            "left": null,
            "margin": null,
            "max_height": null,
            "max_width": null,
            "min_height": null,
            "min_width": null,
            "object_fit": null,
            "object_position": null,
            "order": null,
            "overflow": null,
            "overflow_x": null,
            "overflow_y": null,
            "padding": null,
            "right": null,
            "top": null,
            "visibility": null,
            "width": null
          }
        },
        "a99bd48e49594bc0b36047b9b9aef837": {
          "model_module": "@jupyter-widgets/controls",
          "model_name": "ProgressStyleModel",
          "model_module_version": "1.5.0",
          "state": {
            "_model_module": "@jupyter-widgets/controls",
            "_model_module_version": "1.5.0",
            "_model_name": "ProgressStyleModel",
            "_view_count": null,
            "_view_module": "@jupyter-widgets/base",
            "_view_module_version": "1.2.0",
            "_view_name": "StyleView",
            "bar_color": null,
            "description_width": ""
          }
        },
        "8fc12d4715e7450f8d090467b6da75bc": {
          "model_module": "@jupyter-widgets/base",
          "model_name": "LayoutModel",
          "model_module_version": "1.2.0",
          "state": {
            "_model_module": "@jupyter-widgets/base",
            "_model_module_version": "1.2.0",
            "_model_name": "LayoutModel",
            "_view_count": null,
            "_view_module": "@jupyter-widgets/base",
            "_view_module_version": "1.2.0",
            "_view_name": "LayoutView",
            "align_content": null,
            "align_items": null,
            "align_self": null,
            "border": null,
            "bottom": null,
            "display": null,
            "flex": null,
            "flex_flow": null,
            "grid_area": null,
            "grid_auto_columns": null,
            "grid_auto_flow": null,
            "grid_auto_rows": null,
            "grid_column": null,
            "grid_gap": null,
            "grid_row": null,
            "grid_template_areas": null,
            "grid_template_columns": null,
            "grid_template_rows": null,
            "height": null,
            "justify_content": null,
            "justify_items": null,
            "left": null,
            "margin": null,
            "max_height": null,
            "max_width": null,
            "min_height": null,
            "min_width": null,
            "object_fit": null,
            "object_position": null,
            "order": null,
            "overflow": null,
            "overflow_x": null,
            "overflow_y": null,
            "padding": null,
            "right": null,
            "top": null,
            "visibility": null,
            "width": null
          }
        },
        "74670bcbdeae46abaa4c563eabf09f81": {
          "model_module": "@jupyter-widgets/controls",
          "model_name": "DescriptionStyleModel",
          "model_module_version": "1.5.0",
          "state": {
            "_model_module": "@jupyter-widgets/controls",
            "_model_module_version": "1.5.0",
            "_model_name": "DescriptionStyleModel",
            "_view_count": null,
            "_view_module": "@jupyter-widgets/base",
            "_view_module_version": "1.2.0",
            "_view_name": "StyleView",
            "description_width": ""
          }
        },
        "19c4605d941e4af9a7b673b2694997f5": {
          "model_module": "@jupyter-widgets/controls",
          "model_name": "HBoxModel",
          "model_module_version": "1.5.0",
          "state": {
            "_dom_classes": [],
            "_model_module": "@jupyter-widgets/controls",
            "_model_module_version": "1.5.0",
            "_model_name": "HBoxModel",
            "_view_count": null,
            "_view_module": "@jupyter-widgets/controls",
            "_view_module_version": "1.5.0",
            "_view_name": "HBoxView",
            "box_style": "",
            "children": [
              "IPY_MODEL_a84a506a460746e99e0129feddd37c6f",
              "IPY_MODEL_49407162aa96457382379a31c4c1deeb",
              "IPY_MODEL_90164b6fc18b488d96be190cf8046ade"
            ],
            "layout": "IPY_MODEL_2b144bc37546460b80268b73fd0dac99"
          }
        },
        "a84a506a460746e99e0129feddd37c6f": {
          "model_module": "@jupyter-widgets/controls",
          "model_name": "HTMLModel",
          "model_module_version": "1.5.0",
          "state": {
            "_dom_classes": [],
            "_model_module": "@jupyter-widgets/controls",
            "_model_module_version": "1.5.0",
            "_model_name": "HTMLModel",
            "_view_count": null,
            "_view_module": "@jupyter-widgets/controls",
            "_view_module_version": "1.5.0",
            "_view_name": "HTMLView",
            "description": "",
            "description_tooltip": null,
            "layout": "IPY_MODEL_c04252fa3df947f490704f4073ac1f9d",
            "placeholder": "​",
            "style": "IPY_MODEL_17380ab9ff814108b1c7024f927241e5",
            "value": "vocab.txt: 100%"
          }
        },
        "49407162aa96457382379a31c4c1deeb": {
          "model_module": "@jupyter-widgets/controls",
          "model_name": "FloatProgressModel",
          "model_module_version": "1.5.0",
          "state": {
            "_dom_classes": [],
            "_model_module": "@jupyter-widgets/controls",
            "_model_module_version": "1.5.0",
            "_model_name": "FloatProgressModel",
            "_view_count": null,
            "_view_module": "@jupyter-widgets/controls",
            "_view_module_version": "1.5.0",
            "_view_name": "ProgressView",
            "bar_style": "success",
            "description": "",
            "description_tooltip": null,
            "layout": "IPY_MODEL_e99eca0931904d6c81e9833d6088cee4",
            "max": 3162999,
            "min": 0,
            "orientation": "horizontal",
            "style": "IPY_MODEL_125323f231e24681a87d7e0792f781dc",
            "value": 3162999
          }
        },
        "90164b6fc18b488d96be190cf8046ade": {
          "model_module": "@jupyter-widgets/controls",
          "model_name": "HTMLModel",
          "model_module_version": "1.5.0",
          "state": {
            "_dom_classes": [],
            "_model_module": "@jupyter-widgets/controls",
            "_model_module_version": "1.5.0",
            "_model_name": "HTMLModel",
            "_view_count": null,
            "_view_module": "@jupyter-widgets/controls",
            "_view_module_version": "1.5.0",
            "_view_name": "HTMLView",
            "description": "",
            "description_tooltip": null,
            "layout": "IPY_MODEL_593c0451510944419a8fcdd7062e6ce2",
            "placeholder": "​",
            "style": "IPY_MODEL_c7a4743b50194a70b07f63b7257e4839",
            "value": " 3.16M/3.16M [00:00&lt;00:00, 7.86MB/s]"
          }
        },
        "2b144bc37546460b80268b73fd0dac99": {
          "model_module": "@jupyter-widgets/base",
          "model_name": "LayoutModel",
          "model_module_version": "1.2.0",
          "state": {
            "_model_module": "@jupyter-widgets/base",
            "_model_module_version": "1.2.0",
            "_model_name": "LayoutModel",
            "_view_count": null,
            "_view_module": "@jupyter-widgets/base",
            "_view_module_version": "1.2.0",
            "_view_name": "LayoutView",
            "align_content": null,
            "align_items": null,
            "align_self": null,
            "border": null,
            "bottom": null,
            "display": null,
            "flex": null,
            "flex_flow": null,
            "grid_area": null,
            "grid_auto_columns": null,
            "grid_auto_flow": null,
            "grid_auto_rows": null,
            "grid_column": null,
            "grid_gap": null,
            "grid_row": null,
            "grid_template_areas": null,
            "grid_template_columns": null,
            "grid_template_rows": null,
            "height": null,
            "justify_content": null,
            "justify_items": null,
            "left": null,
            "margin": null,
            "max_height": null,
            "max_width": null,
            "min_height": null,
            "min_width": null,
            "object_fit": null,
            "object_position": null,
            "order": null,
            "overflow": null,
            "overflow_x": null,
            "overflow_y": null,
            "padding": null,
            "right": null,
            "top": null,
            "visibility": null,
            "width": null
          }
        },
        "c04252fa3df947f490704f4073ac1f9d": {
          "model_module": "@jupyter-widgets/base",
          "model_name": "LayoutModel",
          "model_module_version": "1.2.0",
          "state": {
            "_model_module": "@jupyter-widgets/base",
            "_model_module_version": "1.2.0",
            "_model_name": "LayoutModel",
            "_view_count": null,
            "_view_module": "@jupyter-widgets/base",
            "_view_module_version": "1.2.0",
            "_view_name": "LayoutView",
            "align_content": null,
            "align_items": null,
            "align_self": null,
            "border": null,
            "bottom": null,
            "display": null,
            "flex": null,
            "flex_flow": null,
            "grid_area": null,
            "grid_auto_columns": null,
            "grid_auto_flow": null,
            "grid_auto_rows": null,
            "grid_column": null,
            "grid_gap": null,
            "grid_row": null,
            "grid_template_areas": null,
            "grid_template_columns": null,
            "grid_template_rows": null,
            "height": null,
            "justify_content": null,
            "justify_items": null,
            "left": null,
            "margin": null,
            "max_height": null,
            "max_width": null,
            "min_height": null,
            "min_width": null,
            "object_fit": null,
            "object_position": null,
            "order": null,
            "overflow": null,
            "overflow_x": null,
            "overflow_y": null,
            "padding": null,
            "right": null,
            "top": null,
            "visibility": null,
            "width": null
          }
        },
        "17380ab9ff814108b1c7024f927241e5": {
          "model_module": "@jupyter-widgets/controls",
          "model_name": "DescriptionStyleModel",
          "model_module_version": "1.5.0",
          "state": {
            "_model_module": "@jupyter-widgets/controls",
            "_model_module_version": "1.5.0",
            "_model_name": "DescriptionStyleModel",
            "_view_count": null,
            "_view_module": "@jupyter-widgets/base",
            "_view_module_version": "1.2.0",
            "_view_name": "StyleView",
            "description_width": ""
          }
        },
        "e99eca0931904d6c81e9833d6088cee4": {
          "model_module": "@jupyter-widgets/base",
          "model_name": "LayoutModel",
          "model_module_version": "1.2.0",
          "state": {
            "_model_module": "@jupyter-widgets/base",
            "_model_module_version": "1.2.0",
            "_model_name": "LayoutModel",
            "_view_count": null,
            "_view_module": "@jupyter-widgets/base",
            "_view_module_version": "1.2.0",
            "_view_name": "LayoutView",
            "align_content": null,
            "align_items": null,
            "align_self": null,
            "border": null,
            "bottom": null,
            "display": null,
            "flex": null,
            "flex_flow": null,
            "grid_area": null,
            "grid_auto_columns": null,
            "grid_auto_flow": null,
            "grid_auto_rows": null,
            "grid_column": null,
            "grid_gap": null,
            "grid_row": null,
            "grid_template_areas": null,
            "grid_template_columns": null,
            "grid_template_rows": null,
            "height": null,
            "justify_content": null,
            "justify_items": null,
            "left": null,
            "margin": null,
            "max_height": null,
            "max_width": null,
            "min_height": null,
            "min_width": null,
            "object_fit": null,
            "object_position": null,
            "order": null,
            "overflow": null,
            "overflow_x": null,
            "overflow_y": null,
            "padding": null,
            "right": null,
            "top": null,
            "visibility": null,
            "width": null
          }
        },
        "125323f231e24681a87d7e0792f781dc": {
          "model_module": "@jupyter-widgets/controls",
          "model_name": "ProgressStyleModel",
          "model_module_version": "1.5.0",
          "state": {
            "_model_module": "@jupyter-widgets/controls",
            "_model_module_version": "1.5.0",
            "_model_name": "ProgressStyleModel",
            "_view_count": null,
            "_view_module": "@jupyter-widgets/base",
            "_view_module_version": "1.2.0",
            "_view_name": "StyleView",
            "bar_color": null,
            "description_width": ""
          }
        },
        "593c0451510944419a8fcdd7062e6ce2": {
          "model_module": "@jupyter-widgets/base",
          "model_name": "LayoutModel",
          "model_module_version": "1.2.0",
          "state": {
            "_model_module": "@jupyter-widgets/base",
            "_model_module_version": "1.2.0",
            "_model_name": "LayoutModel",
            "_view_count": null,
            "_view_module": "@jupyter-widgets/base",
            "_view_module_version": "1.2.0",
            "_view_name": "LayoutView",
            "align_content": null,
            "align_items": null,
            "align_self": null,
            "border": null,
            "bottom": null,
            "display": null,
            "flex": null,
            "flex_flow": null,
            "grid_area": null,
            "grid_auto_columns": null,
            "grid_auto_flow": null,
            "grid_auto_rows": null,
            "grid_column": null,
            "grid_gap": null,
            "grid_row": null,
            "grid_template_areas": null,
            "grid_template_columns": null,
            "grid_template_rows": null,
            "height": null,
            "justify_content": null,
            "justify_items": null,
            "left": null,
            "margin": null,
            "max_height": null,
            "max_width": null,
            "min_height": null,
            "min_width": null,
            "object_fit": null,
            "object_position": null,
            "order": null,
            "overflow": null,
            "overflow_x": null,
            "overflow_y": null,
            "padding": null,
            "right": null,
            "top": null,
            "visibility": null,
            "width": null
          }
        },
        "c7a4743b50194a70b07f63b7257e4839": {
          "model_module": "@jupyter-widgets/controls",
          "model_name": "DescriptionStyleModel",
          "model_module_version": "1.5.0",
          "state": {
            "_model_module": "@jupyter-widgets/controls",
            "_model_module_version": "1.5.0",
            "_model_name": "DescriptionStyleModel",
            "_view_count": null,
            "_view_module": "@jupyter-widgets/base",
            "_view_module_version": "1.2.0",
            "_view_name": "StyleView",
            "description_width": ""
          }
        },
        "8f8172d589754bbb9c8d6da9779098e0": {
          "model_module": "@jupyter-widgets/controls",
          "model_name": "HBoxModel",
          "model_module_version": "1.5.0",
          "state": {
            "_dom_classes": [],
            "_model_module": "@jupyter-widgets/controls",
            "_model_module_version": "1.5.0",
            "_model_name": "HBoxModel",
            "_view_count": null,
            "_view_module": "@jupyter-widgets/controls",
            "_view_module_version": "1.5.0",
            "_view_name": "HBoxView",
            "box_style": "",
            "children": [
              "IPY_MODEL_550d24fb37fa4f408f8b35181a2a3c00",
              "IPY_MODEL_de1080a6c8bf4f7590188bcb045abf1b",
              "IPY_MODEL_3e1f84f782bb40ce8c64cf704ae03bcf"
            ],
            "layout": "IPY_MODEL_4f949c9644614cc2a49c0d065ef052c4"
          }
        },
        "550d24fb37fa4f408f8b35181a2a3c00": {
          "model_module": "@jupyter-widgets/controls",
          "model_name": "HTMLModel",
          "model_module_version": "1.5.0",
          "state": {
            "_dom_classes": [],
            "_model_module": "@jupyter-widgets/controls",
            "_model_module_version": "1.5.0",
            "_model_name": "HTMLModel",
            "_view_count": null,
            "_view_module": "@jupyter-widgets/controls",
            "_view_module_version": "1.5.0",
            "_view_name": "HTMLView",
            "description": "",
            "description_tooltip": null,
            "layout": "IPY_MODEL_d347291b2c99410280259d5ff6129895",
            "placeholder": "​",
            "style": "IPY_MODEL_87e6808dea9b441e841c3895cdc7491c",
            "value": "special_tokens_map.json: 100%"
          }
        },
        "de1080a6c8bf4f7590188bcb045abf1b": {
          "model_module": "@jupyter-widgets/controls",
          "model_name": "FloatProgressModel",
          "model_module_version": "1.5.0",
          "state": {
            "_dom_classes": [],
            "_model_module": "@jupyter-widgets/controls",
            "_model_module_version": "1.5.0",
            "_model_name": "FloatProgressModel",
            "_view_count": null,
            "_view_module": "@jupyter-widgets/controls",
            "_view_module_version": "1.5.0",
            "_view_name": "ProgressView",
            "bar_style": "success",
            "description": "",
            "description_tooltip": null,
            "layout": "IPY_MODEL_72fd8bd04c104cb6bdf9c8615cd733c5",
            "max": 113,
            "min": 0,
            "orientation": "horizontal",
            "style": "IPY_MODEL_3563d852a6b64f278e869ca1bfa7dda6",
            "value": 113
          }
        },
        "3e1f84f782bb40ce8c64cf704ae03bcf": {
          "model_module": "@jupyter-widgets/controls",
          "model_name": "HTMLModel",
          "model_module_version": "1.5.0",
          "state": {
            "_dom_classes": [],
            "_model_module": "@jupyter-widgets/controls",
            "_model_module_version": "1.5.0",
            "_model_name": "HTMLModel",
            "_view_count": null,
            "_view_module": "@jupyter-widgets/controls",
            "_view_module_version": "1.5.0",
            "_view_name": "HTMLView",
            "description": "",
            "description_tooltip": null,
            "layout": "IPY_MODEL_1f55c73ef1c6408780d4de4bdd7c14f8",
            "placeholder": "​",
            "style": "IPY_MODEL_7efa24703c12431e8cb01abb47a36695",
            "value": " 113/113 [00:00&lt;00:00, 4.20kB/s]"
          }
        },
        "4f949c9644614cc2a49c0d065ef052c4": {
          "model_module": "@jupyter-widgets/base",
          "model_name": "LayoutModel",
          "model_module_version": "1.2.0",
          "state": {
            "_model_module": "@jupyter-widgets/base",
            "_model_module_version": "1.2.0",
            "_model_name": "LayoutModel",
            "_view_count": null,
            "_view_module": "@jupyter-widgets/base",
            "_view_module_version": "1.2.0",
            "_view_name": "LayoutView",
            "align_content": null,
            "align_items": null,
            "align_self": null,
            "border": null,
            "bottom": null,
            "display": null,
            "flex": null,
            "flex_flow": null,
            "grid_area": null,
            "grid_auto_columns": null,
            "grid_auto_flow": null,
            "grid_auto_rows": null,
            "grid_column": null,
            "grid_gap": null,
            "grid_row": null,
            "grid_template_areas": null,
            "grid_template_columns": null,
            "grid_template_rows": null,
            "height": null,
            "justify_content": null,
            "justify_items": null,
            "left": null,
            "margin": null,
            "max_height": null,
            "max_width": null,
            "min_height": null,
            "min_width": null,
            "object_fit": null,
            "object_position": null,
            "order": null,
            "overflow": null,
            "overflow_x": null,
            "overflow_y": null,
            "padding": null,
            "right": null,
            "top": null,
            "visibility": null,
            "width": null
          }
        },
        "d347291b2c99410280259d5ff6129895": {
          "model_module": "@jupyter-widgets/base",
          "model_name": "LayoutModel",
          "model_module_version": "1.2.0",
          "state": {
            "_model_module": "@jupyter-widgets/base",
            "_model_module_version": "1.2.0",
            "_model_name": "LayoutModel",
            "_view_count": null,
            "_view_module": "@jupyter-widgets/base",
            "_view_module_version": "1.2.0",
            "_view_name": "LayoutView",
            "align_content": null,
            "align_items": null,
            "align_self": null,
            "border": null,
            "bottom": null,
            "display": null,
            "flex": null,
            "flex_flow": null,
            "grid_area": null,
            "grid_auto_columns": null,
            "grid_auto_flow": null,
            "grid_auto_rows": null,
            "grid_column": null,
            "grid_gap": null,
            "grid_row": null,
            "grid_template_areas": null,
            "grid_template_columns": null,
            "grid_template_rows": null,
            "height": null,
            "justify_content": null,
            "justify_items": null,
            "left": null,
            "margin": null,
            "max_height": null,
            "max_width": null,
            "min_height": null,
            "min_width": null,
            "object_fit": null,
            "object_position": null,
            "order": null,
            "overflow": null,
            "overflow_x": null,
            "overflow_y": null,
            "padding": null,
            "right": null,
            "top": null,
            "visibility": null,
            "width": null
          }
        },
        "87e6808dea9b441e841c3895cdc7491c": {
          "model_module": "@jupyter-widgets/controls",
          "model_name": "DescriptionStyleModel",
          "model_module_version": "1.5.0",
          "state": {
            "_model_module": "@jupyter-widgets/controls",
            "_model_module_version": "1.5.0",
            "_model_name": "DescriptionStyleModel",
            "_view_count": null,
            "_view_module": "@jupyter-widgets/base",
            "_view_module_version": "1.2.0",
            "_view_name": "StyleView",
            "description_width": ""
          }
        },
        "72fd8bd04c104cb6bdf9c8615cd733c5": {
          "model_module": "@jupyter-widgets/base",
          "model_name": "LayoutModel",
          "model_module_version": "1.2.0",
          "state": {
            "_model_module": "@jupyter-widgets/base",
            "_model_module_version": "1.2.0",
            "_model_name": "LayoutModel",
            "_view_count": null,
            "_view_module": "@jupyter-widgets/base",
            "_view_module_version": "1.2.0",
            "_view_name": "LayoutView",
            "align_content": null,
            "align_items": null,
            "align_self": null,
            "border": null,
            "bottom": null,
            "display": null,
            "flex": null,
            "flex_flow": null,
            "grid_area": null,
            "grid_auto_columns": null,
            "grid_auto_flow": null,
            "grid_auto_rows": null,
            "grid_column": null,
            "grid_gap": null,
            "grid_row": null,
            "grid_template_areas": null,
            "grid_template_columns": null,
            "grid_template_rows": null,
            "height": null,
            "justify_content": null,
            "justify_items": null,
            "left": null,
            "margin": null,
            "max_height": null,
            "max_width": null,
            "min_height": null,
            "min_width": null,
            "object_fit": null,
            "object_position": null,
            "order": null,
            "overflow": null,
            "overflow_x": null,
            "overflow_y": null,
            "padding": null,
            "right": null,
            "top": null,
            "visibility": null,
            "width": null
          }
        },
        "3563d852a6b64f278e869ca1bfa7dda6": {
          "model_module": "@jupyter-widgets/controls",
          "model_name": "ProgressStyleModel",
          "model_module_version": "1.5.0",
          "state": {
            "_model_module": "@jupyter-widgets/controls",
            "_model_module_version": "1.5.0",
            "_model_name": "ProgressStyleModel",
            "_view_count": null,
            "_view_module": "@jupyter-widgets/base",
            "_view_module_version": "1.2.0",
            "_view_name": "StyleView",
            "bar_color": null,
            "description_width": ""
          }
        },
        "1f55c73ef1c6408780d4de4bdd7c14f8": {
          "model_module": "@jupyter-widgets/base",
          "model_name": "LayoutModel",
          "model_module_version": "1.2.0",
          "state": {
            "_model_module": "@jupyter-widgets/base",
            "_model_module_version": "1.2.0",
            "_model_name": "LayoutModel",
            "_view_count": null,
            "_view_module": "@jupyter-widgets/base",
            "_view_module_version": "1.2.0",
            "_view_name": "LayoutView",
            "align_content": null,
            "align_items": null,
            "align_self": null,
            "border": null,
            "bottom": null,
            "display": null,
            "flex": null,
            "flex_flow": null,
            "grid_area": null,
            "grid_auto_columns": null,
            "grid_auto_flow": null,
            "grid_auto_rows": null,
            "grid_column": null,
            "grid_gap": null,
            "grid_row": null,
            "grid_template_areas": null,
            "grid_template_columns": null,
            "grid_template_rows": null,
            "height": null,
            "justify_content": null,
            "justify_items": null,
            "left": null,
            "margin": null,
            "max_height": null,
            "max_width": null,
            "min_height": null,
            "min_width": null,
            "object_fit": null,
            "object_position": null,
            "order": null,
            "overflow": null,
            "overflow_x": null,
            "overflow_y": null,
            "padding": null,
            "right": null,
            "top": null,
            "visibility": null,
            "width": null
          }
        },
        "7efa24703c12431e8cb01abb47a36695": {
          "model_module": "@jupyter-widgets/controls",
          "model_name": "DescriptionStyleModel",
          "model_module_version": "1.5.0",
          "state": {
            "_model_module": "@jupyter-widgets/controls",
            "_model_module_version": "1.5.0",
            "_model_name": "DescriptionStyleModel",
            "_view_count": null,
            "_view_module": "@jupyter-widgets/base",
            "_view_module_version": "1.2.0",
            "_view_name": "StyleView",
            "description_width": ""
          }
        }
      }
    }
  },
  "nbformat": 4,
  "nbformat_minor": 0
}